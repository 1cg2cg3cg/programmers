{
  "nbformat": 4,
  "nbformat_minor": 0,
  "metadata": {
    "colab": {
      "name": "방의 개수.ipynb",
      "provenance": [],
      "collapsed_sections": [],
      "authorship_tag": "ABX9TyOdAJhHZd6gHxz0vAz/8INL",
      "include_colab_link": true
    },
    "kernelspec": {
      "name": "python3",
      "display_name": "Python 3"
    },
    "language_info": {
      "name": "python"
    }
  },
  "cells": [
    {
      "cell_type": "markdown",
      "metadata": {
        "id": "view-in-github",
        "colab_type": "text"
      },
      "source": [
        "<a href=\"https://colab.research.google.com/github/1cg2cg3cg/programmers/blob/main/level5/%EB%B0%A9%EC%9D%98_%EA%B0%9C%EC%88%98.ipynb\" target=\"_parent\"><img src=\"https://colab.research.google.com/assets/colab-badge.svg\" alt=\"Open In Colab\"/></a>"
      ]
    },
    {
      "cell_type": "code",
      "metadata": {
        "colab": {
          "base_uri": "https://localhost:8080/"
        },
        "id": "1OdtWAfWe-Y8",
        "outputId": "05e29c66-a503-4239-ced5-6f7f5bab0beb"
      },
      "source": [
        "# From : https://yabmoons.tistory.com/606\n",
        "# 방이 만들어 지는 조건을 잘 확인해야 함.\n",
        "# 풀이하지 못한 부분 : 2x2 크기의 정사각형이 가로, 세로, 대각선 모두 연결된 경우 방의 개수는 4개다.\n",
        "# nodes 간 정수 좌표로 표현되지 않지만 교차하는 점을 지정하기 위해 nodes 간 거리를 2배로 증가시켜, 임의의 점을 만들었다.\n",
        "# 이미 지나간 점이면서, 움직이는 경로가 없는 경우, 새로운 방이 완성된다.\n",
        "\n",
        "import collections\n",
        "\n",
        "def solution(arrows) :\n",
        "    answer = 0\n",
        "    x, y, = 0, 0\n",
        "    node_map = collections.defaultdict(bool)\n",
        "    path_map = collections.defaultdict(bool)\n",
        "\n",
        "    dx = [-1, -1, 0, 1, 1, 1, 0, -1]\n",
        "    dy = [0, 1, 1, 1, 0, -1, -1, -1]\n",
        "\n",
        "    node_map[(x,y)] = True\n",
        "\n",
        "    for a in arrows : \n",
        "        \n",
        "        for _ in range(2) : # move,  KEY to solution\n",
        "            nx = x + dx[a]\n",
        "            ny = y + dy[a]\n",
        "            \n",
        "            if node_map[(nx,ny)] and not path_map[(x,y),(nx,ny)] :\n",
        "                answer += 1\n",
        "                node_map[(nx,ny)] = True\n",
        "                path_map[(x,y),(nx,ny)] = True\n",
        "                path_map[(nx,ny),(x,y)] = True\n",
        "                x = nx\n",
        "                y = ny\n",
        "                continue\n",
        "\n",
        "            node_map[(nx,ny)] = True\n",
        "            path_map[(x,y),(nx,ny)] = True\n",
        "            path_map[(nx,ny),(x,y)] = True\n",
        "\n",
        "            x = nx\n",
        "            y = ny\n",
        "    \n",
        "    return answer\n",
        "\n",
        "print(solution([6, 6, 6, 4, 4, 4, 2, 2, 2, 0, 0, 0, 1, 6, 5, 5, 3, 6, 0]), 3)\n",
        "print(solution([6, 5, 2, 7, 1, 4, 2, 4, 6]), 3)\n",
        "print(solution([5, 2, 7, 1, 6, 3]), 3)\n",
        "print(solution([6, 2, 4, 0, 5, 0, 6, 4, 2, 4, 2, 0]), 3)"
      ],
      "execution_count": 1,
      "outputs": [
        {
          "output_type": "stream",
          "text": [
            "3 3\n",
            "3 3\n",
            "3 3\n",
            "3 3\n"
          ],
          "name": "stdout"
        }
      ]
    }
  ]
}