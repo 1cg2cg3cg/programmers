{
  "nbformat": 4,
  "nbformat_minor": 0,
  "metadata": {
    "colab": {
      "name": "삼각 달팽이.ipynb",
      "provenance": [],
      "collapsed_sections": [],
      "authorship_tag": "ABX9TyOSkK8jWB8hQgS0WvCnEw7J",
      "include_colab_link": true
    },
    "kernelspec": {
      "name": "python3",
      "display_name": "Python 3"
    }
  },
  "cells": [
    {
      "cell_type": "markdown",
      "metadata": {
        "id": "view-in-github",
        "colab_type": "text"
      },
      "source": [
        "<a href=\"https://colab.research.google.com/github/1cg2cg3cg/programmers/blob/main/level2/%EC%82%BC%EA%B0%81_%EB%8B%AC%ED%8C%BD%EC%9D%B4.ipynb\" target=\"_parent\"><img src=\"https://colab.research.google.com/assets/colab-badge.svg\" alt=\"Open In Colab\"/></a>"
      ]
    },
    {
      "cell_type": "code",
      "metadata": {
        "colab": {
          "base_uri": "https://localhost:8080/"
        },
        "id": "vNpxjak3Se4t",
        "outputId": "dc9b09d2-bbcc-43ef-fdfb-2da2b3c17b2d"
      },
      "source": [
        "# pop(0)의 경우 O(n)이 소요되기 때문에 timeout\r\n",
        "# 시간을 줄이기 위해 index 변수를 사용해 배열에 직접 접근\r\n",
        "# stack을 뒤집어 pop()을 사용하면 가능할지도..?\r\n",
        "def solution(n):\r\n",
        "    answer = [[0]*(i+1) for i in range(n)]  # 주어진 숫자들이 들어갈 배열\r\n",
        "    stack = []\r\n",
        "\r\n",
        "    for i in range(1, int(n*(n+1)/2)+1) :   # stack 변수에 숫자 넣기\r\n",
        "        stack.append(i)\r\n",
        "    \r\n",
        "    cnt = 0\r\n",
        "    level = 0\r\n",
        "    index = 0\r\n",
        "    while index != len(stack) : # index와 stack의 길이를 비교해 while 제어\r\n",
        "        if cnt % 3 == 0 :       # 삼각형 꼭지점에서 왼쪽 방향으로 내려가는 경우\r\n",
        "            for _ in range(n-cnt) :\r\n",
        "                if stack :\r\n",
        "                    #answer[level][answer[level].index(0)] = stack.pop(0)\r\n",
        "                    answer[level][answer[level].index(0)] = stack[index]\r\n",
        "                    index += 1\r\n",
        "                    level += 1\r\n",
        "            level -= 1\r\n",
        "\r\n",
        "        elif cnt % 3 == 1 :     # 바닥에서 오른쪽으로 이동하는 경우\r\n",
        "            for _ in range(n-cnt) :\r\n",
        "                if stack :\r\n",
        "                    #answer[level][answer[level].index(0)] = stack.pop(0)\r\n",
        "                    answer[level][answer[level].index(0)] = stack[index]\r\n",
        "                    index += 1\r\n",
        "            level -= 1\r\n",
        "        \r\n",
        "        else :                  # 바닥의 오른쪽에서 왼쪽 위 (위 꼭짓점) 방향으로 이동\r\n",
        "            for _ in range(n-cnt) :\r\n",
        "                if stack :\r\n",
        "                    #answer[level][len(answer[level]) - answer[level][::-1].index(0)-1] = stack.pop(0)\r\n",
        "                    answer[level][len(answer[level]) - answer[level][::-1].index(0)-1] = stack[index]\r\n",
        "                    index += 1\r\n",
        "                    level -= 1\r\n",
        "            level += 2\r\n",
        "            \r\n",
        "        cnt += 1\r\n",
        "\r\n",
        "    answer = [y for x in answer for y in x]  # 2차원 배열을 1차원으로\r\n",
        "    \r\n",
        "    return answer\r\n",
        "\r\n",
        "print(solution(4), '\\t [1,2,9,3,10,8,4,5,6,7]')\r\n",
        "print(solution(5), '\\t [1,2,12,3,13,11,4,14,15,10,5,6,7,8,9]')\r\n",
        "print(solution(6), '\\t [1,2,15,3,16,14,4,17,21,13,5,18,19,20,12,6,7,8,9,10,11]')"
      ],
      "execution_count": 107,
      "outputs": [
        {
          "output_type": "stream",
          "text": [
            "[1, 2, 9, 3, 10, 8, 4, 5, 6, 7] \t [1,2,9,3,10,8,4,5,6,7]\n",
            "[1, 2, 12, 3, 13, 11, 4, 14, 15, 10, 5, 6, 7, 8, 9] \t [1,2,12,3,13,11,4,14,15,10,5,6,7,8,9]\n",
            "[1, 2, 15, 3, 16, 14, 4, 17, 21, 13, 5, 18, 19, 20, 12, 6, 7, 8, 9, 10, 11] \t [1,2,15,3,16,14,4,17,21,13,5,18,19,20,12,6,7,8,9,10,11]\n"
          ],
          "name": "stdout"
        }
      ]
    }
  ]
}