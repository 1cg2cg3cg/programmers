{
  "nbformat": 4,
  "nbformat_minor": 0,
  "metadata": {
    "colab": {
      "name": "큰 수 만들기.ipynb",
      "provenance": [],
      "collapsed_sections": [],
      "authorship_tag": "ABX9TyNnkJSdt1gNy4p5pfAvciQ3",
      "include_colab_link": true
    },
    "kernelspec": {
      "name": "python3",
      "display_name": "Python 3"
    }
  },
  "cells": [
    {
      "cell_type": "markdown",
      "metadata": {
        "id": "view-in-github",
        "colab_type": "text"
      },
      "source": [
        "<a href=\"https://colab.research.google.com/github/1cg2cg3cg/programmers/blob/main/level2/%ED%81%B0_%EC%88%98_%EB%A7%8C%EB%93%A4%EA%B8%B0.ipynb\" target=\"_parent\"><img src=\"https://colab.research.google.com/assets/colab-badge.svg\" alt=\"Open In Colab\"/></a>"
      ]
    },
    {
      "cell_type": "code",
      "metadata": {
        "id": "mYl98JhXUDPA"
      },
      "source": [
        "#  #10 timeout, #8 : 8843.77ms\r\n",
        "def solution(number, k) :\r\n",
        "    cnt = 0 # 빼야하는 숫자가 number의 마지막에 위치하는 경우 ex) 87654321, 3 남아있는 number에서 빼아하는 횟수 k와 실제로 뺀 횟수의 차이만큼 뒤에서 제거\r\n",
        "    \r\n",
        "    for _ in range(k) :\r\n",
        "        for j in range(len(number)-1) :\r\n",
        "            if number[j] < number[j+1] :\r\n",
        "                number = number[:j] + number[j+1:]\r\n",
        "                cnt += 1\r\n",
        "                break\r\n",
        "    \r\n",
        "    return number[:len(number)-(k-cnt)]\r\n",
        "\r\n",
        "print(solution(\"1924\", 2) , \"94\")\r\n",
        "print(solution(\"1231234\", 3) , \"3234\")\r\n",
        "print(solution(\"4177252841\"\t, 4),  \"775841\")\r\n",
        "print(solution(\"87654321\", 3), \"87654\")\r\n",
        "print(solution(\"18765432\", 3), 87654)\r\n",
        "print(solution(\"77413258\", 2), 774358)"
      ],
      "execution_count": null,
      "outputs": []
    },
    {
      "cell_type": "code",
      "metadata": {
        "colab": {
          "base_uri": "https://localhost:8080/"
        },
        "id": "NAeFO7PEQkU-",
        "outputId": "c185bc17-c4cb-43ba-ecb5-e90594db2e01"
      },
      "source": [
        "#  #10 timeout, #8 : 5344.17ms, 예외처리로 속도 개선\r\n",
        "def solution(number, k) :\r\n",
        "    cnt = 0 # 빼야하는 숫자가 number의 마지막에 위치하는 경우 ex) 87654321, 3 남아있는 number에서 빼아하는 횟수 k와 실제로 뺀 횟수의 차이만큼 뒤에서 제거\r\n",
        "    \r\n",
        "    for _ in range(k) :\r\n",
        "        for j in range(len(number)-1) :\r\n",
        "            if number[j] == '9' : # 9는 뺄 필요 없음\r\n",
        "                continue\r\n",
        "\r\n",
        "            if number[j] == '0' or number[j] < number[j+1] : # 0은 항상 제거\r\n",
        "                number = number[:j] + number[j+1:]\r\n",
        "                cnt += 1\r\n",
        "                break\r\n",
        "    \r\n",
        "    return number[:len(number)-(k-cnt)]\r\n",
        "\r\n",
        "print(solution(\"1924\", 2) , \"94\")\r\n",
        "print(solution(\"1231234\", 3) , \"3234\")\r\n",
        "print(solution(\"4177252841\"\t, 4),  \"775841\")\r\n",
        "print(solution(\"87654321\", 3), \"87654\")\r\n",
        "print(solution(\"18765432\", 3), 87654)\r\n",
        "print(solution(\"77413258\", 2), 774358)"
      ],
      "execution_count": 5,
      "outputs": [
        {
          "output_type": "stream",
          "text": [
            "A\n",
            "94 94\n",
            "3234 3234\n",
            "775841 775841\n",
            "87654 87654\n",
            "87654 87654\n",
            "774358 774358\n"
          ],
          "name": "stdout"
        }
      ]
    },
    {
      "cell_type": "code",
      "metadata": {
        "colab": {
          "base_uri": "https://localhost:8080/"
        },
        "id": "GbgyKTEtVGA-",
        "outputId": "7ecf2cc9-7380-48d1-adaa-f2a7342094c5"
      },
      "source": [
        "# solved!\r\n",
        "\r\n",
        "def solution(number, k) :\r\n",
        "    cnt, p = 0, 0 # 빼야하는 숫자가 number의 마지막에 위치하는 경우 ex) 87654321, 3 남아있는 number에서 빼아하는 횟수 k와 실제로 뺀 횟수의 차이만큼 뒤에서 제거\r\n",
        "                  # pointer를 사용해 number의 처음부터 전부확인하지 않고 숫자를 제거한 경우 그 앞에서부터 확인\r\n",
        "    for _ in range(k) :\r\n",
        "        for j in range(p, len(number)-1) :\r\n",
        "            if number[j] == '9' :\r\n",
        "                continue\r\n",
        "\r\n",
        "            if number[j] == '0' or number[j] < number[j+1] :\r\n",
        "                #print(\"BEFORE\", number)\r\n",
        "                number = number[:j] + number[j+1:]\r\n",
        "                cnt += 1\r\n",
        "                p = j-1\r\n",
        "                #print(\"\\tAfter\", number, cnt, p)\r\n",
        "                if p < 0 :  # 제거한 index가 0인 경우 -1이 되어 문자열이 오히려 길어지는 오류 방지 ex) #3, #5에서 발생\r\n",
        "                    p = 0\r\n",
        "                break\r\n",
        "    \r\n",
        "    return number[:len(number)-(k-cnt)]\r\n",
        "\r\n",
        "print(solution(\"1924\", 2) , \"94\")\r\n",
        "print(solution(\"1231234\", 3) , \"3234\")\r\n",
        "print(solution(\"4177252841\"\t, 4),  \"775841\")\r\n",
        "print(solution(\"87654321\", 3), \"87654\")\r\n",
        "print(solution(\"18765432\", 3), 87654)\r\n",
        "print(solution(\"77413258\", 2), 774358)"
      ],
      "execution_count": 11,
      "outputs": [
        {
          "output_type": "stream",
          "text": [
            "94 94\n",
            "3234 3234\n",
            "775841 775841\n",
            "87654 87654\n",
            "87654 87654\n",
            "774358 774358\n"
          ],
          "name": "stdout"
        }
      ]
    }
  ]
}