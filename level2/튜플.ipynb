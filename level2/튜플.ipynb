{
  "nbformat": 4,
  "nbformat_minor": 0,
  "metadata": {
    "colab": {
      "name": "튜플.ipynb",
      "provenance": [],
      "collapsed_sections": [],
      "authorship_tag": "ABX9TyPOx5PHKxqjllWGuISJA8gW",
      "include_colab_link": true
    },
    "kernelspec": {
      "name": "python3",
      "display_name": "Python 3"
    }
  },
  "cells": [
    {
      "cell_type": "markdown",
      "metadata": {
        "id": "view-in-github",
        "colab_type": "text"
      },
      "source": [
        "<a href=\"https://colab.research.google.com/github/1cg2cg3cg/programmers/blob/main/level2/%ED%8A%9C%ED%94%8C.ipynb\" target=\"_parent\"><img src=\"https://colab.research.google.com/assets/colab-badge.svg\" alt=\"Open In Colab\"/></a>"
      ]
    },
    {
      "cell_type": "code",
      "metadata": {
        "colab": {
          "base_uri": "https://localhost:8080/"
        },
        "id": "LvDHR7Hr4QLs",
        "outputId": "fd5c853b-7259-4733-d770-1702676c1bef"
      },
      "source": [
        "# 생각나는 대로 풀이 말고 깔끔한 풀이 고민하기\r\n",
        "# 다른 사람들 풀이 참고하기, 파싱 연습하기 \r\n",
        "import collections\r\n",
        "def solution(s):\r\n",
        "    answer = []\r\n",
        "    s = s[1:-1]\r\n",
        "    s_to_l = []\r\n",
        "\r\n",
        "    while s :\r\n",
        "        l = s.index('{')\r\n",
        "        r = s.index('}')\r\n",
        "        s_to_l.append(s[l+1:r])\r\n",
        "        s = s[r+2:]\r\n",
        "    \r\n",
        "    a = []\r\n",
        "\r\n",
        "    for i in s_to_l :\r\n",
        "        a.append(i.split(','))\r\n",
        "    \r\n",
        "    b = [y for x in a for y in x]\r\n",
        "\r\n",
        "    c = collections.Counter(b)\r\n",
        "\r\n",
        "    cnt = []\r\n",
        "    for i in c :\r\n",
        "        if i.isdigit() :\r\n",
        "            cnt.append([i, c[i]])\r\n",
        "    cnt.sort(key = lambda x : x[1], reverse=True)\r\n",
        "    for i in range(len(cnt)) :\r\n",
        "        answer.append(int(cnt[i][0]))\r\n",
        "    \r\n",
        "    return answer\r\n",
        "\r\n",
        "print(solution(\"{{2},{2,1},{2,1,3},{2,1,3,4}}\"), [2, 1, 3, 4])\r\n",
        "print(solution(\"{{111}, {111,20}}\"), [111,20])\r\n",
        "print(solution(\"{{123}}\"), 123)"
      ],
      "execution_count": 85,
      "outputs": [
        {
          "output_type": "stream",
          "text": [
            "[2, 1, 3, 4] [2, 1, 3, 4]\n",
            "[111, 20] [111, 20]\n",
            "[123] 123\n"
          ],
          "name": "stdout"
        }
      ]
    },
    {
      "cell_type": "code",
      "metadata": {
        "id": "oX53ns9s8FzV"
      },
      "source": [
        "# chrisfy7 , briggirl2\r\n",
        "def solution(s):\r\n",
        "\r\n",
        "    s = Counter(re.findall('\\d+', s))\r\n",
        "    return list(map(int, [k for k, v in sorted(s.items(), key=lambda x: x[1], reverse=True)]))\r\n",
        "\r\n",
        "import re\r\n",
        "from collections import Counter"
      ],
      "execution_count": 83,
      "outputs": []
    },
    {
      "cell_type": "code",
      "metadata": {
        "id": "edNOfP0X-2mT"
      },
      "source": [
        "# 봉원사스님\r\n",
        "def solution(s):\r\n",
        "    answer = []\r\n",
        "\r\n",
        "    s1 = s.lstrip('{').rstrip('}').split('},{')\r\n",
        "\r\n",
        "    new_s = []\r\n",
        "    for i in s1:\r\n",
        "        new_s.append(i.split(','))\r\n",
        "\r\n",
        "    new_s.sort(key = len)\r\n",
        "\r\n",
        "    for i in new_s:\r\n",
        "        for j in range(len(i)):\r\n",
        "            if int(i[j]) not in answer:\r\n",
        "                answer.append(int(i[j]))\r\n",
        "\r\n",
        "    return answer"
      ],
      "execution_count": 84,
      "outputs": []
    },
    {
      "cell_type": "code",
      "metadata": {
        "id": "9-u7ahvz_KQf"
      },
      "source": [
        "# 문재훈\r\n",
        "from collections import Counter\r\n",
        "def solution(s):\r\n",
        "    new_s = [sss.replace('{','').replace('}','') for sss in s.split(',')]\r\n",
        "    return [int(c[0]) for c in sorted(Counter(new_s).items(), key = lambda x: x[1],reverse=True )]"
      ],
      "execution_count": null,
      "outputs": []
    }
  ]
}
