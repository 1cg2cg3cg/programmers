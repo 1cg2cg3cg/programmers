{
  "nbformat": 4,
  "nbformat_minor": 0,
  "metadata": {
    "colab": {
      "name": "문자열 다루기 기본.ipynb",
      "provenance": [],
      "authorship_tag": "ABX9TyOxF47vUeuy4sKkn+EeueTz",
      "include_colab_link": true
    },
    "kernelspec": {
      "name": "python3",
      "display_name": "Python 3"
    }
  },
  "cells": [
    {
      "cell_type": "markdown",
      "metadata": {
        "id": "view-in-github",
        "colab_type": "text"
      },
      "source": [
        "<a href=\"https://colab.research.google.com/github/1cg2cg3cg/programmers/blob/main/%EB%AC%B8%EC%9E%90%EC%97%B4_%EB%8B%A4%EB%A3%A8%EA%B8%B0_%EA%B8%B0%EB%B3%B8.ipynb\" target=\"_parent\"><img src=\"https://colab.research.google.com/assets/colab-badge.svg\" alt=\"Open In Colab\"/></a>"
      ]
    },
    {
      "cell_type": "code",
      "metadata": {
        "colab": {
          "base_uri": "https://localhost:8080/"
        },
        "id": "HZ00NeL5-RZQ",
        "outputId": "43b34af2-f1c9-4e7c-bdff-264f10100010"
      },
      "source": [
        "def solution(s):\r\n",
        "    answer = True\r\n",
        "    if not s :\r\n",
        "        return False\r\n",
        "\r\n",
        "    if s.isdigit() and (len(s) == 4 or len(s) == 6) :\r\n",
        "        return True\r\n",
        "    else :\r\n",
        "        return False\r\n",
        "\r\n",
        "print(solution('a234'), 'false')\r\n",
        "print(solution('1234'), 'true')"
      ],
      "execution_count": 6,
      "outputs": [
        {
          "output_type": "stream",
          "text": [
            "False false\n",
            "True true\n"
          ],
          "name": "stdout"
        }
      ]
    }
  ]
}