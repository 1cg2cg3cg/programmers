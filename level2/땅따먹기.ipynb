{
  "nbformat": 4,
  "nbformat_minor": 0,
  "metadata": {
    "colab": {
      "name": "땅따먹기.ipynb",
      "provenance": [],
      "collapsed_sections": [],
      "authorship_tag": "ABX9TyN00YMFdfPIX0nnnktuAYXr",
      "include_colab_link": true
    },
    "kernelspec": {
      "name": "python3",
      "display_name": "Python 3"
    }
  },
  "cells": [
    {
      "cell_type": "markdown",
      "metadata": {
        "id": "view-in-github",
        "colab_type": "text"
      },
      "source": [
        "<a href=\"https://colab.research.google.com/github/1cg2cg3cg/programmers/blob/main/level2/%EB%95%85%EB%94%B0%EB%A8%B9%EA%B8%B0.ipynb\" target=\"_parent\"><img src=\"https://colab.research.google.com/assets/colab-badge.svg\" alt=\"Open In Colab\"/></a>"
      ]
    },
    {
      "cell_type": "code",
      "metadata": {
        "colab": {
          "base_uri": "https://localhost:8080/"
        },
        "id": "sz0mZXjCD2AJ",
        "outputId": "7691caf5-5451-4a49-d882-eaa3302faf16"
      },
      "source": [
        "# dfs를 사용해 모든 경우를 answer에 append한 후 max를 찾는 방식의 풀이 실패\r\n",
        "# 모든 땅을 지나면서 이전의 값과의 합 중 가장 큰 값을 선택하는 풀이\r\n",
        "def solution(land):\r\n",
        "    answer = [[0]*4 for _ in range(len(land))]\r\n",
        "    answer[0] = land[0]\r\n",
        "\r\n",
        "    for i in range(len(land)) :\r\n",
        "        for j in range(4) :\r\n",
        "            \r\n",
        "            for k in range(4) :\r\n",
        "                \r\n",
        "                if k != j :\r\n",
        "                    #print(\"H\", i, j, answer[i][j], land[i][j] + answer[i-1][j])\r\n",
        "                    answer[i][j] = max(answer[i][j], land[i][j] + answer[i-1][k])\r\n",
        "                    #print(answer, answer[i-1], i)\r\n",
        "        #print(answer)\r\n",
        "\r\n",
        "    return answer\r\n",
        "\r\n",
        "print(solution([[1,2,3,5],[5,6,7,8],[4,3,2,1]]), 16)\r\n",
        "print(solution([[1,2,3,4],[5,6,7,8],[9,10,11,12]]), 16)\r\n",
        "print(solution([[1,2,3,4],[5,6,7,8]]), 11)"
      ],
      "execution_count": 88,
      "outputs": [
        {
          "output_type": "stream",
          "text": [
            "[[1, 2, 3, 5], [10, 11, 12, 11], [16, 15, 13, 13]] 16\n",
            "[[1, 2, 3, 4], [9, 10, 11, 11], [20, 21, 22, 23]] 16\n",
            "[[1, 2, 3, 4], [9, 10, 11, 11]] 11\n"
          ],
          "name": "stdout"
        }
      ]
    },
    {
      "cell_type": "code",
      "metadata": {
        "id": "iX80-nNHP13o"
      },
      "source": [
        "# from -, -\r\n",
        "# 직관적인 풀이\r\n",
        "import copy\r\n",
        "\r\n",
        "def hopscotch(board, size):\r\n",
        "    result = 0\r\n",
        "    for i in range(1,size):\r\n",
        "        for j in range(4):\r\n",
        "            temp = copy.deepcopy(board[i-1])\r\n",
        "            temp[j] = 0\r\n",
        "            board[i][j]+=max(temp)\r\n",
        "    result = max(board[-1])\r\n",
        "    return result\r\n",
        "\r\n",
        "\r\n",
        "#아래는 테스트로 출력해 보기 위한 코드입니다.\r\n",
        "board =  [[ 1, 2, 3, 5 ], [ 5, 6, 7, 8 ], [4, 3, 2, 1]]\r\n",
        "print(hopscotch(board, 3))"
      ],
      "execution_count": null,
      "outputs": []
    },
    {
      "cell_type": "code",
      "metadata": {
        "id": "To_XSfprP9p1"
      },
      "source": [
        "# from 홍선우 , 퐁포동 , Seungwoo Kim , Bang , 양용준 외 3 명\r\n",
        "# pythonic way\r\n",
        "def solution(land):\r\n",
        "\r\n",
        "    for i in range(1, len(land)):\r\n",
        "        for j in range(len(land[0])):\r\n",
        "            land[i][j] = max(land[i -1][: j] + land[i - 1][j + 1:]) + land[i][j]\r\n",
        "\r\n",
        "    return max(land[-1])"
      ],
      "execution_count": null,
      "outputs": []
    }
  ]
}