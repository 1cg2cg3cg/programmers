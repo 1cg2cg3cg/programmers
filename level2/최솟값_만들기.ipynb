{
  "nbformat": 4,
  "nbformat_minor": 0,
  "metadata": {
    "colab": {
      "name": "최솟값 만들기.ipynb",
      "provenance": [],
      "collapsed_sections": [],
      "authorship_tag": "ABX9TyP27Fh1U19wLdE4yFq+tWTl",
      "include_colab_link": true
    },
    "kernelspec": {
      "name": "python3",
      "display_name": "Python 3"
    }
  },
  "cells": [
    {
      "cell_type": "markdown",
      "metadata": {
        "id": "view-in-github",
        "colab_type": "text"
      },
      "source": [
        "<a href=\"https://colab.research.google.com/github/1cg2cg3cg/programmers/blob/main/level2/%EC%B5%9C%EC%86%9F%EA%B0%92_%EB%A7%8C%EB%93%A4%EA%B8%B0.ipynb\" target=\"_parent\"><img src=\"https://colab.research.google.com/assets/colab-badge.svg\" alt=\"Open In Colab\"/></a>"
      ]
    },
    {
      "cell_type": "code",
      "metadata": {
        "colab": {
          "base_uri": "https://localhost:8080/"
        },
        "id": "PDvL0H2zQ_T1",
        "outputId": "6c30b285-bda9-4b0e-ebe5-630da6d6beb2"
      },
      "source": [
        "# A의 가장 큰 숫자와 B의 가장 작은 숫자가 순서대로 곱해져야 최소\r\n",
        "def solution(A,B):\r\n",
        "    answer = 0\r\n",
        "\r\n",
        "    A.sort()\r\n",
        "    B.sort(reverse=True)\r\n",
        "\r\n",
        "    for i in range(len(A)) :\r\n",
        "        answer += A[i] * B[i]\r\n",
        "    return answer\r\n",
        "\r\n",
        "print(solution([1,4,2], [5,4,4]), 29)"
      ],
      "execution_count": 11,
      "outputs": [
        {
          "output_type": "stream",
          "text": [
            "29 29\n"
          ],
          "name": "stdout"
        }
      ]
    }
  ]
}