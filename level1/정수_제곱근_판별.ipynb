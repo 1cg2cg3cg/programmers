{
  "nbformat": 4,
  "nbformat_minor": 0,
  "metadata": {
    "colab": {
      "name": "정수 제곱근 판별.ipynb",
      "provenance": [],
      "authorship_tag": "ABX9TyPiMv9pwWYBZIy/TQ4gJoZn",
      "include_colab_link": true
    },
    "kernelspec": {
      "name": "python3",
      "display_name": "Python 3"
    }
  },
  "cells": [
    {
      "cell_type": "markdown",
      "metadata": {
        "id": "view-in-github",
        "colab_type": "text"
      },
      "source": [
        "<a href=\"https://colab.research.google.com/github/1cg2cg3cg/programmers/blob/main/level1/%EC%A0%95%EC%88%98_%EC%A0%9C%EA%B3%B1%EA%B7%BC_%ED%8C%90%EB%B3%84.ipynb\" target=\"_parent\"><img src=\"https://colab.research.google.com/assets/colab-badge.svg\" alt=\"Open In Colab\"/></a>"
      ]
    },
    {
      "cell_type": "code",
      "metadata": {
        "colab": {
          "base_uri": "https://localhost:8080/"
        },
        "id": "xmUIKfuzesLE",
        "outputId": "23603671-90dc-4b25-832d-c3f13de5403c"
      },
      "source": [
        "import math\r\n",
        "def solution(n):\r\n",
        "    if math.sqrt(n) - (math.sqrt(n) // 1) == 0 :\r\n",
        "        return (math.sqrt(n)+1)**2\r\n",
        "\r\n",
        "    return -1\r\n",
        "\r\n",
        "print(solution(121), '\\t 144')\r\n",
        "print(solution(3), '\\t -1')"
      ],
      "execution_count": 10,
      "outputs": [
        {
          "output_type": "stream",
          "text": [
            "144.0 \t 144\n",
            "-1 \t -1\n"
          ],
          "name": "stdout"
        }
      ]
    },
    {
      "cell_type": "code",
      "metadata": {
        "colab": {
          "base_uri": "https://localhost:8080/"
        },
        "id": "Q1_Vfzrlf5GF",
        "outputId": "9328c671-11f8-4a63-d095-6d97c0805e97"
      },
      "source": [
        "# not use math module (not import math)\r\n",
        "def solution(n):\r\n",
        "    \r\n",
        "    if (n**0.5) % 1 == 0 :\r\n",
        "        return (n**0.5+1)**2\r\n",
        "\r\n",
        "    return -1\r\n",
        "\r\n",
        "print(solution(121), '\\t 144')\r\n",
        "print(solution(3), '\\t -1')"
      ],
      "execution_count": 11,
      "outputs": [
        {
          "output_type": "stream",
          "text": [
            "144.0 \t 144\n",
            "-1 \t -1\n"
          ],
          "name": "stdout"
        }
      ]
    }
  ]
}