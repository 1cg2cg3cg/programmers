{
  "nbformat": 4,
  "nbformat_minor": 0,
  "metadata": {
    "colab": {
      "name": "STACK/QUEUE - 기능개발.ipynb",
      "provenance": [],
      "collapsed_sections": [],
      "authorship_tag": "ABX9TyNlSOiuVpu5MjIglxYZQWwC",
      "include_colab_link": true
    },
    "kernelspec": {
      "name": "python3",
      "display_name": "Python 3"
    }
  },
  "cells": [
    {
      "cell_type": "markdown",
      "metadata": {
        "id": "view-in-github",
        "colab_type": "text"
      },
      "source": [
        "<a href=\"https://colab.research.google.com/github/1cg2cg3cg/programmers/blob/main/level2/STACK_QUEUE_%EA%B8%B0%EB%8A%A5%EA%B0%9C%EB%B0%9C.ipynb\" target=\"_parent\"><img src=\"https://colab.research.google.com/assets/colab-badge.svg\" alt=\"Open In Colab\"/></a>"
      ]
    },
    {
      "cell_type": "code",
      "metadata": {
        "id": "WhbY-COChGaW"
      },
      "source": [
        "# 21.04.01\n",
        "def solution(progresses, speeds) :\n",
        "\n",
        "    stack = []\n",
        "    answer = []\n",
        "    for p, s in zip(progresses[::-1], speeds[::-1]) :\n",
        "        stack.append( (100-p)//s + 1 if (100-p)%s else (100-p)//s )\n",
        "    \n",
        "    while stack :\n",
        "        \n",
        "        tmp = stack[-1]\n",
        "        cnt = 0\n",
        "\n",
        "        while stack and tmp >= stack[-1] :\n",
        "            stack.pop()\n",
        "            cnt += 1\n",
        "        \n",
        "        if cnt :\n",
        "            answer.append(cnt)\n",
        "\n",
        "    return answer"
      ],
      "execution_count": null,
      "outputs": []
    },
    {
      "cell_type": "code",
      "metadata": {
        "id": "hhxGJR7qLG60"
      },
      "source": [
        "# 21.02.06\n",
        "import math\n",
        "\n",
        "def solution(progresses, speeds):\n",
        "\n",
        "    answer = []\n",
        "    days = []\n",
        "\n",
        "    for i, j in zip(progresses, speeds) :\n",
        "        days.append(math.ceil((100-i)/j))\n",
        "\n",
        "    if len(days) == 1 :\n",
        "        return [1]\n",
        "\n",
        "    start = 0\n",
        "    for i in range(len(days)) :\n",
        "        if days[i] > days[start] :\n",
        "            answer.append(i - start)\n",
        "            start = i\n",
        "    answer.append(len(days) - start)\n",
        "\n",
        "    return answer\n",
        "\n",
        "progresses = [93, 30, 55]\n",
        "speeds = [1, 30, 5]\n",
        "\n",
        "#progresses = [95, 90, 99, 99, 80, 99]\n",
        "#speeds = [1, 1, 1, 1, 1, 1]\n",
        "\n",
        "print(solution(progresses, speeds))"
      ],
      "execution_count": null,
      "outputs": []
    }
  ]
}