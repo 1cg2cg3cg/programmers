{
  "nbformat": 4,
  "nbformat_minor": 0,
  "metadata": {
    "colab": {
      "name": "STACK/QUEUE - 주식 가격.ipynb",
      "provenance": [],
      "collapsed_sections": [],
      "authorship_tag": "ABX9TyN+b9E1guXr9FOUMBJH7IAM",
      "include_colab_link": true
    },
    "kernelspec": {
      "name": "python3",
      "display_name": "Python 3"
    }
  },
  "cells": [
    {
      "cell_type": "markdown",
      "metadata": {
        "id": "view-in-github",
        "colab_type": "text"
      },
      "source": [
        "<a href=\"https://colab.research.google.com/github/1cg2cg3cg/programmers/blob/main/STACK_QUEUE_%EC%A3%BC%EC%8B%9D_%EA%B0%80%EA%B2%A9.ipynb\" target=\"_parent\"><img src=\"https://colab.research.google.com/assets/colab-badge.svg\" alt=\"Open In Colab\"/></a>"
      ]
    },
    {
      "cell_type": "code",
      "metadata": {
        "id": "V6MT8QiDKxs4"
      },
      "source": [
        "def solution(prices) :\r\n",
        "    answer = [0] * len(prices)\r\n",
        "    stack = []\r\n",
        "\r\n",
        "    for i, cur in enumerate(prices) :\r\n",
        "\r\n",
        "        while stack and cur < prices[stack[-1]] :\r\n",
        "            last = stack.pop()\r\n",
        "            answer[last] = i - last\r\n",
        "        \r\n",
        "        stack.append(i)\r\n",
        "\r\n",
        "        for sec in stack:\r\n",
        "            answer[sec] = i - sec\r\n",
        "\r\n",
        "    return answer\r\n",
        "\r\n",
        "prices = [1, 2, 3, 2, 3, 3, 1]\r\n",
        "\r\n",
        "print(solution(prices))"
      ],
      "execution_count": null,
      "outputs": []
    }
  ]
}
