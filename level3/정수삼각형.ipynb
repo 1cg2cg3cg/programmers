{
  "nbformat": 4,
  "nbformat_minor": 0,
  "metadata": {
    "colab": {
      "name": "정수삼각형.ipynb",
      "provenance": [],
      "collapsed_sections": [],
      "authorship_tag": "ABX9TyO8CHfBKeynTKTkNkrsOE5N",
      "include_colab_link": true
    },
    "kernelspec": {
      "name": "python3",
      "display_name": "Python 3"
    },
    "language_info": {
      "name": "python"
    }
  },
  "cells": [
    {
      "cell_type": "markdown",
      "metadata": {
        "id": "view-in-github",
        "colab_type": "text"
      },
      "source": [
        "<a href=\"https://colab.research.google.com/github/1cg2cg3cg/programmers/blob/main/level3/%EC%A0%95%EC%88%98%EC%82%BC%EA%B0%81%ED%98%95.ipynb\" target=\"_parent\"><img src=\"https://colab.research.google.com/assets/colab-badge.svg\" alt=\"Open In Colab\"/></a>"
      ]
    },
    {
      "cell_type": "code",
      "metadata": {
        "colab": {
          "base_uri": "https://localhost:8080/"
        },
        "id": "tHCYSOjbDrUd",
        "outputId": "180428f3-a8ee-4eb0-edc2-f30d737ac875"
      },
      "source": [
        "# 해결! 1점.....\n",
        "# index 대로 2층부터(숫자 3개 등장) 양 끝을 제외한 가운데 부분은\n",
        "# 위의 양쪽으로 비교해야 한다. 모든 방법을 다 고려하지말고 그 자리에 올 수 있는\n",
        "# 큰 수를 비교하는 것으로 생각을 전환함.\n",
        "def solution(triangle):\n",
        "    answer = [0] * len(triangle[-1]) # 런타임 에러의 원인 충분히 여유를 갖게 설정했을 때 에러 발생..\n",
        "    temp = answer[:]                 # 왜..?\n",
        "    \n",
        "    if len(triangle) == 1 :\n",
        "        return triangle[0][0]\n",
        "\n",
        "    j = 0\n",
        "    for i in range(1, len(triangle)) :\n",
        "        temp[0], temp[i] = answer[0]+triangle[i][0], answer[i-1]+triangle[i][-1]\n",
        "        for j in range(1, len(triangle[i])-1) :\n",
        "            temp[j] = triangle[i][j] + answer[j-1] if answer[j-1] > answer[j] else triangle[i][j] + answer[j]\n",
        "        \n",
        "        answer = temp[:]\n",
        "\n",
        "    return max(answer) + triangle[0][0]\n",
        "\n",
        "print(solution([[7], [3, 8], [8, 1, 0], [2, 7, 4, 4], [4, 5, 2, 6, 5]]), 30)"
      ],
      "execution_count": 27,
      "outputs": [
        {
          "output_type": "stream",
          "text": [
            "30 30\n"
          ],
          "name": "stdout"
        }
      ]
    },
    {
      "cell_type": "code",
      "metadata": {
        "colab": {
          "base_uri": "https://localhost:8080/"
        },
        "id": "lV5ns752DCEi",
        "outputId": "26652d42-f87c-4765-e6d8-a1c920b725d5"
      },
      "source": [
        "# 32.1................\n",
        "# 런타임 에러... index 조작 어딘가 문제로 추정\n",
        "def solution(triangle):\n",
        "    answer = [[0,0]] * 2**(len(triangle)-1)     # 이 부분이 런타임 에러의 원인인데 왜..?\n",
        "    temp = answer[:]    #   [value, index]\n",
        "    for i in range(len(triangle)) :\n",
        "        triangle[i] = triangle[i][:i+1]\n",
        "    \n",
        "    for i in range(len(triangle)-1) :\n",
        "        for j in range(2**(len(triangle[i])-1)) :\n",
        "            #print('tri', triangle[i+1])\n",
        "            #print(temp[j][1]+1, 2**(len(triangle[i])-1))\n",
        "            #print(triangle[i+1][temp[j][1]+1], j)            \n",
        "            #print(2*j, 'temp', temp[j][1], temp[j][0], '\\t', temp[j][0], '+', triangle[i+1][temp[j][1]], temp[j][0], '+', triangle[i+1][temp[j][1]+1])\n",
        "            \n",
        "            answer[2*j] = [temp[j][0] + triangle[i+1][temp[j][1]], temp[j][1]]\n",
        "            answer[2*j+1] = [temp[j][0] + triangle[i+1][temp[j][1]+1], temp[j][1]+1]\n",
        "\n",
        "            #print(answer)\n",
        "            \n",
        "        temp = answer[:]\n",
        "        \n",
        "        #print('B', answer)\n",
        "\n",
        "    #print(answer)\n",
        "    #print(max(answer, key=lambda x : x[0])[0])\n",
        "    return max(answer, key=lambda x : x[0])[0] + triangle[0][0]\n",
        "\n",
        "print(solution([[7], [3, 8], [8, 1, 0], [2, 7, 4, 4], [4, 5, 2, 6, 5]]), 30)"
      ],
      "execution_count": 1,
      "outputs": [
        {
          "output_type": "stream",
          "text": [
            "30 30\n"
          ],
          "name": "stdout"
        }
      ]
    }
  ]
}