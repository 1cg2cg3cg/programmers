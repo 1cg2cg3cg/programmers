{
  "nbformat": 4,
  "nbformat_minor": 0,
  "metadata": {
    "colab": {
      "name": "Sort_H-index.ipynb",
      "provenance": [],
      "collapsed_sections": [],
      "authorship_tag": "ABX9TyN5SF8uEustPilcsChl6lS4",
      "include_colab_link": true
    },
    "kernelspec": {
      "name": "python3",
      "display_name": "Python 3"
    }
  },
  "cells": [
    {
      "cell_type": "markdown",
      "metadata": {
        "id": "view-in-github",
        "colab_type": "text"
      },
      "source": [
        "<a href=\"https://colab.research.google.com/github/1cg2cg3cg/programmers/blob/main/level2/Sort_H_index.ipynb\" target=\"_parent\"><img src=\"https://colab.research.google.com/assets/colab-badge.svg\" alt=\"Open In Colab\"/></a>"
      ]
    },
    {
      "cell_type": "code",
      "metadata": {
        "id": "2u_GzA9Dg984"
      },
      "source": [
        "# 21.04.22\n",
        "def solution(citations) :\n",
        "\n",
        "    h = len(citations)\n",
        "\n",
        "    while h > 0 :\n",
        "\n",
        "        a = list(filter(lambda x : x >= h, citations))\n",
        "\n",
        "        if len(a) >= h :\n",
        "            return h\n",
        "        \n",
        "        h -= 1\n",
        "\n",
        "    return 0"
      ],
      "execution_count": null,
      "outputs": []
    },
    {
      "cell_type": "code",
      "metadata": {
        "colab": {
          "base_uri": "https://localhost:8080/"
        },
        "id": "NgEegk8ktDS8",
        "outputId": "b721d22a-04e1-4d94-8b84-e94965bdac1e"
      },
      "source": [
        "# 21.02.14\n",
        "def solution(citations) :\n",
        "    answer = 0\n",
        "    cits = sorted(citations)\n",
        "    cit_num = 0\n",
        "\n",
        "    for h in range(max(citations)) :\n",
        "        for i in range(len(cits)) :\n",
        "            cit_num = len(cits) - i\n",
        "            if cits[i] >= h and cit_num >= h :\n",
        "                answer = h\n",
        "                break\n",
        "\n",
        "    return answer\n",
        "\n",
        "\n",
        "print(solution([3, 0, 6, 1, 5]), \"\\t3\")"
      ],
      "execution_count": null,
      "outputs": [
        {
          "output_type": "stream",
          "text": [
            "3 \t3\n"
          ],
          "name": "stdout"
        }
      ]
    },
    {
      "cell_type": "code",
      "metadata": {
        "cellView": "form",
        "id": "KB8HPTQjvZlb"
      },
      "source": [
        "#@title I don't know when I wrote this code\n",
        "def solution(citations):\n",
        "    answer = 0\n",
        "    ci_str = ''\n",
        "\n",
        "    citations.sort(reverse = True)\n",
        "    \n",
        "    for i in range(len(citations)) :\n",
        "        ci_str += str(citations[i])\n",
        "\n",
        "    for i in range(len(ci_str)) :\n",
        "        x = ci_str[i]\n",
        "        if int(ci_str.rindex(str(x)))+1 >= int(x) :\n",
        "            if len(ci_str) - int(ci_str.rindex(str(x))) <= int(x) :\n",
        "                return int(x)\n",
        "\n",
        "    return answer"
      ],
      "execution_count": null,
      "outputs": []
    }
  ]
}