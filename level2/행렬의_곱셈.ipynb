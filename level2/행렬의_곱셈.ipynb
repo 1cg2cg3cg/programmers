{
  "nbformat": 4,
  "nbformat_minor": 0,
  "metadata": {
    "colab": {
      "name": "행렬의 곱셈.ipynb",
      "provenance": [],
      "authorship_tag": "ABX9TyOEgEU8Wo3DyNWJ+Yrwv628",
      "include_colab_link": true
    },
    "kernelspec": {
      "name": "python3",
      "display_name": "Python 3"
    }
  },
  "cells": [
    {
      "cell_type": "markdown",
      "metadata": {
        "id": "view-in-github",
        "colab_type": "text"
      },
      "source": [
        "<a href=\"https://colab.research.google.com/github/1cg2cg3cg/programmers/blob/main/level2/%ED%96%89%EB%A0%AC%EC%9D%98_%EA%B3%B1%EC%85%88.ipynb\" target=\"_parent\"><img src=\"https://colab.research.google.com/assets/colab-badge.svg\" alt=\"Open In Colab\"/></a>"
      ]
    },
    {
      "cell_type": "code",
      "metadata": {
        "colab": {
          "base_uri": "https://localhost:8080/"
        },
        "id": "A4doruj0XEbr",
        "outputId": "9ce5a2bc-ffc9-477d-c4b8-3e7b24ed5daa"
      },
      "source": [
        "def solution(arr1, arr2):\r\n",
        "    arr2_T = [list(x) for x in zip(*arr2)]  # arr2를 transpose해서, 행렬의 곱셈이 직관적으로 이루어지게 변형\r\n",
        "    answer = [[0 * i for i in range(len(arr2_T))] for j in range(len(arr1))]  # 곱셈 결과의 크기의 모든 원소가 0인 행렬\r\n",
        "\r\n",
        "    for i in range(len(arr1)) :\r\n",
        "        for j in range(len(arr2_T)) :\r\n",
        "            for a, b in zip(arr1[i], arr2_T[j]) :\r\n",
        "                answer[i][j] += a*b # 행렬의 곱셈을 진행하면서, 행과 열에 맞는 결과 입력(행렬의 곱셈은 곱셈과 덧셈으로 이루어짐)\r\n",
        "    \r\n",
        "    \r\n",
        "    return answer\r\n",
        "\r\n",
        "print(solution([[1, 4], [3, 2], [4, 1]], [[3, 3], [3, 3]]), [[15, 15], [15, 15], [15, 15]])\r\n",
        "print(solution([[1, 4], [3, 2], [4, 1]], [[3, 3, 1], [3, 3, 2]]), [[15, 15], [15, 15], [15, 15]])\r\n",
        "print(solution([[3, 3], [3, 3]], [[1, 4], [3, 2], [4, 1]]), [[15, 15], [15, 15], [15, 15]])\r\n",
        "print(solution([[2, 3, 2], [4, 2, 4], [3, 1, 4]], [[5, 4, 3], [2, 4, 1], [3, 1, 1]]), [[22, 22, 11], [36, 28, 18], [29, 20, 14]])\r\n",
        "print(solution([[2, 3, 2], [4, 2, 4], [3, 1, 4]], [[5, 4], [2, 4], [3, 1]]))"
      ],
      "execution_count": 16,
      "outputs": [
        {
          "output_type": "stream",
          "text": [
            "[[15, 15], [15, 15], [15, 15]] [[15, 15], [15, 15], [15, 15]]\n",
            "[[15, 15, 9], [15, 15, 7], [15, 15, 6]] [[15, 15], [15, 15], [15, 15]]\n",
            "[[12, 18], [12, 18]] [[15, 15], [15, 15], [15, 15]]\n",
            "[[22, 22, 11], [36, 28, 18], [29, 20, 14]] [[22, 22, 11], [36, 28, 18], [29, 20, 14]]\n",
            "[[22, 22], [36, 28], [29, 20]]\n"
          ],
          "name": "stdout"
        }
      ]
    }
  ]
}