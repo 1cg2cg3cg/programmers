{
  "nbformat": 4,
  "nbformat_minor": 0,
  "metadata": {
    "colab": {
      "name": "[3차]n진수 게임.ipynb",
      "provenance": [],
      "collapsed_sections": [],
      "authorship_tag": "ABX9TyN2PZwZONur3ZDJXL6dQqpP",
      "include_colab_link": true
    },
    "kernelspec": {
      "name": "python3",
      "display_name": "Python 3"
    }
  },
  "cells": [
    {
      "cell_type": "markdown",
      "metadata": {
        "id": "view-in-github",
        "colab_type": "text"
      },
      "source": [
        "<a href=\"https://colab.research.google.com/github/1cg2cg3cg/programmers/blob/main/level2/%5B3%EC%B0%A8%5Dn%EC%A7%84%EC%88%98_%EA%B2%8C%EC%9E%84.ipynb\" target=\"_parent\"><img src=\"https://colab.research.google.com/assets/colab-badge.svg\" alt=\"Open In Colab\"/></a>"
      ]
    },
    {
      "cell_type": "code",
      "metadata": {
        "colab": {
          "base_uri": "https://localhost:8080/"
        },
        "id": "su1q3Uxu2VbH",
        "outputId": "356c1ebb-b21c-4670-af2b-30df06711641"
      },
      "source": [
        "def solution(n, t, m, p):\r\n",
        "    \r\n",
        "    def base(n, k) :        # n 진법으로 변환하는 함수\r\n",
        "        base = '0123456789ABCDEF'\r\n",
        "        result = ''\r\n",
        "\r\n",
        "        if n == 0 :\r\n",
        "            return '0'\r\n",
        "\r\n",
        "        while n > 0 :\r\n",
        "            q, r = divmod(n, k)\r\n",
        "            n = q\r\n",
        "            result += str(base[r])\r\n",
        "        \r\n",
        "        return result[::-1]\r\n",
        "\r\n",
        "    start = 0\r\n",
        "    s = ''\r\n",
        "    while len(s[p-1:-1:m]) < t :    # 0에서 시작해 1씩 증가하면서 n진법을 만들어 s 변수에 저장\r\n",
        "                                    # p-1에서 시작해 m씩 이동 (튜브가 말하는 숫자)\r\n",
        "        s += base(start, n)         # 튜브가 말하는 숫자의 길이가 t 이상이 되면 종료\r\n",
        "        start += 1\r\n",
        "    \r\n",
        "    return s[p-1:-1:m]\r\n",
        "\r\n",
        "print(solution(16, 16, 2, 1), \"02468ACE11111111\")\r\n",
        "print(solution(16, 16, 2, 2), \"13579BDF01234567\")"
      ],
      "execution_count": 41,
      "outputs": [
        {
          "output_type": "stream",
          "text": [
            "02468ACE11111111 02468ACE11111111\n",
            "13579BDF01234567 13579BDF01234567\n"
          ],
          "name": "stdout"
        }
      ]
    }
  ]
}