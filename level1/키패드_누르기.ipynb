{
  "nbformat": 4,
  "nbformat_minor": 0,
  "metadata": {
    "colab": {
      "name": "키패드 누르기.ipynb",
      "provenance": [],
      "collapsed_sections": [],
      "authorship_tag": "ABX9TyOrHL3kfsNB3oO+5/r0W9Yz",
      "include_colab_link": true
    },
    "kernelspec": {
      "name": "python3",
      "display_name": "Python 3"
    }
  },
  "cells": [
    {
      "cell_type": "markdown",
      "metadata": {
        "id": "view-in-github",
        "colab_type": "text"
      },
      "source": [
        "<a href=\"https://colab.research.google.com/github/1cg2cg3cg/programmers/blob/main/level1/%ED%82%A4%ED%8C%A8%EB%93%9C_%EB%88%84%EB%A5%B4%EA%B8%B0.ipynb\" target=\"_parent\"><img src=\"https://colab.research.google.com/assets/colab-badge.svg\" alt=\"Open In Colab\"/></a>"
      ]
    },
    {
      "cell_type": "code",
      "metadata": {
        "colab": {
          "base_uri": "https://localhost:8080/"
        },
        "id": "iM3k47qvf3vp",
        "outputId": "83cfb53a-a7e6-4be5-e01b-58f03be04749"
      },
      "source": [
        "# final solution using bfs\r\n",
        "def bfs(graph, start, goal) : # bfs를 사용해 시작 - 도착 경로 모두 찾기\r\n",
        "                              # bfs는 가장 짧은 경로부터 긴 경로 순서로 반환함\r\n",
        "    queue = [(start, [start])]\r\n",
        "    result = []\r\n",
        "\r\n",
        "    while queue :\r\n",
        "        v, path = queue.pop(0)\r\n",
        "\r\n",
        "        if v == goal :\r\n",
        "            result.append(path)\r\n",
        "        else :\r\n",
        "            for w in set(graph[v]) - set(path) :\r\n",
        "                queue.append((w, path+[w]))\r\n",
        "    \r\n",
        "    return len(result[0])-1 # bfs의 성질 이용 및 출발점 제외(-1)\r\n",
        "\r\n",
        "def solution(numbers, hand):\r\n",
        "    answer = ''\r\n",
        "    left, right = '*', '#'  # 초기 시작점\r\n",
        "    # 각 위치에서 이동가능한 경로\r\n",
        "    graph = {1:[2,4], 2:[1,3,5], 3:[2,6], 4:[1,5,7], 5:[2,4,6,8], 6:[3,5,9], 7:[4,8,'*'], 8:[5,7,9,0], 9:[6,8,9], 0:['*', '#', 8], '*':[7,0], '#':[9,0]}\r\n",
        "    \r\n",
        "    for i in range(len(numbers)) :\r\n",
        "        if numbers[i] == 1 or numbers[i] == 4 or numbers[i] == 7 :  # 1,4,7은 왼손만 가능\r\n",
        "            answer += 'L'\r\n",
        "            left = numbers[i]\r\n",
        "        elif numbers[i] == 3 or numbers[i] == 6 or numbers[i] == 9 : # 3,6,9는 오른손만 가능\r\n",
        "            answer += 'R'\r\n",
        "            right = numbers[i]\r\n",
        "        else :\r\n",
        "            left_path = bfs(graph, left, numbers[i])    # 이동 거리\r\n",
        "            right_path = bfs(graph, right, numbers[i])  # 이동 거리\r\n",
        "            \r\n",
        "            if left_path < right_path :     # 이동 거리 비교 후 손가락 이동\r\n",
        "                answer += 'L'\r\n",
        "                left = numbers[i]\r\n",
        "            elif left_path == right_path :\r\n",
        "                if hand == 'right' :\r\n",
        "                    answer += 'R'\r\n",
        "                    right = numbers[i]\r\n",
        "                else :\r\n",
        "                    answer += 'L'\r\n",
        "                    left = numbers[i]\r\n",
        "            else :\r\n",
        "                answer += 'R'\r\n",
        "                right = numbers[i]\r\n",
        "\r\n",
        "    return answer\r\n",
        "\r\n",
        "print(solution([1, 3, 4, 5, 8, 2, 1, 4, 5, 9, 5], \"right\"), '\\t LRLLLRLLRRL')"
      ],
      "execution_count": 19,
      "outputs": [
        {
          "output_type": "stream",
          "text": [
            "LRLLLRLLRRL \t LRLLLRLLRRL\n"
          ],
          "name": "stdout"
        }
      ]
    },
    {
      "cell_type": "code",
      "metadata": {
        "colab": {
          "base_uri": "https://localhost:8080/"
        },
        "id": "d0zwUEEgbBrw",
        "outputId": "39686fbf-b8a6-448e-9f96-e8c32df7a074"
      },
      "source": [
        "# print for check\r\n",
        "def bfs(graph, start, goal) :\r\n",
        "\r\n",
        "    queue = [(start, [start])]\r\n",
        "    result = []\r\n",
        "\r\n",
        "    while queue :\r\n",
        "        v, path = queue.pop(0)\r\n",
        "\r\n",
        "        if v == goal :\r\n",
        "            result.append(path)\r\n",
        "        else :\r\n",
        "            for w in set(graph[v]) - set(path) :\r\n",
        "                queue.append((w, path+[w]))\r\n",
        "    \r\n",
        "    print(\"Start\", start, \"Goal\", goal, \"result\", result[0])\r\n",
        "    return len(result[0])-1\r\n",
        "\r\n",
        "def solution(numbers, hand):\r\n",
        "    answer = ''\r\n",
        "    left, right = '*', '#'\r\n",
        "    graph = {1:[2,4], 2:[1,3,5], 3:[2,6], 4:[1,5,7], 5:[2,4,6,8], 6:[3,5,9], 7:[4,8,'*'], 8:[5,7,9,0], 9:[6,8,9], 0:['*', '#', 8], '*':[7,0], '#':[9,0]}\r\n",
        "\r\n",
        "    for i in range(len(numbers)) :\r\n",
        "        if numbers[i] == 1 or numbers[i] == 4 or numbers[i] == 7 :\r\n",
        "            answer += 'L'\r\n",
        "            left = numbers[i]\r\n",
        "            print('1,4,7', left)\r\n",
        "        elif numbers[i] == 3 or numbers[i] == 6 or numbers[i] == 9 :\r\n",
        "            answer += 'R'\r\n",
        "            right = numbers[i]\r\n",
        "            print('3,6,9', right)\r\n",
        "        else :\r\n",
        "            left_path = bfs(graph, left, numbers[i])\r\n",
        "            right_path = bfs(graph, right, numbers[i])\r\n",
        "            \r\n",
        "            if left_path < right_path :\r\n",
        "                answer += 'L'\r\n",
        "                left = numbers[i]\r\n",
        "                print(numbers[i], 'L < R', left_path, right_path, left, right)\r\n",
        "            elif left_path == right_path :\r\n",
        "                print(numbers[i], left_path, right_path)\r\n",
        "                if hand == 'right' :\r\n",
        "                    answer += 'R'\r\n",
        "                    right = numbers[i]\r\n",
        "                    print(\"RIGHT\")\r\n",
        "                else :\r\n",
        "                    answer += 'L'\r\n",
        "                    left = numbers[i]\r\n",
        "                    print(\"LEFT\")\r\n",
        "            else :\r\n",
        "                answer += 'R'\r\n",
        "                right = numbers[i]\r\n",
        "                print('L > R')\r\n",
        "\r\n",
        "    return answer\r\n",
        "\r\n",
        "print(solution([1, 3, 4, 5, 8, 2, 1, 4, 5, 9, 5], \"right\"), '\\t LRLLLRLLRRL')"
      ],
      "execution_count": 18,
      "outputs": [
        {
          "output_type": "stream",
          "text": [
            "1,4,7 1\n",
            "3,6,9 3\n",
            "1,4,7 4\n",
            "Start 4 Goal 5 result [4, 5]\n",
            "Start 3 Goal 5 result [3, 2, 5]\n",
            "5 L < R 1 2 5 3\n",
            "Start 5 Goal 8 result [5, 8]\n",
            "Start 3 Goal 8 result [3, 2, 5, 8]\n",
            "8 L < R 1 3 8 3\n",
            "Start 8 Goal 2 result [8, 5, 2]\n",
            "Start 3 Goal 2 result [3, 2]\n",
            "L > R\n",
            "1,4,7 1\n",
            "1,4,7 4\n",
            "Start 4 Goal 5 result [4, 5]\n",
            "Start 2 Goal 5 result [2, 5]\n",
            "5 1 1\n",
            "RIGHT\n",
            "3,6,9 9\n",
            "Start 4 Goal 5 result [4, 5]\n",
            "Start 9 Goal 5 result [9, 8, 5]\n",
            "5 L < R 1 2 5 9\n",
            "LRLLLRLLRRL \t LRLLLRLLRRL\n"
          ],
          "name": "stdout"
        }
      ]
    }
  ]
}