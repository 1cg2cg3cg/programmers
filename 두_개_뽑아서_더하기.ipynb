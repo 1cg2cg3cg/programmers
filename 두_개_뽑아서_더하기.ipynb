{
  "nbformat": 4,
  "nbformat_minor": 0,
  "metadata": {
    "colab": {
      "name": "두 개 뽑아서 더하기.ipynb",
      "provenance": [],
      "authorship_tag": "ABX9TyMtpI1pWjrz77VhbwDCi/6x",
      "include_colab_link": true
    },
    "kernelspec": {
      "name": "python3",
      "display_name": "Python 3"
    }
  },
  "cells": [
    {
      "cell_type": "markdown",
      "metadata": {
        "id": "view-in-github",
        "colab_type": "text"
      },
      "source": [
        "<a href=\"https://colab.research.google.com/github/1cg2cg3cg/programmers/blob/main/%EB%91%90_%EA%B0%9C_%EB%BD%91%EC%95%84%EC%84%9C_%EB%8D%94%ED%95%98%EA%B8%B0.ipynb\" target=\"_parent\"><img src=\"https://colab.research.google.com/assets/colab-badge.svg\" alt=\"Open In Colab\"/></a>"
      ]
    },
    {
      "cell_type": "code",
      "metadata": {
        "id": "yrUx063LMA7A"
      },
      "source": [
        "def solution(numbers):\r\n",
        "    answer = []\r\n",
        "    if not numbers :\r\n",
        "        return []\r\n",
        "\r\n",
        "    for i in range(len(numbers)) :\r\n",
        "        for j in range(i+1, len(numbers)) :\r\n",
        "            answer.append(numbers[i] + numbers[j])\r\n",
        "    answer = set(answer)\r\n",
        "    answer = sorted(list(answer))\r\n",
        "\r\n",
        "    return answer\r\n",
        "\r\n",
        "print(solution([2,1,3,4,1]), \"[2,3,4,5,6,7]\")\r\n",
        "print(solution([5,0,2,7]), \"[2,5,7,9,12]\")"
      ],
      "execution_count": null,
      "outputs": []
    }
  ]
}