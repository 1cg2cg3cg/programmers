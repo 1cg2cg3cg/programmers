{
  "nbformat": 4,
  "nbformat_minor": 0,
  "metadata": {
    "colab": {
      "name": "두 정수 사이의 합.ipynb",
      "provenance": [],
      "collapsed_sections": [],
      "authorship_tag": "ABX9TyPj9UAOfTG+c+p5Z6/Av5DU",
      "include_colab_link": true
    },
    "kernelspec": {
      "name": "python3",
      "display_name": "Python 3"
    }
  },
  "cells": [
    {
      "cell_type": "markdown",
      "metadata": {
        "id": "view-in-github",
        "colab_type": "text"
      },
      "source": [
        "<a href=\"https://colab.research.google.com/github/1cg2cg3cg/programmers/blob/main/%EB%91%90_%EC%A0%95%EC%88%98_%EC%82%AC%EC%9D%B4%EC%9D%98_%ED%95%A9.ipynb\" target=\"_parent\"><img src=\"https://colab.research.google.com/assets/colab-badge.svg\" alt=\"Open In Colab\"/></a>"
      ]
    },
    {
      "cell_type": "code",
      "metadata": {
        "colab": {
          "base_uri": "https://localhost:8080/"
        },
        "id": "IVubwTiMxtR5",
        "outputId": "94eb7771-dc29-4621-f989-c7e3dee93d7a"
      },
      "source": [
        "def solution(a, b):\r\n",
        "    answer = 0\r\n",
        "\r\n",
        "    if a > b :\r\n",
        "        a, b = b, a\r\n",
        "\r\n",
        "    for i in range(a, b+1) :\r\n",
        "        answer += i\r\n",
        "\r\n",
        "    return answer\r\n",
        "\r\n",
        "print(solution(3, 5), '\\t 12')\r\n",
        "print(solution(3, 3), '\\t 3')\r\n",
        "print(solution(5, 3), '\\t 12')"
      ],
      "execution_count": 3,
      "outputs": [
        {
          "output_type": "stream",
          "text": [
            "12 \t 12\n",
            "3 \t 3\n",
            "12 \t 12\n"
          ],
          "name": "stdout"
        }
      ]
    }
  ]
}
