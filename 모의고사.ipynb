{
  "nbformat": 4,
  "nbformat_minor": 0,
  "metadata": {
    "colab": {
      "name": "모의고사.ipynb",
      "provenance": [],
      "collapsed_sections": [],
      "authorship_tag": "ABX9TyPsqRGrKQqB2Epasp8SLfs+",
      "include_colab_link": true
    },
    "kernelspec": {
      "name": "python3",
      "display_name": "Python 3"
    }
  },
  "cells": [
    {
      "cell_type": "markdown",
      "metadata": {
        "id": "view-in-github",
        "colab_type": "text"
      },
      "source": [
        "<a href=\"https://colab.research.google.com/github/1cg2cg3cg/programmers/blob/main/%EB%AA%A8%EC%9D%98%EA%B3%A0%EC%82%AC.ipynb\" target=\"_parent\"><img src=\"https://colab.research.google.com/assets/colab-badge.svg\" alt=\"Open In Colab\"/></a>"
      ]
    },
    {
      "cell_type": "code",
      "metadata": {
        "colab": {
          "base_uri": "https://localhost:8080/"
        },
        "id": "ytvEPs6scrvT",
        "outputId": "8404e3c1-905b-4084-ebd9-0965357e0efe"
      },
      "source": [
        "from math import ceil\r\n",
        "\r\n",
        "def solution(answers):\r\n",
        "    answer = [0] * 3\r\n",
        "\r\n",
        "    s0 = [1,2,3,4,5]\r\n",
        "    s1 = [2,1,2,3,2,4,2,5]\r\n",
        "    s2 = [3,3,1,1,2,2,4,4,5,5]\r\n",
        "\r\n",
        "    if len(answers) > len(s0) :                 # 수포자의 답안지길이가 정답 길이보다 작은경우, 정답보다 크게 늘림\r\n",
        "        s0 = s0 * ceil(len(answers) / len(s0))\r\n",
        "\r\n",
        "    if len(answers) > len(s1) :\r\n",
        "        s1 = s1 * ceil(len(answers) / len(s1))\r\n",
        "        \r\n",
        "    if len(answers) > len(s2) :\r\n",
        "        s2 = s2 * ceil(len(answers) / len(s2))\r\n",
        "\r\n",
        "    for i in range(len(answers)) :      #정답과 수포자의 답을 비교해 변수 answer에 저장\r\n",
        "        if s0[i] == answers[i] :\r\n",
        "            answer[0] += 1\r\n",
        "        if s1[i] == answers[i] :\r\n",
        "            answer[1] += 1\r\n",
        "        if s2[i] == answers[i] :\r\n",
        "            answer[2] += 1\r\n",
        "\r\n",
        "    result = []\r\n",
        "    for i, j in enumerate(answer) :     # 정답 개수와 index 저장\r\n",
        "        result.append([i, j])\r\n",
        "    \r\n",
        "    max_val = max(result, key = lambda x : x[1])[1] # 최고 득점값\r\n",
        "    \r\n",
        "    o = []\r\n",
        "    for i in range(len(answer)) :   #최고 득점과 같은 값을 갖는 index를 변수 o에 저장\r\n",
        "        if answer[i] == max_val :\r\n",
        "            o.append(i+1)\r\n",
        "\r\n",
        "    return o\r\n",
        "\r\n",
        "print(solution([1,2,3,4,5]), '\\t [1]')\r\n",
        "print(solution([1,3,2,4,2]), '\\t [1,2,3]')\r\n",
        "print(solution([3,1,1,1]), '\\t [3]')"
      ],
      "execution_count": 40,
      "outputs": [
        {
          "output_type": "stream",
          "text": [
            "[1] \t [1]\n",
            "[1, 2, 3] \t [1,2,3]\n",
            "[3] \t [3]\n"
          ],
          "name": "stdout"
        }
      ]
    },
    {
      "cell_type": "code",
      "metadata": {
        "colab": {
          "base_uri": "https://localhost:8080/"
        },
        "id": "KvwvqSec5cDk",
        "outputId": "926dc323-a5bd-4f21-bf27-2d8c821260f8"
      },
      "source": [
        "def solution(answers):\r\n",
        "    answer = [0] * 3\r\n",
        "    tmep = [0] * 3\r\n",
        "\r\n",
        "    s0 = [1,2,3,4,5]\r\n",
        "    s1 = [2,1,2,3,2,4,2,5]\r\n",
        "    s2 = [3,3,1,1,2,2,4,4,5,5]\r\n",
        "\r\n",
        "    for i in range(len(answers)) :      # mod연산을 활용해 수포자의 답이 짧은 경우에도 늘리지 않고 비교\r\n",
        "        if answers[i] == s0[i%len(s0)] :# temp 변수에 맞춘 개수 저장\r\n",
        "            tmep[0] += 1\r\n",
        "        if answers[i] == s1[i%len(s1)] :\r\n",
        "            tmep[1] += 1\r\n",
        "        if answers[i] == s2[i%len(s2)] :\r\n",
        "            tmep[2] += 1\r\n",
        "\r\n",
        "    max_val = max(tmep)     # 최고득점\r\n",
        "\r\n",
        "    for i in range(len(tmep)) :     # 최고 득점값과 일치하는 index 고르기\r\n",
        "        if tmep[i] == max_val :     # 최고 득점인 경우 index 저장, 아닌 경우 0\r\n",
        "            answer[i] = (i+1)\r\n",
        "            \r\n",
        "    while 0 in answer :     # 최고 득점이 아닌 나머지값(0) 제거\r\n",
        "        answer.remove(0)\r\n",
        "    \r\n",
        "    return answer\r\n",
        "\r\n",
        "print(solution([1,2,3,4,5]), '\\t [1]')\r\n",
        "print(solution([1,3,2,4,2]), '\\t [1,2,3]')\r\n",
        "print(solution([3,1,1,1]), '\\t [3]')"
      ],
      "execution_count": 80,
      "outputs": [
        {
          "output_type": "stream",
          "text": [
            "[1] \t [1]\n",
            "[1, 2, 3] \t [1,2,3]\n",
            "[3] \t [3]\n"
          ],
          "name": "stdout"
        }
      ]
    }
  ]
}