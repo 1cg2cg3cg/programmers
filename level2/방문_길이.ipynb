{
  "nbformat": 4,
  "nbformat_minor": 0,
  "metadata": {
    "colab": {
      "name": "방문 길이.ipynb",
      "provenance": [],
      "collapsed_sections": [],
      "authorship_tag": "ABX9TyNIu3cXj6pYFn8ZicCQ6o5T",
      "include_colab_link": true
    },
    "kernelspec": {
      "name": "python3",
      "display_name": "Python 3"
    }
  },
  "cells": [
    {
      "cell_type": "markdown",
      "metadata": {
        "id": "view-in-github",
        "colab_type": "text"
      },
      "source": [
        "<a href=\"https://colab.research.google.com/github/1cg2cg3cg/programmers/blob/main/level2/%EB%B0%A9%EB%AC%B8_%EA%B8%B8%EC%9D%B4.ipynb\" target=\"_parent\"><img src=\"https://colab.research.google.com/assets/colab-badge.svg\" alt=\"Open In Colab\"/></a>"
      ]
    },
    {
      "cell_type": "code",
      "metadata": {
        "colab": {
          "base_uri": "https://localhost:8080/"
        },
        "id": "cKhlimQBjgSi",
        "outputId": "db84e65e-41af-419f-809c-009a88b39d5a"
      },
      "source": [
        "def solution(dirs):\r\n",
        "    path = [] # ((출발, 도착)) 형태로 좌표 쌍을 묶어서 저장\r\n",
        "\r\n",
        "    maps = [[1]*11 for _ in range(11)]  # 이동 가능한 좌표 범위\r\n",
        "    start_x, start_y = 5, 5 # 중앙에서 시작\r\n",
        "\r\n",
        "    dirs = list(dirs)[::-1] # pop을 사용하기 위해 역순으로 배열\r\n",
        "\r\n",
        "    while dirs :\r\n",
        "        end_x, end_y = start_x, start_y\r\n",
        "\r\n",
        "        dir = dirs.pop()    # dir 하나씩 받아옴\r\n",
        "\r\n",
        "        if dir == 'D' and end_y+1 <= 10:    # 방향에 맞게 좌표 이동\r\n",
        "            end_y += 1\r\n",
        "\r\n",
        "        elif dir == 'U' and end_y-1 >= 0:\r\n",
        "            end_y -=1\r\n",
        "\r\n",
        "        elif dir == 'L' and end_x-1 >= 0:\r\n",
        "            end_x -= 1\r\n",
        "            \r\n",
        "        elif dir == 'R' and end_x+1 <= 10:\r\n",
        "            end_x += 1\r\n",
        "        # 점이 이동하지 않거나(이동 가능 범위를 초과하는 경우 움직이지 않음) 이미 지났던 길이 아닌 경우 경로에 추가\r\n",
        "        if [start_y, start_x] != [end_y, end_x] and ((start_y, start_x), (end_y, end_x)) not in path and ((end_y, end_x), (start_y, start_x)) not in path:\r\n",
        "            path.append(((start_y, start_x), (end_y, end_x)))   # ((출발점), (도착점))의 형태로 저장\r\n",
        "            \r\n",
        "        start_x, start_y = end_x, end_y # 점이 이동한 경우 다음 시작점으로 사용\r\n",
        "\r\n",
        "    return len(path)\r\n",
        "\r\n",
        "print(solution(\"ULURRDLLU\"), 7)\r\n",
        "print(solution(\"LULLLLLLU\"), 7)\r\n",
        "print(solution(\"UDU\"), 1)\r\n",
        "print(solution(\"\"), 0)\r\n",
        "print(solution(\"LRLRL\"), 1)\r\n",
        "print(solution(\"UUUUUUUUUUUUUUUUUUUUUUUUDDDDDDDDDDDDDDDDDDDDDDDDDDDDDDDDDDDDDDDDDDLLLLLLLLLLLLLLLLLLLLLLLLLLLLLLLLLLLLLLLLLLLLLRRRRRRRRRRRRRRRRRRRRRRRRRRRRRRRRRRRRRRRRRRRR\"), 20)"
      ],
      "execution_count": 125,
      "outputs": [
        {
          "output_type": "stream",
          "text": [
            "7 7\n",
            "7 7\n",
            "1 1\n",
            "0 0\n",
            "1 1\n",
            "20 20\n"
          ],
          "name": "stdout"
        }
      ]
    }
  ]
}