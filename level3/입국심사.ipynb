{
  "nbformat": 4,
  "nbformat_minor": 0,
  "metadata": {
    "colab": {
      "name": "입국심사.ipynb",
      "provenance": [],
      "collapsed_sections": [],
      "authorship_tag": "ABX9TyN5aSWZLmAA98pvK1GsGI1O",
      "include_colab_link": true
    },
    "kernelspec": {
      "name": "python3",
      "display_name": "Python 3"
    },
    "language_info": {
      "name": "python"
    }
  },
  "cells": [
    {
      "cell_type": "markdown",
      "metadata": {
        "id": "view-in-github",
        "colab_type": "text"
      },
      "source": [
        "<a href=\"https://colab.research.google.com/github/1cg2cg3cg/programmers/blob/main/level3/%EC%9E%85%EA%B5%AD%EC%8B%AC%EC%82%AC.ipynb\" target=\"_parent\"><img src=\"https://colab.research.google.com/assets/colab-badge.svg\" alt=\"Open In Colab\"/></a>"
      ]
    },
    {
      "cell_type": "code",
      "metadata": {
        "id": "vmma1KNBh_iz"
      },
      "source": [
        "# timeout 너무 정직한 풀이\n",
        "def solution(n, times):\n",
        "    \n",
        "    test_time = [0 for _ in range(len(times))]\n",
        "    test_num = [1 for _ in range(len(times))]\n",
        "    \n",
        "    while n > 0 :\n",
        "        for i in range(len(test_num)) :\n",
        "            test_time[i] = times[i] * test_num[i]\n",
        "\n",
        "        time = min(test_time)\n",
        "        index = test_time.index(time)\n",
        "\n",
        "        test_num[index] += 1\n",
        "        n -= 1\n",
        "    \n",
        "    return time\n",
        "\n",
        "print(solution(5, [2,2,2,2]), 4)\n",
        "print(solution(6, [7,10]), 28)\n",
        "print(solution(8, [2,3,7]), 9)\n",
        "print(solution(1, [1,2,2]))"
      ],
      "execution_count": null,
      "outputs": []
    },
    {
      "cell_type": "code",
      "metadata": {
        "id": "btzc4OqiiKFJ"
      },
      "source": [
        "# 이분탐색이라는 개념을 처음 접함.\n",
        "# 이분탐색의 키 포인트는 문제의 어떤 것을 타겟으로 설정해 탐색하느냐!\n",
        "# 효율적인 2 pointer 인 것 같다.\n",
        "\n",
        "def solution(n, times) :\n",
        "\n",
        "    max_time = max(times) * n\n",
        "    min_time = 1\n",
        "    i = 0\n",
        "    while min_time <= max_time :\n",
        "        if i > 50 :\n",
        "            break\n",
        "        i += 1    \n",
        "        pass_num = 0\n",
        "        mid_time = (max_time + min_time) // 2\n",
        "\n",
        "        for t in times :\n",
        "            pass_num += mid_time // t\n",
        "\n",
        "        if pass_num >= n :\n",
        "            answer = mid_time\n",
        "            max_time = mid_time -1\n",
        "\n",
        "        else :\n",
        "            min_time = mid_time + 1\n",
        "\n",
        "    return answer\n",
        "\n",
        "print(solution(6, [7, 10]), 28)"
      ],
      "execution_count": null,
      "outputs": []
    }
  ]
}