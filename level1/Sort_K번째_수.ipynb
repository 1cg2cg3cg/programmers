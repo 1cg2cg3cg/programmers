{
  "nbformat": 4,
  "nbformat_minor": 0,
  "metadata": {
    "colab": {
      "name": "K번째 수.ipynb",
      "provenance": [],
      "collapsed_sections": [],
      "authorship_tag": "ABX9TyN0s7gLP9+fNcz9cK42e+/p",
      "include_colab_link": true
    },
    "kernelspec": {
      "name": "python3",
      "display_name": "Python 3"
    }
  },
  "cells": [
    {
      "cell_type": "markdown",
      "metadata": {
        "id": "view-in-github",
        "colab_type": "text"
      },
      "source": [
        "<a href=\"https://colab.research.google.com/github/1cg2cg3cg/programmers/blob/main/SORT/K%EB%B2%88%EC%A7%B8_%EC%88%98.ipynb\" target=\"_parent\"><img src=\"https://colab.research.google.com/assets/colab-badge.svg\" alt=\"Open In Colab\"/></a>"
      ]
    },
    {
      "cell_type": "code",
      "metadata": {
        "id": "QPE6lwwUsG4B"
      },
      "source": [
        "def solution(array, commands):\r\n",
        "    answer = []\r\n",
        "    \r\n",
        "    for i in range(len(commands)) :\r\n",
        "        tmp = array.copy()\r\n",
        "        s = tmp[commands[i][0]-1:commands[i][1]]\r\n",
        "        s.sort()\r\n",
        "        answer.append(s[commands[i][2]-1])\r\n",
        "\r\n",
        "    return answer"
      ],
      "execution_count": null,
      "outputs": []
    }
  ]
}
