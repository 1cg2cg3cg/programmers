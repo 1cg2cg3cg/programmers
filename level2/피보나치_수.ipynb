{
  "nbformat": 4,
  "nbformat_minor": 0,
  "metadata": {
    "colab": {
      "name": "피보나치 수.ipynb",
      "provenance": [],
      "authorship_tag": "ABX9TyMi44ctdcVpyQOdK3iKqLH1",
      "include_colab_link": true
    },
    "kernelspec": {
      "name": "python3",
      "display_name": "Python 3"
    }
  },
  "cells": [
    {
      "cell_type": "markdown",
      "metadata": {
        "id": "view-in-github",
        "colab_type": "text"
      },
      "source": [
        "<a href=\"https://colab.research.google.com/github/1cg2cg3cg/programmers/blob/main/level2/%ED%94%BC%EB%B3%B4%EB%82%98%EC%B9%98_%EC%88%98.ipynb\" target=\"_parent\"><img src=\"https://colab.research.google.com/assets/colab-badge.svg\" alt=\"Open In Colab\"/></a>"
      ]
    },
    {
      "cell_type": "code",
      "metadata": {
        "id": "Z5-6fTdRXt1f"
      },
      "source": [
        "# brute force\r\n",
        "dp = [0, 1]\r\n",
        "def solution(n):\r\n",
        "    if n <= 1 :\r\n",
        "        return n\r\n",
        "    \r\n",
        "    return solution(n-1) + solution(n-2)\r\n",
        "\r\n",
        "print(solution(1))\r\n",
        "print(solution(2))\r\n",
        "print(solution(3))\r\n",
        "print(solution(4))\r\n",
        "print(solution(5))"
      ],
      "execution_count": null,
      "outputs": []
    },
    {
      "cell_type": "code",
      "metadata": {
        "colab": {
          "base_uri": "https://localhost:8080/"
        },
        "id": "bEeXAsBQeFBE",
        "outputId": "a4565f0f-81f5-4851-beb0-28e99af8e1b1"
      },
      "source": [
        "# brute force\r\n",
        "def solution(n) :\r\n",
        "    dp = [0, 1]\r\n",
        "\r\n",
        "    def fib(n) :\r\n",
        "        if n <= 1 :\r\n",
        "            return n\r\n",
        "        return fib(n-1) + fib (n-2)\r\n",
        "    \r\n",
        "    return fib(n) % 1234567\r\n",
        "\r\n",
        "print(solution(3), 2)\r\n",
        "print(solution(5), 5)"
      ],
      "execution_count": 17,
      "outputs": [
        {
          "output_type": "stream",
          "text": [
            "2 2\n",
            "5 5\n"
          ],
          "name": "stdout"
        }
      ]
    },
    {
      "cell_type": "code",
      "metadata": {
        "id": "hKd7EzXab9ZC"
      },
      "source": [
        "# memoization\r\n",
        "import collections\r\n",
        "dp = collections.defaultdict(int)\r\n",
        "\r\n",
        "def solution(n) :\r\n",
        "    if n <= 1 :\r\n",
        "        return n\r\n",
        "\r\n",
        "    if dp[n] :\r\n",
        "        return dp[n]\r\n",
        "    dp[n] = solution(n-1) + solution(n-2)\r\n",
        "    return dp[n]\r\n",
        "\r\n",
        "print(solution(1))\r\n",
        "print(solution(2))\r\n",
        "print(solution(3))\r\n",
        "print(solution(4))\r\n",
        "print(solution(5))"
      ],
      "execution_count": null,
      "outputs": []
    },
    {
      "cell_type": "code",
      "metadata": {
        "colab": {
          "base_uri": "https://localhost:8080/"
        },
        "id": "IlsYauaqeFjg",
        "outputId": "b4f4ed29-3c5e-406e-8116-c62b703e094c"
      },
      "source": [
        "# memoization\r\n",
        "import collections\r\n",
        "def solution(n) :\r\n",
        "    dp = collections.defaultdict(int)\r\n",
        "\r\n",
        "    def fib(n) :\r\n",
        "        if n <= 1 :\r\n",
        "            return n\r\n",
        "        if dp[n] :\r\n",
        "            return dp[n]\r\n",
        "        dp[n] = fib(n-1) + fib(n-2)\r\n",
        "        return dp[n]\r\n",
        "    \r\n",
        "    return fib(n) % 1234567\r\n",
        "\r\n",
        "print(solution(3), 2)\r\n",
        "print(solution(5), 5)"
      ],
      "execution_count": 20,
      "outputs": [
        {
          "output_type": "stream",
          "text": [
            "2 2\n",
            "5 5\n"
          ],
          "name": "stdout"
        }
      ]
    },
    {
      "cell_type": "code",
      "metadata": {
        "id": "lmuuO1G8ctdo"
      },
      "source": [
        "# tabulation\r\n",
        "import collections\r\n",
        "dp = collections.defaultdict(int)\r\n",
        "\r\n",
        "def solution(n) :\r\n",
        "    if n <= 1 :\r\n",
        "        return n\r\n",
        "\r\n",
        "    for i in range(2, n+1) :\r\n",
        "        dp[i] = solution(n-1) + solution(n-2)\r\n",
        "    \r\n",
        "    return dp[n]\r\n",
        "\r\n",
        "print(solution(1))\r\n",
        "print(solution(2))\r\n",
        "print(solution(3))\r\n",
        "print(solution(4))\r\n",
        "print(solution(5))"
      ],
      "execution_count": null,
      "outputs": []
    },
    {
      "cell_type": "code",
      "metadata": {
        "colab": {
          "base_uri": "https://localhost:8080/"
        },
        "id": "wctk4NSNeFy_",
        "outputId": "0bcbefe3-54dc-43e8-af75-1dea1bedda11"
      },
      "source": [
        "# tabulation\r\n",
        "import collections\r\n",
        "def solution(n) :\r\n",
        "    dp = collections.defaultdict(int)\r\n",
        "\r\n",
        "    def fib(n) :\r\n",
        "        if n <= 1 :\r\n",
        "            return n\r\n",
        "        \r\n",
        "        for i in range(2,n+1) :\r\n",
        "            dp[i] = fib(n-1) + fib(n-2)\r\n",
        "        \r\n",
        "        return dp[n]\r\n",
        "    \r\n",
        "    return fib(n) % 1234567\r\n",
        "\r\n",
        "print(solution(3), 2)\r\n",
        "print(solution(5), 5)"
      ],
      "execution_count": 21,
      "outputs": [
        {
          "output_type": "stream",
          "text": [
            "2 2\n",
            "5 5\n"
          ],
          "name": "stdout"
        }
      ]
    },
    {
      "cell_type": "code",
      "metadata": {
        "id": "yhf5UX8idA3V"
      },
      "source": [
        "# 두 변수 이용\r\n",
        "def solution(n) :\r\n",
        "    x, y = 0 , 1\r\n",
        "    \r\n",
        "    for _ in range(n) :\r\n",
        "        x, y = y, x+y\r\n",
        "\r\n",
        "    return x\r\n",
        "\r\n",
        "print(solution(1))\r\n",
        "print(solution(2))\r\n",
        "print(solution(3))\r\n",
        "print(solution(4))\r\n",
        "print(solution(5))"
      ],
      "execution_count": null,
      "outputs": []
    },
    {
      "cell_type": "code",
      "metadata": {
        "colab": {
          "base_uri": "https://localhost:8080/"
        },
        "id": "JDato2TWdMMw",
        "outputId": "bfab3cba-30c9-42b6-def0-dca8f5af7fce"
      },
      "source": [
        "# 두 변수 이용\r\n",
        "def solution(n) :\r\n",
        "\r\n",
        "    def fib(n) :\r\n",
        "        x, y = 0 , 1\r\n",
        "        \r\n",
        "        for _ in range(n) :\r\n",
        "            x, y = y, x+y\r\n",
        "\r\n",
        "        return x\r\n",
        "    \r\n",
        "    return fib(n) % 1234567\r\n",
        "\r\n",
        "print(solution(3), 2)\r\n",
        "print(solution(5), 5)"
      ],
      "execution_count": 16,
      "outputs": [
        {
          "output_type": "stream",
          "text": [
            "2 2\n",
            "5 5\n"
          ],
          "name": "stdout"
        }
      ]
    }
  ]
}