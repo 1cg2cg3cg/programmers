{
  "nbformat": 4,
  "nbformat_minor": 0,
  "metadata": {
    "colab": {
      "name": "소수 찾기.ipynb",
      "provenance": [],
      "collapsed_sections": [],
      "authorship_tag": "ABX9TyOZVJb3RrcRGE0MuOMiWkB0",
      "include_colab_link": true
    },
    "kernelspec": {
      "name": "python3",
      "display_name": "Python 3"
    }
  },
  "cells": [
    {
      "cell_type": "markdown",
      "metadata": {
        "id": "view-in-github",
        "colab_type": "text"
      },
      "source": [
        "<a href=\"https://colab.research.google.com/github/1cg2cg3cg/programmers/blob/main/level2/%EC%86%8C%EC%88%98_%EC%B0%BE%EA%B8%B0.ipynb\" target=\"_parent\"><img src=\"https://colab.research.google.com/assets/colab-badge.svg\" alt=\"Open In Colab\"/></a>"
      ]
    },
    {
      "cell_type": "code",
      "metadata": {
        "colab": {
          "base_uri": "https://localhost:8080/"
        },
        "id": "2e0zBcCn1st8",
        "outputId": "44bd3f0d-205e-4193-e13b-5821129f9b21"
      },
      "source": [
        "def solution(numbers):\r\n",
        "    answer = 0\r\n",
        "    results = []\r\n",
        "    prev_elements = []\r\n",
        "\r\n",
        "    def dfs(elements) :             # elements를 사용해 prev_elements, next_elements를 만들고\r\n",
        "        for e in elements :         # 재귀를 진행하면서 가능한 모든 조합을 results에 추가\r\n",
        "            next_elements = elements[:]\r\n",
        "            next_elements.remove(e)\r\n",
        "\r\n",
        "            prev_elements.append(e)\r\n",
        "            results.append(prev_elements[:])\r\n",
        "            dfs(next_elements)\r\n",
        "            prev_elements.pop()\r\n",
        "\r\n",
        "    dfs(list(numbers))\r\n",
        "\r\n",
        "    candidates = ['']*len(results)  # 조합되지 않은 숫자들을 하나로 합치기 위해 사용\r\n",
        "                                    # ex) ['1','7'] --> ['17']\r\n",
        "    for i in range(len(results)) :\r\n",
        "        for j in results[i] :\r\n",
        "            candidates[i] += j\r\n",
        "    \r\n",
        "    set_candidates = set()          # int를 사용해 0이 가장 앞에 등장하는 경우 제거\r\n",
        "    for i in candidates :           # set type으로 선언해 중복되는 숫자 제거\r\n",
        "        set_candidates.add(int(i))\r\n",
        "    \r\n",
        "    if 0 in set_candidates :        # 0으로 시작하는 숫자 및 중복 숫자 제거 후\r\n",
        "        set_candidates.remove(0)    # 소수가 될 수 없는 0과 1이 있는 경우 제거\r\n",
        "    if 1 in set_candidates :\r\n",
        "        set_candidates.remove(1)\r\n",
        "\r\n",
        "    for i in set_candidates :       # 소수 판별\r\n",
        "        for j in range(2, int(i)) : # int(i)를 int(i) / 2 혹은 math.sqrt(int(i)) 로 바꾸면 성능 향상\r\n",
        "            if int(i) % j == 0 :\r\n",
        "                break\r\n",
        "        else :\r\n",
        "            answer += 1\r\n",
        "    \r\n",
        "    return answer\r\n",
        "\r\n",
        "print(solution(\"17\"), '\\t 3')\r\n",
        "print(solution(\"011\"), '\\t 2')"
      ],
      "execution_count": 77,
      "outputs": [
        {
          "output_type": "stream",
          "text": [
            "3 \t 3\n",
            "2 \t 2\n"
          ],
          "name": "stdout"
        }
      ]
    },
    {
      "cell_type": "markdown",
      "metadata": {
        "id": "H5t2jvGXBObI"
      },
      "source": [
        "어떤 자연수 n이 소수임을 판정하기 위해서 |√n|까지만 진행하면 되는데, 수가 수를 나누기 위해서는 그 몫이 항상 필요하며 나누는 수와 몫 중 어느 하나는 반드시 √n 이하이기 때문이다\r\n",
        "\r\n",
        "- Wiki"
      ]
    }
  ]
}