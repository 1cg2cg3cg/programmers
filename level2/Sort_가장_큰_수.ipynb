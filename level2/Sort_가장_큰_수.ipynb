{
  "nbformat": 4,
  "nbformat_minor": 0,
  "metadata": {
    "colab": {
      "name": "가장 큰 수.ipynb",
      "provenance": [],
      "collapsed_sections": [],
      "authorship_tag": "ABX9TyP9+rGvHaVmBHMIpf6BjQT6",
      "include_colab_link": true
    },
    "kernelspec": {
      "name": "python3",
      "display_name": "Python 3"
    }
  },
  "cells": [
    {
      "cell_type": "markdown",
      "metadata": {
        "id": "view-in-github",
        "colab_type": "text"
      },
      "source": [
        "<a href=\"https://colab.research.google.com/github/1cg2cg3cg/programmers/blob/main/SORT/%EA%B0%80%EC%9E%A5_%ED%81%B0_%EC%88%98.ipynb\" target=\"_parent\"><img src=\"https://colab.research.google.com/assets/colab-badge.svg\" alt=\"Open In Colab\"/></a>"
      ]
    },
    {
      "cell_type": "code",
      "metadata": {
        "id": "MN9rUJTysk5h"
      },
      "source": [
        "def solution(numbers):\r\n",
        "    answer = ''\r\n",
        "\r\n",
        "    for i in range(len(numbers)) :\r\n",
        "        numbers[i] = str(numbers[i])\r\n",
        "\r\n",
        "    numbers.sort(reverse = True)\r\n",
        "    \r\n",
        "    if int(numbers[0]) == 0 :\r\n",
        "        return '0'\r\n",
        "        \r\n",
        "    k = 1\r\n",
        "    while k <= len(numbers)-1 :\r\n",
        "\r\n",
        "        if numbers[k-1] + numbers[k] < numbers[k] + numbers[k-1] :\r\n",
        "            numbers[k-1], numbers[k] = numbers[k], numbers[k-1]\r\n",
        "            \r\n",
        "            k -=2\r\n",
        "            \r\n",
        "        if k < 0 :\r\n",
        "            k = 0\r\n",
        "        \r\n",
        "        k += 1\r\n",
        "    \r\n",
        "    for i in range(len(numbers)):\r\n",
        "        answer = answer + numbers[i]\r\n",
        "    \r\n",
        "    return answer"
      ],
      "execution_count": null,
      "outputs": []
    }
  ]
}
