{
  "nbformat": 4,
  "nbformat_minor": 0,
  "metadata": {
    "colab": {
      "name": "이상항 문자 만들기.ipynb",
      "provenance": [],
      "collapsed_sections": [],
      "authorship_tag": "ABX9TyMDPfBiZ0F9f/2TdBXPy+Ht",
      "include_colab_link": true
    },
    "kernelspec": {
      "name": "python3",
      "display_name": "Python 3"
    }
  },
  "cells": [
    {
      "cell_type": "markdown",
      "metadata": {
        "id": "view-in-github",
        "colab_type": "text"
      },
      "source": [
        "<a href=\"https://colab.research.google.com/github/1cg2cg3cg/programmers/blob/main/level1/%EC%9D%B4%EC%83%81%ED%95%AD_%EB%AC%B8%EC%9E%90_%EB%A7%8C%EB%93%A4%EA%B8%B0.ipynb\" target=\"_parent\"><img src=\"https://colab.research.google.com/assets/colab-badge.svg\" alt=\"Open In Colab\"/></a>"
      ]
    },
    {
      "cell_type": "code",
      "metadata": {
        "colab": {
          "base_uri": "https://localhost:8080/"
        },
        "id": "2mgLAizcU7wy",
        "outputId": "d6d7c418-7ff3-469e-d973-808f33ea36c8"
      },
      "source": [
        "def solution(s):\r\n",
        "    answer = ''\r\n",
        "    cnt = 0 # 글자의 순서(홀,짝) 판별용\r\n",
        "    for i in range(len(s)) :\r\n",
        "        if s[i] == ' ':\r\n",
        "            answer += ' '\r\n",
        "            cnt = 0 # 공백을 만나면, 카운트 초기화\r\n",
        "        elif cnt % 2 == 0 :\r\n",
        "            answer += s[i].upper()\r\n",
        "            cnt += 1\r\n",
        "        else :\r\n",
        "            answer += s[i].lower()\r\n",
        "            cnt += 1\r\n",
        "\r\n",
        "    return answer\r\n",
        "\r\n",
        "print(solution(\"try hello world\"), '\\t TrY HeLlO WoRlD')\r\n",
        "print(solution(\"  a\"), '\\t   A')"
      ],
      "execution_count": 28,
      "outputs": [
        {
          "output_type": "stream",
          "text": [
            "TrY HeLlO WoRlD \t TrY HeLlO WoRlD\n",
            "  A \t   A\n"
          ],
          "name": "stdout"
        }
      ]
    }
  ]
}