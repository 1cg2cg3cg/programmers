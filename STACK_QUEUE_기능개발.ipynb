{
  "nbformat": 4,
  "nbformat_minor": 0,
  "metadata": {
    "colab": {
      "name": "STACK/QUEUE - 기능개발.ipynb",
      "provenance": [],
      "collapsed_sections": [],
      "authorship_tag": "ABX9TyMbR0imqfKCAQLdG09NQ/r4",
      "include_colab_link": true
    },
    "kernelspec": {
      "name": "python3",
      "display_name": "Python 3"
    }
  },
  "cells": [
    {
      "cell_type": "markdown",
      "metadata": {
        "id": "view-in-github",
        "colab_type": "text"
      },
      "source": [
        "<a href=\"https://colab.research.google.com/github/1cg2cg3cg/programmers/blob/main/STACK_QUEUE_%EA%B8%B0%EB%8A%A5%EA%B0%9C%EB%B0%9C.ipynb\" target=\"_parent\"><img src=\"https://colab.research.google.com/assets/colab-badge.svg\" alt=\"Open In Colab\"/></a>"
      ]
    },
    {
      "cell_type": "code",
      "metadata": {
        "id": "hhxGJR7qLG60"
      },
      "source": [
        "import math\r\n",
        "\r\n",
        "def solution(progresses, speeds):\r\n",
        "\r\n",
        "    answer = []\r\n",
        "    days = []\r\n",
        "\r\n",
        "    for i, j in zip(progresses, speeds) :\r\n",
        "        days.append(math.ceil((100-i)/j))\r\n",
        "\r\n",
        "    if len(days) == 1 :\r\n",
        "        return [1]\r\n",
        "\r\n",
        "    start = 0\r\n",
        "    for i in range(len(days)) :\r\n",
        "        if days[i] > days[start] :\r\n",
        "            answer.append(i - start)\r\n",
        "            start = i\r\n",
        "    answer.append(len(days) - start)\r\n",
        "\r\n",
        "    return answer\r\n",
        "\r\n",
        "progresses = [93, 30, 55]\r\n",
        "speeds = [1, 30, 5]\r\n",
        "\r\n",
        "#progresses = [95, 90, 99, 99, 80, 99]\r\n",
        "#speeds = [1, 1, 1, 1, 1, 1]\r\n",
        "\r\n",
        "print(solution(progresses, speeds))"
      ],
      "execution_count": null,
      "outputs": []
    }
  ]
}