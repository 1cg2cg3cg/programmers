{
  "nbformat": 4,
  "nbformat_minor": 0,
  "metadata": {
    "colab": {
      "name": "영어 끝말잇기.ipynb",
      "provenance": [],
      "authorship_tag": "ABX9TyNa4qCUG5qlx0j7POlezdbV",
      "include_colab_link": true
    },
    "kernelspec": {
      "name": "python3",
      "display_name": "Python 3"
    }
  },
  "cells": [
    {
      "cell_type": "markdown",
      "metadata": {
        "id": "view-in-github",
        "colab_type": "text"
      },
      "source": [
        "<a href=\"https://colab.research.google.com/github/1cg2cg3cg/programmers/blob/main/level2/%EC%98%81%EC%96%B4_%EB%81%9D%EB%A7%90%EC%9E%87%EA%B8%B0.ipynb\" target=\"_parent\"><img src=\"https://colab.research.google.com/assets/colab-badge.svg\" alt=\"Open In Colab\"/></a>"
      ]
    },
    {
      "cell_type": "code",
      "metadata": {
        "colab": {
          "base_uri": "https://localhost:8080/"
        },
        "id": "SCNEElWZwtVw",
        "outputId": "50b3324c-4193-492e-92ec-7c7dc0793cba"
      },
      "source": [
        "def solution(n, words):\r\n",
        "    stack = []\r\n",
        "    for i, word in enumerate(words) :\r\n",
        "        if not stack :  # stack이 비어있는 경우 word 추가 (맨 처음 시작)\r\n",
        "            stack.append(word)\r\n",
        "            continue\r\n",
        "        \r\n",
        "        if word in stack or stack[-1][-1] != word[0] : # 끝말이 이어지지 않거나 단어가 중복되는 경우\r\n",
        "            return [i%n+1, i//n+1]\r\n",
        "        else :\r\n",
        "            stack.append(word)\r\n",
        "        \r\n",
        "    return [0,0]\r\n",
        "\r\n",
        "print(solution(3, [\"tank\", \"kick\", \"know\", \"wheel\", \"land\", \"dream\", \"mother\", \"robot\", \"tank\"]), [3,3])\r\n",
        "print(solution(5, [\"hello\", \"observe\", \"effect\", \"take\", \"either\", \"recognize\", \"encourage\", \"ensure\", \"establish\", \"hang\", \"gather\", \"refer\", \"reference\", \"estimate\", \"executive\"]), [0,0])\r\n",
        "print(solution(2, [\"hello\", \"one\", \"even\", \"never\", \"now\", \"world\", \"draw\"]), [1,3])"
      ],
      "execution_count": 7,
      "outputs": [
        {
          "output_type": "stream",
          "text": [
            "[3, 3] [3, 3]\n",
            "[0, 0] [0, 0]\n",
            "[1, 3] [1, 3]\n"
          ],
          "name": "stdout"
        }
      ]
    }
  ]
}