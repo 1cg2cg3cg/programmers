{
  "nbformat": 4,
  "nbformat_minor": 0,
  "metadata": {
    "colab": {
      "name": "나누어 떨어지는 숫자 배열.ipynb",
      "provenance": [],
      "collapsed_sections": [],
      "authorship_tag": "ABX9TyP0fCco8vVm7GjcSpOHJlWC",
      "include_colab_link": true
    },
    "kernelspec": {
      "name": "python3",
      "display_name": "Python 3"
    }
  },
  "cells": [
    {
      "cell_type": "markdown",
      "metadata": {
        "id": "view-in-github",
        "colab_type": "text"
      },
      "source": [
        "<a href=\"https://colab.research.google.com/github/1cg2cg3cg/programmers/blob/main/%EB%82%98%EB%88%84%EC%96%B4_%EB%96%A8%EC%96%B4%EC%A7%80%EB%8A%94_%EC%88%AB%EC%9E%90_%EB%B0%B0%EC%97%B4.ipynb\" target=\"_parent\"><img src=\"https://colab.research.google.com/assets/colab-badge.svg\" alt=\"Open In Colab\"/></a>"
      ]
    },
    {
      "cell_type": "code",
      "metadata": {
        "id": "QqqXzBE_EJsH",
        "colab": {
          "base_uri": "https://localhost:8080/"
        },
        "outputId": "520b33bb-0fb4-4c57-937a-8b1befd60582"
      },
      "source": [
        "def solution(arr, divisor):\r\n",
        "    answer = []\r\n",
        "    \r\n",
        "    for i in range(len(arr)) :\r\n",
        "        if arr[i] % divisor == 0 :\r\n",
        "            answer.append(arr[i])\r\n",
        "\r\n",
        "    if not answer :\r\n",
        "        return [-1]\r\n",
        "\r\n",
        "    answer.sort()\r\n",
        "\r\n",
        "    return answer\r\n",
        "\r\n",
        "print(solution([5,9,7,10], 5), '\\t [5,10]')\r\n",
        "print(solution([2,36,1,3], 1), '\\t [1,2,3,36]')\r\n",
        "print(solution([3,2,6], 10), '\\t [-1]')"
      ],
      "execution_count": 6,
      "outputs": [
        {
          "output_type": "stream",
          "text": [
            "[5, 10] \t [5,10]\n",
            "[1, 2, 3, 36] \t [1,2,3,36]\n",
            "[-1] \t [-1]\n"
          ],
          "name": "stdout"
        }
      ]
    }
  ]
}
