{
  "nbformat": 4,
  "nbformat_minor": 0,
  "metadata": {
    "colab": {
      "name": "다트 게임.ipynb",
      "provenance": [],
      "collapsed_sections": [],
      "authorship_tag": "ABX9TyOuPFl0ufMB75QROZKT+ikz",
      "include_colab_link": true
    },
    "kernelspec": {
      "name": "python3",
      "display_name": "Python 3"
    }
  },
  "cells": [
    {
      "cell_type": "markdown",
      "metadata": {
        "id": "view-in-github",
        "colab_type": "text"
      },
      "source": [
        "<a href=\"https://colab.research.google.com/github/1cg2cg3cg/programmers/blob/main/level1/%EB%8B%A4%ED%8A%B8_%EA%B2%8C%EC%9E%84.ipynb\" target=\"_parent\"><img src=\"https://colab.research.google.com/assets/colab-badge.svg\" alt=\"Open In Colab\"/></a>"
      ]
    },
    {
      "cell_type": "code",
      "metadata": {
        "colab": {
          "base_uri": "https://localhost:8080/"
        },
        "id": "2pu4d7Gjc3rD",
        "outputId": "21881c5d-553c-4212-95ac-47fd88113339"
      },
      "source": [
        "def solution(dartResult):\r\n",
        "    dartResult = list(dartResult) # 문자열 작업을 위해 list로 변환\r\n",
        "    dart = ['', '', ''] # 3번의 기회이므로 3칸 필요\r\n",
        "    scores = [0, 0, 0]  # 3번의 기회이므로 3칸 필요\r\n",
        "    index = 0           # 다트를 던진 3번의 점수, 보너스, 옵션끼리 묶기 위해 사용\r\n",
        "    \r\n",
        "    while dartResult :  # 다트를 던진 3번의 점수, 보너스, 옵션끼리 묶기\r\n",
        "        v = dartResult.pop(0)   \r\n",
        "        \r\n",
        "        if v == '*' or v == '#' :   # * 또는 # 등장 시 앞에 던진 옵션으로 처리\r\n",
        "            dart[index-1] += v\r\n",
        "            continue\r\n",
        "\r\n",
        "        dart[index] += v\r\n",
        "\r\n",
        "        if v.isalpha() :    # 알파벳(보너스) 나오면 index 증가\r\n",
        "            index += 1    \r\n",
        "    \r\n",
        "    for i in range(len(dart)) :\r\n",
        "        for j in range(len(dart[i])) :\r\n",
        "            if dart[i][j].isalpha() :   # 각 회차별 점수,보너스,옵션으로 분리된 dart 변수에서 알파벳을 기준으로\r\n",
        "                if 'D' == dart[i][j] :  # 점수(숫자)와 보너스에 해당하는 점수를 scores 변수에 저장\r\n",
        "                    scores[i] = int(dart[i][:j])**2\r\n",
        "                elif 'T' == dart[i][j] :\r\n",
        "                    scores[i] = int(dart[i][:j])**3\r\n",
        "                else :\r\n",
        "                    scores[i] = int(dart[i][:j])\r\n",
        "\r\n",
        "    for i in range(len(scores)) :   # 스타상(*)과 아차상(#)의 옵션 적용\r\n",
        "        if '*' in dart[i] :\r\n",
        "            if i > 0 :\r\n",
        "                scores[i-1] *= 2\r\n",
        "            scores[i] *= 2\r\n",
        "\r\n",
        "        if '#' in dart[i] :\r\n",
        "            scores[i] *= -1\r\n",
        "\r\n",
        "    return sum(scores)\r\n",
        "\r\n",
        "print(solution('1S2D*3T'), '\\t 37')\r\n",
        "print(solution('1D2S#10S'), '\\t 9')"
      ],
      "execution_count": 61,
      "outputs": [
        {
          "output_type": "stream",
          "text": [
            "37 \t 37\n",
            "9 \t 9\n"
          ],
          "name": "stdout"
        }
      ]
    }
  ]
}