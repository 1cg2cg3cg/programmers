{
  "nbformat": 4,
  "nbformat_minor": 0,
  "metadata": {
    "colab": {
      "name": "네트워크.ipynb",
      "provenance": [],
      "authorship_tag": "ABX9TyN/YKKIJxq/KNMSz0SG/Pot",
      "include_colab_link": true
    },
    "kernelspec": {
      "name": "python3",
      "display_name": "Python 3"
    },
    "language_info": {
      "name": "python"
    }
  },
  "cells": [
    {
      "cell_type": "markdown",
      "metadata": {
        "id": "view-in-github",
        "colab_type": "text"
      },
      "source": [
        "<a href=\"https://colab.research.google.com/github/1cg2cg3cg/programmers/blob/main/unresolved/%EB%84%A4%ED%8A%B8%EC%9B%8C%ED%81%AC.ipynb\" target=\"_parent\"><img src=\"https://colab.research.google.com/assets/colab-badge.svg\" alt=\"Open In Colab\"/></a>"
      ]
    },
    {
      "cell_type": "code",
      "metadata": {
        "colab": {
          "base_uri": "https://localhost:8080/"
        },
        "id": "Ynox3CL8EE6W",
        "outputId": "7ec0d0dc-f45b-43b6-f1ac-fe366b3d0bbc"
      },
      "source": [
        "def solution(n, computers) :\n",
        "    \n",
        "    answer = set()\n",
        "    discovered = []\n",
        "\n",
        "    def dfs(node, discovered) :\n",
        "\n",
        "        for i in range(n) :\n",
        "            if i == node :\n",
        "                continue\n",
        "\n",
        "            if computers[node][i] == 1 :\n",
        "                if i not in discovered :\n",
        "                    discovered.append(i)\n",
        "                \n",
        "                    print(i, discovered, computers[node])\n",
        "                    dfs(i, discovered)\n",
        "                \n",
        "        \n",
        "        answer.add(tuple(sorted(discovered)))\n",
        "        print(answer, node)\n",
        "        return \n",
        "\n",
        "    for i in range(n) :\n",
        "        dfs(i, [])\n",
        "    \n",
        "    print(answer)\n",
        "    return len(answer)\n",
        "\n",
        "#print(solution(3, [[1, 1, 0], [1, 1, 0], [0, 0, 1]]), 2)\n",
        "#print(solution(3, [[1, 1, 0], [1, 1, 1], [0, 1, 1]]), 1)\n",
        "print(solution(4, [[1,1,1,0], [1,1,0,0], [1,0,1,0], [0,0,0,1]]), 2)\n",
        "#print(solution(4, [[1,1,1,0], [1,1,0,0], [1,0,1,1], [0,0,1,1]]), 1)\n",
        "#print(solution(3, [[1,0,0], [0,1,0], [0,0,1]]), 3)"
      ],
      "execution_count": 67,
      "outputs": [
        {
          "output_type": "stream",
          "text": [
            "1 [1] [1, 1, 1, 0]\n",
            "0 [1, 0] [1, 1, 0, 0]\n",
            "2 [1, 0, 2] [1, 1, 1, 0]\n",
            "{(0, 1, 2)} 2\n",
            "{(0, 1, 2)} 0\n",
            "{(0, 1, 2)} 1\n",
            "{(0, 1, 2)} 0\n",
            "0 [0] [1, 1, 0, 0]\n",
            "1 [0, 1] [1, 1, 1, 0]\n",
            "{(0, 1, 2), (0, 1)} 1\n",
            "2 [0, 1, 2] [1, 1, 1, 0]\n",
            "{(0, 1, 2), (0, 1)} 2\n",
            "{(0, 1, 2), (0, 1)} 0\n",
            "{(0, 1, 2), (0, 1)} 1\n",
            "0 [0] [1, 0, 1, 0]\n",
            "1 [0, 1] [1, 1, 1, 0]\n",
            "{(0, 1, 2), (0, 1)} 1\n",
            "2 [0, 1, 2] [1, 1, 1, 0]\n",
            "{(0, 1, 2), (0, 1)} 2\n",
            "{(0, 1, 2), (0, 1)} 0\n",
            "{(0, 1, 2), (0, 1)} 2\n",
            "{(0, 1, 2), (), (0, 1)} 3\n",
            "{(0, 1, 2), (), (0, 1)}\n",
            "3 2\n"
          ],
          "name": "stdout"
        }
      ]
    }
  ]
}