{
  "nbformat": 4,
  "nbformat_minor": 0,
  "metadata": {
    "colab": {
      "name": "이진 변환 반복하기.ipynb",
      "provenance": [],
      "collapsed_sections": [],
      "authorship_tag": "ABX9TyN8MYaf3W0hT3L+cMV3mX9+",
      "include_colab_link": true
    },
    "kernelspec": {
      "name": "python3",
      "display_name": "Python 3"
    }
  },
  "cells": [
    {
      "cell_type": "markdown",
      "metadata": {
        "id": "view-in-github",
        "colab_type": "text"
      },
      "source": [
        "<a href=\"https://colab.research.google.com/github/1cg2cg3cg/programmers/blob/main/level2/%EC%9D%B4%EC%A7%84_%EB%B3%80%ED%99%98_%EB%B0%98%EB%B3%B5%ED%95%98%EA%B8%B0.ipynb\" target=\"_parent\"><img src=\"https://colab.research.google.com/assets/colab-badge.svg\" alt=\"Open In Colab\"/></a>"
      ]
    },
    {
      "cell_type": "code",
      "metadata": {
        "colab": {
          "base_uri": "https://localhost:8080/"
        },
        "id": "DNPPxcRdCA1J",
        "outputId": "6f1b5b86-620f-42c9-e89f-bbc00c93f6cc"
      },
      "source": [
        "def solution(s):\r\n",
        "    def binary(n) :\r\n",
        "        if n == 1 :\r\n",
        "            return '1'\r\n",
        "\r\n",
        "        q, r = divmod(n, 2)\r\n",
        "        return binary(q) + str(r)\r\n",
        "\r\n",
        "    if s == '1' :   # 이진 변환하지 않는 경우\r\n",
        "        return [0, 0]\r\n",
        "\r\n",
        "    answer = [1, 0] # 최초 이진 변환\r\n",
        "    cnt = s.count('1')  # 0을 제거하는 대신 count를 통해 1의 개수 사용\r\n",
        "\r\n",
        "    answer[1] += s.count('0') # 제거한 0의 개수 == 0의 개수\r\n",
        "\r\n",
        "    while cnt != 1 :\r\n",
        "        answer[0] += 1\r\n",
        "\r\n",
        "        b = binary(cnt)\r\n",
        "        cnt = b.count('1')\r\n",
        "\r\n",
        "        answer[1] += b.count('0')\r\n",
        "\r\n",
        "    return answer\r\n",
        "\r\n",
        "print(solution(\"110010101001\"), [3,8])\r\n",
        "print(solution(\"01110\"), [3,3])\r\n",
        "print(solution(\"1111111\"), [4,1])"
      ],
      "execution_count": 13,
      "outputs": [
        {
          "output_type": "stream",
          "text": [
            "[3, 8] [3, 8]\n",
            "[3, 3] [3, 3]\n",
            "[4, 1] [4, 1]\n"
          ],
          "name": "stdout"
        }
      ]
    }
  ]
}