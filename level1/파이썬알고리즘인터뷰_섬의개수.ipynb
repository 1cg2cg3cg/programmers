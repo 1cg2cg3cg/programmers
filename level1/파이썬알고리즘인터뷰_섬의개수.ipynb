{
  "nbformat": 4,
  "nbformat_minor": 0,
  "metadata": {
    "colab": {
      "name": "섬의 개수 참고자료.ipynb",
      "provenance": [],
      "authorship_tag": "ABX9TyO3KtST+YTBwnAyElVTDtLT",
      "include_colab_link": true
    },
    "kernelspec": {
      "name": "python3",
      "display_name": "Python 3"
    }
  },
  "cells": [
    {
      "cell_type": "markdown",
      "metadata": {
        "id": "view-in-github",
        "colab_type": "text"
      },
      "source": [
        "<a href=\"https://colab.research.google.com/github/1cg2cg3cg/programmers/blob/main/%ED%8C%8C%EC%9D%B4%EC%8D%AC%EC%95%8C%EA%B3%A0%EB%A6%AC%EC%A6%98%EC%9D%B8%ED%84%B0%EB%B7%B0_%EC%84%AC%EC%9D%98%EA%B0%9C%EC%88%98.ipynb\" target=\"_parent\"><img src=\"https://colab.research.google.com/assets/colab-badge.svg\" alt=\"Open In Colab\"/></a>"
      ]
    },
    {
      "cell_type": "code",
      "metadata": {
        "colab": {
          "base_uri": "https://localhost:8080/"
        },
        "id": "CApRoRq5gvbS",
        "outputId": "a3c490b7-36cd-4068-d53c-87255f3710e1"
      },
      "source": [
        "import collections\r\n",
        "\r\n",
        "def dfs(grid, i, j) :\r\n",
        "\r\n",
        "    if i < 0 or i >= len(grid) or j < 0 or j >= len(grid[0]) or grid[i][j] != 1 :\r\n",
        "        return\r\n",
        "\r\n",
        "    grid[i][j] = 0\r\n",
        "\r\n",
        "    dfs(grid, i+1, j)\r\n",
        "    dfs(grid, i-1, j)\r\n",
        "    dfs(grid, i, j+1)\r\n",
        "    dfs(grid, i, j-1)\r\n",
        "\r\n",
        "def solution(n, computers):\r\n",
        "    answer = 0\r\n",
        "\r\n",
        "    if not computers :\r\n",
        "        return 0\r\n",
        "\r\n",
        "    for i in range(len(computers)) :\r\n",
        "        if sum(computers[i]) == 0 :\r\n",
        "            answer +=1\r\n",
        "\r\n",
        "    for i in range(len(computers)) :            \r\n",
        "        for j in range(len(computers[0])) :\r\n",
        "            if computers[i][j] == 1 :\r\n",
        "                dfs(computers, i, j)\r\n",
        "\r\n",
        "                answer +=1\r\n",
        "                \r\n",
        "    return answer\r\n",
        "\r\n",
        "\r\n",
        "print(solution(3, [[1, 1, 0], [1, 1, 0], [0, 0, 1]]), '\\t\\t 2')\r\n",
        "print(solution(3, [[1, 1, 0], [1, 1, 1], [0, 1, 1]]), '\\t\\t 1')\r\n",
        "print(solution(3, [[0, 0, 0], [0, 1, 1], [0, 1, 1]]), '\\t\\t 2')\r\n",
        "print(solution(3, [[1, 1, 1], [1, 1, 1], [1, 1, 1]]), '\\t\\t 1')"
      ],
      "execution_count": 67,
      "outputs": [
        {
          "output_type": "stream",
          "text": [
            "2 \t\t 2\n",
            "1 \t\t 1\n",
            "2 \t\t 2\n",
            "1 \t\t 1\n"
          ],
          "name": "stdout"
        }
      ]
    }
  ]
}
