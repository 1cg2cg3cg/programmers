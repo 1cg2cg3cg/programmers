{
  "nbformat": 4,
  "nbformat_minor": 0,
  "metadata": {
    "colab": {
      "name": "모의고사.ipynb",
      "provenance": [],
      "collapsed_sections": [],
      "authorship_tag": "ABX9TyN2+mhP3PxtMWbG4Jur/+jt",
      "include_colab_link": true
    },
    "kernelspec": {
      "name": "python3",
      "display_name": "Python 3"
    }
  },
  "cells": [
    {
      "cell_type": "markdown",
      "metadata": {
        "id": "view-in-github",
        "colab_type": "text"
      },
      "source": [
        "<a href=\"https://colab.research.google.com/github/1cg2cg3cg/programmers/blob/main/level1/%EB%AA%A8%EC%9D%98%EA%B3%A0%EC%82%AC.ipynb\" target=\"_parent\"><img src=\"https://colab.research.google.com/assets/colab-badge.svg\" alt=\"Open In Colab\"/></a>"
      ]
    },
    {
      "cell_type": "code",
      "metadata": {
        "id": "yKsLvOFskLAs"
      },
      "source": [
        "def solution(answers):\n",
        "    answer = []\n",
        "    scores = [0,0,0]\n",
        "\n",
        "    s0 = [1,2,3,4,5]\n",
        "    s1 = [2,1,2,3,2,4,2,5]\n",
        "    s2 = [3,3,1,1,2,2,4,4,5,5]\n",
        "\n",
        "    for i in range(len(answers)) :      # grading\n",
        "        if answers[i] == s0[i%len(s0)] :\n",
        "            scores[0] += 1\n",
        "        if answers[i] == s1[i%len(s1)] :\n",
        "            scores[1] += 1\n",
        "        if answers[i] == s2[i%len(s2)] :\n",
        "            scores[2] += 1\n",
        "\n",
        "    max_val = max(scores)   # max score\n",
        "\n",
        "    if scores.count(max_val) > 1 : # if there is(are) tie score student(s)\n",
        "        for i in range(len(scores)) :\n",
        "            if scores[i] == max_val :\n",
        "                answer.append(i+1)\n",
        "    else :\n",
        "        return [scores.index(max_val)+1]\n",
        "\n",
        "    return answer"
      ],
      "execution_count": null,
      "outputs": []
    },
    {
      "cell_type": "code",
      "metadata": {
        "colab": {
          "base_uri": "https://localhost:8080/"
        },
        "id": "ytvEPs6scrvT",
        "outputId": "8404e3c1-905b-4084-ebd9-0965357e0efe"
      },
      "source": [
        "from math import ceil\n",
        "\n",
        "def solution(answers):\n",
        "    answer = [0] * 3\n",
        "\n",
        "    s0 = [1,2,3,4,5]\n",
        "    s1 = [2,1,2,3,2,4,2,5]\n",
        "    s2 = [3,3,1,1,2,2,4,4,5,5]\n",
        "\n",
        "    if len(answers) > len(s0) :                 # 수포자의 답안지길이가 정답 길이보다 작은경우, 정답보다 크게 늘림\n",
        "        s0 = s0 * ceil(len(answers) / len(s0))\n",
        "\n",
        "    if len(answers) > len(s1) :\n",
        "        s1 = s1 * ceil(len(answers) / len(s1))\n",
        "        \n",
        "    if len(answers) > len(s2) :\n",
        "        s2 = s2 * ceil(len(answers) / len(s2))\n",
        "\n",
        "    for i in range(len(answers)) :      #정답과 수포자의 답을 비교해 변수 answer에 저장\n",
        "        if s0[i] == answers[i] :\n",
        "            answer[0] += 1\n",
        "        if s1[i] == answers[i] :\n",
        "            answer[1] += 1\n",
        "        if s2[i] == answers[i] :\n",
        "            answer[2] += 1\n",
        "\n",
        "    result = []\n",
        "    for i, j in enumerate(answer) :     # 정답 개수와 index 저장\n",
        "        result.append([i, j])\n",
        "    \n",
        "    max_val = max(result, key = lambda x : x[1])[1] # 최고 득점값\n",
        "    \n",
        "    o = []\n",
        "    for i in range(len(answer)) :   #최고 득점과 같은 값을 갖는 index를 변수 o에 저장\n",
        "        if answer[i] == max_val :\n",
        "            o.append(i+1)\n",
        "\n",
        "    return o\n",
        "\n",
        "print(solution([1,2,3,4,5]), '\\t [1]')\n",
        "print(solution([1,3,2,4,2]), '\\t [1,2,3]')\n",
        "print(solution([3,1,1,1]), '\\t [3]')"
      ],
      "execution_count": null,
      "outputs": [
        {
          "output_type": "stream",
          "text": [
            "[1] \t [1]\n",
            "[1, 2, 3] \t [1,2,3]\n",
            "[3] \t [3]\n"
          ],
          "name": "stdout"
        }
      ]
    },
    {
      "cell_type": "code",
      "metadata": {
        "colab": {
          "base_uri": "https://localhost:8080/"
        },
        "id": "KvwvqSec5cDk",
        "outputId": "926dc323-a5bd-4f21-bf27-2d8c821260f8"
      },
      "source": [
        "def solution(answers):\n",
        "    answer = [0] * 3\n",
        "    tmep = [0] * 3\n",
        "\n",
        "    s0 = [1,2,3,4,5]\n",
        "    s1 = [2,1,2,3,2,4,2,5]\n",
        "    s2 = [3,3,1,1,2,2,4,4,5,5]\n",
        "\n",
        "    for i in range(len(answers)) :      # mod연산을 활용해 수포자의 답이 짧은 경우에도 늘리지 않고 비교\n",
        "        if answers[i] == s0[i%len(s0)] :# temp 변수에 맞춘 개수 저장\n",
        "            tmep[0] += 1\n",
        "        if answers[i] == s1[i%len(s1)] :\n",
        "            tmep[1] += 1\n",
        "        if answers[i] == s2[i%len(s2)] :\n",
        "            tmep[2] += 1\n",
        "\n",
        "    max_val = max(tmep)     # 최고득점\n",
        "\n",
        "    for i in range(len(tmep)) :     # 최고 득점값과 일치하는 index 고르기\n",
        "        if tmep[i] == max_val :     # 최고 득점인 경우 index 저장, 아닌 경우 0\n",
        "            answer[i] = (i+1)\n",
        "            \n",
        "    while 0 in answer :     # 최고 득점이 아닌 나머지값(0) 제거\n",
        "        answer.remove(0)\n",
        "    \n",
        "    return answer\n",
        "\n",
        "print(solution([1,2,3,4,5]), '\\t [1]')\n",
        "print(solution([1,3,2,4,2]), '\\t [1,2,3]')\n",
        "print(solution([3,1,1,1]), '\\t [3]')"
      ],
      "execution_count": null,
      "outputs": [
        {
          "output_type": "stream",
          "text": [
            "[1] \t [1]\n",
            "[1, 2, 3] \t [1,2,3]\n",
            "[3] \t [3]\n"
          ],
          "name": "stdout"
        }
      ]
    }
  ]
}