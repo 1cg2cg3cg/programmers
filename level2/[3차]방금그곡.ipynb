{
  "nbformat": 4,
  "nbformat_minor": 0,
  "metadata": {
    "colab": {
      "name": "[3차]방금그곡.ipynb",
      "provenance": [],
      "collapsed_sections": [],
      "authorship_tag": "ABX9TyO3Y15I/Hz4xCpgSDJ/ffzw",
      "include_colab_link": true
    },
    "kernelspec": {
      "name": "python3",
      "display_name": "Python 3"
    }
  },
  "cells": [
    {
      "cell_type": "markdown",
      "metadata": {
        "id": "view-in-github",
        "colab_type": "text"
      },
      "source": [
        "<a href=\"https://colab.research.google.com/github/1cg2cg3cg/programmers/blob/main/level2/%5B3%EC%B0%A8%5D%EB%B0%A9%EA%B8%88%EA%B7%B8%EA%B3%A1.ipynb\" target=\"_parent\"><img src=\"https://colab.research.google.com/assets/colab-badge.svg\" alt=\"Open In Colab\"/></a>"
      ]
    },
    {
      "cell_type": "code",
      "metadata": {
        "colab": {
          "base_uri": "https://localhost:8080/"
        },
        "id": "lQyJr-_yFZlr",
        "outputId": "a2b17ec2-4d4c-4724-f5e3-4233f584ffaf"
      },
      "source": [
        "# 악보에 #이 붙는 경우 악보에 등장하지 않는 다른 문자로 대체 (효율성 낮을 것)\r\n",
        "# 문제 꼼꼼하게 읽기. None이 아니라 '(None)'때문에 시간 많이 사용.\r\n",
        "def solution(m, musicinfos):\r\n",
        "    m = m.replace('C#', '1').replace('D#', '2').replace('F#', '3').replace('G#', '4').replace('A#', '5')\r\n",
        "\r\n",
        "    music = []\r\n",
        "    for info in musicinfos :\r\n",
        "        S, E, T, P = info.split(',')\r\n",
        "        # 악보에 #이 붙는 경우 악보에 등장하지 않는 다른 문자로 대체 (효율성 낮을 것)\r\n",
        "        P = P.replace('C#', '1').replace('D#', '2').replace('F#', '3').replace('G#', '4').replace('A#', '5')\r\n",
        "        # 재생된 시간에 맞게 연주된 악보 만들기\r\n",
        "        P = P * (((int(E[:2])-int(S[:2]))*60 + (int(E[3:])-int(S[3:]))) // len(P)) + P[:((int(E[:2])-int(S[:2]))*60 + (int(E[3:])-int(S[3:]))) % len(P)]\r\n",
        "        \r\n",
        "        music.append([S, E, T, P])\r\n",
        "    # 동일 조건의 곡이 존재하는 경우 재생 시간이 긴 곡을 반환하기 위해 재생 시간에 맞게 정렬\r\n",
        "    music = sorted(music, key = lambda x : int(x[1][:2])*60 + int(x[1][3:]) - int(x[0][:2])*60 - int(x[0][3:]), reverse=True)\r\n",
        "\r\n",
        "    for play in music : # 첫 번째로 발견한 곡이 답이 된다.\r\n",
        "        if m in play[-1] :\r\n",
        "            return play[-2]\r\n",
        "    \r\n",
        "    return '(None)' # 문제의 조건 : 조건이 일치하는 음악이 없을 때에는 “(None)”을 반환한다.를 확인하지 못해 시간 많이 소모함.\r\n",
        "\r\n",
        "print(solution(\"ABCDEFG\", [\"12:00,12:14,HELLO,CDEFGAB\", \"13:00,13:05,WORLD,ABCDEF\", \"12:00,13:00,ABCCD,ABCDEFG\"]), \"ABCCD\")\r\n",
        "print(solution(\"ABCDEFG\", [\"12:00,12:14,HELLO,CDEFGAB\", \"13:00,13:05,WORLD,ABCDEF\", \"12:00,12:01,ABCCD,ABCDEFG\"]), \"HELLO\")\r\n",
        "print(solution(\"ABCDEFG\", [\"13:00,13:05,WORLD,ABCDEF\", \"12:00,12:14,HELLO,CDEFGAB\"]), \"HELLO\")\r\n",
        "print(solution(\"ABC\", [\"12:00,12:14,HELLO,C#DEFGAB\", \"13:00,13:05,WORLD,ABCDEF\"]), \"WORLD\")"
      ],
      "execution_count": 86,
      "outputs": [
        {
          "output_type": "stream",
          "text": [
            "ABCCD ABCCD\n",
            "HELLO HELLO\n",
            "HELLO HELLO\n",
            "WORLD WORLD\n"
          ],
          "name": "stdout"
        }
      ]
    }
  ]
}