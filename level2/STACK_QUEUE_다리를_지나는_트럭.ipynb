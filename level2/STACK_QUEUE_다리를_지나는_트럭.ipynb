{
  "nbformat": 4,
  "nbformat_minor": 0,
  "metadata": {
    "colab": {
      "name": "STACK/QUEUE - 다리를 지나는 트럭.ipynb",
      "provenance": [],
      "collapsed_sections": [],
      "authorship_tag": "ABX9TyMtPMnkhRqXVwSWohIEOd2B",
      "include_colab_link": true
    },
    "kernelspec": {
      "name": "python3",
      "display_name": "Python 3"
    }
  },
  "cells": [
    {
      "cell_type": "markdown",
      "metadata": {
        "id": "view-in-github",
        "colab_type": "text"
      },
      "source": [
        "<a href=\"https://colab.research.google.com/github/1cg2cg3cg/programmers/blob/main/level2/STACK_QUEUE_%EB%8B%A4%EB%A6%AC%EB%A5%BC_%EC%A7%80%EB%82%98%EB%8A%94_%ED%8A%B8%EB%9F%AD.ipynb\" target=\"_parent\"><img src=\"https://colab.research.google.com/assets/colab-badge.svg\" alt=\"Open In Colab\"/></a>"
      ]
    },
    {
      "cell_type": "code",
      "metadata": {
        "id": "lVVYSC3ciF1B"
      },
      "source": [
        "# 21.04.21\n",
        "import collections\n",
        "\n",
        "def solution(bridge_length, weight, truck_weights):\n",
        "    answer = 0\n",
        "\n",
        "    stack = collections.deque([0 for _ in range(bridge_length)])\n",
        "    truck_weights = truck_weights[::-1]\n",
        "\n",
        "    while True :\n",
        "        answer += 1\n",
        "        stack.popleft()\n",
        "        stack.append(0)\n",
        "\n",
        "        if truck_weights and stack[-1] == 0 and sum(stack)+truck_weights[-1] <= weight :\n",
        "            stack[-1] = truck_weights.pop()\n",
        "        #print(stack)\n",
        "        if sum(stack) == 0 and not truck_weights :\n",
        "            break\n",
        "    \n",
        "    return answer"
      ],
      "execution_count": null,
      "outputs": []
    },
    {
      "cell_type": "code",
      "metadata": {
        "id": "ztduUYfALsHu"
      },
      "source": [
        "# 21.02.06\n",
        "import collections\n",
        "\n",
        "def solution(bridge_length, weight, truck_weights):\n",
        "    answer = 0\n",
        "\n",
        "    bridge = collections.deque([0]*bridge_length)\n",
        "\n",
        "    truck_weights.append(weight+1)\n",
        "    \n",
        "    index = 0\n",
        "    passed = []\n",
        "\n",
        "    # To correct timeout error, change the equation for the bridge weight\n",
        "    # index refers to next truck so, if I remember the passed trucks,\n",
        "    # I can calculate bridge weight. \n",
        "    # 안지나간 트럭의 index까지 더하고, passed 를 빼서\n",
        "    # timeout error 해결!\n",
        "    while index == 0 or sum(truck_weights[:index]) - sum(passed) > 0 :\n",
        "        answer += 1\n",
        "\n",
        "        temp = bridge.popleft()\n",
        "        if temp > 0 :\n",
        "            passed.append(temp)\n",
        "\n",
        "        if sum(truck_weights[:index+1]) - sum(passed) <= weight and truck_weights :\n",
        "            bridge.append(truck_weights[index])\n",
        "            index += 1\n",
        "\n",
        "        else :\n",
        "            bridge.append(0)\n",
        "\n",
        "    return answer\n",
        "\n",
        "bridge_length = 2\n",
        "weight = 10\n",
        "truck_weights = [7,4,5,6]\n",
        "\n",
        "bridge_length = 100\n",
        "weight = 100\n",
        "truck_weights = [10]\n",
        "#truck_weights = [10, 10, 10, 10, 10, 10, 10, 10, 10, 10]\n",
        "\n",
        "print(solution(bridge_length, weight, truck_weights))"
      ],
      "execution_count": null,
      "outputs": []
    }
  ]
}