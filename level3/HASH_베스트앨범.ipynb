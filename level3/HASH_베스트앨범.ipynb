{
  "nbformat": 4,
  "nbformat_minor": 0,
  "metadata": {
    "colab": {
      "name": "HASH - 베스트앨범.ipynb",
      "provenance": [],
      "collapsed_sections": [],
      "authorship_tag": "ABX9TyN5XzJHb63wLJWpLbWcwy/P",
      "include_colab_link": true
    },
    "kernelspec": {
      "name": "python3",
      "display_name": "Python 3"
    }
  },
  "cells": [
    {
      "cell_type": "markdown",
      "metadata": {
        "id": "view-in-github",
        "colab_type": "text"
      },
      "source": [
        "<a href=\"https://colab.research.google.com/github/1cg2cg3cg/programmers/blob/main/HASH_%EB%B2%A0%EC%8A%A4%ED%8A%B8%EC%95%A8%EB%B2%94.ipynb\" target=\"_parent\"><img src=\"https://colab.research.google.com/assets/colab-badge.svg\" alt=\"Open In Colab\"/></a>"
      ]
    },
    {
      "cell_type": "code",
      "metadata": {
        "id": "Hrh9_UnfIo1S"
      },
      "source": [
        "import collections\r\n",
        "\r\n",
        "def solution(genres, plays):\r\n",
        "    \r\n",
        "    answer = []\r\n",
        "\r\n",
        "    genres_list = collections.defaultdict(int) # sum of playtimes of each genre\r\n",
        "    count = collections.defaultdict(list) # [playtimes, index] about each genre\r\n",
        "\r\n",
        "    for i in range(len(genres)) :\r\n",
        "        genres_list[genres[i]] += plays[i] # sum of playtimes of each genre\r\n",
        "        count[genres[i]].append([plays[i], i]) # [playtimes, index] about each genre\r\n",
        "\r\n",
        "    print(genres_list)\r\n",
        "    # sort in ascending order\r\n",
        "    A = sorted(genres_list.items(), key = lambda x : x[1], reverse=True)\r\n",
        "    print('\\nA', A)\r\n",
        "\r\n",
        "    for i in A :\r\n",
        "\r\n",
        "        B = count[i[0]]\r\n",
        "        B = sorted(B)\r\n",
        "\r\n",
        "        print('\\nB', B)\r\n",
        "        \r\n",
        "        if len(B) >= 2 :\r\n",
        "            #If there are more than 2 types in the same genre, always pick 2\r\n",
        "            back = B.pop() # 뒤\r\n",
        "            forward = B.pop() # 앞\r\n",
        "\r\n",
        "            # case for same playtimes : switch the indices each other\r\n",
        "            if back[0] == forward[0] and forward[1] < back[1] :\r\n",
        "                back[1], forward[1] = forward[1], back[1]\r\n",
        "            \r\n",
        "            answer.append(back[1])\r\n",
        "            answer.append(forward[1])\r\n",
        "        else :\r\n",
        "            answer.append(B.pop()[1])\r\n",
        "\r\n",
        "\r\n",
        "    return answer\r\n",
        "\r\n",
        "\r\n",
        "\r\n",
        "genres = ['classic', 'pop', 'classic', 'classic', 'pop', 'classic', 'classic', 'rock', 'abc']\r\n",
        "plays = [1400, 600, 150, 800, 2500, 500, 1400, 300, 20]\r\n",
        "\r\n",
        "#genres = ['classic', 'pop', 'classic', 'classic', 'pop']\r\n",
        "#plays = [500, 600, 150, 800, 2500]\r\n",
        "\r\n",
        "print(solution(genres, plays))"
      ],
      "execution_count": null,
      "outputs": []
    }
  ]
}
