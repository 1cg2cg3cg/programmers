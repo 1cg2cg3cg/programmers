{
  "nbformat": 4,
  "nbformat_minor": 0,
  "metadata": {
    "colab": {
      "name": "크레인 인형뽑기 게임.ipynb",
      "provenance": [],
      "collapsed_sections": [],
      "authorship_tag": "ABX9TyNM/KG/c8OCT1afYUpq/6Vv",
      "include_colab_link": true
    },
    "kernelspec": {
      "name": "python3",
      "display_name": "Python 3"
    }
  },
  "cells": [
    {
      "cell_type": "markdown",
      "metadata": {
        "id": "view-in-github",
        "colab_type": "text"
      },
      "source": [
        "<a href=\"https://colab.research.google.com/github/1cg2cg3cg/programmers/blob/main/%ED%81%AC%EB%A0%88%EC%9D%B8_%EC%9D%B8%ED%98%95%EB%BD%91%EA%B8%B0_%EA%B2%8C%EC%9E%84.ipynb\" target=\"_parent\"><img src=\"https://colab.research.google.com/assets/colab-badge.svg\" alt=\"Open In Colab\"/></a>"
      ]
    },
    {
      "cell_type": "code",
      "metadata": {
        "id": "GvqzC6WAMNza"
      },
      "source": [
        "def solution(board, moves):\r\n",
        "    answer = 0\r\n",
        "    \r\n",
        "    stack = []\r\n",
        "\r\n",
        "    for i in moves :\r\n",
        "        for j in range(len(board)) :\r\n",
        "            if board[j][i-1] != 0 :\r\n",
        "                stack.append(board[j][i-1])\r\n",
        "                board[j][i-1] = 0\r\n",
        "                break\r\n",
        "        \r\n",
        "        if len(stack) >1 and stack[-1] == stack[-2] :\r\n",
        "            stack.pop()\r\n",
        "            stack.pop()\r\n",
        "            answer += 2\r\n",
        "\r\n",
        "    return answer\r\n",
        "\r\n",
        "print(solution([[0,0,0,0,0],[0,0,1,0,3],[0,2,5,0,1],[4,2,4,4,2],[3,5,1,3,1]], [1,5,3,5,1,2,1,4]))"
      ],
      "execution_count": null,
      "outputs": []
    }
  ]
}
