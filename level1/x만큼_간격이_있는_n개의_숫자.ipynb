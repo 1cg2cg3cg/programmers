{
  "nbformat": 4,
  "nbformat_minor": 0,
  "metadata": {
    "colab": {
      "name": "x만큼 간격이 있는 n개의 숫자.ipynb",
      "provenance": [],
      "authorship_tag": "ABX9TyPl4RRoSO6LqGF7nF1qvE9V",
      "include_colab_link": true
    },
    "kernelspec": {
      "name": "python3",
      "display_name": "Python 3"
    }
  },
  "cells": [
    {
      "cell_type": "markdown",
      "metadata": {
        "id": "view-in-github",
        "colab_type": "text"
      },
      "source": [
        "<a href=\"https://colab.research.google.com/github/1cg2cg3cg/programmers/blob/main/level1/x%EB%A7%8C%ED%81%BC_%EA%B0%84%EA%B2%A9%EC%9D%B4_%EC%9E%88%EB%8A%94_n%EA%B0%9C%EC%9D%98_%EC%88%AB%EC%9E%90.ipynb\" target=\"_parent\"><img src=\"https://colab.research.google.com/assets/colab-badge.svg\" alt=\"Open In Colab\"/></a>"
      ]
    },
    {
      "cell_type": "code",
      "metadata": {
        "colab": {
          "base_uri": "https://localhost:8080/"
        },
        "id": "AY5uBSG-q0zU",
        "outputId": "2fe54741-ed81-466b-bec4-347f492c11ea"
      },
      "source": [
        "def solution(x, n):\r\n",
        "    answer = []\r\n",
        "    for i in range(1,n+1) :\r\n",
        "        answer.append(x*i)\r\n",
        "    return answer\r\n",
        "\r\n",
        "print(solution(2, 5), '\\t [2,4,6,8,10]')\r\n",
        "print(solution(4, 3), '\\t [4,8,12]')\r\n",
        "print(solution(-4, 2), '\\t [-4,-8]')"
      ],
      "execution_count": 1,
      "outputs": [
        {
          "output_type": "stream",
          "text": [
            "[2, 4, 6, 8, 10] \t [2,4,6,8,10]\n",
            "[4, 8, 12] \t [4,8,12]\n",
            "[-4, -8] \t [-4,-8]\n"
          ],
          "name": "stdout"
        }
      ]
    }
  ]
}