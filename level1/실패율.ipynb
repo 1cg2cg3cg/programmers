{
  "nbformat": 4,
  "nbformat_minor": 0,
  "metadata": {
    "colab": {
      "name": "실패율.ipynb",
      "provenance": [],
      "collapsed_sections": [],
      "authorship_tag": "ABX9TyMbJSJBajmrsnl2jnLDoMP1",
      "include_colab_link": true
    },
    "kernelspec": {
      "name": "python3",
      "display_name": "Python 3"
    }
  },
  "cells": [
    {
      "cell_type": "markdown",
      "metadata": {
        "id": "view-in-github",
        "colab_type": "text"
      },
      "source": [
        "<a href=\"https://colab.research.google.com/github/1cg2cg3cg/programmers/blob/main/level1/%EC%8B%A4%ED%8C%A8%EC%9C%A8.ipynb\" target=\"_parent\"><img src=\"https://colab.research.google.com/assets/colab-badge.svg\" alt=\"Open In Colab\"/></a>"
      ]
    },
    {
      "cell_type": "code",
      "metadata": {
        "colab": {
          "base_uri": "https://localhost:8080/"
        },
        "id": "-zSMl2igsxAD",
        "outputId": "67df35bf-592d-40c4-b017-10521d07680a"
      },
      "source": [
        "def solution(N, stages):\r\n",
        "    answer = [0] * N        # N보다 큰 수가 stages에 포함된 경우 모든 라운드를 클리어 한 사람이다.\r\n",
        "    C = set(stages)         # 1~N범위 내 클리어하지 못한 사람이 없는 경우 실패율은 0이다.\r\n",
        "    \r\n",
        "    while C :   # stages에 클리어하지 못한 라운드가 중복되지 않게 set변수로 만들어 pop을 통해 해결되지 않은 라운드를 하나씩 비교한다.\r\n",
        "        target = C.pop()\r\n",
        "        if target <= N :    # filter함수를 사용해 target과 같은 경우 (클리어 X)인 경우를 target보다 큰 경우(도달 혹은 해결한 사람 수)로 나눈다\r\n",
        "            answer[target-1] = (len(list(filter(lambda x : x == target, stages))) / len(list(filter(lambda x : x >= target, stages))))\r\n",
        "\r\n",
        "    for i, j in enumerate(answer) :    # index 출력을 위한 작업\r\n",
        "        answer[i] = [i+1, j]\r\n",
        "\r\n",
        "    answer = sorted(answer, key = lambda x : x[1], reverse=True)    # index 출력을 위한 정렬\r\n",
        "    \r\n",
        "    for i in range(len(answer)) :\r\n",
        "        answer[i] = answer[i][0]\r\n",
        "\r\n",
        "    return answer\r\n",
        "\r\n",
        "print(solution(5, [2,1,2,6,2,4,3,3]), '\\t [3,4,2,1,5]')\r\n",
        "print(solution(4, [4,4,4,4,4]), '\\t [4,1,2,3]')"
      ],
      "execution_count": 86,
      "outputs": [
        {
          "output_type": "stream",
          "text": [
            "[3, 4, 2, 1, 5] \t [3,4,2,1,5]\n",
            "[4, 1, 2, 3] \t [4,1,2,3]\n"
          ],
          "name": "stdout"
        }
      ]
    },
    {
      "cell_type": "code",
      "metadata": {
        "colab": {
          "base_uri": "https://localhost:8080/"
        },
        "id": "O82tcJ04xJ7i",
        "outputId": "39ced399-42fb-4a8e-c1ea-4fab7f850539"
      },
      "source": [
        "def solution(N, stages):\r\n",
        "    answer = [0] * N    # N보다 큰 수가 stages에 포함된 경우 모든 라운드를 클리어 한 사람이다.\r\n",
        "                        # 1~N범위 내 클리어하지 못한 사람이 없는 경우 실패율은 0이다.\r\n",
        "    stages.sort()       # list 자료형을 사용하기 위해 우선 정렬한다. 해결되지 않은 낮은 라운드부터 검사한다.\r\n",
        "    \r\n",
        "    for i in set(stages) :\r\n",
        "        if i <= N :         # 같은 숫자가 있는 경우 우측 index와 좌측 index를 구한 후 개수 연산한다\r\n",
        "            answer[i-1] = ((len(stages) -1 - stages[::-1].index(i)) - (stages.index(i)) + 1 ) / (len(stages) - stages.index(i))\r\n",
        "    \r\n",
        "    for i, j in enumerate(answer) : # index 출력을 위한 작업\r\n",
        "        answer[i] = [i+1, j]\r\n",
        "    \r\n",
        "    answer = sorted(answer, key = lambda x : x[1], reverse=True)    # index 출력을 위한 정렬\r\n",
        "    \r\n",
        "    for i in range(len(answer)) :\r\n",
        "        answer[i] = answer[i][0]\r\n",
        "\r\n",
        "    return answer\r\n",
        "\r\n",
        "print(solution(5, [2,1,2,6,2,4,3,3]), '\\t [3,4,2,1,5]')\r\n",
        "print(solution(4, [4,4,4,4,4]), '\\t [4,1,2,3]')"
      ],
      "execution_count": 83,
      "outputs": [
        {
          "output_type": "stream",
          "text": [
            "[3, 4, 2, 1, 5] \t [3,4,2,1,5]\n",
            "[4, 1, 2, 3] \t [4,1,2,3]\n"
          ],
          "name": "stdout"
        }
      ]
    }
  ]
}