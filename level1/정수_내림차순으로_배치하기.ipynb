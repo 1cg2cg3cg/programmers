{
  "nbformat": 4,
  "nbformat_minor": 0,
  "metadata": {
    "colab": {
      "name": "정수 내림차순으로 배치하기.ipynb",
      "provenance": [],
      "authorship_tag": "ABX9TyM6a370EBtKPFqUIE9HFQzM",
      "include_colab_link": true
    },
    "kernelspec": {
      "name": "python3",
      "display_name": "Python 3"
    }
  },
  "cells": [
    {
      "cell_type": "markdown",
      "metadata": {
        "id": "view-in-github",
        "colab_type": "text"
      },
      "source": [
        "<a href=\"https://colab.research.google.com/github/1cg2cg3cg/programmers/blob/main/level1/%EC%A0%95%EC%88%98_%EB%82%B4%EB%A6%BC%EC%B0%A8%EC%88%9C%EC%9C%BC%EB%A1%9C_%EB%B0%B0%EC%B9%98%ED%95%98%EA%B8%B0.ipynb\" target=\"_parent\"><img src=\"https://colab.research.google.com/assets/colab-badge.svg\" alt=\"Open In Colab\"/></a>"
      ]
    },
    {
      "cell_type": "code",
      "metadata": {
        "colab": {
          "base_uri": "https://localhost:8080/"
        },
        "id": "AnoRFei_cop2",
        "outputId": "cbb927d3-073f-4d1c-9118-2908a9bfb5db"
      },
      "source": [
        "def solution(n):\r\n",
        "    answer = []\r\n",
        "    \r\n",
        "    while n > 0 :\r\n",
        "        answer.append(str(n%10))\r\n",
        "        n = n // 10\r\n",
        "\r\n",
        "    answer = sorted(answer)[::-1]\r\n",
        "    \r\n",
        "    return int(''.join(answer))\r\n",
        "\r\n",
        "print(solution(118372), '\\t 873211')"
      ],
      "execution_count": 9,
      "outputs": [
        {
          "output_type": "stream",
          "text": [
            "873211 \t 873211\n"
          ],
          "name": "stdout"
        }
      ]
    },
    {
      "cell_type": "code",
      "metadata": {
        "colab": {
          "base_uri": "https://localhost:8080/"
        },
        "id": "4u5DGUxQeQGA",
        "outputId": "91b959d4-37b9-4fc6-f182-a340721721a5"
      },
      "source": [
        "# n을 list함수를 이용해 list로 만들기\r\n",
        "def solution(n):\r\n",
        "    answer = list(str(n))\r\n",
        "    answer = sorted(answer, reverse=True)\r\n",
        "    \r\n",
        "    return int(''.join(answer))\r\n",
        "\r\n",
        "print(solution(118372), '\\t 873211')"
      ],
      "execution_count": 13,
      "outputs": [
        {
          "output_type": "stream",
          "text": [
            "873211 \t 873211\n"
          ],
          "name": "stdout"
        }
      ]
    }
  ]
}