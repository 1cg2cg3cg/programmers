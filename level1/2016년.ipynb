{
  "nbformat": 4,
  "nbformat_minor": 0,
  "metadata": {
    "colab": {
      "name": "2016년.ipynb",
      "provenance": [],
      "collapsed_sections": [],
      "authorship_tag": "ABX9TyNmZWsiHSHJ1QHmrOpwz7zf",
      "include_colab_link": true
    },
    "kernelspec": {
      "name": "python3",
      "display_name": "Python 3"
    }
  },
  "cells": [
    {
      "cell_type": "markdown",
      "metadata": {
        "id": "view-in-github",
        "colab_type": "text"
      },
      "source": [
        "<a href=\"https://colab.research.google.com/github/1cg2cg3cg/programmers/blob/main/2016%EB%85%84.ipynb\" target=\"_parent\"><img src=\"https://colab.research.google.com/assets/colab-badge.svg\" alt=\"Open In Colab\"/></a>"
      ]
    },
    {
      "cell_type": "code",
      "metadata": {
        "colab": {
          "base_uri": "https://localhost:8080/"
        },
        "id": "zPAkeHrHAX7B",
        "outputId": "d63ee7e3-7c67-4f50-fee2-0d59fd9005c9"
      },
      "source": [
        "def solution(a, b):\r\n",
        "    answer = ''\r\n",
        "    days = b\r\n",
        "    calendar = {1:31, 2:29, 3:31, 4:30, 5:31, 6:30, 7:31, 8:31, 9:30, 10:31, 11:30, 12:31}\r\n",
        "    day = {0:'THU', 1:'FRI', 2:'SAT', 3:'SUN', 4:'MON', 5:'TUE', 6:'WED'}\r\n",
        "\r\n",
        "    while a != 1 :\r\n",
        "        a -= 1\r\n",
        "        days += calendar[a] \r\n",
        "    \r\n",
        "    answer = day[days%7]\r\n",
        "    \r\n",
        "    return answer\r\n",
        "\r\n",
        "print(solution(2, 5), '\\t FRI')\r\n",
        "print(solution(5, 24), '\\t TUE')"
      ],
      "execution_count": 7,
      "outputs": [
        {
          "output_type": "stream",
          "text": [
            "FRI \t FRI\n",
            "TUE \t TUE\n"
          ],
          "name": "stdout"
        }
      ]
    }
  ]
}
