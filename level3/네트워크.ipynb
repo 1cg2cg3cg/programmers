{
  "nbformat": 4,
  "nbformat_minor": 0,
  "metadata": {
    "colab": {
      "name": "네트워크.ipynb",
      "provenance": [],
      "collapsed_sections": [],
      "authorship_tag": "ABX9TyNzaci2XL1wJjHP0Lh4zEQd",
      "include_colab_link": true
    },
    "kernelspec": {
      "name": "python3",
      "display_name": "Python 3"
    },
    "language_info": {
      "name": "python"
    }
  },
  "cells": [
    {
      "cell_type": "markdown",
      "metadata": {
        "id": "view-in-github",
        "colab_type": "text"
      },
      "source": [
        "<a href=\"https://colab.research.google.com/github/1cg2cg3cg/programmers/blob/main/unresolved/%EB%84%A4%ED%8A%B8%EC%9B%8C%ED%81%AC.ipynb\" target=\"_parent\"><img src=\"https://colab.research.google.com/assets/colab-badge.svg\" alt=\"Open In Colab\"/></a>"
      ]
    },
    {
      "cell_type": "code",
      "metadata": {
        "colab": {
          "base_uri": "https://localhost:8080/"
        },
        "id": "Ynox3CL8EE6W",
        "outputId": "17200dad-a0a1-4d4f-a022-de0d62d3dfa1"
      },
      "source": [
        "def solution(n, computers) :\n",
        "    \n",
        "    answer = set()  # 경로 중복제거를 위해 set type\n",
        "    discovered = []\n",
        "\n",
        "    def dfs(node, discovered) :     # dfs로 출발점에서 연결된 모든 노드 찾기\n",
        "\n",
        "        discovered.append(node)\n",
        "\n",
        "        for i in range(n) :\n",
        "            if i == node :\n",
        "                continue\n",
        "            \n",
        "            if computers[node][i] == 1 and i not in discovered :\n",
        "                dfs(i, discovered)\n",
        "\n",
        "        return discovered\n",
        "\n",
        "    for i in range(n) :\n",
        "        A = dfs(i, [])\n",
        "        answer.add(tuple(sorted(A)))    # 경로 결과를 set으로 만들어 answer에 추가\n",
        "    \n",
        "    return len(answer)\n",
        "\n",
        "print(solution(6, [[1,1,1,0,0,0], [1,1,0,1,0,0], [1,0,1,0,0,0], [0,1,0,1,0,0], [0,0,0,0,1,0], [0,0,0,0,0,1]]), 3)\n",
        "print(solution(3, [[1, 1, 0], [1, 1, 0], [0, 0, 1]]), 2)\n",
        "print(solution(3, [[1, 1, 0], [1, 1, 1], [0, 1, 1]]), 1)\n",
        "print(solution(4, [[1,1,1,0], [1,1,0,0], [1,0,1,0], [0,0,0,1]]), 2)\n",
        "print(solution(4, [[1,1,1,0], [1,1,0,0], [1,0,1,1], [0,0,1,1]]), 1)\n",
        "print(solution(3, [[1,0,0], [0,1,0], [0,0,1]]), 3)"
      ],
      "execution_count": 14,
      "outputs": [
        {
          "output_type": "stream",
          "text": [
            "3 3\n",
            "2 2\n",
            "1 1\n",
            "2 2\n",
            "1 1\n",
            "3 3\n"
          ],
          "name": "stdout"
        }
      ]
    }
  ]
}
