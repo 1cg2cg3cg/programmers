{
  "nbformat": 4,
  "nbformat_minor": 0,
  "metadata": {
    "colab": {
      "name": "문자열 내림차순으로 배치하기.ipynb",
      "provenance": [],
      "collapsed_sections": [],
      "authorship_tag": "ABX9TyPlQVk+rAFpPNgAkcjXT425",
      "include_colab_link": true
    },
    "kernelspec": {
      "name": "python3",
      "display_name": "Python 3"
    }
  },
  "cells": [
    {
      "cell_type": "markdown",
      "metadata": {
        "id": "view-in-github",
        "colab_type": "text"
      },
      "source": [
        "<a href=\"https://colab.research.google.com/github/1cg2cg3cg/programmers/blob/main/%EB%AC%B8%EC%9E%90%EC%97%B4_%EB%82%B4%EB%A6%BC%EC%B0%A8%EC%88%9C%EC%9C%BC%EB%A1%9C_%EB%B0%B0%EC%B9%98%ED%95%98%EA%B8%B0.ipynb\" target=\"_parent\"><img src=\"https://colab.research.google.com/assets/colab-badge.svg\" alt=\"Open In Colab\"/></a>"
      ]
    },
    {
      "cell_type": "code",
      "metadata": {
        "colab": {
          "base_uri": "https://localhost:8080/"
        },
        "id": "yTI_m1e82Ul_",
        "outputId": "eee9d4f1-51d7-4868-b399-0a87caea314e"
      },
      "source": [
        "import re\r\n",
        "\r\n",
        "def solution(s):    # findall 함수로 정규식에 일치하는 모든 문자열 찾기\r\n",
        "    answer = ''     # ''.join()으로 findall 의 결과 하나로 묶기 (여러 개의 배열일 수 있음)\r\n",
        "                    # sorted를 사용해 정렬 후 ''.join()으로 한 번 더 묶어주고 answer에 연결\r\n",
        "    if re.search(\"[a-z]+\", s) : \r\n",
        "        answer += ''.join(sorted(''.join(re.findall(\"[a-z]+\", s)), reverse=True))\r\n",
        "\r\n",
        "    if re.search(\"[A-Z]+\", s) :\r\n",
        "        answer += ''.join(sorted(''.join(re.findall(\"[A-Z]+\", s)), reverse=True))\r\n",
        "\r\n",
        "    return answer\r\n",
        "\r\n",
        "print(solution('Zbcdefg'), '\\t gfedcbZ')\r\n",
        "print(solution('Z'), '\\t Z')\r\n",
        "print(solution('a'), '\\t a')\r\n",
        "print(solution('aabaCadef'), '\\t fedbaaaaC')"
      ],
      "execution_count": 50,
      "outputs": [
        {
          "output_type": "stream",
          "text": [
            "gfedcbZ \t gfedcbZ\n",
            "Z \t Z\n",
            "a \t a\n",
            "fedbaaaaC \t fedbaaaaC\n"
          ],
          "name": "stdout"
        }
      ]
    }
  ]
}