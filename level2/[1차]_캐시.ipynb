{
  "nbformat": 4,
  "nbformat_minor": 0,
  "metadata": {
    "colab": {
      "name": "[1차] 캐시.ipynb",
      "provenance": [],
      "collapsed_sections": [],
      "authorship_tag": "ABX9TyO1orsF9T0ifBeA+ZOFTZTp",
      "include_colab_link": true
    },
    "kernelspec": {
      "name": "python3",
      "display_name": "Python 3"
    }
  },
  "cells": [
    {
      "cell_type": "markdown",
      "metadata": {
        "id": "view-in-github",
        "colab_type": "text"
      },
      "source": [
        "<a href=\"https://colab.research.google.com/github/1cg2cg3cg/programmers/blob/main/level2/%5B1%EC%B0%A8%5D_%EC%BA%90%EC%8B%9C.ipynb\" target=\"_parent\"><img src=\"https://colab.research.google.com/assets/colab-badge.svg\" alt=\"Open In Colab\"/></a>"
      ]
    },
    {
      "cell_type": "code",
      "metadata": {
        "colab": {
          "base_uri": "https://localhost:8080/"
        },
        "id": "u3L4_pKfnF5C",
        "outputId": "16036f63-4045-44aa-d140-28fe477bc49f"
      },
      "source": [
        "# LRU 알고리즘은 cache hit인 경우 해당 cache로 최신화한다.\r\n",
        "\r\n",
        "def solution(cacheSize, cities):\r\n",
        "    answer = 0\r\n",
        "    cities = cities[::-1]\r\n",
        "    stack = []\r\n",
        "    cities = [city.lower() for city in cities]  # 대소문자 구분 x\r\n",
        "\r\n",
        "    while cities :\r\n",
        "        city = cities.pop()\r\n",
        "\r\n",
        "        if city in stack :  # cache에 들어있으면\r\n",
        "            answer += 1     # 처리시간 +1\r\n",
        "            stack = stack[:stack.index(city)] + stack[stack.index(city)+1:] # hit한 cache를 뽑아내고\r\n",
        "            stack.append(city)  # hit한 cache 최신화\r\n",
        "            continue\r\n",
        "        else :\r\n",
        "            \r\n",
        "            stack.append(city)\r\n",
        "\r\n",
        "            if len(stack) > cacheSize : # stack에 없는 경우 append를 통해 stack의 크기가 cacheSize보다 1 커짐\r\n",
        "                stack = stack[1:]   # 1 줄이기\r\n",
        "            \r\n",
        "            answer += 5\r\n",
        "\r\n",
        "    return answer\r\n",
        "\r\n",
        "print(solution(3, [\"Jeju\", \"Pangyo\", \"Seoul\", \"NewYork\", \"LA\", \"Jeju\", \"Pangyo\", \"Seoul\", \"NewYork\", \"LA\"]), 50)\r\n",
        "print(solution(3, [\"Jeju\", \"Pangyo\", \"Seoul\", \"Jeju\", \"Pangyo\", \"Seoul\", \"Jeju\", \"Pangyo\", \"Seoul\"]), 21)\r\n",
        "print(solution(3, [\"Seoul\", \"Seoul\", \"Seoul\"]), 7)"
      ],
      "execution_count": 25,
      "outputs": [
        {
          "output_type": "stream",
          "text": [
            "50 50\n",
            "21 21\n",
            "7 7\n"
          ],
          "name": "stdout"
        }
      ]
    }
  ]
}