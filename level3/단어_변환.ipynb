{
  "nbformat": 4,
  "nbformat_minor": 0,
  "metadata": {
    "colab": {
      "name": "단어 변환.ipynb",
      "provenance": [],
      "collapsed_sections": [],
      "authorship_tag": "ABX9TyNh0SZgk2unrO7M2qa+76N2",
      "include_colab_link": true
    },
    "kernelspec": {
      "name": "python3",
      "display_name": "Python 3"
    },
    "language_info": {
      "name": "python"
    }
  },
  "cells": [
    {
      "cell_type": "markdown",
      "metadata": {
        "id": "view-in-github",
        "colab_type": "text"
      },
      "source": [
        "<a href=\"https://colab.research.google.com/github/1cg2cg3cg/programmers/blob/main/level3/%EB%8B%A8%EC%96%B4_%EB%B3%80%ED%99%98.ipynb\" target=\"_parent\"><img src=\"https://colab.research.google.com/assets/colab-badge.svg\" alt=\"Open In Colab\"/></a>"
      ]
    },
    {
      "cell_type": "code",
      "metadata": {
        "id": "LEReoPFCub8r"
      },
      "source": [
        "import collections\n",
        "\n",
        "def solution(begin, target, words) :\n",
        "\n",
        "    answer = 0\n",
        "    path = 0\n",
        "    cur_node, next_node, discovered = [begin], [], set()\n",
        "\n",
        "    if target not in words :    # taget is not in words, it is impossible\n",
        "        return 0\n",
        "\n",
        "    graph = collections.defaultdict(list)   # graph\n",
        "    \n",
        "    for word in words : # check the graph's edges can be linked\n",
        "        for word2 in words :\n",
        "            if len(collections.Counter(word) - collections.Counter(word2)) == 1 and word != word2 :\n",
        "                graph[word].append(word2)\n",
        "    \n",
        "    for word in words :\n",
        "        if len(collections.Counter(begin)-collections.Counter(word)) == 1 :\n",
        "            graph[begin].append(word)\n",
        "    \n",
        "    while True :\n",
        "        \n",
        "        if target in cur_node : # successfully completed\n",
        "            break\n",
        "\n",
        "        if len(discovered) >= len(words) :  # It is impossible\n",
        "            return 0\n",
        "\n",
        "        for cur in cur_node :\n",
        "            for g in graph[cur] :\n",
        "                next_node.append(g)\n",
        "                discovered.add(g)\n",
        "\n",
        "        cur_node = list(set(next_node))[:]\n",
        "        next_node = []\n",
        "        path += 1\n",
        "\n",
        "    return path"
      ],
      "execution_count": null,
      "outputs": []
    },
    {
      "cell_type": "code",
      "metadata": {
        "id": "H55S8o9duw91"
      },
      "source": [
        "# 1st trial, fail to case 3 because of the graph\n",
        "# drawing a graph using set() make some problems ('aaabcd' is linked to 'aabbcf')\n",
        "import collections\n",
        "\n",
        "def solution(begin, target, words) :\n",
        "\n",
        "    answer = 0\n",
        "    path = 0\n",
        "    cur_node, next_node = [begin], []\n",
        "    graph = collections.defaultdict(list)\n",
        "    for word in words :\n",
        "        for word2 in words :\n",
        "            if len(set(word)-set(word2)) == 1 and word != word2 :\n",
        "                graph[word].append(word2)\n",
        "    \n",
        "    for word in words :\n",
        "        if len(set(begin)-set(word)) == 1 :\n",
        "            graph[begin].append(word)\n",
        "    \n",
        "    while True :\n",
        "        \n",
        "        if target in cur_node :\n",
        "            break\n",
        "\n",
        "        for cur in cur_node :\n",
        "            for g in graph[cur] :\n",
        "                next_node.append(g)\n",
        "\n",
        "        cur_node = list(set(next_node))[:]\n",
        "        next_node = []\n",
        "        path += 1\n",
        "    \n",
        "    return path\n",
        "\n",
        "print(solution('hit', 'cog', [\"hot\", \"dot\", \"dog\", \"lot\", \"log\", \"cog\"]))"
      ],
      "execution_count": null,
      "outputs": []
    },
    {
      "cell_type": "code",
      "metadata": {
        "id": "ZwCt4jS5weEi"
      },
      "source": [
        "# try DFS - not completed. There are some problems that have not been corrected.\n",
        "\n",
        "import collections\n",
        "\n",
        "def solution(begin, target, words) :\n",
        "    answer = []\n",
        "    \n",
        "    graph = collections.defaultdict(list)\n",
        "    for word in words :\n",
        "        if len(set(begin)-set(word)) == 1 :\n",
        "            graph[begin].append(word)\n",
        "\n",
        "    for word in words :\n",
        "\n",
        "        for word2 in words :\n",
        "\n",
        "            if word != word2 and len(set(word)-set(word2)) == 1:\n",
        "                graph[word].append(word2)\n",
        "\n",
        "    def dfs(begin, target, discovered) :\n",
        "\n",
        "        if begin == target :\n",
        "            print('match!', discovered)\n",
        "            return answer.append(len(discovered))\n",
        "        \n",
        "        for g in graph[begin] :\n",
        "            if len(set(begin) - set(g)) == 1 and g not in discovered :\n",
        "                \n",
        "                dfs(g, target, discovered + [begin])\n",
        "\n",
        "    dfs(begin, target, [])\n",
        "\n",
        "    print(answer)\n",
        "\n",
        "    return min(answer)\n",
        "    \n",
        "print(solution('hit', 'cog', [\"hot\", \"dot\", \"dog\", \"lot\", \"log\", \"cog\"]))"
      ],
      "execution_count": null,
      "outputs": []
    }
  ]
}