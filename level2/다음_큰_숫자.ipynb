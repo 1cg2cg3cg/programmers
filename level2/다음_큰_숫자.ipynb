{
  "nbformat": 4,
  "nbformat_minor": 0,
  "metadata": {
    "colab": {
      "name": "다음 큰 숫자.ipynb",
      "provenance": [],
      "collapsed_sections": [],
      "authorship_tag": "ABX9TyNmhUUs0t5SCoG1G+4H/AhF",
      "include_colab_link": true
    },
    "kernelspec": {
      "name": "python3",
      "display_name": "Python 3"
    }
  },
  "cells": [
    {
      "cell_type": "markdown",
      "metadata": {
        "id": "view-in-github",
        "colab_type": "text"
      },
      "source": [
        "<a href=\"https://colab.research.google.com/github/1cg2cg3cg/programmers/blob/main/level2/%EB%8B%A4%EC%9D%8C_%ED%81%B0_%EC%88%AB%EC%9E%90.ipynb\" target=\"_parent\"><img src=\"https://colab.research.google.com/assets/colab-badge.svg\" alt=\"Open In Colab\"/></a>"
      ]
    },
    {
      "cell_type": "code",
      "metadata": {
        "colab": {
          "base_uri": "https://localhost:8080/"
        },
        "id": "AeBtDguLRP-i",
        "outputId": "da366c77-ac0a-4751-c282-f9df80bf4c92"
      },
      "source": [
        "# 풀이 과정 생각\r\n",
        "# 1. 10진수 숫자를 2진수로 변경\r\n",
        "# 2. 2진수 숫자 중 1의 개수가 같고 다음으로 큰 2진수 찾기\r\n",
        "# 3. 10진수로 다시 변환하기\r\n",
        "\r\n",
        "# 2번을 만들기 위해 1. 이진수의 가장 우측부터 index 1까지 이동하면서\r\n",
        "# 자신이 1이면서 자신의 좌측이 0인 경우 서로 바꾸고 break\r\n",
        "# 또는 index 1에 도달하면 좌측에 0 추가하고 (자리수 증가) break\r\n",
        "# ① break가 발생하면 해당 index 좌측은 그대로 가져가고, 우측에는 남아있는 0을 먼저 가져오고, 남아있는 1을 가장 마지막에 더한다.\r\n",
        "\r\n",
        "# mul2 변수를 사용해 10진수로 변환(3번 과정)\r\n",
        "def solution(n):\r\n",
        "    binary = ''\r\n",
        "    q = n\r\n",
        "    while q > 0 :\r\n",
        "        q, r = divmod(n, 2)\r\n",
        "        n = q\r\n",
        "        binary += str(r)\r\n",
        "\r\n",
        "    binary = list(binary[::-1]) # 2진수로 변환\r\n",
        "    \r\n",
        "    idx = 0 # ① 을 위해 break가 일어나는 경우 index 저장\r\n",
        "    for i in range(len(binary)-1) :\r\n",
        "        \r\n",
        "        if len(binary)-1-i == 1 :\r\n",
        "            binary.insert(1, '0')\r\n",
        "            idx = 1 # 0이 추가되는 경우 좌측 10을 그대로 사용해야 한다.\r\n",
        "            break\r\n",
        "\r\n",
        "        if binary[len(binary)-i-1] == '1' and binary[len(binary)-i-2] == '0' :  # 뒤에서부터 pointer와 좌측을 비교\r\n",
        "            binary[len(binary)-i-1], binary[len(binary)-i-2] = binary[len(binary)-i-2], binary[len(binary)-i-1]\r\n",
        "            idx = len(binary)-i-2\r\n",
        "            break\r\n",
        "    \r\n",
        "    target = binary[idx+1:]\r\n",
        "\r\n",
        "    base10 = ''.join(binary[:idx+1]) + '0' * target.count('0') + '1' * target.count('1')    # 남아있는 0과 1을 차례로 추가\r\n",
        "    base10 = base10[::-1]   # 10진수로 변환하기 위해 전환\r\n",
        "    \r\n",
        "    result = 0  # 10진수 결과값 저장\r\n",
        "    mul2 = 1    # 2진수를 10진수로 변환하기 위해 사용\r\n",
        "    for i in range(len(base10)) :\r\n",
        "        result += mul2 * int(base10[i])\r\n",
        "        mul2 *= 2        \r\n",
        "\r\n",
        "    return result\r\n",
        "\r\n",
        "print(solution(78), '1010011', 83)\r\n",
        "print(solution(15), '10111', 23)\r\n",
        "print(solution(22), '11001', 25)"
      ],
      "execution_count": 61,
      "outputs": [
        {
          "output_type": "stream",
          "text": [
            "83 1010011 83\n",
            "23 10111 23\n",
            "25 11001 25\n"
          ],
          "name": "stdout"
        }
      ]
    },
    {
      "cell_type": "markdown",
      "metadata": {
        "id": "mPR63wPVRQwP"
      },
      "source": [
        "아래는 2021년 3월 12일 이전 풀이"
      ]
    },
    {
      "cell_type": "code",
      "metadata": {
        "colab": {
          "base_uri": "https://localhost:8080/"
        },
        "id": "xXssXtDjZ-g3",
        "outputId": "fa97e68b-1117-46b1-93f3-9bcee18c892f"
      },
      "source": [
        "def solution(n):\r\n",
        "    binary = ''\r\n",
        "    q = n\r\n",
        "    while q != 1 :\r\n",
        "        q, r = divmod(n, 2)\r\n",
        "        n = q\r\n",
        "        binary += str(r)\r\n",
        "\r\n",
        "    binary = str(q) + binary\r\n",
        "    binary = list(binary)\r\n",
        "    if binary.count('1') == len(binary) :\r\n",
        "        print('case1')\r\n",
        "        binary.insert(1,'0')\r\n",
        "    #print(\"B\", binary)\r\n",
        "    #print(binary[1:-1:-1])\r\n",
        "\r\n",
        "    elif binary.count('0') == 1 and binary[-1] == '0' :\r\n",
        "        print(\"case2\")\r\n",
        "        binary = '1' + '0' * (binary.count('0')+1) + '1' * (binary.count('1')-1)\r\n",
        "    else :\r\n",
        "        print(\"case3\")\r\n",
        "        index0 = len(binary) - binary[::-1].index('0')-1\r\n",
        "        index1 = len(binary) - binary[::-1].index('1')-1\r\n",
        "        print(binary)\r\n",
        "        print(\"IDX\",index0, index1)\r\n",
        "        binary[index0], binary[index1] = binary[index1], binary[index0]\r\n",
        "    \r\n",
        "    print(\"FINAL\", binary)\r\n",
        "    answer = 0\r\n",
        "    return answer\r\n",
        "\r\n",
        "#print(solution(78), '1010011', 83)\r\n",
        "#print(solution(15), '10111', 23)\r\n",
        "print(solution(22), '11100', 23)"
      ],
      "execution_count": null,
      "outputs": [
        {
          "output_type": "stream",
          "text": [
            "case3\n",
            "['1', '0', '1', '1', '0']\n",
            "IDX 4 3\n",
            "FINAL ['1', '0', '1', '0', '1']\n",
            "0 11100 23\n"
          ],
          "name": "stdout"
        }
      ]
    },
    {
      "cell_type": "code",
      "metadata": {
        "colab": {
          "base_uri": "https://localhost:8080/"
        },
        "id": "PRwRiHFciUPw",
        "outputId": "29459668-f81c-42c5-cda3-d90bf7b24b48"
      },
      "source": [
        "def solution(n):\r\n",
        "    binary = ''\r\n",
        "    q = n\r\n",
        "    while q != 1 :\r\n",
        "        q, r = divmod(n, 2)\r\n",
        "        n = q\r\n",
        "        binary = str(r) + binary\r\n",
        "        print(binary)\r\n",
        "\r\n",
        "    binary = str(q) + binary\r\n",
        "    binary = list(binary)\r\n",
        "\r\n",
        "    print(\"B\", binary)\r\n",
        "\r\n",
        "    index1 = len(binary) - binary[::-1].index('1')-1\r\n",
        "    temp = binary[:index1]\r\n",
        "\r\n",
        "    if binary.count('1') == len(binary) :\r\n",
        "        print('case1')\r\n",
        "        binary.insert(1,'0')\r\n",
        "\r\n",
        "    elif '0' in temp :\r\n",
        "        print(\"case3\")\r\n",
        "        index0 = temp[::-1].index('0')\r\n",
        "        #print(\"T\",temp)\r\n",
        "        #print(binary)\r\n",
        "        #print(\"IDX\",index0, index1)\r\n",
        "        binary[index0], binary[index1] = binary[index1], binary[index0]\r\n",
        "\r\n",
        "    else :\r\n",
        "        print(\"case2\")\r\n",
        "        binary = '1' + '0' * (binary.count('0')+1) + '1' * (binary.count('1')-1)\r\n",
        "\r\n",
        "    \r\n",
        "    print(\"FINAL\", binary)\r\n",
        "    answer = 0\r\n",
        "    return answer\r\n",
        "\r\n",
        "print(solution(78), '1010011', 83)\r\n",
        "print('\\n')\r\n",
        "print(solution(15), '10111', 23)\r\n",
        "print('\\n')\r\n",
        "print(solution(22), '11100')\r\n",
        "print('\\n')\r\n",
        "print(solution(14), '10011')"
      ],
      "execution_count": null,
      "outputs": [
        {
          "output_type": "stream",
          "text": [
            "0\n",
            "10\n",
            "110\n",
            "1110\n",
            "01110\n",
            "001110\n",
            "B ['1', '0', '0', '1', '1', '1', '0']\n",
            "case3\n",
            "FINAL ['1', '0', '1', '1', '1', '0', '0']\n",
            "0 1010011 83\n",
            "\n",
            "\n",
            "1\n",
            "11\n",
            "111\n",
            "B ['1', '1', '1', '1']\n",
            "case1\n",
            "FINAL ['1', '0', '1', '1', '1']\n",
            "0 10111 23\n",
            "\n",
            "\n",
            "0\n",
            "10\n",
            "110\n",
            "0110\n",
            "B ['1', '0', '1', '1', '0']\n",
            "case3\n",
            "FINAL ['1', '1', '1', '0', '0']\n",
            "0 11100\n",
            "\n",
            "\n",
            "0\n",
            "10\n",
            "110\n",
            "B ['1', '1', '1', '0']\n",
            "case2\n",
            "FINAL 10011\n",
            "0 10011\n"
          ],
          "name": "stdout"
        }
      ]
    },
    {
      "cell_type": "code",
      "metadata": {
        "colab": {
          "base_uri": "https://localhost:8080/"
        },
        "id": "rvfv77weiUM9",
        "outputId": "5bd5d46a-3da9-4740-a5a3-aec0ade2ed28"
      },
      "source": [
        "def solution(n):\r\n",
        "    binary = ''\r\n",
        "    q = n\r\n",
        "    while q != 1 :\r\n",
        "        q, r = divmod(n, 2)\r\n",
        "        n = q\r\n",
        "        binary = str(r) + binary\r\n",
        "\r\n",
        "    binary = str(q) + binary\r\n",
        "    binary = list(binary)\r\n",
        "\r\n",
        "    print(\"B\", binary)\r\n",
        "    \r\n",
        "    index1 = binary[1:].index('1') # 첫자리 1을 제외한 가장 큰 1의 index\r\n",
        "\r\n",
        "    temp = binary[1:index1+2]\r\n",
        "    print(\"temp\", temp)\r\n",
        "\r\n",
        "    print(\"IDX1\", index1)\r\n",
        "    if binary.count('1') == len(binary) :\r\n",
        "        print('case1')\r\n",
        "        binary.insert(1,'0')\r\n",
        "\r\n",
        "    elif index1 == 0 :\r\n",
        "        print(\"case2\")\r\n",
        "        binary = binary[0] + '1' + '0' * binary.count('0') + '1' * (binary.count('1')-2)\r\n",
        "    \r\n",
        "    else :\r\n",
        "        print(\"case3\")\r\n",
        "        temp[index1-1], temp[index1] = temp[index1], temp[index1-1]\r\n",
        "        temp2 = binary[index1+2:]\r\n",
        "        print(\"T1\", temp)\r\n",
        "        print(\"T2\", temp2)\r\n",
        "        binary = ['1'] + temp + ['0' * temp2.count('0')] + ['1' * temp2.count('1')]\r\n",
        "\r\n",
        "\r\n",
        "    \r\n",
        "    print(\"FINAL\", ''.join(binary))\r\n",
        "    answer = 0\r\n",
        "    return answer\r\n",
        "\r\n",
        "print(solution(78), '1010011', 83)\r\n",
        "print('\\n')\r\n",
        "print(solution(15), '10111', 23)\r\n",
        "print('\\n')\r\n",
        "print(solution(22), '11100')\r\n",
        "print('\\n')\r\n",
        "print(solution(14), '10011')"
      ],
      "execution_count": null,
      "outputs": [
        {
          "output_type": "stream",
          "text": [
            "B ['1', '0', '0', '1', '1', '1', '0']\n",
            "temp ['0', '0', '1']\n",
            "IDX1 2\n",
            "case3\n",
            "T1 ['0', '1', '0']\n",
            "T2 ['1', '1', '0']\n",
            "FINAL 1010011\n",
            "0 1010011 83\n",
            "\n",
            "\n",
            "B ['1', '1', '1', '1']\n",
            "temp ['1']\n",
            "IDX1 0\n",
            "case1\n",
            "FINAL 10111\n",
            "0 10111 23\n",
            "\n",
            "\n",
            "B ['1', '0', '1', '1', '0']\n",
            "temp ['0', '1']\n",
            "IDX1 1\n",
            "case3\n",
            "T1 ['1', '0']\n",
            "T2 ['1', '0']\n",
            "FINAL 11001\n",
            "0 11100\n",
            "\n",
            "\n",
            "B ['1', '1', '1', '0']\n",
            "temp ['1']\n",
            "IDX1 0\n",
            "case2\n",
            "FINAL 1101\n",
            "0 10011\n"
          ],
          "name": "stdout"
        }
      ]
    }
  ]
}