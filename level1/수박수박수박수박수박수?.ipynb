{
  "nbformat": 4,
  "nbformat_minor": 0,
  "metadata": {
    "colab": {
      "name": "수박수박수박수박수박수?.ipynb",
      "provenance": [],
      "collapsed_sections": [],
      "authorship_tag": "ABX9TyNXCKwvTSRg2Q7NzIh3a1jl",
      "include_colab_link": true
    },
    "kernelspec": {
      "name": "python3",
      "display_name": "Python 3"
    }
  },
  "cells": [
    {
      "cell_type": "markdown",
      "metadata": {
        "id": "view-in-github",
        "colab_type": "text"
      },
      "source": [
        "<a href=\"https://colab.research.google.com/github/1cg2cg3cg/programmers/blob/main/level1/%EC%88%98%EB%B0%95%EC%88%98%EB%B0%95%EC%88%98%EB%B0%95%EC%88%98%EB%B0%95%EC%88%98%EB%B0%95%EC%88%98%3F.ipynb\" target=\"_parent\"><img src=\"https://colab.research.google.com/assets/colab-badge.svg\" alt=\"Open In Colab\"/></a>"
      ]
    },
    {
      "cell_type": "code",
      "metadata": {
        "colab": {
          "base_uri": "https://localhost:8080/"
        },
        "id": "PFi0ilSWx_yS",
        "outputId": "f3359842-f5e7-47b0-e334-551edd96e111"
      },
      "source": [
        "def solution(n):\r\n",
        "    answer = ''\r\n",
        "    letters = \"수박\"\r\n",
        "\r\n",
        "    for i in range(n) :\r\n",
        "        answer+= letters[i%len(letters)]\r\n",
        "\r\n",
        "    return answer\r\n",
        "\r\n",
        "print(solution(3))\r\n",
        "print(solution(4))"
      ],
      "execution_count": 2,
      "outputs": [
        {
          "output_type": "stream",
          "text": [
            "수박수\n",
            "수박수박\n"
          ],
          "name": "stdout"
        }
      ]
    }
  ]
}