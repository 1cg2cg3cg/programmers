{
  "nbformat": 4,
  "nbformat_minor": 0,
  "metadata": {
    "colab": {
      "name": "오픈채팅방.ipynb",
      "provenance": [],
      "collapsed_sections": [],
      "authorship_tag": "ABX9TyP5/NzJ5Vx16T2yRVAPZqgA",
      "include_colab_link": true
    },
    "kernelspec": {
      "name": "python3",
      "display_name": "Python 3"
    }
  },
  "cells": [
    {
      "cell_type": "markdown",
      "metadata": {
        "id": "view-in-github",
        "colab_type": "text"
      },
      "source": [
        "<a href=\"https://colab.research.google.com/github/1cg2cg3cg/programmers/blob/main/level2/%EC%98%A4%ED%94%88%EC%B1%84%ED%8C%85%EB%B0%A9.ipynb\" target=\"_parent\"><img src=\"https://colab.research.google.com/assets/colab-badge.svg\" alt=\"Open In Colab\"/></a>"
      ]
    },
    {
      "cell_type": "code",
      "metadata": {
        "colab": {
          "base_uri": "https://localhost:8080/"
        },
        "id": "CPeqymlUHR68",
        "outputId": "e46affae-0c6c-431e-a0e4-7d4d35283f29"
      },
      "source": [
        "# 해당 원소가 없는 경우 자동으로 생성해주는 defaultdict의 성질 이용\r\n",
        "# 잘못된 입력이 없기 때문에 Enter과 Change는 같은 역할 수행\r\n",
        "# 명령어와 id를 저장하고, id에 맞는 닉네임을 저장하고 최종 수정 후 return\r\n",
        "import collections\r\n",
        "def solution(record) :\r\n",
        "    id_list = collections.defaultdict(list)\r\n",
        "    answer = []\r\n",
        "\r\n",
        "    for message in record :\r\n",
        "        message = message.split()\r\n",
        "\r\n",
        "        if message[0] == 'Enter' or message[0] == 'Change' :\r\n",
        "            id_list[message[1]] = message[2]\r\n",
        "            answer.append([message[0], message[1]])\r\n",
        "        else :\r\n",
        "            answer.append([message[0], message[1]])\r\n",
        "\r\n",
        "    result = []\r\n",
        "    for i, code in enumerate(answer) :\r\n",
        "        if code[0] == 'Enter' :\r\n",
        "            result.append(id_list[code[1]]+\"님이 들어왔습니다.\")\r\n",
        "        elif code[0] == 'Leave' :\r\n",
        "            result.append(id_list[code[1]]+\"님이 나갔습니다.\")\r\n",
        "\r\n",
        "    return result\r\n",
        "\r\n",
        "print(solution([\"Enter uid1234 Muzi\", \"Enter uid4567 Prodo\",\"Leave uid1234\",\"Enter uid1234 Prodo\",\"Change uid4567 Ryan\"]) == [\"Prodo님이 들어왔습니다.\", \"Ryan님이 들어왔습니다.\", \"Prodo님이 나갔습니다.\", \"Prodo님이 들어왔습니다.\"])"
      ],
      "execution_count": 61,
      "outputs": [
        {
          "output_type": "stream",
          "text": [
            "True\n"
          ],
          "name": "stdout"
        }
      ]
    },
    {
      "cell_type": "code",
      "metadata": {
        "colab": {
          "base_uri": "https://localhost:8080/"
        },
        "id": "3Kq9Lzh55IeY",
        "outputId": "660d1535-0537-40b4-82b5-87b962962f71"
      },
      "source": [
        "# 실패한 풀이\r\n",
        "# 효율성 및 정확도 모두 통과하지 못함.\r\n",
        "# 들어오는 모든 명령어에 대해 처리하도록 구성해 정확도를 확보하면\r\n",
        "# 역순으로 입력받아 최신 닉네임을 유지하게 구성하려고 생각함.\r\n",
        "# 어떤 부분에서 데스트 케이스를 통과하지 못하는지 찾지 못해 중단한 풀이.\r\n",
        "\r\n",
        "def solution(record):\r\n",
        "    answer = []\r\n",
        "    for message in record :\r\n",
        "        \r\n",
        "        if len(message.split()) == 2 :\r\n",
        "            command, user_id = message.split()\r\n",
        "        else :     \r\n",
        "            command, user_id, nick_name = message.split()\r\n",
        "        \r\n",
        "        if command == 'Enter' or command == 'Change':\r\n",
        "            answer.append([command, user_id, nick_name])\r\n",
        "            for i, a in enumerate(answer) :\r\n",
        "                if a[1] == user_id :\r\n",
        "                    answer[i][2] = nick_name\r\n",
        "        \r\n",
        "        else :\r\n",
        "            answer.append([command, user_id, nick_name])\r\n",
        "\r\n",
        "    result = []\r\n",
        "    for i, message in enumerate(answer) :\r\n",
        "        if message[0] == 'Enter' :\r\n",
        "            #answer[i] = message[2] + '님이 들어왔습니다.'\r\n",
        "            result.append(message[2] + '님이 들어왔습니다.')\r\n",
        "        \r\n",
        "        elif message[0] == 'Leave' :\r\n",
        "            #answer[i] = message[2] + '님이 나갔습니다.'\r\n",
        "            result.append(message[2] + '님이 나갔습니다.')\r\n",
        "    \r\n",
        "    #print(answer)\r\n",
        "    return result\r\n",
        "\r\n",
        "#print(solution([\"Enter uid1234 Muzi\", \"Enter uid4567 Prodo\",\"Leave uid1234\",\"Enter uid1234 Prodo\",\"Change uid4567 Ryan\"]) == [\"Prodo님이 들어왔습니다.\", \"Ryan님이 들어왔습니다.\", \"Prodo님이 나갔습니다.\", \"Prodo님이 들어왔습니다.\"])\r\n",
        "#print(solution([\"Enter uid1234 Muzi\"]), [\"Muzi님이 들어왔습니다.\"])\r\n",
        "#print(solution([\"Enter uid1234 Muzi\", \"Leave uid1234\", \"Enter uid1234 Prodo\"]), [\"Prodo님이 들어왔습니다.\", \"Prodo님이 나갔습니다.\", \"Prodo님이 들어왔습니다.\"])\r\n",
        "print(solution([\"Enter uid1234 Muzi\", \"Enter uid4567 Prodo\",\"Leave uid1234\",\"Enter uid1234 Prodo\",\"Change uid4567 Ryan\", \"Enter uid12 AAA\", \"Enter uid123 B\"]))"
      ],
      "execution_count": 47,
      "outputs": [
        {
          "output_type": "stream",
          "text": [
            "['Prodo님이 들어왔습니다.', 'Ryan님이 들어왔습니다.', 'Prodo님이 나갔습니다.', 'Prodo님이 들어왔습니다.', 'AAA님이 들어왔습니다.', 'B님이 들어왔습니다.']\n"
          ],
          "name": "stdout"
        }
      ]
    }
  ]
}