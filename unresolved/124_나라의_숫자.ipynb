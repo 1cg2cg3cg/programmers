{
  "nbformat": 4,
  "nbformat_minor": 0,
  "metadata": {
    "colab": {
      "name": "124 나라의 숫자.ipynb",
      "provenance": [],
      "authorship_tag": "ABX9TyPkkzOfkqqy3o6l4nYj+pj9",
      "include_colab_link": true
    },
    "kernelspec": {
      "name": "python3",
      "display_name": "Python 3"
    }
  },
  "cells": [
    {
      "cell_type": "markdown",
      "metadata": {
        "id": "view-in-github",
        "colab_type": "text"
      },
      "source": [
        "<a href=\"https://colab.research.google.com/github/1cg2cg3cg/programmers/blob/main/unresolved/124_%EB%82%98%EB%9D%BC%EC%9D%98_%EC%88%AB%EC%9E%90.ipynb\" target=\"_parent\"><img src=\"https://colab.research.google.com/assets/colab-badge.svg\" alt=\"Open In Colab\"/></a>"
      ]
    },
    {
      "cell_type": "code",
      "metadata": {
        "colab": {
          "base_uri": "https://localhost:8080/"
        },
        "id": "rxlPQ0wNqabs",
        "outputId": "be0ce94f-b004-4a84-f88b-6c18ef4bd1df"
      },
      "source": [
        "def solution(n):\r\n",
        "    index = 1\r\n",
        "\r\n",
        "    while n-3**index > 0 :\r\n",
        "        n -= 3 ** index\r\n",
        "        index += 1\r\n",
        "    \r\n",
        "    answer = ['1'] * index\r\n",
        "\r\n",
        "    n -= 1\r\n",
        "    temp_n = 0\r\n",
        "    index -= 1\r\n",
        "    num_index = 0\r\n",
        "    divider = 3 ** index\r\n",
        "    print(n, divider)\r\n",
        "    while divider != 1 :\r\n",
        "        print(divider)\r\n",
        "        temp_n = n // divider\r\n",
        "        if temp_n == 0 :\r\n",
        "            answer[num_index] = '1'\r\n",
        "        elif temp_n == 1 :\r\n",
        "            answer[num_index] = '2'\r\n",
        "        else :\r\n",
        "            answer[num_index] = '4'\r\n",
        "\r\n",
        "        print(\"C\", answer, 'num_index', num_index, 'divider', divider, 'temp_n', temp_n)\r\n",
        "        num_index += 1\r\n",
        "        index -= 1\r\n",
        "        divider = 3 ** index\r\n",
        "    \r\n",
        "    '''\r\n",
        "    if (n+1)%3 == 0 :\r\n",
        "        answer[-1] = '4'\r\n",
        "    elif (n+1)%3 == 2 :\r\n",
        "        answer[-1] = '2'\r\n",
        "    else :\r\n",
        "        answer[-1] = '1'\r\n",
        "    '''\r\n",
        "    return ''.join(answer)\r\n",
        "\r\n",
        "\r\n",
        "\r\n",
        "#print(solution(1), '\\t 1')\r\n",
        "#print(solution(2), '\\t 2')\r\n",
        "#print(solution(3), '\\t 4')\r\n",
        "#print(solution(4), '\\t 11')\r\n",
        "#print(solution(7), '\\t 21')\r\n",
        "#print(solution(10), '\\t 41')\r\n",
        "#print(solution(13), '\\t 111')\r\n",
        "#print(solution(16), '\\t 121')\r\n",
        "#print(solution(19), '\\t 141')\r\n",
        "#print(solution(40), '\\t 1111')\r\n",
        "#print(solution(41), '\\t 1112')\r\n",
        "#print(solution(42), '\\t 1114')\r\n",
        "#print(solution(43), '\\t 1121')\r\n",
        "print(solution(513), '\\t 124224')"
      ],
      "execution_count": null,
      "outputs": [
        {
          "output_type": "stream",
          "text": [
            "149 243\n",
            "243\n",
            "C ['1', '1', '1', '1', '1', '1'] num_index 0 divider 243 temp_n 0\n",
            "81\n",
            "C ['1', '2', '1', '1', '1', '1'] num_index 1 divider 81 temp_n 1\n",
            "27\n",
            "C ['1', '2', '4', '1', '1', '1'] num_index 2 divider 27 temp_n 5\n",
            "9\n",
            "C ['1', '2', '4', '4', '1', '1'] num_index 3 divider 9 temp_n 16\n",
            "3\n",
            "C ['1', '2', '4', '4', '4', '1'] num_index 4 divider 3 temp_n 49\n",
            "124441 \t 124224\n"
          ],
          "name": "stdout"
        }
      ]
    },
    {
      "cell_type": "code",
      "metadata": {
        "colab": {
          "base_uri": "https://localhost:8080/"
        },
        "id": "AC2UHRSTtSbA",
        "outputId": "ac043b9c-1cd1-48df-9059-e5f6c2d9ea35"
      },
      "source": [
        "def solution(n):\r\n",
        "    index = 1\r\n",
        "\r\n",
        "    while n-3**index > 0 :\r\n",
        "        n -= 3 ** index\r\n",
        "        index += 1\r\n",
        "    \r\n",
        "    answer = ['1'] * index\r\n",
        "    print(index,'자리의', n, '번째 수')\r\n",
        "    n -= 1\r\n",
        "    temp_n = 0\r\n",
        "    index -= 1\r\n",
        "    num_index = 0\r\n",
        "    divider = 3 ** index\r\n",
        "    while divider != 1 :\r\n",
        "        \r\n",
        "        temp_n = n // divider\r\n",
        "        if temp_n == 0 :\r\n",
        "            answer[num_index] = '1'\r\n",
        "        elif temp_n == 1 :\r\n",
        "            answer[num_index] = '2'\r\n",
        "        else :\r\n",
        "            answer[num_index] = '4'\r\n",
        "        num_index += 1\r\n",
        "        index -= 1\r\n",
        "        divider = 3 ** index\r\n",
        "\r\n",
        "        print(\"\\t E\", temp_n, divider, index)\r\n",
        "    \r\n",
        "    return ''.join(answer)\r\n",
        "\r\n",
        "\r\n",
        "\r\n",
        "print(solution(1), '\\t 1')\r\n",
        "print(solution(2), '\\t 2')\r\n",
        "print(solution(3), '\\t 4')\r\n",
        "#print(solution(4), '\\t 11')\r\n",
        "#print(solution(7), '\\t 21')\r\n",
        "#print(solution(10), '\\t 41')\r\n",
        "#print(solution(13), '\\t 111')\r\n",
        "#print(solution(16), '\\t 121')\r\n",
        "#print(solution(19), '\\t 141')\r\n",
        "#print(solution(40), '\\t 1111')"
      ],
      "execution_count": null,
      "outputs": [
        {
          "output_type": "stream",
          "text": [
            "1 자리의 1 번째 수\n",
            "1 \t 1\n",
            "1 자리의 2 번째 수\n",
            "1 \t 2\n",
            "1 자리의 3 번째 수\n",
            "1 \t 4\n"
          ],
          "name": "stdout"
        }
      ]
    },
    {
      "cell_type": "code",
      "metadata": {
        "colab": {
          "base_uri": "https://localhost:8080/"
        },
        "id": "ew2jFI3T6BUG",
        "outputId": "95ed8887-254c-44b2-9c15-4842b80c7998"
      },
      "source": [
        "def solution(n):\r\n",
        "    answer = 0\r\n",
        "    start_val, index = 0, 0\r\n",
        "    num3 = []\r\n",
        "    \r\n",
        "    while start_val <= n :       # find start_val (max 3^n)\r\n",
        "        index += 1               # 3진법의 가장 앞자리 수 찾기\r\n",
        "        start_val = 3 ** index\r\n",
        "\r\n",
        "    start_val = 3**(index-1)\r\n",
        "    \r\n",
        "    #print(start_val)\r\n",
        "\r\n",
        "    while n > 0 :               # convert to base3\r\n",
        "        idx = n // start_val\r\n",
        "        num3.append(int(idx))\r\n",
        "\r\n",
        "        n -= start_val * idx\r\n",
        "        start_val = start_val/3\r\n",
        "\r\n",
        "    print(num3, index)\r\n",
        "\r\n",
        "    #print(num3)\r\n",
        "    #answer = num3.replace('0', '4')\r\n",
        "    return answer\r\n",
        "\r\n",
        "print(solution(1), '\\t 1')\r\n",
        "print(solution(2), '\\t 2')\r\n",
        "print(solution(3), '\\t 4')\r\n",
        "#print(solution(4), '\\t 11')\r\n",
        "#print(solution(7), '\\t 21')\r\n",
        "#print(solution(10), '\\t 41')\r\n",
        "#print(solution(13), '\\t 111')\r\n",
        "#print(solution(16), '\\t 121')\r\n",
        "print(solution(19), '\\t 141')\r\n",
        "#print(solution(40), '\\t 1111')"
      ],
      "execution_count": null,
      "outputs": [
        {
          "output_type": "stream",
          "text": [
            "[1] 1\n",
            "0 \t 1\n",
            "[2] 1\n",
            "0 \t 2\n",
            "[1] 2\n",
            "0 \t 4\n",
            "[2, 0, 1] 3\n",
            "0 \t 141\n"
          ],
          "name": "stdout"
        }
      ]
    }
  ]
}