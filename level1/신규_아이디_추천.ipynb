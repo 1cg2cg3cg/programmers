{
  "nbformat": 4,
  "nbformat_minor": 0,
  "metadata": {
    "colab": {
      "name": "신규 아이디 추천.ipynb",
      "provenance": [],
      "collapsed_sections": [],
      "authorship_tag": "ABX9TyM8A3Os/jHatm6jS84kvadq",
      "include_colab_link": true
    },
    "kernelspec": {
      "name": "python3",
      "display_name": "Python 3"
    }
  },
  "cells": [
    {
      "cell_type": "markdown",
      "metadata": {
        "id": "view-in-github",
        "colab_type": "text"
      },
      "source": [
        "<a href=\"https://colab.research.google.com/github/1cg2cg3cg/programmers/blob/main/%EC%8B%A0%EA%B7%9C_%EC%95%84%EC%9D%B4%EB%94%94_%EC%B6%94%EC%B2%9C.ipynb\" target=\"_parent\"><img src=\"https://colab.research.google.com/assets/colab-badge.svg\" alt=\"Open In Colab\"/></a>"
      ]
    },
    {
      "cell_type": "code",
      "metadata": {
        "colab": {
          "base_uri": "https://localhost:8080/"
        },
        "id": "KvqfxH_xQnQi",
        "outputId": "53277111-5703-4594-afd1-c86d9b25f52b"
      },
      "source": [
        "def solution(new_id):\r\n",
        "    #step 1 new_id의 모든 대문자를 대응되는 소문자로 치환합니다.\r\n",
        "    new_id = new_id.lower()\r\n",
        "    \r\n",
        "    #setp 2 new_id에서 알파벳 소문자, 숫자, 빼기(-), 밑줄(_), 마침표(.)를 제외한 모든 문자를 제거합니다.\r\n",
        "    for char in new_id :\r\n",
        "        if not char.isalpha() and not char.isdigit() :\r\n",
        "            \r\n",
        "            if char in ['-','_','.'] :\r\n",
        "                continue\r\n",
        "            else :\r\n",
        "                new_id = new_id.replace(char,'')\r\n",
        "\r\n",
        "    #step 3 new_id에서 마침표(.)가 2번 이상 연속된 부분을 하나의 마침표(.)로 치환합니다.\r\n",
        "    while '..' in new_id :\r\n",
        "        new_id = new_id.replace('..', '.')\r\n",
        "\r\n",
        "    \r\n",
        "    #step 4 new_id에서 마침표(.)가 처음이나 끝에 위치한다면 제거합니다.\r\n",
        "    while new_id and new_id[0] == '.' :\r\n",
        "        if len(new_id) <= 1 :\r\n",
        "            new_id = ''\r\n",
        "        else :\r\n",
        "            new_id = new_id[1:]\r\n",
        "\r\n",
        "    while new_id and new_id[-1] == '.' :\r\n",
        "        if len(new_id) <= 1 :\r\n",
        "            new_id = ''\r\n",
        "        else :\r\n",
        "            new_id = new_id[:-1]\r\n",
        "\r\n",
        "    #step 5 new_id가 빈 문자열이라면, new_id에 \"a\"를 대입합니다.\r\n",
        "    if not new_id :\r\n",
        "        new_id = 'a'\r\n",
        "\r\n",
        "    #setp 6 new_id의 길이가 16자 이상이면, new_id의 첫 15개의 문자를 제외한 나머지 문자들을 모두 제거합니다.\r\n",
        "    #       만약 제거 후 마침표(.)가 new_id의 끝에 위치한다면 끝에 위치한 마침표(.) 문자를 제거합니다.\r\n",
        "    if len(new_id) >= 16 :\r\n",
        "        new_id = new_id[:15]\r\n",
        "    if new_id[-1] == '.' :\r\n",
        "        new_id = new_id[:-1]\r\n",
        "\r\n",
        "    #step 7 new_id의 길이가 2자 이하라면, new_id의 마지막 문자를 new_id의 길이가 3이 될 때까지 반복해서 끝에 붙입니다.    \r\n",
        "    while len(new_id) <= 2 :\r\n",
        "        new_id = new_id + new_id[-1]\r\n",
        "\r\n",
        "    return new_id\r\n",
        "\r\n",
        "print(solution(\"...!@BaT#*..y.abcdefghijklm123\"), '\\t \"bat.y.abcdefghi\"')\r\n",
        "print(solution(\"z-+.^.\"), '\\t z--')\r\n",
        "print(solution(\"=.=\"), '\\t aaa')\r\n",
        "print(solution(\"123_.def\"), '\\t 123_.def')\r\n",
        "print(solution(\"abcdefghijklmn.p\"), '\\t abcdefghijklmn')"
      ],
      "execution_count": 65,
      "outputs": [
        {
          "output_type": "stream",
          "text": [
            "bat.y.abcdefghi \t \"bat.y.abcdefghi\"\n",
            "z-- \t z--\n",
            "aaa \t aaa\n",
            "123_.def \t 123_.def\n",
            "abcdefghijklmn \t abcdefghijklmn\n"
          ],
          "name": "stdout"
        }
      ]
    },
    {
      "cell_type": "code",
      "metadata": {
        "id": "fwmPzPKpbygh"
      },
      "source": [
        "# 정규식 사용 풀이 from Backkom , 우동헌 , Yumin\r\n",
        "import re\r\n",
        "\r\n",
        "def solution(new_id):\r\n",
        "    st = new_id\r\n",
        "    st = st.lower()\r\n",
        "    st = re.sub('[^a-z0-9\\-_.]', '', st)\r\n",
        "    st = re.sub('\\.+', '.', st)\r\n",
        "    st = re.sub('^[.]|[.]$', '', st)\r\n",
        "    st = 'a' if len(st) == 0 else st[:15]\r\n",
        "    st = re.sub('^[.]|[.]$', '', st)\r\n",
        "    st = st if len(st) > 2 else st + \"\".join([st[-1] for i in range(3-len(st))])\r\n",
        "    return st"
      ],
      "execution_count": null,
      "outputs": []
    }
  ]
}
