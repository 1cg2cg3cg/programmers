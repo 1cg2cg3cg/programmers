{
  "nbformat": 4,
  "nbformat_minor": 0,
  "metadata": {
    "colab": {
      "name": "[1차] 비밀지도.ipynb",
      "provenance": [],
      "collapsed_sections": [],
      "authorship_tag": "ABX9TyOSodRcR1J+mDdJi4fHteEC",
      "include_colab_link": true
    },
    "kernelspec": {
      "name": "python3",
      "display_name": "Python 3"
    }
  },
  "cells": [
    {
      "cell_type": "markdown",
      "metadata": {
        "id": "view-in-github",
        "colab_type": "text"
      },
      "source": [
        "<a href=\"https://colab.research.google.com/github/1cg2cg3cg/programmers/blob/main/level1/%5B1%EC%B0%A8%5D_%EB%B9%84%EB%B0%80%EC%A7%80%EB%8F%84.ipynb\" target=\"_parent\"><img src=\"https://colab.research.google.com/assets/colab-badge.svg\" alt=\"Open In Colab\"/></a>"
      ]
    },
    {
      "cell_type": "code",
      "metadata": {
        "colab": {
          "base_uri": "https://localhost:8080/"
        },
        "id": "Qscgeak-tMLy",
        "outputId": "f56562e5-2249-45e9-882c-8af7aa25bf9e"
      },
      "source": [
        "import re\r\n",
        "def solution(n, arr1, arr2):\r\n",
        "    answer = ['']*n\r\n",
        "    \r\n",
        "    for i in range(n) :\r\n",
        "        answer[i] = bin(arr1[i] | arr2[i])[2:] if len(bin(arr1[i] | arr2[i])[2:]) == n else '0'* (n - len(bin(arr1[i] | arr2[i])[2:])) + bin(arr1[i] | arr2[i])[2:]\r\n",
        "    \r\n",
        "    for i in range(n) :\r\n",
        "        answer[i] = re.sub('1', '#', answer[i])\r\n",
        "        answer[i] = re.sub('0', ' ', answer[i])\r\n",
        "    return answer\r\n",
        "\r\n",
        "print(solution(5, [9,20,28,18,11], [30,1,21,17,28]), '\\t [\"#####\",\"# # #\", \"### #\", \"# ##\", \"#####\"]')\r\n",
        "print(solution(6, [46,33,33,22,31,50], [46,33,33,22,31,50]), '\\t [\"######\", \"### #\", \"## ##\", \" #### \", \" #####\", \"### # \"]')"
      ],
      "execution_count": 41,
      "outputs": [
        {
          "output_type": "stream",
          "text": [
            "['#####', '# # #', '### #', '#  ##', '#####'] \t [\"#####\",\"# # #\", \"### #\", \"# ##\", \"#####\"]\n",
            "['# ### ', '#    #', '#    #', ' # ## ', ' #####', '##  # '] \t [\"######\", \"### #\", \"## ##\", \" #### \", \" #####\", \"### # \"]\n"
          ],
          "name": "stdout"
        }
      ]
    },
    {
      "cell_type": "code",
      "metadata": {
        "colab": {
          "base_uri": "https://localhost:8080/"
        },
        "id": "dIL2OuSRwiDK",
        "outputId": "5071fef7-4161-4a47-df85-5363098a2f54"
      },
      "source": [
        "# re 모듈 사용하지 않는 풀이 from Hansol Eom , 이성수 , 조미나 , 배효진 , 이석현 외 20 명\r\n",
        "def solution(n, arr1, arr2):\r\n",
        "    answer = []\r\n",
        "    for i,j in zip(arr1,arr2):\r\n",
        "        a12 = str(bin(i|j)[2:])\r\n",
        "        a12=a12.rjust(n,'0')\r\n",
        "        a12=a12.replace('1','#')\r\n",
        "        a12=a12.replace('0',' ')\r\n",
        "        answer.append(a12)\r\n",
        "    return answer\r\n",
        "\r\n",
        "\r\n",
        "print(solution(5, [9,20,28,18,11], [30,1,21,17,28]), '\\t [\"#####\",\"# # #\", \"### #\", \"# ##\", \"#####\"]')\r\n",
        "print(solution(6, [46,33,33,22,31,50], [46,33,33,22,31,50]), '\\t [\"######\", \"### #\", \"## ##\", \" #### \", \" #####\", \"### # \"]')"
      ],
      "execution_count": 42,
      "outputs": [
        {
          "output_type": "stream",
          "text": [
            "['#####', '# # #', '### #', '#  ##', '#####'] \t [\"#####\",\"# # #\", \"### #\", \"# ##\", \"#####\"]\n",
            "['# ### ', '#    #', '#    #', ' # ## ', ' #####', '##  # '] \t [\"######\", \"### #\", \"## ##\", \" #### \", \" #####\", \"### # \"]\n"
          ],
          "name": "stdout"
        }
      ]
    },
    {
      "cell_type": "code",
      "metadata": {
        "colab": {
          "base_uri": "https://localhost:8080/",
          "height": 34
        },
        "id": "9H3qZLS4zUih",
        "outputId": "c86ea4c5-6171-4754-ecf9-3e52f39c4f58"
      },
      "source": [
        "# string 앞에 0 채우는 방법\r\n",
        "# 1. zfill()\r\n",
        "# 2. rjust()\r\n",
        "\r\n",
        "        # zfill(width)\r\n",
        "#\"002\"\r\n",
        "\"2\".zfill(3)\r\n",
        " \r\n",
        "#\"50000\"\r\n",
        "\"50000\".zfill(5)\r\n",
        " \r\n",
        "#\"00123\"\r\n",
        "\"123\".zfill(5)\r\n",
        "\r\n",
        "        # rjust(width, [fillchar]) \"a\"와 같이 원하는 문자를 지정해 앞 부분 채우기 가능\r\n",
        "\r\n",
        "#\"002\"\r\n",
        "\"2\".rjust(3,\"0\")\r\n",
        " \r\n",
        "#\"50000\"\r\n",
        "\"50000\".rjust(5,\"0\")\r\n",
        " \r\n",
        "#\"00123\"\r\n",
        "\"123\".rjust(5,\"0\")\r\n",
        " \r\n",
        "#\"aa123\"\r\n",
        "\"123\".rjust(5,\"a\")\r\n",
        "\r\n",
        "#출처: https://kkamikoon.tistory.com/136 [컴퓨터를 다루다]"
      ],
      "execution_count": 45,
      "outputs": [
        {
          "output_type": "execute_result",
          "data": {
            "application/vnd.google.colaboratory.intrinsic+json": {
              "type": "string"
            },
            "text/plain": [
              "'aa123'"
            ]
          },
          "metadata": {
            "tags": []
          },
          "execution_count": 45
        }
      ]
    }
  ]
}