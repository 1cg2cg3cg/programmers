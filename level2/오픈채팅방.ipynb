{
  "nbformat": 4,
  "nbformat_minor": 0,
  "metadata": {
    "colab": {
      "name": "오픈채팅방.ipynb",
      "provenance": [],
      "authorship_tag": "ABX9TyNCOP0JarMoEp+OZctWxz7e",
      "include_colab_link": true
    },
    "kernelspec": {
      "name": "python3",
      "display_name": "Python 3"
    }
  },
  "cells": [
    {
      "cell_type": "markdown",
      "metadata": {
        "id": "view-in-github",
        "colab_type": "text"
      },
      "source": [
        "<a href=\"https://colab.research.google.com/github/1cg2cg3cg/programmers/blob/main/level2/%EC%98%A4%ED%94%88%EC%B1%84%ED%8C%85%EB%B0%A9.ipynb\" target=\"_parent\"><img src=\"https://colab.research.google.com/assets/colab-badge.svg\" alt=\"Open In Colab\"/></a>"
      ]
    },
    {
      "cell_type": "code",
      "metadata": {
        "colab": {
          "base_uri": "https://localhost:8080/"
        },
        "id": "3Kq9Lzh55IeY",
        "outputId": "d6472eca-ac23-47c1-8ac0-9131272780b4"
      },
      "source": [
        "def solution(record):\r\n",
        "    answer = []\r\n",
        "    for message in record :\r\n",
        "        \r\n",
        "        if len(message.split()) == 2 :\r\n",
        "            command, user_id = message.split()\r\n",
        "        else :     \r\n",
        "            command, user_id, nick_name = message.split()\r\n",
        "        \r\n",
        "        if command == 'Enter' :\r\n",
        "            answer.append([command, user_id, nick_name])\r\n",
        "            for i, a in enumerate(answer) :\r\n",
        "                print(a[1], answer[i][2], nick_name)\r\n",
        "                if a[1] == user_id :\r\n",
        "                    answer[i][2] = nick_name\r\n",
        "        \r\n",
        "        elif command == 'Leave' :\r\n",
        "            answer.append([command, user_id, nick_name])\r\n",
        "\r\n",
        "        elif command == 'Change' :\r\n",
        "            for i, a in enumerate(answer) :\r\n",
        "                print('\\t', a[1], answer[i][2], nick_name)\r\n",
        "                if a[1] == user_id :\r\n",
        "                    answer[i][2] = nick_name\r\n",
        "    print(answer)\r\n",
        "    for i, message in enumerate(answer) :\r\n",
        "        if message[0] == 'Enter' :\r\n",
        "            answer[i] = message[2] + '님이 들어왔습니다.'\r\n",
        "        \r\n",
        "        elif message[0] == 'Leave' :\r\n",
        "            answer[i] = message[2] + '님이 나갔습니다.'\r\n",
        "    \r\n",
        "    print(answer)\r\n",
        "    return answer\r\n",
        "\r\n",
        "print(solution([\"Enter uid1234 Muzi\", \"Enter uid4567 Prodo\",\"Leave uid1234\",\"Enter uid1234 Prodo\",\"Change uid4567 Ryan\"]) == [\"Prodo님이 들어왔습니다.\", \"Ryan님이 들어왔습니다.\", \"Prodo님이 나갔습니다.\", \"Prodo님이 들어왔습니다.\"])\r\n",
        "#print(solution([\"Enter uid1234 Muzi\"]), [\"Muzi님이 들어왔습니다.\"])\r\n",
        "#print(solution([\"Enter uid1234 Muzi\", \"Leave uid1234\", \"Enter uid1234 Prodo\"]), [\"Prodo님이 들어왔습니다.\", \"Prodo님이 나갔습니다.\", \"Prodo님이 들어왔습니다.\"])"
      ],
      "execution_count": 41,
      "outputs": [
        {
          "output_type": "stream",
          "text": [
            "uid1234 Muzi Muzi\n",
            "uid1234 Muzi Prodo\n",
            "uid4567 Prodo Prodo\n",
            "uid1234 Muzi Prodo\n",
            "uid4567 Prodo Prodo\n",
            "uid1234 Prodo Prodo\n",
            "uid1234 Prodo Prodo\n",
            "\t uid1234 Prodo Ryan\n",
            "\t uid4567 Prodo Ryan\n",
            "\t uid1234 Prodo Ryan\n",
            "\t uid1234 Prodo Ryan\n",
            "[['Enter', 'uid1234', 'Prodo'], ['Enter', 'uid4567', 'Ryan'], ['Leave', 'uid1234', 'Prodo'], ['Enter', 'uid1234', 'Prodo']]\n",
            "['Prodo님이 들어왔습니다.', 'Ryan님이 들어왔습니다.', 'Prodo님이 나갔습니다.', 'Prodo님이 들어왔습니다.']\n",
            "True\n"
          ],
          "name": "stdout"
        }
      ]
    },
    {
      "cell_type": "code",
      "metadata": {
        "id": "CPeqymlUHR68"
      },
      "source": [
        "import collections\r\n",
        "def solution(record) :\r\n",
        "    answer = collections.dafualtdict(list)\r\n",
        "\r\n",
        "    for message in record :\r\n",
        "        \r\n",
        "        if len(message.split()) == 2 :\r\n",
        "            command, user_id = message.split()\r\n",
        "        else :     \r\n",
        "            command, user_id, nick_name = message.split()\r\n",
        "\r\n",
        "        \r\n",
        "    return "
      ],
      "execution_count": null,
      "outputs": []
    }
  ]
}