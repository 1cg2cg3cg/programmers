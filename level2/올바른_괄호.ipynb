{
  "nbformat": 4,
  "nbformat_minor": 0,
  "metadata": {
    "colab": {
      "name": "올바른 괄호.ipynb",
      "provenance": [],
      "collapsed_sections": [],
      "authorship_tag": "ABX9TyP/acZChpWwB6bCn0pddgjG",
      "include_colab_link": true
    },
    "kernelspec": {
      "name": "python3",
      "display_name": "Python 3"
    }
  },
  "cells": [
    {
      "cell_type": "markdown",
      "metadata": {
        "id": "view-in-github",
        "colab_type": "text"
      },
      "source": [
        "<a href=\"https://colab.research.google.com/github/1cg2cg3cg/programmers/blob/main/level2/%EC%98%AC%EB%B0%94%EB%A5%B8_%EA%B4%84%ED%98%B8.ipynb\" target=\"_parent\"><img src=\"https://colab.research.google.com/assets/colab-badge.svg\" alt=\"Open In Colab\"/></a>"
      ]
    },
    {
      "cell_type": "code",
      "metadata": {
        "colab": {
          "base_uri": "https://localhost:8080/"
        },
        "id": "r0G8VJ8w3S26",
        "outputId": "4a41802e-f65d-424d-e79e-06c72e4668d8"
      },
      "source": [
        "# solved!\r\n",
        "# (를 만나는 경우 cnt +1, )를 만나는 경우 cnt -1\r\n",
        "# ( 보다 )가 더 많이 등장한 경우 cnt가 음수가 되어 False\r\n",
        "# 모든 s를 확인한 이후 cnt가 0이 아니라면 짝이 안맞는 (또는 )가 있음 = False\r\n",
        "# 나머지 경우 True\r\n",
        "def solution(s):\r\n",
        "\r\n",
        "    cnt = 0\r\n",
        "    for i in s :\r\n",
        "        if i == '(' :\r\n",
        "            cnt += 1\r\n",
        "        else :\r\n",
        "            cnt -= 1\r\n",
        "        \r\n",
        "        if cnt < 0 :\r\n",
        "            return False\r\n",
        "    else :\r\n",
        "        if cnt != 0 :\r\n",
        "            return False\r\n",
        "        else :\r\n",
        "            return True\r\n",
        "\r\n",
        "print(solution(\"()()\"), True)\r\n",
        "print(solution(\"(())()\"), True)\r\n",
        "print(solution(\")()(\"), False)\r\n",
        "print(solution(\"(()(\"), False)\r\n",
        "print(solution(\"(())(()\"), False)\r\n",
        "print(solution(\"(()))\"), False)\r\n",
        "print(solution(\"((((()))\"), False)\r\n",
        "print(solution(\")()\"), False)\r\n",
        "print(solution(\"((((\"), False)\r\n",
        "print(solution(\"))()((\"), False)\r\n",
        "print(solution(\"(())(())\"), True)\r\n",
        "print(solution(\"())\"), False)\r\n",
        "print(solution(\"(()())\"), True)"
      ],
      "execution_count": 15,
      "outputs": [
        {
          "output_type": "stream",
          "text": [
            "True True\n",
            "True True\n",
            "False False\n",
            "False False\n",
            "False False\n",
            "False False\n",
            "False False\n",
            "False False\n",
            "False False\n",
            "False False\n",
            "True True\n",
            "False False\n",
            "True True\n"
          ],
          "name": "stdout"
        }
      ]
    },
    {
      "cell_type": "code",
      "metadata": {
        "colab": {
          "base_uri": "https://localhost:8080/"
        },
        "id": "XxQI1xYcs5Pj",
        "outputId": "d6cab592-d3f4-4359-c21a-dd6dffce25c1"
      },
      "source": [
        "# 효율성 0\r\n",
        "# 주어진 문자열 s에 ()의 쌍이 있는 경우 제거한다.\r\n",
        "# while 이후 s에 남은 문자가 없으면 True\r\n",
        "# while 이후 (, )이 남거나 공백이 아닌 경우 False\r\n",
        "def solution(s) :\r\n",
        "    while '()' in s :\r\n",
        "        s = s.replace('()', '')\r\n",
        "\r\n",
        "    if s :\r\n",
        "        return False\r\n",
        "    else :\r\n",
        "        return True\r\n",
        "\r\n",
        "print(solution(\"()()\"), True)\r\n",
        "print(solution(\"(())()\"), True)\r\n",
        "print(solution(\")()(\"), False)\r\n",
        "print(solution(\"(()(\"), False)\r\n",
        "print(solution(\"(())(()\"), False)\r\n",
        "print(solution(\"(()))\"), False)\r\n",
        "print(solution(\"((((()))\"), False)\r\n",
        "print(solution(\")()\"), False)\r\n",
        "print(solution(\"((((\"), False)\r\n",
        "print(solution(\"))()((\"), False)\r\n",
        "print(solution(\"(())(())\"), True)\r\n",
        "print(solution(\"())\"), False)\r\n",
        "print(solution(\"(()())\"), True)"
      ],
      "execution_count": 16,
      "outputs": [
        {
          "output_type": "stream",
          "text": [
            "True True\n",
            "True True\n",
            "False False\n",
            "False False\n",
            "False False\n",
            "False False\n",
            "False False\n",
            "False False\n",
            "False False\n",
            "False False\n",
            "True True\n",
            "False False\n",
            "True True\n"
          ],
          "name": "stdout"
        }
      ]
    }
  ]
}