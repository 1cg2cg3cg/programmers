{
  "nbformat": 4,
  "nbformat_minor": 0,
  "metadata": {
    "colab": {
      "name": "H-index.ipynb",
      "provenance": [],
      "collapsed_sections": [],
      "authorship_tag": "ABX9TyPgBy6I4tx38ZykGhhRWn/2",
      "include_colab_link": true
    },
    "kernelspec": {
      "name": "python3",
      "display_name": "Python 3"
    }
  },
  "cells": [
    {
      "cell_type": "markdown",
      "metadata": {
        "id": "view-in-github",
        "colab_type": "text"
      },
      "source": [
        "<a href=\"https://colab.research.google.com/github/1cg2cg3cg/programmers/blob/main/SORT/H_index.ipynb\" target=\"_parent\"><img src=\"https://colab.research.google.com/assets/colab-badge.svg\" alt=\"Open In Colab\"/></a>"
      ]
    },
    {
      "cell_type": "code",
      "metadata": {
        "colab": {
          "base_uri": "https://localhost:8080/"
        },
        "id": "NgEegk8ktDS8",
        "outputId": "b721d22a-04e1-4d94-8b84-e94965bdac1e"
      },
      "source": [
        "def solution(citations) :\r\n",
        "    answer = 0\r\n",
        "    cits = sorted(citations)\r\n",
        "    cit_num = 0\r\n",
        "\r\n",
        "    for h in range(max(citations)) :\r\n",
        "        for i in range(len(cits)) :\r\n",
        "            cit_num = len(cits) - i\r\n",
        "            if cits[i] >= h and cit_num >= h :\r\n",
        "                answer = h\r\n",
        "                break\r\n",
        "\r\n",
        "    return answer\r\n",
        "\r\n",
        "\r\n",
        "print(solution([3, 0, 6, 1, 5]), \"\\t3\")"
      ],
      "execution_count": 12,
      "outputs": [
        {
          "output_type": "stream",
          "text": [
            "3 \t3\n"
          ],
          "name": "stdout"
        }
      ]
    },
    {
      "cell_type": "code",
      "metadata": {
        "cellView": "form",
        "id": "KB8HPTQjvZlb"
      },
      "source": [
        "#@title I don't know when I wrote this code\r\n",
        "def solution(citations):\r\n",
        "    answer = 0\r\n",
        "    ci_str = ''\r\n",
        "\r\n",
        "    citations.sort(reverse = True)\r\n",
        "    \r\n",
        "    for i in range(len(citations)) :\r\n",
        "        ci_str += str(citations[i])\r\n",
        "\r\n",
        "    for i in range(len(ci_str)) :\r\n",
        "        x = ci_str[i]\r\n",
        "        if int(ci_str.rindex(str(x)))+1 >= int(x) :\r\n",
        "            if len(ci_str) - int(ci_str.rindex(str(x))) <= int(x) :\r\n",
        "                return int(x)\r\n",
        "\r\n",
        "    return answer"
      ],
      "execution_count": null,
      "outputs": []
    }
  ]
}