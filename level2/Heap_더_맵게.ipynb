{
  "nbformat": 4,
  "nbformat_minor": 0,
  "metadata": {
    "colab": {
      "name": "더 맵게.ipynb",
      "provenance": [],
      "collapsed_sections": [],
      "authorship_tag": "ABX9TyMubu+ORQbfUoXuPcmu/pqW",
      "include_colab_link": true
    },
    "kernelspec": {
      "name": "python3",
      "display_name": "Python 3"
    }
  },
  "cells": [
    {
      "cell_type": "markdown",
      "metadata": {
        "id": "view-in-github",
        "colab_type": "text"
      },
      "source": [
        "<a href=\"https://colab.research.google.com/github/1cg2cg3cg/programmers/blob/main/level2/Heap_%EB%8D%94_%EB%A7%B5%EA%B2%8C.ipynb\" target=\"_parent\"><img src=\"https://colab.research.google.com/assets/colab-badge.svg\" alt=\"Open In Colab\"/></a>"
      ]
    },
    {
      "cell_type": "code",
      "metadata": {
        "colab": {
          "base_uri": "https://localhost:8080/"
        },
        "id": "toDfc5ERr7J_",
        "outputId": "026a0c80-d8eb-42eb-e029-1a0d1e2f0438"
      },
      "source": [
        "# heapq module을 사용하는 것이 list를 사용해 stack, queue를 사용하는 것 보다 빠르다.\r\n",
        "import heapq\r\n",
        "def solution(scoville, K):\r\n",
        "    \r\n",
        "    if not scoville :\r\n",
        "        return -1\r\n",
        "\r\n",
        "    answer = 0\r\n",
        "    heap = []\r\n",
        "    \r\n",
        "    for i in scoville : # heapq.heapify(scoville)를 사용해 for를 대체할 수 있다.\r\n",
        "        heapq.heappush(heap, i)\r\n",
        "\r\n",
        "    a = heapq.heappop(heap)\r\n",
        "    while True :\r\n",
        "        if a >= K :\r\n",
        "            break\r\n",
        "        elif a < K and heap :\r\n",
        "            heapq.heappush(heap, a+heapq.heappop(heap)*2) # heapq.heappoppush 사용하기\r\n",
        "            answer += 1\r\n",
        "        else :\r\n",
        "            return -1\r\n",
        "        a = heapq.heappop(heap)\r\n",
        "\r\n",
        "    return answer\r\n",
        "\r\n",
        "print(solution([1,2,3,9,10,12], 7), 2)\r\n",
        "print(solution([0,1], 7), -1)\r\n",
        "print(solution([0], 7), -1)\r\n",
        "print(solution([14,6,6,7], 8), 2)\r\n",
        "print(solution([10, 12], 7), 0)"
      ],
      "execution_count": 82,
      "outputs": [
        {
          "output_type": "stream",
          "text": [
            "2 2\n",
            "-1 -1\n",
            "-1 -1\n",
            "2 2\n",
            "0 0\n"
          ],
          "name": "stdout"
        }
      ]
    },
    {
      "cell_type": "code",
      "metadata": {
        "colab": {
          "base_uri": "https://localhost:8080/"
        },
        "id": "yhxnm3qJOKrq",
        "outputId": "d6237143-212c-4919-aa56-20133a91effe"
      },
      "source": [
        "import heapq\r\n",
        "def solution(scoville, K):\r\n",
        "    \r\n",
        "    if not scoville :\r\n",
        "        return -1\r\n",
        "\r\n",
        "    answer = 0\r\n",
        "    heap = []\r\n",
        "    \r\n",
        "    for i in scoville :\r\n",
        "        heapq.heappush(heap, i)\r\n",
        "\r\n",
        "    if len(heap) == 1 and heapq.heappop(heap) < K :\r\n",
        "        return -1\r\n",
        "            \r\n",
        "    while len(heap) > 1 :\r\n",
        "        print(heap)\r\n",
        "        a, b = heapq.heappop(heap), heapq.heappop(heap)\r\n",
        "        if a >= K :\r\n",
        "            break\r\n",
        "        \r\n",
        "        heapq.heappush(heap, a+b*2)\r\n",
        "        answer += 1\r\n",
        "\r\n",
        "    return answer\r\n",
        "\r\n",
        "print(solution([1,2,3,9,10,12], 7), 2)\r\n",
        "print(solution([0,1], 7), -1)\r\n",
        "print(solution([0], 7), -1)\r\n",
        "print(solution([14,6,6,7], 8), 2)\r\n",
        "print(solution([10, 12], 7), 0)"
      ],
      "execution_count": 79,
      "outputs": [
        {
          "output_type": "stream",
          "text": [
            "[1, 2, 3, 9, 10, 12]\n",
            "[3, 5, 10, 12, 9]\n",
            "[9, 12, 10, 13]\n",
            "2 2\n",
            "[0, 1]\n",
            "1 -1\n",
            "-1 -1\n",
            "[6, 7, 6, 14]\n",
            "[7, 14, 18]\n",
            "[18, 35]\n",
            "2 2\n",
            "[10, 12]\n",
            "0 0\n"
          ],
          "name": "stdout"
        }
      ]
    },
    {
      "cell_type": "code",
      "metadata": {
        "colab": {
          "base_uri": "https://localhost:8080/"
        },
        "id": "yybPHJHbdMEV",
        "outputId": "528ac11e-66ae-464b-a723-82eb054ef7ca"
      },
      "source": [
        "# timeout error\r\n",
        "def solution(scoville, K):\r\n",
        "    answer = 0\r\n",
        "    scoville.sort(reverse=True)\r\n",
        "\r\n",
        "    while len(scoville) > 1 and min(scoville) < K:\r\n",
        "        a, b = scoville.pop(), scoville.pop()\r\n",
        "        scoville.append(a+2*b)\r\n",
        "        answer += 1\r\n",
        "        scoville.sort(reverse=True)\r\n",
        "\r\n",
        "    if not scoville or max(scoville) < K:\r\n",
        "        return -1\r\n",
        "            \r\n",
        "    return answer\r\n",
        "\r\n",
        "print(solution([1,2,3,9,10,12], 7), 2)\r\n",
        "print(solution([0,1], 7), -1)\r\n",
        "print(solution([14,6,6,7], 8), 2)"
      ],
      "execution_count": 71,
      "outputs": [
        {
          "output_type": "stream",
          "text": [
            "2 2\n",
            "-1 -1\n",
            "2 2\n"
          ],
          "name": "stdout"
        }
      ]
    },
    {
      "cell_type": "code",
      "metadata": {
        "colab": {
          "base_uri": "https://localhost:8080/"
        },
        "id": "46za-MC2gSQJ",
        "outputId": "5550c804-b4f4-4cf0-d809-dc4d546f9c80"
      },
      "source": [
        "# timeout error\r\n",
        "def solution(scoville, K):\r\n",
        "    answer = 0\r\n",
        "    s = [i for i in scoville if i < K]\r\n",
        "    scoville = [i for i in scoville if i >= K]\r\n",
        "\r\n",
        "    while len(s) > 1 and min(s) < K :\r\n",
        "        a = s.pop(s.index(min(s)))\r\n",
        "        b = s.pop(s.index(min(s)))\r\n",
        "\r\n",
        "        if a+2*b < K :\r\n",
        "            s.append(a+2*b)\r\n",
        "\r\n",
        "        answer += 1\r\n",
        "\r\n",
        "    if not scoville and len(s) == 1:\r\n",
        "        return -1\r\n",
        "    elif scoville and len(s) == 1 :\r\n",
        "        answer += 1\r\n",
        "\r\n",
        "    return answer\r\n",
        "\r\n",
        "print(solution([1,2,3,9,10,12], 7), 2)\r\n",
        "print(solution([0,1], 7), -1)\r\n",
        "print(solution([14,6,6,7], 8), 2)"
      ],
      "execution_count": 83,
      "outputs": [
        {
          "output_type": "stream",
          "text": [
            "2 2\n",
            "-1 -1\n",
            "2 2\n"
          ],
          "name": "stdout"
        }
      ]
    },
    {
      "cell_type": "code",
      "metadata": {
        "id": "_u1n93AgtoVP"
      },
      "source": [
        "# from 탈퇴한 사용자 , bugtype\r\n",
        "# heappoppush 사용\r\n",
        "import heapq\r\n",
        "\r\n",
        "def solution(scoville, K):\r\n",
        "    heapq.heapify(scoville)\r\n",
        "    size, cnt = len(scoville) - 1, 0\r\n",
        "    f = heapq.heappop(scoville)\r\n",
        "    while size > 0:\r\n",
        "        s = heapq.heappop(scoville)\r\n",
        "        f = heapq.heappushpop(scoville, f + s + s)\r\n",
        "        if f >= K:\r\n",
        "            return cnt + 1\r\n",
        "        cnt += 1\r\n",
        "        size -= 1\r\n",
        "    return -1"
      ],
      "execution_count": null,
      "outputs": []
    }
  ]
}