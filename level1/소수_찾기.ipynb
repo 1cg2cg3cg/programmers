{
  "nbformat": 4,
  "nbformat_minor": 0,
  "metadata": {
    "colab": {
      "name": "소수 찾기.ipynb",
      "provenance": [],
      "collapsed_sections": [],
      "authorship_tag": "ABX9TyNpdr9A3VX1Azwsp/QcUbyE",
      "include_colab_link": true
    },
    "kernelspec": {
      "name": "python3",
      "display_name": "Python 3"
    }
  },
  "cells": [
    {
      "cell_type": "markdown",
      "metadata": {
        "id": "view-in-github",
        "colab_type": "text"
      },
      "source": [
        "<a href=\"https://colab.research.google.com/github/1cg2cg3cg/programmers/blob/main/level1/%EC%86%8C%EC%88%98_%EC%B0%BE%EA%B8%B0.ipynb\" target=\"_parent\"><img src=\"https://colab.research.google.com/assets/colab-badge.svg\" alt=\"Open In Colab\"/></a>"
      ]
    },
    {
      "cell_type": "code",
      "metadata": {
        "colab": {
          "base_uri": "https://localhost:8080/"
        },
        "id": "3WIpvxt5zGYF",
        "outputId": "83e72c62-b4af-4bb6-d547-de024b34ffe1"
      },
      "source": [
        "# 에라토스테네스의 체 : 소수의 배수는 가능한 목록에서 지운다.\r\n",
        "def solution(n) :\r\n",
        "\r\n",
        "    candidates = [1] * (n+1)\r\n",
        "    candidates[0], candidates[1] = 0, 0\r\n",
        "\r\n",
        "    for i in range(2, n+1) :\r\n",
        "        if candidates[i] :\r\n",
        "            for j in range(i, n+1, i) :\r\n",
        "                candidates[j] = 0\r\n",
        "            candidates[i] = 1\r\n",
        "\r\n",
        "    return sum(candidates)\r\n",
        "\r\n",
        "print(solution(31))"
      ],
      "execution_count": 20,
      "outputs": [
        {
          "output_type": "stream",
          "text": [
            "11\n"
          ],
          "name": "stdout"
        }
      ]
    },
    {
      "cell_type": "code",
      "metadata": {
        "colab": {
          "base_uri": "https://localhost:8080/"
        },
        "id": "ME5lDWL8IEmZ",
        "outputId": "6fa4bd25-a826-449b-96b0-1ff1bcc6ed35"
      },
      "source": [
        "# 모든 숫자에 대해 소수 여부 판별 timeout\r\n",
        "def solution(n):\r\n",
        "    candidates, num_p = [], []   # candidate는 모든 가능한 후보\r\n",
        "\r\n",
        "    if n >= 2 :\r\n",
        "        candidates.append(2)\r\n",
        "    else :\r\n",
        "        return len(candidates)\r\n",
        "\r\n",
        "    if n >= 3 :\r\n",
        "        candidates.append(3)\r\n",
        "    else :\r\n",
        "        return len(candidates)\r\n",
        "    \r\n",
        "    for i in range(4, n+1) :\r\n",
        "        if (i-1)%6 == 0 :\r\n",
        "            candidates.append(i)\r\n",
        "        if (i+1)%6 == 0 :\r\n",
        "            candidates.append(i)\r\n",
        "\r\n",
        "    for i in range(len(candidates)) :\r\n",
        "        for j in candidates :\r\n",
        "            if j != candidates[i] and candidates[i] % j == 0 :\r\n",
        "                break\r\n",
        "        else :\r\n",
        "            num_p.append(candidates[i])\r\n",
        "    \r\n",
        "    return len(num_p)\r\n",
        "\r\n",
        "print(solution(31))"
      ],
      "execution_count": 31,
      "outputs": [
        {
          "output_type": "stream",
          "text": [
            "11\n"
          ],
          "name": "stdout"
        }
      ]
    },
    {
      "cell_type": "code",
      "metadata": {
        "colab": {
          "base_uri": "https://localhost:8080/"
        },
        "id": "83uZ4sZvNCu0",
        "outputId": "74402991-6b85-4ca8-b0e2-8276d7d5a869"
      },
      "source": [
        "# 소수 후보를 정해놓고 소수인지 판별 timeout\r\n",
        "def solution(n):\r\n",
        "    candidates = []\r\n",
        "\r\n",
        "    if n >= 2 :\r\n",
        "        candidates.append(2)\r\n",
        "    else :\r\n",
        "        return len(candidates)\r\n",
        "\r\n",
        "    if n >= 3 :\r\n",
        "        candidates.append(3)\r\n",
        "    else :\r\n",
        "        return len(candidates)\r\n",
        "    \r\n",
        "    for i in range(4, n+1) :\r\n",
        "        if (i-1)%6 == 0 :\r\n",
        "            for j in candidates :\r\n",
        "                if j != i and i % j == 0 :\r\n",
        "                    break\r\n",
        "            else :\r\n",
        "                candidates.append(i)\r\n",
        "\r\n",
        "        if (i+1)%6 == 0 :\r\n",
        "            for j in candidates :\r\n",
        "                if j != i and i % j == 0 :\r\n",
        "                    break\r\n",
        "            else :\r\n",
        "                candidates.append(i)\r\n",
        "    \r\n",
        "    return len(candidates)\r\n",
        "\r\n",
        "print(solution(31))"
      ],
      "execution_count": 21,
      "outputs": [
        {
          "output_type": "stream",
          "text": [
            "11\n"
          ],
          "name": "stdout"
        }
      ]
    },
    {
      "cell_type": "code",
      "metadata": {
        "id": "76Jmy3xg2R2R"
      },
      "source": [
        "# Best solution from  jsmoon , - , 김동기 , Jinsu Lim , 1stjstyle 외 340 명\r\n",
        "def solution(n):\r\n",
        "    num=set(range(2,n+1))\r\n",
        "\r\n",
        "    for i in range(2,n+1):\r\n",
        "        if i in num:\r\n",
        "            num-=set(range(2*i,n+1,i))\r\n",
        "    return len(num)"
      ],
      "execution_count": null,
      "outputs": []
    }
  ]
}