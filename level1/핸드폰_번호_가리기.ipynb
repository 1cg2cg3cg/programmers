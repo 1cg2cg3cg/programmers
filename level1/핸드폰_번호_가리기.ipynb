{
  "nbformat": 4,
  "nbformat_minor": 0,
  "metadata": {
    "colab": {
      "name": "핸드폰 번호 가리기.ipynb",
      "provenance": [],
      "authorship_tag": "ABX9TyM2oR83CAy4lywhRgF2GzKw",
      "include_colab_link": true
    },
    "kernelspec": {
      "name": "python3",
      "display_name": "Python 3"
    }
  },
  "cells": [
    {
      "cell_type": "markdown",
      "metadata": {
        "id": "view-in-github",
        "colab_type": "text"
      },
      "source": [
        "<a href=\"https://colab.research.google.com/github/1cg2cg3cg/programmers/blob/main/level1/%ED%95%B8%EB%93%9C%ED%8F%B0_%EB%B2%88%ED%98%B8_%EA%B0%80%EB%A6%AC%EA%B8%B0.ipynb\" target=\"_parent\"><img src=\"https://colab.research.google.com/assets/colab-badge.svg\" alt=\"Open In Colab\"/></a>"
      ]
    },
    {
      "cell_type": "code",
      "metadata": {
        "colab": {
          "base_uri": "https://localhost:8080/"
        },
        "id": "4cR1f6YFotaD",
        "outputId": "5d8e6047-0995-455b-ccae-3b0612386547"
      },
      "source": [
        "def solution(phone_number):\r\n",
        "    answer = '*' * (len(phone_number)-4)\r\n",
        "    return answer + phone_number[-4:]\r\n",
        "\r\n",
        "print(solution(\"01033334444\"), '\\t \"*******4444\"')\r\n",
        "print(solution(\"027778888\"), '\\t \"*****8888')"
      ],
      "execution_count": 1,
      "outputs": [
        {
          "output_type": "stream",
          "text": [
            "*******4444 \t \"*******4444\"\n",
            "*****8888 \t \"*****8888\n"
          ],
          "name": "stdout"
        }
      ]
    }
  ]
}