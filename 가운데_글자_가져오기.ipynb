{
  "nbformat": 4,
  "nbformat_minor": 0,
  "metadata": {
    "colab": {
      "name": "가운데 글자 가져오기.ipynb",
      "provenance": [],
      "collapsed_sections": [],
      "authorship_tag": "ABX9TyN3LmbNEJSXQUkeYjUFjMHn",
      "include_colab_link": true
    },
    "kernelspec": {
      "name": "python3",
      "display_name": "Python 3"
    }
  },
  "cells": [
    {
      "cell_type": "markdown",
      "metadata": {
        "id": "view-in-github",
        "colab_type": "text"
      },
      "source": [
        "<a href=\"https://colab.research.google.com/github/1cg2cg3cg/programmers/blob/main/%EA%B0%80%EC%9A%B4%EB%8D%B0_%EA%B8%80%EC%9E%90_%EA%B0%80%EC%A0%B8%EC%98%A4%EA%B8%B0.ipynb\" target=\"_parent\"><img src=\"https://colab.research.google.com/assets/colab-badge.svg\" alt=\"Open In Colab\"/></a>"
      ]
    },
    {
      "cell_type": "code",
      "metadata": {
        "colab": {
          "base_uri": "https://localhost:8080/"
        },
        "id": "9_6sNzWiFA1j",
        "outputId": "8de8c773-620e-48b9-abb6-ab24d9472376"
      },
      "source": [
        "# Palindrome style using deque\r\n",
        "import collections\r\n",
        "\r\n",
        "def solution(s):\r\n",
        "\r\n",
        "    answer = collections.deque(s)\r\n",
        "\r\n",
        "    if len(answer) % 2 == 0 : # even --> return two letters\r\n",
        "        while len(answer) >= 4 :\r\n",
        "            answer.pop()\r\n",
        "            answer.popleft()\r\n",
        "\r\n",
        "    else :\r\n",
        "        while len(answer) >= 3 : # odd --> return one letter\r\n",
        "            answer.pop()\r\n",
        "            answer.popleft()\r\n",
        "\r\n",
        "    return ''.join(answer)\r\n",
        "\r\n",
        "print(solution('abcde'), '\\t c')\r\n",
        "print(solution('qwer'), '\\t we')"
      ],
      "execution_count": 15,
      "outputs": [
        {
          "output_type": "stream",
          "text": [
            "c \t c\n",
            "we \t we\n"
          ],
          "name": "stdout"
        }
      ]
    }
  ]
}