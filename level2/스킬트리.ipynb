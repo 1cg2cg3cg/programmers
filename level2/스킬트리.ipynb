{
  "nbformat": 4,
  "nbformat_minor": 0,
  "metadata": {
    "colab": {
      "name": "스킬트리.ipynb",
      "provenance": [],
      "collapsed_sections": [],
      "authorship_tag": "ABX9TyPxrPgpUHvVabX1PK4RZyTa",
      "include_colab_link": true
    },
    "kernelspec": {
      "name": "python3",
      "display_name": "Python 3"
    }
  },
  "cells": [
    {
      "cell_type": "markdown",
      "metadata": {
        "id": "view-in-github",
        "colab_type": "text"
      },
      "source": [
        "<a href=\"https://colab.research.google.com/github/1cg2cg3cg/programmers/blob/main/level2/%EC%8A%A4%ED%82%AC%ED%8A%B8%EB%A6%AC.ipynb\" target=\"_parent\"><img src=\"https://colab.research.google.com/assets/colab-badge.svg\" alt=\"Open In Colab\"/></a>"
      ]
    },
    {
      "cell_type": "code",
      "metadata": {
        "id": "imZTenYt-WfV"
      },
      "source": [
        "# 21.04.23\n",
        "import collections\n",
        "\n",
        "def solution(skills, skill_trees) : # It will be capitalized in comments.\n",
        "    answer = 0\n",
        "\n",
        "    for i in range(len(skill_trees)) :\n",
        "        # to use skill's index in SKILL_TREES\n",
        "        C = collections.defaultdict(int)    \n",
        "        \n",
        "        for skill in skill_trees[i] :\n",
        "            if skill in skills :    # if skill in SKILL_TREES[i], its index is added to C\n",
        "                C[skill] = skill_trees[i].index(skill)\n",
        "        # check if skills' order in SKILL_TREES eueals to skills in SKILL\n",
        "        check = sorted(C.items(), key = lambda x : x[1])\n",
        "\n",
        "        A = ''\n",
        "        for i in range(len(check)) :\n",
        "            A += check[i][0]\n",
        "        \n",
        "        if A == skills[:len(A)] :\n",
        "            answer += 1\n",
        "\n",
        "    return answer"
      ],
      "execution_count": null,
      "outputs": []
    },
    {
      "cell_type": "code",
      "metadata": {
        "colab": {
          "base_uri": "https://localhost:8080/"
        },
        "id": "8j-8F_SJtrGM",
        "outputId": "82d22cfc-235d-43bf-b236-d59cf68c8122"
      },
      "source": [
        "# 21.02.07\n",
        "def solution(skill, skill_trees):\n",
        "    answer = 0\n",
        "    nums = {}\n",
        "    skill_nums = [0]*len(skill)\n",
        "\n",
        "    if not skill :\n",
        "        return len(skill_trees)\n",
        "\n",
        "    for i, j in enumerate(skill) :\n",
        "        nums[j] = i\n",
        "\n",
        "    for i in range(len(skill)) :\n",
        "        skill_nums[i] = nums[skill[i]]\n",
        "\n",
        "    for i in range(len(skill_trees)) :\n",
        "        temp = []\n",
        "\n",
        "        for j in skill_trees[i] :\n",
        "            if j in nums :\n",
        "                temp.append(nums[j])\n",
        "        \n",
        "        if temp == skill_nums[:len(temp)]:\n",
        "            answer += 1\n",
        "\n",
        "    return answer\n",
        "\n",
        "print(solution(\"CBD\", [\"BACDE\", \"CBADF\", \"AECB\", \"BDA\"]), '\\t 2')\n",
        "print(solution(\"CBD\", [\"CAD\"]), '\\t 0')\n",
        "print(solution(\"CBD\", [\"AEF\", \"ZJW\"]), '\\t 2')\n",
        "print(solution(\"REA\", [\"REA\", \"POA\"]), '\\t 1')\n",
        "print(solution(\"CBDK\", [\"CB\", \"CXYB\", \"BD\", \"AECD\", \"ABC\", \"AEX\", \"CDB\", \"CBKD\", \"IJCB\", \"LMDK\"]), '\\t 4')\n",
        "print(solution(\"BDC\", [\"AAAABACA\"]), '\\t 0')\n",
        "print(solution(\"CBD\", [\"C\", \"D\", \"CB\", \"BDA\"]), '\\t 2')"
      ],
      "execution_count": null,
      "outputs": [
        {
          "output_type": "stream",
          "text": [
            "2 \t 2\n",
            "0 \t 0\n",
            "2 \t 2\n",
            "1 \t 1\n",
            "4 \t 4\n",
            "0 \t 0\n",
            "2 \t 2\n"
          ],
          "name": "stdout"
        }
      ]
    },
    {
      "cell_type": "code",
      "metadata": {
        "colab": {
          "base_uri": "https://localhost:8080/"
        },
        "id": "4WOQDwy91Gb-",
        "outputId": "0722ddc0-7a36-44b6-c6d3-60dd7958fcaa"
      },
      "source": [
        "# Best solution\n",
        "\n",
        "def solution(skill, skill_trees):\n",
        "    answer = 0\n",
        "\n",
        "    for skills in skill_trees :\n",
        "        temp = list(skill)\n",
        "        \n",
        "        for i in skills :               ## for - else : if for loop is completed without break, else statements are run\n",
        "            if i in skill :             ## for구문이 끝까지 동작하면, else 동작\n",
        "                if i != temp.pop(0) :\n",
        "                    break\n",
        "        else :\n",
        "            answer += 1\n",
        "\n",
        "    return answer\n",
        "\n",
        "print(solution(\"CBD\", [\"BACDE\", \"CBADF\", \"AECB\", \"BDA\"]), '\\t 2')\n",
        "print(solution(\"CBD\", [\"CAD\"]), '\\t 0')\n",
        "print(solution(\"CBD\", [\"AEF\", \"ZJW\"]), '\\t 2')\n",
        "print(solution(\"REA\", [\"REA\", \"POA\"]), '\\t 1')\n",
        "print(solution(\"CBDK\", [\"CB\", \"CXYB\", \"BD\", \"AECD\", \"ABC\", \"AEX\", \"CDB\", \"CBKD\", \"IJCB\", \"LMDK\"]), '\\t 4')\n",
        "print(solution(\"BDC\", [\"AAAABACA\"]), '\\t 0')\n",
        "print(solution(\"CBD\", [\"C\", \"D\", \"CB\", \"BDA\"]), '\\t 2')"
      ],
      "execution_count": null,
      "outputs": [
        {
          "output_type": "stream",
          "text": [
            "2 \t 2\n",
            "0 \t 0\n",
            "2 \t 2\n",
            "1 \t 1\n",
            "4 \t 4\n",
            "0 \t 0\n",
            "2 \t 2\n"
          ],
          "name": "stdout"
        }
      ]
    },
    {
      "cell_type": "markdown",
      "metadata": {
        "id": "1TY6QvRE4oQH"
      },
      "source": [
        "https://book.pythontips.com/en/latest/for_-_else.html\n",
        "\n",
        "\n",
        "# **for/else**\n",
        "\n",
        "Loops are an integral part of any language. Likewise for loops are an important part of Python. However there are a few things which most beginners do not know about them.\n",
        "\n",
        "<*for*> loops also have an <*else*> clause which most of us are unfamiliar with. The <*else*> clause executes after the loop completes normally. This means that the loop did not encounter a <*break*> statement. They are really useful once you understand where to use them. I, myself, came to know about them a lot later.\n",
        "\n",
        "The common construct is to run a loop and search for an item. If the item is found, we break out of the loop using the <*break*> statement. There are two scenarios in which the loop may end. The first one is when the item is found and <*break*> is encountered. The second scenario is that the loop ends without encountering a <*break*> statement. Now we may want to know which one of these is the reason for a loop’s completion. One method is to set a flag and then check it once the loop ends. Another is to use the else clause.\n",
        "\n"
      ]
    }
  ]
}