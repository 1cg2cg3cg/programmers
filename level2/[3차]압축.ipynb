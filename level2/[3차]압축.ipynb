{
  "nbformat": 4,
  "nbformat_minor": 0,
  "metadata": {
    "colab": {
      "name": "[3차]압축.ipynb",
      "provenance": [],
      "collapsed_sections": [],
      "authorship_tag": "ABX9TyO+T67kqbo9d1Efz+qnv6nJ",
      "include_colab_link": true
    },
    "kernelspec": {
      "name": "python3",
      "display_name": "Python 3"
    }
  },
  "cells": [
    {
      "cell_type": "markdown",
      "metadata": {
        "id": "view-in-github",
        "colab_type": "text"
      },
      "source": [
        "<a href=\"https://colab.research.google.com/github/1cg2cg3cg/programmers/blob/main/level2/%5B3%EC%B0%A8%5D%EC%95%95%EC%B6%95.ipynb\" target=\"_parent\"><img src=\"https://colab.research.google.com/assets/colab-badge.svg\" alt=\"Open In Colab\"/></a>"
      ]
    },
    {
      "cell_type": "code",
      "metadata": {
        "colab": {
          "base_uri": "https://localhost:8080/"
        },
        "id": "38Rygul_EGCI",
        "outputId": "c7ef41be-8e36-4486-e7cd-936f2d05596b"
      },
      "source": [
        "def solution(msg):\r\n",
        "    answer = []\r\n",
        "    text = [chr(i+65) for i in range(26)]   # 기본 문자열로 시작\r\n",
        "\r\n",
        "    p1, p2 = 0, 1   # 2포인터 사용\r\n",
        "\r\n",
        "    while p1 < len(msg) and p2 < len(msg) :\r\n",
        "        # 현재 문자는 text에 있고, 현재+다음 문자는 text에 없는 경우\r\n",
        "        if msg[p1:p2] in text and msg[p1:p2+1] not in text : \r\n",
        "            text.append(msg[p1:p2+1])   # text에 현재+다음 문자 추가\r\n",
        "            answer.append(text.index(msg[p1:p2])+1) # answer에 현재 index 추가\r\n",
        "            p1 = p2 # 포인터 변경\r\n",
        "            p2 += 1\r\n",
        "        else :\r\n",
        "            p2 += 1 # 조건에 해당하지 않는 경우 포인터 이동\r\n",
        "    \r\n",
        "    answer.append(text.index(msg[p1:])+1)   # 마지막 남는 문자열 처리\r\n",
        "    return answer\r\n",
        "\r\n",
        "print(solution('KAKAO'), [11,1,27,15])\r\n",
        "print(solution('ABABABABABABABAB'), [1, 2, 27, 29, 28, 31, 30])"
      ],
      "execution_count": 23,
      "outputs": [
        {
          "output_type": "stream",
          "text": [
            "[11, 1, 27, 15] [11, 1, 27, 15]\n",
            "[1, 2, 27, 29, 28, 31, 30] [1, 2, 27, 29, 28, 31, 30]\n"
          ],
          "name": "stdout"
        }
      ]
    }
  ]
}