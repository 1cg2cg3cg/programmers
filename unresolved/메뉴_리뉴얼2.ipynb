{
  "nbformat": 4,
  "nbformat_minor": 0,
  "metadata": {
    "colab": {
      "name": "메뉴 리뉴얼.ipynb",
      "provenance": [],
      "authorship_tag": "ABX9TyPXqRvgp4hRs4321f7Lrg93",
      "include_colab_link": true
    },
    "kernelspec": {
      "name": "python3",
      "display_name": "Python 3"
    }
  },
  "cells": [
    {
      "cell_type": "markdown",
      "metadata": {
        "id": "view-in-github",
        "colab_type": "text"
      },
      "source": [
        "<a href=\"https://colab.research.google.com/github/1cg2cg3cg/programmers/blob/main/unresolved/%EB%A9%94%EB%89%B4_%EB%A6%AC%EB%89%B4%EC%96%BC2.ipynb\" target=\"_parent\"><img src=\"https://colab.research.google.com/assets/colab-badge.svg\" alt=\"Open In Colab\"/></a>"
      ]
    },
    {
      "cell_type": "code",
      "metadata": {
        "colab": {
          "base_uri": "https://localhost:8080/"
        },
        "id": "GGidIBpg2VkP",
        "outputId": "a43ab514-c884-4736-a6a6-171c11ef7c6e"
      },
      "source": [
        "def dfs(elements, start, k) :\r\n",
        "    if k == 0 :\r\n",
        "        result.append(elements[:])\r\n",
        "\r\n",
        "    for i in range(start, n+1) :\r\n",
        "        elements.append(i)\r\n",
        "        dfs(elements, i+1, k-1)\r\n",
        "        elements.pop()\r\n",
        "\r\n",
        "def solution(orders, course):\r\n",
        "    answer = []\r\n",
        "\r\n",
        "    \r\n",
        "        \r\n",
        "    for i in range(len(orders)) :\r\n",
        "        menu = [y for x in orders for y in x]\r\n",
        "\r\n",
        "\r\n",
        "    print(orders)\r\n",
        "\r\n",
        "    \r\n",
        "    return answer\r\n",
        "\r\n",
        "print(solution([\"ABCFG\", \"AC\", \"CDE\", \"ACDE\", \"BCFG\", \"ACDEH\"], [2,3,4]), '\\t [\"AC\", \"ACDE\", \"BCFG\", \"CDE\"]')\r\n",
        "#print(solution([\"ABCDE\", \"AB\", \"CD\", \"ADE\", \"XYZ\", \"XYZ\", \"ACD\"], [2,3,5]), '\\t [\"ACD\", \"AD\", \"ADE\", \"CD\", \"XYZ\"]')\r\n",
        "#print(solution([\"XYZ\", \"XWY\", \"WXA\"], \t[2,3,4]), '\\t [\"WX\", \"XY\"]')"
      ],
      "execution_count": 3,
      "outputs": [
        {
          "output_type": "stream",
          "text": [
            "['A', 'B', 'C', 'F', 'G', 'A', 'C', 'C', 'D', 'E', 'A', 'C', 'D', 'E', 'B', 'C', 'F', 'G', 'A', 'C', 'D', 'E', 'H']\n",
            "[] \t [\"AC\", \"ACDE\", \"BCFG\", \"CDE\"]\n"
          ],
          "name": "stdout"
        }
      ]
    }
  ]
}