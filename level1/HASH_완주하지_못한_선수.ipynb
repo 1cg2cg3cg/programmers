{
  "nbformat": 4,
  "nbformat_minor": 0,
  "metadata": {
    "colab": {
      "name": "HASH - 완주하지 못한 선수.ipynb",
      "provenance": [],
      "collapsed_sections": [],
      "authorship_tag": "ABX9TyMbIDWhTZAqQWFOHy7PspN8",
      "include_colab_link": true
    },
    "kernelspec": {
      "name": "python3",
      "display_name": "Python 3"
    }
  },
  "cells": [
    {
      "cell_type": "markdown",
      "metadata": {
        "id": "view-in-github",
        "colab_type": "text"
      },
      "source": [
        "<a href=\"https://colab.research.google.com/github/1cg2cg3cg/programmers/blob/main/HASH/HASH_%EC%99%84%EC%A3%BC%ED%95%98%EC%A7%80_%EB%AA%BB%ED%95%9C_%EC%84%A0%EC%88%98.ipynb\" target=\"_parent\"><img src=\"https://colab.research.google.com/assets/colab-badge.svg\" alt=\"Open In Colab\"/></a>"
      ]
    },
    {
      "cell_type": "code",
      "metadata": {
        "id": "s3PU_IzQrj-M"
      },
      "source": [
        "def solution(participant,completion):\r\n",
        "\r\n",
        "    participant.sort()\r\n",
        "    completion.sort()\r\n",
        "\r\n",
        "    for par, com in zip(participant, completion) :\r\n",
        "        if par != com :\r\n",
        "            return par\r\n",
        "\r\n",
        "    return participant[-1]"
      ],
      "execution_count": null,
      "outputs": []
    }
  ]
}
