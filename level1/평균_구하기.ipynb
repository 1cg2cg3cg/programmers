{
  "nbformat": 4,
  "nbformat_minor": 0,
  "metadata": {
    "colab": {
      "name": "평균 구하기.ipynb",
      "provenance": [],
      "collapsed_sections": [],
      "authorship_tag": "ABX9TyMAKoCke0okHZUn2QT4h4rP",
      "include_colab_link": true
    },
    "kernelspec": {
      "name": "python3",
      "display_name": "Python 3"
    }
  },
  "cells": [
    {
      "cell_type": "markdown",
      "metadata": {
        "id": "view-in-github",
        "colab_type": "text"
      },
      "source": [
        "<a href=\"https://colab.research.google.com/github/1cg2cg3cg/programmers/blob/main/level1/%ED%8F%89%EA%B7%A0_%EA%B5%AC%ED%95%98%EA%B8%B0.ipynb\" target=\"_parent\"><img src=\"https://colab.research.google.com/assets/colab-badge.svg\" alt=\"Open In Colab\"/></a>"
      ]
    },
    {
      "cell_type": "code",
      "metadata": {
        "colab": {
          "base_uri": "https://localhost:8080/"
        },
        "id": "-zZXQXlWj6eq",
        "outputId": "53bda8ef-fc7f-4fd0-96d2-ef99a3bf35bd"
      },
      "source": [
        "def solution(arr):\r\n",
        "    A = list(filter(lambda x : x != 0, arr)) # filter와 lambda를 사용해 0 제거\r\n",
        "    return sum(A) / len(A)\r\n",
        "\r\n",
        "print(solution([1,2,3,4]), '\\t 2.5')\r\n",
        "print(solution([5,5]), '\\t 5')\r\n",
        "print(solution([2,0,5]), '\\t 3.5')"
      ],
      "execution_count": 4,
      "outputs": [
        {
          "output_type": "stream",
          "text": [
            "2.5 \t 2.5\n",
            "5.0 \t 5\n",
            "3.5 \t 3.5\n"
          ],
          "name": "stdout"
        }
      ]
    }
  ]
}