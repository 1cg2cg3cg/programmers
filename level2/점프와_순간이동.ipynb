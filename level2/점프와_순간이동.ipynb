{
  "nbformat": 4,
  "nbformat_minor": 0,
  "metadata": {
    "colab": {
      "name": "점프와 순간이동.ipynb",
      "provenance": [],
      "collapsed_sections": [],
      "authorship_tag": "ABX9TyP8a5Cbm9w0URXdKu9LFh2U",
      "include_colab_link": true
    },
    "kernelspec": {
      "name": "python3",
      "display_name": "Python 3"
    }
  },
  "cells": [
    {
      "cell_type": "markdown",
      "metadata": {
        "id": "view-in-github",
        "colab_type": "text"
      },
      "source": [
        "<a href=\"https://colab.research.google.com/github/1cg2cg3cg/programmers/blob/main/level2/%EC%A0%90%ED%94%84%EC%99%80_%EC%88%9C%EA%B0%84%EC%9D%B4%EB%8F%99.ipynb\" target=\"_parent\"><img src=\"https://colab.research.google.com/assets/colab-badge.svg\" alt=\"Open In Colab\"/></a>"
      ]
    },
    {
      "cell_type": "code",
      "metadata": {
        "colab": {
          "base_uri": "https://localhost:8080/"
        },
        "id": "AukssLNWIIFn",
        "outputId": "1c184b2f-5571-4d68-fac6-3da925e548ec"
      },
      "source": [
        "# 짝수인경우 2로 나눈다(순간이동)\r\n",
        "# 홀수인 경우 1만큼 뒤로 점프한다. 위 과정을 n == 1 까지 반복\r\n",
        "def solution(n):\r\n",
        "    ans = 0\r\n",
        "\r\n",
        "    if n == 1 : # n == 1인 경우 반드시 1만큼 점프해야 함 (0*2 = 0)\r\n",
        "        return 1\r\n",
        "\r\n",
        "    while n != 1 :\r\n",
        "        \r\n",
        "        if n % 2 :\r\n",
        "            n -= 1\r\n",
        "            ans += 1\r\n",
        "        else :\r\n",
        "            n /= 2\r\n",
        "\r\n",
        "        if n == 1 :\r\n",
        "            ans += 1\r\n",
        "\r\n",
        "    return ans\r\n",
        "\r\n",
        "print(solution(3), 2)\r\n",
        "print(solution(6), 2)\r\n",
        "print(solution(5000), 5)"
      ],
      "execution_count": 5,
      "outputs": [
        {
          "output_type": "stream",
          "text": [
            "2 2\n",
            "2 2\n",
            "5 5\n"
          ],
          "name": "stdout"
        }
      ]
    }
  ]
}