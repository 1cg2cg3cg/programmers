{
  "nbformat": 4,
  "nbformat_minor": 0,
  "metadata": {
    "colab": {
      "name": "같은 숫자는 싫어.ipynb",
      "provenance": [],
      "collapsed_sections": [],
      "authorship_tag": "ABX9TyO5t4dep4HcOw8j5n2GpPvl",
      "include_colab_link": true
    },
    "kernelspec": {
      "name": "python3",
      "display_name": "Python 3"
    }
  },
  "cells": [
    {
      "cell_type": "markdown",
      "metadata": {
        "id": "view-in-github",
        "colab_type": "text"
      },
      "source": [
        "<a href=\"https://colab.research.google.com/github/1cg2cg3cg/programmers/blob/main/%EA%B0%99%EC%9D%80_%EC%88%AB%EC%9E%90%EB%8A%94_%EC%8B%AB%EC%96%B4.ipynb\" target=\"_parent\"><img src=\"https://colab.research.google.com/assets/colab-badge.svg\" alt=\"Open In Colab\"/></a>"
      ]
    },
    {
      "cell_type": "code",
      "metadata": {
        "colab": {
          "base_uri": "https://localhost:8080/"
        },
        "id": "qjEzAHcN_0zG",
        "outputId": "34d882f9-cf61-4f0b-f6b2-27b6c81320cb"
      },
      "source": [
        "def solution(arr):\r\n",
        "    if not arr :    # arr빈 경우 [] 출력\r\n",
        "        return []\r\n",
        "        \r\n",
        "    answer = [arr[0]]   # index 0 의 숫자는 항상 출력에 포함 ①\r\n",
        "\r\n",
        "    for i in range(len(arr)-1) :    # 마지막 숫자를 제외한 arr 모두 확인하면서\r\n",
        "        if arr[i] != arr[i+1] :     # 현재 위치의 값과 다음 값이 다르면 정답에 추가\r\n",
        "            answer.append(arr[i])\r\n",
        "\r\n",
        "    if arr[-1] != answer[-1] :      # 마지막 숫자까지 확인\r\n",
        "        answer.append(arr[-1])\r\n",
        "    if len(answer) > 1 and answer[0] == answer[1] : # ①에서 포함시킨 값이 중복추가되는 것 방지\r\n",
        "        del answer[0]                               # ex) (arr[0] == arr[1]) != arr[2] 인 경우\r\n",
        "                                                    # 정답에 arr[0]과 arr[1]이 모두 들어가는 것 방지\r\n",
        "    return answer\r\n",
        "\r\n",
        "print(solution([1,1,3,3,0,1,1]), '[1,3,0,1]')\r\n",
        "print(solution([4,4,4,3,3]), '[4,3]')\r\n",
        "print(solution([1,1]), '[1]')"
      ],
      "execution_count": 11,
      "outputs": [
        {
          "output_type": "stream",
          "text": [
            "[1, 3, 0, 1] [1,3,0,1]\n",
            "[4, 3] [4,3]\n",
            "[1] [1]\n"
          ],
          "name": "stdout"
        }
      ]
    }
  ]
}
