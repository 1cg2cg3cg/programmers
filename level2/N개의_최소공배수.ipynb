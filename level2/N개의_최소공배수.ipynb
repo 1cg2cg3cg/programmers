{
  "nbformat": 4,
  "nbformat_minor": 0,
  "metadata": {
    "colab": {
      "name": "N개의 최소공배수.ipynb",
      "provenance": [],
      "collapsed_sections": [],
      "authorship_tag": "ABX9TyPpvFG6DGQNpA70qMKVDvaQ",
      "include_colab_link": true
    },
    "kernelspec": {
      "name": "python3",
      "display_name": "Python 3"
    }
  },
  "cells": [
    {
      "cell_type": "markdown",
      "metadata": {
        "id": "view-in-github",
        "colab_type": "text"
      },
      "source": [
        "<a href=\"https://colab.research.google.com/github/1cg2cg3cg/programmers/blob/main/level2/N%EA%B0%9C%EC%9D%98_%EC%B5%9C%EC%86%8C%EA%B3%B5%EB%B0%B0%EC%88%98.ipynb\" target=\"_parent\"><img src=\"https://colab.research.google.com/assets/colab-badge.svg\" alt=\"Open In Colab\"/></a>"
      ]
    },
    {
      "cell_type": "code",
      "metadata": {
        "colab": {
          "base_uri": "https://localhost:8080/"
        },
        "id": "jMD6WGDtBsvC",
        "outputId": "7b62a358-e7c9-4489-e5c0-3ba23d5a6adf"
      },
      "source": [
        "# 주어진 숫자들을 소인수분해 한 후 각 소수별 가장 많은 개수만큼 곱한다.\r\n",
        "# 주어진 예시의 경우 2 = [2], 6 = [2,3], 8 = [2,2,2], 16 = [2,7] 로 분해한 후\r\n",
        "# 가장 많은 2의 개수 : 3, 가장 많은 3의 개수 1, 가장 많은 7의 개수 1\r\n",
        "# 따라서, 3*2*2*2*7 = 3 * 2**3 * 7 = 168\r\n",
        "import collections\r\n",
        "def solution(arr):\r\n",
        "    answer = 1\r\n",
        "    \r\n",
        "    p = collections.defaultdict(int)\r\n",
        "    \r\n",
        "    def primes(n) :     # 소인수 분해 함수\r\n",
        "        result = []\r\n",
        "        i = 2           # 1은 소수가 아니다.\r\n",
        "\r\n",
        "        while n != 1 :  # n이 1이 되면 종료\r\n",
        "        \r\n",
        "            if n % i == 0 :\r\n",
        "                result.append(i)\r\n",
        "                n /= i\r\n",
        "            else :\r\n",
        "                i += 1\r\n",
        "        \r\n",
        "        return result\r\n",
        "    \r\n",
        "    while arr :\r\n",
        "        p_list = primes(arr.pop())  # arr의 숫자를 각각 소인수 분해\r\n",
        "        c = collections.Counter(p_list) # 소수의 숫자를 count\r\n",
        "\r\n",
        "        for i in c :\r\n",
        "        \r\n",
        "            if i not in p :\r\n",
        "                p[i] = c[i]\r\n",
        "            elif c[i] > p[i] :      # 각 소수별 가장 많은 개수로 업데이트\r\n",
        "                p[i] = c[i]\r\n",
        "\r\n",
        "    for i in p :\r\n",
        "        answer *= i**p[i]   # 모두 곱\r\n",
        "\r\n",
        "    return answer\r\n",
        "    \r\n",
        "print(solution([2,6,8,14]), 168)"
      ],
      "execution_count": 38,
      "outputs": [
        {
          "output_type": "stream",
          "text": [
            "168 168\n"
          ],
          "name": "stdout"
        }
      ]
    }
  ]
}