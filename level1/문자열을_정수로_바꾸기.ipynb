{
  "nbformat": 4,
  "nbformat_minor": 0,
  "metadata": {
    "colab": {
      "name": "문자열을 정수로 바꾸기.ipynb",
      "provenance": [],
      "collapsed_sections": [],
      "authorship_tag": "ABX9TyNk0ItzwJ+e0j/HsyA9sd4G",
      "include_colab_link": true
    },
    "kernelspec": {
      "name": "python3",
      "display_name": "Python 3"
    }
  },
  "cells": [
    {
      "cell_type": "markdown",
      "metadata": {
        "id": "view-in-github",
        "colab_type": "text"
      },
      "source": [
        "<a href=\"https://colab.research.google.com/github/1cg2cg3cg/programmers/blob/main/level1/%EB%AC%B8%EC%9E%90%EC%97%B4%EC%9D%84_%EC%A0%95%EC%88%98%EB%A1%9C_%EB%B0%94%EA%BE%B8%EA%B8%B0.ipynb\" target=\"_parent\"><img src=\"https://colab.research.google.com/assets/colab-badge.svg\" alt=\"Open In Colab\"/></a>"
      ]
    },
    {
      "cell_type": "code",
      "metadata": {
        "id": "Ouog-5O1zFbu"
      },
      "source": [
        "#??????????????????\r\n",
        "def solution(s):\r\n",
        "    answer = int(s)\r\n",
        "    return answer"
      ],
      "execution_count": null,
      "outputs": []
    },
    {
      "cell_type": "code",
      "metadata": {
        "id": "ddzenfSN4vzV"
      },
      "source": [
        "# 근본 풀이\r\n",
        "def strToInt(str):\r\n",
        "    result = 0\r\n",
        "\r\n",
        "    for idx, number in enumerate(str[::-1]):\r\n",
        "        if number == '-':\r\n",
        "            result *= -1\r\n",
        "        else:\r\n",
        "            result += int(number) * (10 ** idx)\r\n",
        "\r\n",
        "    return result\r\n",
        "\r\n",
        "print(strToInt(\"-1234\"));"
      ],
      "execution_count": null,
      "outputs": []
    },
    {
      "cell_type": "code",
      "metadata": {
        "colab": {
          "base_uri": "https://localhost:8080/"
        },
        "id": "CKKgISZL40KH",
        "outputId": "5dc68b03-8042-4a15-f032-f639daa7b5c5"
      },
      "source": [
        "# 근본 풀이 int --> ord\r\n",
        "def strToInt(str):\r\n",
        "    result = 0\r\n",
        "\r\n",
        "    for idx, number in enumerate(str[::-1]):\r\n",
        "        if number == '-':\r\n",
        "            result *= -1\r\n",
        "        else:\r\n",
        "            result += (ord(number)-48) * (10 ** idx)\r\n",
        "\r\n",
        "    return result\r\n",
        "\r\n",
        "print(strToInt(\"-1234\"));"
      ],
      "execution_count": 26,
      "outputs": [
        {
          "output_type": "stream",
          "text": [
            "-1234\n"
          ],
          "name": "stdout"
        }
      ]
    },
    {
      "cell_type": "code",
      "metadata": {
        "colab": {
          "base_uri": "https://localhost:8080/"
        },
        "id": "HjBqq_T36ba9",
        "outputId": "e3a8a5a7-10cc-4158-ab58-83460ddbf43d"
      },
      "source": [
        "print(ord('0')-48)\r\n",
        "print(ord('1')-48)\r\n",
        "print(ord('2')-48)\r\n",
        "print(ord('3')-48)\r\n",
        "print(ord('4')-48)\r\n",
        "print(ord('5')-48)\r\n",
        "print(ord('6')-48)\r\n",
        "print(ord('7')-48)\r\n",
        "print(ord('8')-48)\r\n",
        "print(ord('9')-48)"
      ],
      "execution_count": 27,
      "outputs": [
        {
          "output_type": "stream",
          "text": [
            "0\n",
            "1\n",
            "2\n",
            "3\n",
            "4\n",
            "5\n",
            "6\n",
            "7\n",
            "8\n",
            "9\n"
          ],
          "name": "stdout"
        }
      ]
    }
  ]
}