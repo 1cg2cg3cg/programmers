{
  "nbformat": 4,
  "nbformat_minor": 0,
  "metadata": {
    "colab": {
      "name": "여행경로.ipynb",
      "provenance": [],
      "collapsed_sections": [],
      "authorship_tag": "ABX9TyNioWVgbePT/6ZZh3eYGu4H",
      "include_colab_link": true
    },
    "kernelspec": {
      "name": "python3",
      "display_name": "Python 3"
    },
    "language_info": {
      "name": "python"
    }
  },
  "cells": [
    {
      "cell_type": "markdown",
      "metadata": {
        "id": "view-in-github",
        "colab_type": "text"
      },
      "source": [
        "<a href=\"https://colab.research.google.com/github/1cg2cg3cg/programmers/blob/main/level3/%EC%97%AC%ED%96%89%EA%B2%BD%EB%A1%9C.ipynb\" target=\"_parent\"><img src=\"https://colab.research.google.com/assets/colab-badge.svg\" alt=\"Open In Colab\"/></a>"
      ]
    },
    {
      "cell_type": "code",
      "metadata": {
        "id": "8lrqk5R9eEjK"
      },
      "source": [
        "import collections\n",
        "\n",
        "def solution(tickets) :\n",
        "\n",
        "    graph = collections.defaultdict(list)\n",
        "\n",
        "    for s, d in tickets :\n",
        "        graph[s].append(d)          # to use pop()\n",
        "        graph[s] = sorted(graph[s], reverse=True) # alphabetic order\n",
        "\n",
        "    stack, answer = ['ICN'], [] # always departs from ICN\n",
        "\n",
        "    while stack :\n",
        "        \n",
        "        if graph[stack[-1]] :   # Do not stop, we have to travel more.\n",
        "            stack.append(graph[stack[-1]].pop())\n",
        "        \n",
        "        else :  # if current node is final destination (has not any children node)\n",
        "            answer.append(stack.pop())\n",
        "\n",
        "    return answer[::-1]\n",
        "\n",
        "print(solution([[\"ICN\", \"JFK\"], [\"HND\", \"IAD\"], [\"JFK\", \"HND\"]]), [\"ICN\", \"JFK\", \"HND\", \"IAD\"])\n",
        "print(solution([[\"ICN\", \"SFO\"], [\"ICN\", \"ATL\"], [\"SFO\", \"ATL\"], [\"ATL\", \"ICN\"], [\"ATL\",\"SFO\"]]), [\"ICN\", \"ATL\", \"ICN\", \"SFO\", \"ATL\", \"SFO\"])\n",
        "print(solution([[\"ICN\", \"A\"], [\"ICN\", \"B\"], [\"B\", \"ICN\"]]))\n",
        "print(solution([['ICN','A'],['A','B'],['A','C'],['C','A'],['B','D']]))"
      ],
      "execution_count": null,
      "outputs": []
    },
    {
      "cell_type": "code",
      "metadata": {
        "id": "cYsNw52Vdjyy"
      },
      "source": [
        "# fail to case 1\n",
        "\n",
        "import collections\n",
        "\n",
        "def solution(tickets) :\n",
        "    answer = ['ICN']    # always departs from ICN\n",
        "\n",
        "    graph = collections.defaultdict(list)\n",
        "\n",
        "    for s, d in tickets :\n",
        "        graph[s].append(d)          # to use pop()\n",
        "        graph[s] = sorted(graph[s], reverse=True) # alphabetic order\n",
        "\n",
        "    cur, _next = 'ICN', ''\n",
        "\n",
        "    while len(answer) <= len(tickets) :\n",
        "        \n",
        "        _next = graph[cur].pop()\n",
        "\n",
        "        if not graph[_next] and len(answer) < len(tickets) :\n",
        "            temp = []\n",
        "            while not graph[_next] :\n",
        "                temp.append(_next)\n",
        "                _next = graph[cur].pop()\n",
        "            \n",
        "            graph[cur].extend(temp)\n",
        "\n",
        "        answer.append(_next)\n",
        "        cur = _next\n",
        "\n",
        "    return answer\n",
        "\n",
        "print(solution([[\"ICN\", \"JFK\"], [\"HND\", \"IAD\"], [\"JFK\", \"HND\"]]), [\"ICN\", \"JFK\", \"HND\", \"IAD\"])\n",
        "print(solution([[\"ICN\", \"SFO\"], [\"ICN\", \"ATL\"], [\"SFO\", \"ATL\"], [\"ATL\", \"ICN\"], [\"ATL\",\"SFO\"]]), [\"ICN\", \"ATL\", \"ICN\", \"SFO\", \"ATL\", \"SFO\"])\n",
        "print(solution([[\"ICN\", \"A\"], [\"ICN\", \"B\"], [\"B\", \"ICN\"]]))\n",
        "print(solution([['ICN','A'],['A','B'],['A','C'],['C','A'],['B','D']]))"
      ],
      "execution_count": null,
      "outputs": []
    },
    {
      "cell_type": "code",
      "metadata": {
        "id": "T07x9P3Neg-7"
      },
      "source": [
        "# Ref : python algorithm inverview\n",
        "\n",
        "def solution(tickets) :\n",
        "\n",
        "    graph = collections.defaultdict(list)\n",
        "\n",
        "    for a, b in sorted(tickets) :\n",
        "        graph[a].append(b)\n",
        "\n",
        "    route = []\n",
        "\n",
        "    def dfs(a) :\n",
        "\n",
        "        while graph[a] :\n",
        "            dfs(graph[a].pop(0))\n",
        "\n",
        "        route.append(a)\n",
        "\n",
        "    dfs('ICN')\n",
        "\n",
        "    return route[::-1]\n",
        "\n",
        "print(solution([['ICN','A'],['A','B'],['A','C'],['C','A'],['B','D']]))"
      ],
      "execution_count": null,
      "outputs": []
    },
    {
      "cell_type": "code",
      "metadata": {
        "id": "xv6DNn0cenSH"
      },
      "source": [
        "# Ref : python algorithm inverview\n",
        "def solution(tickets) :\n",
        "\n",
        "    graph = collections.defaultdict(list)\n",
        "\n",
        "    for a, b in sorted(tickets) :\n",
        "        graph[a].append(b)\n",
        "\n",
        "    route, stack = [], [\"ICN\"]\n",
        "    \n",
        "    print(graph)\n",
        "\n",
        "    while stack :\n",
        "\n",
        "        while graph[stack[-1]] :\n",
        "            print(stack[-1], graph[stack[-1]])\n",
        "            stack.append(graph[stack[-1]].pop(0))\n",
        "            print(stack)\n",
        "\n",
        "        route.append(stack.pop())\n",
        "\n",
        "    print(route, stack)\n",
        "    return route[::-1]\n",
        "\n",
        "print(solution([['ICN','A'],['A','B'],['A','C'],['C','A'],['B','D']]))"
      ],
      "execution_count": null,
      "outputs": []
    }
  ]
}