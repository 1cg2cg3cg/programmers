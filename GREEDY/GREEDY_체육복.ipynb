{
  "nbformat": 4,
  "nbformat_minor": 0,
  "metadata": {
    "colab": {
      "name": "GREEDY_체육복.ipynb",
      "provenance": [],
      "collapsed_sections": [],
      "authorship_tag": "ABX9TyPrekRCeueQ6Ol56C1+gsWb",
      "include_colab_link": true
    },
    "kernelspec": {
      "name": "python3",
      "display_name": "Python 3"
    }
  },
  "cells": [
    {
      "cell_type": "markdown",
      "metadata": {
        "id": "view-in-github",
        "colab_type": "text"
      },
      "source": [
        "<a href=\"https://colab.research.google.com/github/1cg2cg3cg/programmers/blob/main/GREEDY/GREEDY_%EC%B2%B4%EC%9C%A1%EB%B3%B5.ipynb\" target=\"_parent\"><img src=\"https://colab.research.google.com/assets/colab-badge.svg\" alt=\"Open In Colab\"/></a>"
      ]
    },
    {
      "cell_type": "code",
      "metadata": {
        "id": "KfqtJO8qwkkS"
      },
      "source": [
        "def solution(n, lost, reserve) :\r\n",
        "    \r\n",
        "    lost2 = [i for i in lost if i not in reserve]\r\n",
        "    reserve2 = [i for i in reserve if i not in lost]\r\n",
        "\r\n",
        "    for i in reserve2 :\r\n",
        "        if i-1 in lost2 :\r\n",
        "            lost2.remove(i-1)\r\n",
        "        elif i+1 in lost2 :\r\n",
        "            lost2.remove(i+1)\r\n",
        "    \r\n",
        "    return n - len(lost2)"
      ],
      "execution_count": null,
      "outputs": []
    }
  ]
}