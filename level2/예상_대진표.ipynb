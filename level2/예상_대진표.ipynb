{
  "nbformat": 4,
  "nbformat_minor": 0,
  "metadata": {
    "colab": {
      "name": "예상 대진표.ipynb",
      "provenance": [],
      "collapsed_sections": [],
      "authorship_tag": "ABX9TyMAWCHK2eF6+xBSfiEcb8zS",
      "include_colab_link": true
    },
    "kernelspec": {
      "name": "python3",
      "display_name": "Python 3"
    }
  },
  "cells": [
    {
      "cell_type": "markdown",
      "metadata": {
        "id": "view-in-github",
        "colab_type": "text"
      },
      "source": [
        "<a href=\"https://colab.research.google.com/github/1cg2cg3cg/programmers/blob/main/level2/%EC%98%88%EC%83%81_%EB%8C%80%EC%A7%84%ED%91%9C.ipynb\" target=\"_parent\"><img src=\"https://colab.research.google.com/assets/colab-badge.svg\" alt=\"Open In Colab\"/></a>"
      ]
    },
    {
      "cell_type": "code",
      "metadata": {
        "colab": {
          "base_uri": "https://localhost:8080/"
        },
        "id": "bHaRksU3z_uw",
        "outputId": "72e47b2a-8455-409f-e44a-1408ca22df3a"
      },
      "source": [
        "def solution(n,a,b):\r\n",
        "    answer = 1 # 1라운드부터 시작\r\n",
        "    \r\n",
        "    if a > b :  # a가 항상 더 작은 번호 참가자\r\n",
        "        a, b = b, a\r\n",
        "\r\n",
        "    stack = [i for i in range(1,n+1)]\r\n",
        "\r\n",
        "    while len(stack) != 2 :\r\n",
        "        if a % 2 and b-a == 1 : # a와 b가 같은 라운드에서 만나는 경우\r\n",
        "            return answer\r\n",
        "        \r\n",
        "        answer += 1 # 만나지 않았다면 다음 라운드 진행\r\n",
        "\r\n",
        "        stack = stack[:len(stack)//2] # 부전승이 없기 때문에 가능\r\n",
        "        \r\n",
        "        if a % 2 :\r\n",
        "            a = a//2 + 1\r\n",
        "        else :\r\n",
        "            a = a//2\r\n",
        "        \r\n",
        "        if b % 2 :\r\n",
        "            b = b//2 + 1\r\n",
        "        else :\r\n",
        "            b = b//2\r\n",
        "\r\n",
        "    return answer\r\n",
        "\r\n",
        "print(solution(8, 4, 7), 3)\r\n",
        "print(solution(8, 4, 5), 3)\r\n",
        "print(solution(8, 6, 7), 2)\r\n",
        "print(solution(8, 1, 2), 1)"
      ],
      "execution_count": null,
      "outputs": [
        {
          "output_type": "stream",
          "text": [
            "3 3\n",
            "3 3\n",
            "2 2\n",
            "1 1\n"
          ],
          "name": "stdout"
        }
      ]
    }
  ]
}