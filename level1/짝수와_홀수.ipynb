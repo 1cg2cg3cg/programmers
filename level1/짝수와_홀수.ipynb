{
  "nbformat": 4,
  "nbformat_minor": 0,
  "metadata": {
    "colab": {
      "name": "짝수와 홀수.ipynb",
      "provenance": [],
      "authorship_tag": "ABX9TyNhVo92y9H+d4/a3pIgSmBT",
      "include_colab_link": true
    },
    "kernelspec": {
      "name": "python3",
      "display_name": "Python 3"
    }
  },
  "cells": [
    {
      "cell_type": "markdown",
      "metadata": {
        "id": "view-in-github",
        "colab_type": "text"
      },
      "source": [
        "<a href=\"https://colab.research.google.com/github/1cg2cg3cg/programmers/blob/main/level1/%EC%A7%9D%EC%88%98%EC%99%80_%ED%99%80%EC%88%98.ipynb\" target=\"_parent\"><img src=\"https://colab.research.google.com/assets/colab-badge.svg\" alt=\"Open In Colab\"/></a>"
      ]
    },
    {
      "cell_type": "code",
      "metadata": {
        "id": "ud29JNtgh-Q2"
      },
      "source": [
        "def solution(num):\r\n",
        "    return \"Odd\" if num % 2 == 1 else \"Even\""
      ],
      "execution_count": null,
      "outputs": []
    }
  ]
}