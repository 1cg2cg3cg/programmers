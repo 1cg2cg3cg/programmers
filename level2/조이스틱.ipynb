{
  "nbformat": 4,
  "nbformat_minor": 0,
  "metadata": {
    "colab": {
      "name": "조이스틱.ipynb",
      "provenance": [],
      "collapsed_sections": [],
      "authorship_tag": "ABX9TyP54xsuG3jfENvoqkUrIgOq",
      "include_colab_link": true
    },
    "kernelspec": {
      "name": "python3",
      "display_name": "Python 3"
    }
  },
  "cells": [
    {
      "cell_type": "markdown",
      "metadata": {
        "id": "view-in-github",
        "colab_type": "text"
      },
      "source": [
        "<a href=\"https://colab.research.google.com/github/1cg2cg3cg/programmers/blob/main/level2/%EC%A1%B0%EC%9D%B4%EC%8A%A4%ED%8B%B1.ipynb\" target=\"_parent\"><img src=\"https://colab.research.google.com/assets/colab-badge.svg\" alt=\"Open In Colab\"/></a>"
      ]
    },
    {
      "cell_type": "code",
      "metadata": {
        "colab": {
          "base_uri": "https://localhost:8080/"
        },
        "id": "KXlLcY8xt8we",
        "outputId": "1dea8078-e5d5-4398-91bc-fc824df748ff"
      },
      "source": [
        "def solution(name):\n",
        "    updown = []     # name 의 모든 글자를 만들기 위해 움직이는 횟수\n",
        "    for i in range(len(name)) : # A에서 B 방향과 Z 방향 중 더 적은 횟수\n",
        "        updown.append(min(ord(name[i]) - ord(\"A\"), 26-(ord(name[i]) - ord(\"A\"))))\n",
        " \n",
        "    points = []     # A가 아닌(updown 중 0이 아닌) 것들의 index 저장\n",
        "    for i in range(len(updown)) :\n",
        "        if updown[i] != 0 :\n",
        "            points.append(i)\n",
        " \n",
        "    if sum(updown) == 0 :   # name이 모두 A 이면, 0 반환\n",
        "        return 0\n",
        "\n",
        "    c = []      # 이동할 수 있는 거리들을 저장하기 위한 변수\n",
        "    for i in range(len(points)) :   # A가 아닌 문자들이 저장된 points 변수에서\n",
        "        if points[i] < len(name)//2 :   # name의 중간 값을 넘지 않는 범위의 거리 계산\n",
        "           # name의 중간을 넘는 곳까지 이동한 경우, 되돌아가기보다 쭉 진행하는 거리가 짧다\n",
        "           # name의 중간 이전이라면 시작점으로 되돌아간 후 오른쪽으로 이동해 남아있는\n",
        "           # A가 아닌 지점들 중 가장 왼쪽에 있는 곳까지 이동하는 거리\n",
        "           c.append(2 * points[i] + len(name)-points[i+1])\n",
        "\n",
        "    c.append(len(name)-points[0])   # 처음부터 오른쪽으로 이동 후 첫번째 A가 아닌 점까지 이동하는 경우\n",
        "    c.append(points[-1])    # 시작에서 오른쪽으로 쭉 이동하는 경우\n",
        "    return min(c) + sum(updown) # 이동할 수 있는 거리 중 가장 짧은 것 + 위,아래 움직이는 횟수\n",
        " \n",
        "print(solution(\"JEROEN\"), '\\t 56')\n",
        "print(solution(\"JAN\"), '\\t 23')\n",
        "print(solution(\"ABAAAAABAB\"), '\\t 8')\n",
        "print(solution(\"AAAAAA\"), '\\t 0')\n",
        "print(solution(\"AAA\"), '\\t 0')\n",
        "print(solution(\"ABAAAAAAABA\"), '\\t 6')\n",
        "print(solution(\"AAB\"), '\\t 2')\n",
        "print(solution(\"BBAABAAAAB\"), '\\t 12')\n",
        "print(solution(\"BBBAAB\"), '\\t 9')\n",
        "print(solution(\"ABABAAAAAB\"), '\\t 8')\n",
        "print(solution(\"BABAAAAB\"), '\\t 8')\n",
        "print(solution(\"CANAAAAANAN\"), '\\t 48')\n",
        "print(solution(\"ABABAAAAB\"), '\\t 10')\n",
        "print(solution(\"BABAAAAB\"), '\\t 8')\n",
        "print(solution(\"ABAAAAAAAAABB\"), '\\t 7')"
      ],
      "execution_count": 93,
      "outputs": [
        {
          "output_type": "stream",
          "text": [
            "56 \t 56\n",
            "23 \t 23\n",
            "8 \t 8\n",
            "0 \t 0\n",
            "0 \t 0\n",
            "6 \t 6\n",
            "2 \t 2\n",
            "12 \t 12\n",
            "9 \t 9\n",
            "10 \t 8\n",
            "8 \t 8\n",
            "48 \t 48\n",
            "10 \t 10\n",
            "8 \t 8\n",
            "7 \t 7\n"
          ],
          "name": "stdout"
        }
      ]
    }
  ]
}