{
  "nbformat": 4,
  "nbformat_minor": 0,
  "metadata": {
    "colab": {
      "name": "문자열 내 마음대로 정렬하기.ipynb",
      "provenance": [],
      "collapsed_sections": [],
      "authorship_tag": "ABX9TyOWIxIBbz+nHbKsXF7YzH40",
      "include_colab_link": true
    },
    "kernelspec": {
      "name": "python3",
      "display_name": "Python 3"
    }
  },
  "cells": [
    {
      "cell_type": "markdown",
      "metadata": {
        "id": "view-in-github",
        "colab_type": "text"
      },
      "source": [
        "<a href=\"https://colab.research.google.com/github/1cg2cg3cg/programmers/blob/main/%EB%AC%B8%EC%9E%90%EC%97%B4_%EB%82%B4_%EB%A7%88%EC%9D%8C%EB%8C%80%EB%A1%9C_%EC%A0%95%EB%A0%AC%ED%95%98%EA%B8%B0.ipynb\" target=\"_parent\"><img src=\"https://colab.research.google.com/assets/colab-badge.svg\" alt=\"Open In Colab\"/></a>"
      ]
    },
    {
      "cell_type": "code",
      "metadata": {
        "colab": {
          "base_uri": "https://localhost:8080/"
        },
        "id": "QmU13fqwyil5",
        "outputId": "e2893c6a-6e3d-4870-adad-cafea2d3222f"
      },
      "source": [
        "def solution(strings, n):\r\n",
        "    answer = []\r\n",
        "    strings = sorted(strings)   # n index가 같은 경우 사전식 배열을 위해\r\n",
        "\r\n",
        "    answer = sorted(strings, key = lambda x : x[n]) # n index를 기준으로 정렬\r\n",
        "    return answer\r\n",
        "\r\n",
        "print(solution(['sun', 'bed', 'car'], 1), '\\t [car, bed, sun]')\r\n",
        "print(solution(['abce', 'abcd', 'cdx'], 2), '\\t [abcd, abce, cdx]')"
      ],
      "execution_count": 13,
      "outputs": [
        {
          "output_type": "stream",
          "text": [
            "['bed', 'car', 'sun']\n",
            "['car', 'bed', 'sun'] \t [car, bed, sun]\n",
            "['abcd', 'abce', 'cdx']\n",
            "['abcd', 'abce', 'cdx'] \t [abcd, abce, cdx]\n"
          ],
          "name": "stdout"
        }
      ]
    }
  ]
}
