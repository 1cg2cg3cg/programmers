{
  "nbformat": 4,
  "nbformat_minor": 0,
  "metadata": {
    "colab": {
      "name": "STACK/QUEUE - 주식 가격.ipynb",
      "provenance": [],
      "collapsed_sections": [],
      "authorship_tag": "ABX9TyMRBs3B3oCIGdJRyz9sUsWM",
      "include_colab_link": true
    },
    "kernelspec": {
      "name": "python3",
      "display_name": "Python 3"
    }
  },
  "cells": [
    {
      "cell_type": "markdown",
      "metadata": {
        "id": "view-in-github",
        "colab_type": "text"
      },
      "source": [
        "<a href=\"https://colab.research.google.com/github/1cg2cg3cg/programmers/blob/main/level2/STACK_QUEUE_%EC%A3%BC%EC%8B%9D_%EA%B0%80%EA%B2%A9.ipynb\" target=\"_parent\"><img src=\"https://colab.research.google.com/assets/colab-badge.svg\" alt=\"Open In Colab\"/></a>"
      ]
    },
    {
      "cell_type": "code",
      "metadata": {
        "id": "eTUkl5vihuMp"
      },
      "source": [
        "# 21.04.21\n",
        "def solution(prices) :\n",
        "\n",
        "    answer = [0 for _ in range(len(prices))]\n",
        "    stack = []\n",
        "\n",
        "    for i, cur in enumerate(prices) :\n",
        "\n",
        "        while stack and cur < prices[stack[-1]] :\n",
        "            last = stack.pop()\n",
        "            answer[last] = i-last\n",
        "        \n",
        "        stack.append(i)\n",
        "\n",
        "        for s in stack :\n",
        "            answer[s] = i - s\n",
        "\n",
        "    return answer"
      ],
      "execution_count": null,
      "outputs": []
    },
    {
      "cell_type": "code",
      "metadata": {
        "id": "V6MT8QiDKxs4"
      },
      "source": [
        "# 21.02.06\n",
        "def solution(prices) :\n",
        "    answer = [0] * len(prices)\n",
        "    stack = []\n",
        "\n",
        "    for i, cur in enumerate(prices) :\n",
        "\n",
        "        while stack and cur < prices[stack[-1]] :\n",
        "            last = stack.pop()\n",
        "            answer[last] = i - last\n",
        "        \n",
        "        stack.append(i)\n",
        "\n",
        "        for sec in stack:\n",
        "            answer[sec] = i - sec\n",
        "\n",
        "    return answer\n",
        "\n",
        "prices = [1, 2, 3, 2, 3, 3, 1]\n",
        "\n",
        "print(solution(prices))"
      ],
      "execution_count": null,
      "outputs": []
    }
  ]
}