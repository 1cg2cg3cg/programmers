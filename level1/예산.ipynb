{
  "nbformat": 4,
  "nbformat_minor": 0,
  "metadata": {
    "colab": {
      "name": "예산.ipynb",
      "provenance": [],
      "authorship_tag": "ABX9TyO7zz9gjauZxOzODJyLLvDt",
      "include_colab_link": true
    },
    "kernelspec": {
      "name": "python3",
      "display_name": "Python 3"
    }
  },
  "cells": [
    {
      "cell_type": "markdown",
      "metadata": {
        "id": "view-in-github",
        "colab_type": "text"
      },
      "source": [
        "<a href=\"https://colab.research.google.com/github/1cg2cg3cg/programmers/blob/main/level1/%EC%98%88%EC%82%B0.ipynb\" target=\"_parent\"><img src=\"https://colab.research.google.com/assets/colab-badge.svg\" alt=\"Open In Colab\"/></a>"
      ]
    },
    {
      "cell_type": "code",
      "metadata": {
        "colab": {
          "base_uri": "https://localhost:8080/"
        },
        "id": "TYyE3KFNsPnE",
        "outputId": "3ec20983-0ac7-4fb8-f8a6-eaf105ed0247"
      },
      "source": [
        "def solution(d, budget):\r\n",
        "    answer = 0\r\n",
        "    d = sorted(d)\r\n",
        "    for i in range(len(d)) :\r\n",
        "        if budget - d[i] >= 0 :\r\n",
        "            budget -= d[i]\r\n",
        "            answer += 1\r\n",
        "    return answer\r\n",
        "\r\n",
        "print(solution([1,3,2,5,4], 9), '\\t 3')\r\n",
        "print(solution([2,2,3,3], 10), '\\t 4')"
      ],
      "execution_count": 2,
      "outputs": [
        {
          "output_type": "stream",
          "text": [
            "3 \t 3\n",
            "4 \t 4\n"
          ],
          "name": "stdout"
        }
      ]
    }
  ]
}