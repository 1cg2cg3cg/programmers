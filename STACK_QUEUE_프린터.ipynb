{
  "nbformat": 4,
  "nbformat_minor": 0,
  "metadata": {
    "colab": {
      "name": "STACK_QUEUE - 프린터.ipynb",
      "provenance": [],
      "collapsed_sections": [],
      "authorship_tag": "ABX9TyNYS0JufV7MrbE0YHzOs/YU",
      "include_colab_link": true
    },
    "kernelspec": {
      "name": "python3",
      "display_name": "Python 3"
    }
  },
  "cells": [
    {
      "cell_type": "markdown",
      "metadata": {
        "id": "view-in-github",
        "colab_type": "text"
      },
      "source": [
        "<a href=\"https://colab.research.google.com/github/1cg2cg3cg/programmers/blob/main/STACK_QUEUE_%ED%94%84%EB%A6%B0%ED%84%B0.ipynb\" target=\"_parent\"><img src=\"https://colab.research.google.com/assets/colab-badge.svg\" alt=\"Open In Colab\"/></a>"
      ]
    },
    {
      "cell_type": "code",
      "metadata": {
        "colab": {
          "base_uri": "https://localhost:8080/"
        },
        "id": "7DqSdu6JODfi",
        "outputId": "140874f5-f530-4659-b3a9-9cea33ccc255"
      },
      "source": [
        "import collections\r\n",
        "\r\n",
        "def solution(priorities, location):\r\n",
        "    answer = 0\r\n",
        "    data = []\r\n",
        "\r\n",
        "    for i, j in enumerate(priorities) : #중요도와 중요도 배열 index를 만들어서 저장\r\n",
        "        data.append([i, j])             #priorities = [2,1,3,2]인 경우, data는 [[0,2],[1,1],[2,3],[3,2]]\r\n",
        "\r\n",
        "    target = data[location]             #target은 찾으려고 하는 것 예시에서는 [2,3]을 찾아야 함\r\n",
        "    print_list = collections.deque(data)  #좌우 모두 뽑아낼 수 있는 stack = deque\r\n",
        "\r\n",
        "    i = 0\r\n",
        "\r\n",
        "    while True :\r\n",
        "        \r\n",
        "        if max(print_list, key = lambda x : x[1])[1] == print_list[0][1] and print_list[0] != target :  #print_list의 최대 값이 print_list의 0번자리의 중요도이면서\r\n",
        "            print_list.popleft()                                                                        #print_list의 0번 자리가 target이 아닌 경우\r\n",
        "            answer += 1                                                                                 #즉 target보다 우선순위가 높은 인쇄물이 있는 경우 pop하고 출력+1\r\n",
        "        elif max(print_list, key = lambda x : x[1])[1] == print_list[0][1] and print_list[0] == target :#target이 print_list중 가장 큰 값이면서, 0번 자리에 있는 경우\r\n",
        "            answer += 1\r\n",
        "            break\r\n",
        "        else :\r\n",
        "            print_list.rotate(-1)   #위 두 경우에 해당하지 않으면, 0번을 가장 마지막으로 보냄\r\n",
        "\r\n",
        "    return answer\r\n",
        "\r\n",
        "print(solution([2, 1, 3, 2], 2), '1')\r\n",
        "print(solution([1, 1, 9, 1, 1, 1], 0), '5')"
      ],
      "execution_count": 46,
      "outputs": [
        {
          "output_type": "stream",
          "text": [
            "deque([[0, 2], [1, 1], [2, 3], [3, 2]]) 0 0\n",
            "1 1\n",
            "deque([[0, 1], [1, 1], [2, 9], [3, 1], [4, 1], [5, 1]]) 0 0\n",
            "5 5\n"
          ],
          "name": "stdout"
        }
      ]
    }
  ]
}