{
  "nbformat": 4,
  "nbformat_minor": 0,
  "metadata": {
    "colab": {
      "name": "STACK/QUEUE - 다리를 지나는 트럭.ipynb",
      "provenance": [],
      "authorship_tag": "ABX9TyMaKxuQb56O+n1kbL1neMqr",
      "include_colab_link": true
    },
    "kernelspec": {
      "name": "python3",
      "display_name": "Python 3"
    }
  },
  "cells": [
    {
      "cell_type": "markdown",
      "metadata": {
        "id": "view-in-github",
        "colab_type": "text"
      },
      "source": [
        "<a href=\"https://colab.research.google.com/github/1cg2cg3cg/programmers/blob/main/STACK_QUEUE_%EB%8B%A4%EB%A6%AC%EB%A5%BC_%EC%A7%80%EB%82%98%EB%8A%94_%ED%8A%B8%EB%9F%AD.ipynb\" target=\"_parent\"><img src=\"https://colab.research.google.com/assets/colab-badge.svg\" alt=\"Open In Colab\"/></a>"
      ]
    },
    {
      "cell_type": "code",
      "metadata": {
        "id": "ztduUYfALsHu"
      },
      "source": [
        "import collections\r\n",
        "\r\n",
        "def solution(bridge_length, weight, truck_weights):\r\n",
        "    answer = 0\r\n",
        "\r\n",
        "    bridge = collections.deque([0]*bridge_length)\r\n",
        "\r\n",
        "    truck_weights.append(weight+1)\r\n",
        "    \r\n",
        "    index = 0\r\n",
        "    passed = []\r\n",
        "\r\n",
        "    # To correct timeout error, change the equation for the bridge weight\r\n",
        "    # index refers to next truck so, if I remember the passed trucks,\r\n",
        "    # I can calculate bridge weight. \r\n",
        "    # 안지나간 트럭의 index까지 더하고, passed 를 빼서\r\n",
        "    # timeout error 해결!\r\n",
        "    while index == 0 or sum(truck_weights[:index]) - sum(passed) > 0 :\r\n",
        "        answer += 1\r\n",
        "\r\n",
        "        temp = bridge.popleft()\r\n",
        "        if temp > 0 :\r\n",
        "            passed.append(temp)\r\n",
        "\r\n",
        "        if sum(truck_weights[:index+1]) - sum(passed) <= weight and truck_weights :\r\n",
        "            bridge.append(truck_weights[index])\r\n",
        "            index += 1\r\n",
        "\r\n",
        "        else :\r\n",
        "            bridge.append(0)\r\n",
        "\r\n",
        "    return answer\r\n",
        "\r\n",
        "bridge_length = 2\r\n",
        "weight = 10\r\n",
        "truck_weights = [7,4,5,6]\r\n",
        "\r\n",
        "bridge_length = 100\r\n",
        "weight = 100\r\n",
        "truck_weights = [10]\r\n",
        "#truck_weights = [10, 10, 10, 10, 10, 10, 10, 10, 10, 10]\r\n",
        "\r\n",
        "print(solution(bridge_length, weight, truck_weights))"
      ],
      "execution_count": null,
      "outputs": []
    }
  ]
}