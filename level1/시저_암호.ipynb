{
  "nbformat": 4,
  "nbformat_minor": 0,
  "metadata": {
    "colab": {
      "name": "시저 암호.ipynb",
      "provenance": [],
      "collapsed_sections": [],
      "authorship_tag": "ABX9TyP16w0irDTunJq994yL9U4w",
      "include_colab_link": true
    },
    "kernelspec": {
      "name": "python3",
      "display_name": "Python 3"
    }
  },
  "cells": [
    {
      "cell_type": "markdown",
      "metadata": {
        "id": "view-in-github",
        "colab_type": "text"
      },
      "source": [
        "<a href=\"https://colab.research.google.com/github/1cg2cg3cg/programmers/blob/main/level1/%EC%8B%9C%EC%A0%80_%EC%95%94%ED%98%B8.ipynb\" target=\"_parent\"><img src=\"https://colab.research.google.com/assets/colab-badge.svg\" alt=\"Open In Colab\"/></a>"
      ]
    },
    {
      "cell_type": "code",
      "metadata": {
        "id": "4atdX_Ja7uaB",
        "colab": {
          "base_uri": "https://localhost:8080/"
        },
        "outputId": "b2be4991-ac9b-46de-f252-639721d3cab7"
      },
      "source": [
        "def solution(s, n):\r\n",
        "    answer = [' '] * len(s)\r\n",
        "\r\n",
        "    for i in range(len(s)) :\r\n",
        "        left = 26 - n\r\n",
        "        if s[i].isupper() :\r\n",
        "            if ord(s[i]) - left > 64 :\r\n",
        "                answer[i] = chr(ord(s[i]) - left)\r\n",
        "            else :\r\n",
        "                answer[i] = chr(ord(s[i]) + n)\r\n",
        "        if s[i].islower() :\r\n",
        "            if ord(s[i]) - left > 96 :\r\n",
        "                answer[i] = chr(ord(s[i]) - left)\r\n",
        "            else :\r\n",
        "                answer[i] = chr(ord(s[i]) + n)\r\n",
        "\r\n",
        "    return ''.join(answer)\r\n",
        "\r\n",
        "print(solution(\"B\", 25), '\\t A')\r\n",
        "print(solution(\"ABCDEFGHIJKLMNOPQRSTUVWXYZ\", 1), '\\t BCDEFGHIJKLMNOPQRSTUVWXYZA')\r\n",
        "print(solution(\"z\", 1), '\\t a')\r\n",
        "print(solution(\"a B z\", 4), '\\t e F d')"
      ],
      "execution_count": 101,
      "outputs": [
        {
          "output_type": "stream",
          "text": [
            "A \t A\n",
            "BCDEFGHIJKLMNOPQRSTUVWXYZA \t BCDEFGHIJKLMNOPQRSTUVWXYZA\n",
            "a \t a\n",
            "e F d \t e F d\n"
          ],
          "name": "stdout"
        }
      ]
    },
    {
      "cell_type": "code",
      "metadata": {
        "id": "F1E-bi2Hsiac"
      },
      "source": [
        "# 알파벳 리스트를 만들어놓고 index 이용하는 풀이 from hongminpark\r\n",
        "def caesar(s, n):\r\n",
        "    lower_list = \"abcdefghijklmnopqrstuvwxyz\"\r\n",
        "    upper_list = \"ABCDEFGHIJKLMNOPQRSTUVWXYZ\"\r\n",
        "\r\n",
        "    result = []\r\n",
        "\r\n",
        "    for i in s:\r\n",
        "        if i is \" \":\r\n",
        "            result.append(\" \")\r\n",
        "        elif i.islower() is True:\r\n",
        "            new_ = lower_list.find(i) + n\r\n",
        "            result.append(lower_list[new_ % 26])\r\n",
        "        else:\r\n",
        "            new_ = upper_list.find(i) + n\r\n",
        "            result.append(upper_list[new_ % 26])\r\n",
        "    return \"\".join(result)"
      ],
      "execution_count": null,
      "outputs": []
    }
  ]
}