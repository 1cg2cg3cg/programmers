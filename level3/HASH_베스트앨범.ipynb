{
  "nbformat": 4,
  "nbformat_minor": 0,
  "metadata": {
    "colab": {
      "name": "HASH - 베스트앨범.ipynb",
      "provenance": [],
      "collapsed_sections": [],
      "authorship_tag": "ABX9TyNahLVv8Oq2LUaHvkwA479n",
      "include_colab_link": true
    },
    "kernelspec": {
      "name": "python3",
      "display_name": "Python 3"
    }
  },
  "cells": [
    {
      "cell_type": "markdown",
      "metadata": {
        "id": "view-in-github",
        "colab_type": "text"
      },
      "source": [
        "<a href=\"https://colab.research.google.com/github/1cg2cg3cg/programmers/blob/main/level3/HASH_%EB%B2%A0%EC%8A%A4%ED%8A%B8%EC%95%A8%EB%B2%94.ipynb\" target=\"_parent\"><img src=\"https://colab.research.google.com/assets/colab-badge.svg\" alt=\"Open In Colab\"/></a>"
      ]
    },
    {
      "cell_type": "code",
      "metadata": {
        "id": "y3wnuymwiW9v"
      },
      "source": [
        "# 21.04.21\n",
        "import collections\n",
        "\n",
        "def solution(genres, plays) :\n",
        "    answer = []\n",
        "\n",
        "    C = collections.defaultdict(list)   # count how many times each music plays\n",
        "    G = collections.defaultdict(int)    # count how many times each genre plays\n",
        "\n",
        "    for i, gp in enumerate(zip(genres,plays)) :\n",
        "\n",
        "        C[gp[0]].append([i,gp[1]])\n",
        "        G[gp[0]] += gp[1]\n",
        "    \n",
        "    G2 = sorted(G, key = lambda x : G[x], reverse=True) # sort by plays count\n",
        "    \n",
        "    for g in G2 :\n",
        "        for _ in range(2) :\n",
        "            if C[g] :   # Can choose a maximum of 2 pieces of music.\n",
        "                C[g].sort(key = lambda x : x[1], reverse=True)  # sort by plays count and index number\n",
        "                answer.append(C[g].pop(0)[0])\n",
        "\n",
        "    return answer"
      ],
      "execution_count": null,
      "outputs": []
    },
    {
      "cell_type": "code",
      "metadata": {
        "id": "Hrh9_UnfIo1S"
      },
      "source": [
        "# 21.02.06\n",
        "import collections\n",
        "\n",
        "def solution(genres, plays):\n",
        "    \n",
        "    answer = []\n",
        "\n",
        "    genres_list = collections.defaultdict(int) # sum of playtimes of each genre\n",
        "    count = collections.defaultdict(list) # [playtimes, index] about each genre\n",
        "\n",
        "    for i in range(len(genres)) :\n",
        "        genres_list[genres[i]] += plays[i] # sum of playtimes of each genre\n",
        "        count[genres[i]].append([plays[i], i]) # [playtimes, index] about each genre\n",
        "\n",
        "    print(genres_list)\n",
        "    # sort in ascending order\n",
        "    A = sorted(genres_list.items(), key = lambda x : x[1], reverse=True)\n",
        "    print('\\nA', A)\n",
        "\n",
        "    for i in A :\n",
        "\n",
        "        B = count[i[0]]\n",
        "        B = sorted(B)\n",
        "\n",
        "        print('\\nB', B)\n",
        "        \n",
        "        if len(B) >= 2 :\n",
        "            #If there are more than 2 types in the same genre, always pick 2\n",
        "            back = B.pop() # 뒤\n",
        "            forward = B.pop() # 앞\n",
        "\n",
        "            # case for same playtimes : switch the indices each other\n",
        "            if back[0] == forward[0] and forward[1] < back[1] :\n",
        "                back[1], forward[1] = forward[1], back[1]\n",
        "            \n",
        "            answer.append(back[1])\n",
        "            answer.append(forward[1])\n",
        "        else :\n",
        "            answer.append(B.pop()[1])\n",
        "\n",
        "\n",
        "    return answer\n",
        "\n",
        "\n",
        "\n",
        "genres = ['classic', 'pop', 'classic', 'classic', 'pop', 'classic', 'classic', 'rock', 'abc']\n",
        "plays = [1400, 600, 150, 800, 2500, 500, 1400, 300, 20]\n",
        "\n",
        "#genres = ['classic', 'pop', 'classic', 'classic', 'pop']\n",
        "#plays = [500, 600, 150, 800, 2500]\n",
        "\n",
        "print(solution(genres, plays))"
      ],
      "execution_count": null,
      "outputs": []
    }
  ]
}
