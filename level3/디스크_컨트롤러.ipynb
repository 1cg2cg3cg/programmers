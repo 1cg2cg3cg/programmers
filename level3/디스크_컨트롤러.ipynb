{
  "nbformat": 4,
  "nbformat_minor": 0,
  "metadata": {
    "colab": {
      "name": "디스크 컨트롤러.ipynb",
      "provenance": [],
      "collapsed_sections": [],
      "authorship_tag": "ABX9TyNwrRY7RqegUbsGBLFUgOWQ",
      "include_colab_link": true
    },
    "kernelspec": {
      "name": "python3",
      "display_name": "Python 3"
    }
  },
  "cells": [
    {
      "cell_type": "markdown",
      "metadata": {
        "id": "view-in-github",
        "colab_type": "text"
      },
      "source": [
        "<a href=\"https://colab.research.google.com/github/1cg2cg3cg/programmers/blob/main/level3/%EB%94%94%EC%8A%A4%ED%81%AC_%EC%BB%A8%ED%8A%B8%EB%A1%A4%EB%9F%AC.ipynb\" target=\"_parent\"><img src=\"https://colab.research.google.com/assets/colab-badge.svg\" alt=\"Open In Colab\"/></a>"
      ]
    },
    {
      "cell_type": "code",
      "metadata": {
        "id": "PE83TghSav3A",
        "colab": {
          "base_uri": "https://localhost:8080/"
        },
        "outputId": "ed0934bc-7dd5-4f26-bc4b-100cc56ac7e8"
      },
      "source": [
        "# 대기하는 시간이 겹치지 않게 만드는 것이 중요\n",
        "# 1. 처리 중에 입력이 여러 개인 경우 소요시간이 짧은 것 끝낸다 (대기하는 개수를 최소로)\n",
        "# 2. 처리 중에 입력이 여러 개인데, 소요시간이 같은 경우 나중에 들어온 것 부터 끝낸다.\n",
        "import heapq\n",
        "def solution(jobs):\n",
        "    answer, time = 0, 0\n",
        "    n = len(jobs)\n",
        "\n",
        "    heap = jobs\n",
        "    heapq.heapify(heap)\n",
        "\n",
        "    job1 = heapq.heappop(heap) # 1번 작업 완료\n",
        "    time = sum(job1)\n",
        "    answer = job1[1]    # [시작, 소요]\n",
        "    \n",
        "    for i, j in enumerate(jobs) : # [시작,소요] -> [소요,시작]\n",
        "        jobs[i] = [j[1], j[0]]  # heap을 사용하기 위해 순서 변경\n",
        "\n",
        "    while jobs :\n",
        "\n",
        "        A = [j for j in jobs if j[1] <= time] # 처리 중 입력된 것들의 목록\n",
        "\n",
        "        if A :\n",
        "            H = A\n",
        "            heapq.heapify(H)\n",
        "            cur = heapq.heappop(H)\n",
        "            \n",
        "            if H :  # 소요시간이 같은 경우 나중에 들어온 것으로 선택한다.\n",
        "                temp = heapq.heappop(H)\n",
        "                if cur[0] == temp[0] and cur[1] < temp[1] : \n",
        "                    cur = temp\n",
        "\n",
        "            jobs.remove(cur)    # 처리한 일 목록에서 제거\n",
        "            answer += cur[0] + time - cur[1]    # 소요시간 + 대기시간\n",
        "            time += cur[0]\n",
        "\n",
        "        else :\n",
        "            cur = heapq.heappop(heap)\n",
        "            answer += cur[0]\n",
        "            time += cur[0]\n",
        "\n",
        "    return answer // n\n",
        "\n",
        "print(solution([[0, 3], [1, 9], [2, 6]]), 9)\n",
        "print(solution([[100, 100], [1000, 1000]]), 550)\n",
        "\n",
        "print(solution([[0, 10], [2, 10], [9, 10], [15, 2]]), 14)\n",
        "\n",
        "print(solution([[0, 10], [2, 12], [9, 19], [15, 17]]), 25)\n",
        "print(solution([[0, 1]]), 1)\n",
        "print(solution([[1000, 1000]]), 1000)\n",
        "print(solution([[0, 1], [0, 1], [0, 1]]), 2)\n",
        "print(solution([[0, 1], [0, 1], [0, 1], [0, 1]]), 2)\n",
        "print(solution([[0, 1], [1000, 1000]]), 500)\n",
        "\n",
        "print(solution([[10, 10], [30, 10], [50, 2], [51, 2]]), 6)\n",
        "\n",
        "print(solution([[0, 3], [1, 9], [2, 6], [30, 3]]), 7)"
      ],
      "execution_count": 29,
      "outputs": [
        {
          "output_type": "stream",
          "text": [
            "9 9\n",
            "550 550\n",
            "14 14\n",
            "25 25\n",
            "1 1\n",
            "1000 1000\n",
            "2 2\n",
            "2 2\n",
            "500 500\n",
            "6 6\n",
            "7 7\n"
          ],
          "name": "stdout"
        }
      ]
    }
  ]
}