{
  "nbformat": 4,
  "nbformat_minor": 0,
  "metadata": {
    "colab": {
      "name": "level2 행렬 테두리 회전하기.ipynb",
      "provenance": [],
      "collapsed_sections": [],
      "authorship_tag": "ABX9TyPAcGnomKMaMf7HDU3RBQwv",
      "include_colab_link": true
    },
    "kernelspec": {
      "name": "python3",
      "display_name": "Python 3"
    },
    "language_info": {
      "name": "python"
    }
  },
  "cells": [
    {
      "cell_type": "markdown",
      "metadata": {
        "id": "view-in-github",
        "colab_type": "text"
      },
      "source": [
        "<a href=\"https://colab.research.google.com/github/1cg2cg3cg/programmers/blob/main/level2/%ED%96%89%EB%A0%AC_%ED%85%8C%EB%91%90%EB%A6%AC_%ED%9A%8C%EC%A0%84%ED%95%98%EA%B8%B0.ipynb\" target=\"_parent\"><img src=\"https://colab.research.google.com/assets/colab-badge.svg\" alt=\"Open In Colab\"/></a>"
      ]
    },
    {
      "cell_type": "code",
      "metadata": {
        "colab": {
          "base_uri": "https://localhost:8080/"
        },
        "id": "-wKViVynM54s",
        "outputId": "e44da86f-862b-4b20-f744-ac0ca03bac58"
      },
      "source": [
        "def solution(rows, columns, queries):\n",
        "    _map = [[ [] for _ in range(columns)] for _ in range(rows)] # draw a map as given condition\n",
        "    answer, num = [], 1 # num is used to darw a map\n",
        "\n",
        "    for i in range(rows) :  # map\n",
        "        for j in range(columns) :\n",
        "            _map[i][j] = num\n",
        "            num += 1\n",
        "\n",
        "    for x1, y1, x2, y2 in queries : # get the star and end points\n",
        "\n",
        "        min_val = float('inf')  # to calculate minimum value\n",
        "        tmp = _map[x1-1][y1-1]  # we have to remember the very first value\n",
        "                                # it will be applied at the last time\n",
        "        for i in range(x1-1, x2-1) :    # the left side rotate (dir : down to top)\n",
        "            _map[i][y1-1] = _map[i+1][y1-1]\n",
        "            if _map[i+1][y1-1] < min_val :\n",
        "                min_val = _map[i+1][y1-1]\n",
        "        \n",
        "        for i in range(y1-1, y2-1) :    # the bottom side rotate (dir : right to left)\n",
        "            _map[x2-1][i] = _map[x2-1][i+1]\n",
        "            if _map[x2-1][i+1] < min_val :\n",
        "                min_val = _map[x2-1][i+1]\n",
        "        \n",
        "        for i in range(x2-1, x1-1, -1) :    # the right side rotate (dir : top to down)\n",
        "            _map[i][y2-1] = _map[i-1][y2-1]\n",
        "            if _map[i-1][y2-1] < min_val :\n",
        "                min_val = _map[i-1][y2-1]\n",
        "        \n",
        "        for i in range(y2-1, y1-1, -1) :    # the top side rotate (dir : left to right)\n",
        "            _map[x1-1][i] = _map[x1-1][i-1]\n",
        "            if _map[x1-1][i-1] < min_val :\n",
        "                min_val = _map[x1-1][i-1]\n",
        "        \n",
        "        _map[x1-1][y1+1-1] = tmp    # the right element of the start point\n",
        "\n",
        "        if tmp < min_val :\n",
        "            min_val = tmp\n",
        "        \n",
        "        answer.append(min_val)  # append the min value each time\n",
        "\n",
        "    return answer\n",
        "\n",
        "#print(solution(6,6,[1,1,4,3]))\n",
        "print(solution(6,6,[[2,2,5,4],[3,3,6,6],[5,1,6,3]]))\n",
        "print(solution(3,3,[[1,1,2,2],[1,2,2,3],[2,1,3,2],[2,2,3,3]]))\n",
        "print(solution(100,97,[[1,1,100,97]]))"
      ],
      "execution_count": null,
      "outputs": [
        {
          "output_type": "stream",
          "text": [
            "[8, 10, 25]\n",
            "[1, 1, 5, 3]\n",
            "[1]\n"
          ],
          "name": "stdout"
        }
      ]
    }
  ]
}