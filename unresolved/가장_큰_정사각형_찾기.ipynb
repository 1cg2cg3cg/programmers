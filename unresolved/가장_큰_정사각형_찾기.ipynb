{
  "nbformat": 4,
  "nbformat_minor": 0,
  "metadata": {
    "colab": {
      "name": "가장 큰 정사각형 찾기.ipynb",
      "provenance": [],
      "collapsed_sections": [],
      "authorship_tag": "ABX9TyOvPA/BfZcCRzpHeidPdvca",
      "include_colab_link": true
    },
    "kernelspec": {
      "name": "python3",
      "display_name": "Python 3"
    }
  },
  "cells": [
    {
      "cell_type": "markdown",
      "metadata": {
        "id": "view-in-github",
        "colab_type": "text"
      },
      "source": [
        "<a href=\"https://colab.research.google.com/github/1cg2cg3cg/programmers/blob/main/level2/%EA%B0%80%EC%9E%A5_%ED%81%B0_%EC%A0%95%EC%82%AC%EA%B0%81%ED%98%95_%EC%B0%BE%EA%B8%B0.ipynb\" target=\"_parent\"><img src=\"https://colab.research.google.com/assets/colab-badge.svg\" alt=\"Open In Colab\"/></a>"
      ]
    },
    {
      "cell_type": "code",
      "metadata": {
        "colab": {
          "base_uri": "https://localhost:8080/"
        },
        "id": "ssCr5uli-juX",
        "outputId": "8b1081fc-bf6d-44a1-8137-50e5a9714075"
      },
      "source": [
        "# timeout error 21.02.25\r\n",
        "# l을 0에서 늘려가는 방식, max 길이에서 줄이는 방식 모두 시간 초과\r\n",
        "def solution(board):\r\n",
        "    answer = 0\r\n",
        "\r\n",
        "    def size(board, x, y, length) :\r\n",
        "        area = 0\r\n",
        "        for i in range(length+1) :\r\n",
        "            area += sum(board[x+i][y:y+length+1])\r\n",
        "        \r\n",
        "        if (length+1)**2 == area :\r\n",
        "            return area\r\n",
        "        \r\n",
        "        return 0\r\n",
        "\r\n",
        "    for i in range(len(board)) :\r\n",
        "        \r\n",
        "        for j in range(len(board[i])) :\r\n",
        "            l = 0\r\n",
        "            if (len(board[i]) - j)**2 <= answer or (len(board) - i)**2 <= answer : # 현재 구한 정사각형보다 클 수 없는 경우 넘기기\r\n",
        "                break\r\n",
        "\r\n",
        "            while i + l < len(board) and j + l < len(board[i]) :\r\n",
        "                area = size(board, i, j, l)\r\n",
        "                if area > answer :\r\n",
        "                    answer = area\r\n",
        "                l += 1\r\n",
        "\r\n",
        "\r\n",
        "    return answer\r\n",
        "\r\n",
        "print(solution([[0,1,1,1],[1,1,1,1],[1,1,1,1],[0,0,1,0]]), 9)\r\n",
        "print(solution([[0,0,1,1],[1,1,1,1]]), 4)\r\n",
        "print(solution([[1],[0]]), 1)\r\n",
        "print(solution([[1, 1, 1, 1], [0, 1, 1, 1], [0, 1, 1, 1]]), 9)\r\n",
        "print(solution([[1, 1, 1, 1, 1],[1, 1, 1, 1, 1],[1, 1, 1, 1, 1],[0, 0, 1, 1, 1]]), 9)\r\n",
        "print(solution([[1, 1, 1],[1, 0, 1],[1, 1, 1]]), 1)"
      ],
      "execution_count": 36,
      "outputs": [
        {
          "output_type": "stream",
          "text": [
            "9 9\n",
            "4 4\n",
            "1 1\n",
            "9 9\n",
            "9 9\n",
            "1 1\n"
          ],
          "name": "stdout"
        }
      ]
    },
    {
      "cell_type": "code",
      "metadata": {
        "colab": {
          "base_uri": "https://localhost:8080/"
        },
        "id": "q40qkvC-OVBQ",
        "outputId": "7a8b7d60-6ab1-43b1-f38c-24356ac2cc85"
      },
      "source": [
        "# solved! 21.02.28\r\n",
        "# 모든 위치를 지나면서 현재 위치가 0이면 패스\r\n",
        "# 1이면 위, 왼쪽, 왼쪽 위 모두 확인 하나라도 0이 나오면 현 위치에서 한 변의 길이는 1\r\n",
        "# 위, 왼쪽, 왼쪽 위 모두 0이 아닌 경우 가장 작은 값+1이 현 위치에서 한 변의 길이\r\n",
        "def solution(board) :\r\n",
        "\r\n",
        "    for i in range(1, len(board)) :\r\n",
        "        for j in range(1, len(board[i])) :\r\n",
        "            if board[i][j] != 0 :\r\n",
        "                board[i][j] = min(min(board[i-1][j], board[i][j-1]), board[i-1][j-1]) + 1\r\n",
        "    \r\n",
        "    board = [y for x in board for y in x]   # 2차원인 board를 1차원으로\r\n",
        "    \r\n",
        "    return max(board)**2\r\n",
        "\r\n",
        "\r\n",
        "print(solution([[0,1,1,1],[1,1,1,1],[1,1,1,1],[0,0,1,0]]), 9)\r\n",
        "print(solution([[0,0,1,1],[1,1,1,1]]), 4)\r\n",
        "print(solution([[1],[0]]), 1)\r\n",
        "print(solution([[1, 1, 1, 1], [0, 1, 1, 1], [0, 1, 1, 1]]), 9)\r\n",
        "print(solution([[1, 1, 1, 1, 1],[1, 1, 1, 1, 1],[1, 1, 1, 1, 1],[0, 0, 1, 1, 1]]), 9)\r\n",
        "print(solution([[1, 1, 1],[1, 0, 1],[1, 1, 1]]), 1)"
      ],
      "execution_count": 34,
      "outputs": [
        {
          "output_type": "stream",
          "text": [
            "9 9\n",
            "4 4\n",
            "1 1\n",
            "9 9\n",
            "9 9\n",
            "1 1\n"
          ],
          "name": "stdout"
        }
      ]
    }
  ]
}
