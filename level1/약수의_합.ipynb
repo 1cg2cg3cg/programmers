{
  "nbformat": 4,
  "nbformat_minor": 0,
  "metadata": {
    "colab": {
      "name": "약수의 합.ipynb",
      "provenance": [],
      "collapsed_sections": [],
      "authorship_tag": "ABX9TyPoW/geUS48jSxw0DxrheJS",
      "include_colab_link": true
    },
    "kernelspec": {
      "name": "python3",
      "display_name": "Python 3"
    }
  },
  "cells": [
    {
      "cell_type": "markdown",
      "metadata": {
        "id": "view-in-github",
        "colab_type": "text"
      },
      "source": [
        "<a href=\"https://colab.research.google.com/github/1cg2cg3cg/programmers/blob/main/level1/%EC%95%BD%EC%88%98%EC%9D%98_%ED%95%A9.ipynb\" target=\"_parent\"><img src=\"https://colab.research.google.com/assets/colab-badge.svg\" alt=\"Open In Colab\"/></a>"
      ]
    },
    {
      "cell_type": "code",
      "metadata": {
        "colab": {
          "base_uri": "https://localhost:8080/"
        },
        "id": "ujOpPMCls3kR",
        "outputId": "548669a8-0bbe-446c-d0e9-2f505e4fe03d"
      },
      "source": [
        "def solution(n):\r\n",
        "    answer = 0\r\n",
        "    for i in range(1, n+1) :\r\n",
        "        if n % i == 0 :\r\n",
        "            answer += i\r\n",
        "\r\n",
        "    return answer\r\n",
        "\r\n",
        "print(solution(12), '\\t 28')\r\n",
        "print(solution(5), '\\t 6')"
      ],
      "execution_count": null,
      "outputs": [
        {
          "output_type": "stream",
          "text": [
            "28 \t 28\n",
            "6 \t 6\n"
          ],
          "name": "stdout"
        }
      ]
    },
    {
      "cell_type": "code",
      "metadata": {
        "id": "dLSxvwPLtsOo"
      },
      "source": [
        "# list comprehension\r\n",
        "\r\n",
        "def solution(n):\r\n",
        "    return sum([i for i in range(1,n+1) if n%i==0])"
      ],
      "execution_count": null,
      "outputs": []
    },
    {
      "cell_type": "code",
      "metadata": {
        "id": "DOggwrgytyM6"
      },
      "source": [
        "# 검사 항목을 줄여 성능 향상\r\n",
        "\r\n",
        "def sumDivisor(num):\r\n",
        "    # num / 2 의 수들만 검사하면 성능 약 2배 향상잼 \r\n",
        "    # sqrt() 사용하면 더 빠름 (입력 숫자가 클 때)\r\n",
        "    return num + sum([i for i in range(1, (num // 2) + 1) if num % i == 0])"
      ],
      "execution_count": null,
      "outputs": []
    }
  ]
}