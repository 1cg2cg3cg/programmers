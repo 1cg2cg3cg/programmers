{
  "nbformat": 4,
  "nbformat_minor": 0,
  "metadata": {
    "colab": {
      "name": "등굣길.ipynb",
      "provenance": [],
      "collapsed_sections": [],
      "authorship_tag": "ABX9TyN3qaZlVdcwKFLGcrUd9AYg",
      "include_colab_link": true
    },
    "kernelspec": {
      "name": "python3",
      "display_name": "Python 3"
    },
    "language_info": {
      "name": "python"
    }
  },
  "cells": [
    {
      "cell_type": "markdown",
      "metadata": {
        "id": "view-in-github",
        "colab_type": "text"
      },
      "source": [
        "<a href=\"https://colab.research.google.com/github/1cg2cg3cg/programmers/blob/main/level3/%EB%93%B1%EA%B5%A3%EA%B8%B8.ipynb\" target=\"_parent\"><img src=\"https://colab.research.google.com/assets/colab-badge.svg\" alt=\"Open In Colab\"/></a>"
      ]
    },
    {
      "cell_type": "code",
      "metadata": {
        "colab": {
          "base_uri": "https://localhost:8080/"
        },
        "id": "uB71vba1Wwp7",
        "outputId": "bfcc4e2f-5a32-47ae-89fc-6f8bb99f6f41"
      },
      "source": [
        "# 문제를 잘못 이해........\n",
        "# 다시 풀기......\n",
        "import sys\n",
        "def solution(m, n, puddles):\n",
        "    answer = [[0 for _ in range(m)] for _ in range(n)]\n",
        "    map = [[1 for _ in range(m)] for _ in range(n)]\n",
        "\n",
        "    for i,j in puddles :\n",
        "        map[i][j] = 0\n",
        "    \n",
        "    for i in range(n) : # row\n",
        "        for j in range(m) : # col\n",
        "            if i == 0 and j == 0 :\n",
        "                continue\n",
        "            \n",
        "            if i == 0 and j > 0 :\n",
        "                if map[i][j-1] == 1 :\n",
        "                    answer[i][j] = answer[i][j-1] + 1\n",
        "                else :\n",
        "                    answer[i][j] = sys.maxsize\n",
        "\n",
        "                continue\n",
        "            \n",
        "            if i > 0 and j == 0 :\n",
        "                if map[i-1][j] == 1 :\n",
        "                    answer[i][j] = answer[i-1][j] + 1\n",
        "                else :\n",
        "                    answer[i][j] = sys.maxsize\n",
        "                continue\n",
        "            \n",
        "            if map[i][j] == 1 :\n",
        "                if map[i-1][j] != 1 and map[i][j-1] != 1 :\n",
        "                    answer[i][j] = sys.maxsize\n",
        "                else :\n",
        "                    answer[i][j] = min(answer[i][j-1], answer[i-1][j]) + 1\n",
        "            else :\n",
        "                answer[i][j] = sys.maxsize\n",
        "\n",
        "    return answer##[-1][-1] % 1000000007\n",
        "\n",
        "print(solution(4, 3, [[1,1]]), 4)\n",
        "print(solution(5, 4, [[1,1], [1,2], [2,1], [2,3]]), 7)"
      ],
      "execution_count": 16,
      "outputs": [
        {
          "output_type": "stream",
          "text": [
            "[[0, 1, 2, 3], [1, 9223372036854775807, 3, 4], [2, 3, 4, 5]] 4\n",
            "[[0, 1, 2, 3, 4], [1, 9223372036854775807, 9223372036854775807, 4, 5], [2, 9223372036854775807, 9223372036854775807, 9223372036854775807, 6], [3, 4, 5, 6, 7]] 7\n"
          ],
          "name": "stdout"
        }
      ]
    }
  ]
}