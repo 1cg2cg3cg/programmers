{
  "nbformat": 4,
  "nbformat_minor": 0,
  "metadata": {
    "colab": {
      "name": "제일 작은 수 제거하기.ipynb",
      "provenance": [],
      "collapsed_sections": [],
      "authorship_tag": "ABX9TyOxWTIzkY8fpXh9loXiQKGo",
      "include_colab_link": true
    },
    "kernelspec": {
      "name": "python3",
      "display_name": "Python 3"
    }
  },
  "cells": [
    {
      "cell_type": "markdown",
      "metadata": {
        "id": "view-in-github",
        "colab_type": "text"
      },
      "source": [
        "<a href=\"https://colab.research.google.com/github/1cg2cg3cg/programmers/blob/main/level1/%EC%A0%9C%EC%9D%BC_%EC%9E%91%EC%9D%80_%EC%88%98_%EC%A0%9C%EA%B1%B0%ED%95%98%EA%B8%B0.ipynb\" target=\"_parent\"><img src=\"https://colab.research.google.com/assets/colab-badge.svg\" alt=\"Open In Colab\"/></a>"
      ]
    },
    {
      "cell_type": "code",
      "metadata": {
        "colab": {
          "base_uri": "https://localhost:8080/"
        },
        "id": "nUuCeJgBgnwJ",
        "outputId": "52de4199-d9fd-4645-aba2-bd7610464659"
      },
      "source": [
        "def solution(arr):\r\n",
        "    arr.remove(min(arr))\r\n",
        "    return arr if len(arr) > 1 else [-1]\r\n",
        "\r\n",
        "print(solution([4,3,2,1]), '\\t [4,3,2]')\r\n",
        "print(solution([10]), '\\t [-1]')"
      ],
      "execution_count": 9,
      "outputs": [
        {
          "output_type": "stream",
          "text": [
            "[4, 3, 2]\n",
            "[4, 3, 2] \t [4,3,2]\n",
            "[]\n",
            "[-1] \t -1\n"
          ],
          "name": "stdout"
        }
      ]
    }
  ]
}