{
  "nbformat": 4,
  "nbformat_minor": 0,
  "metadata": {
    "colab": {
      "name": "최대공약수와 최소공배수.ipynb",
      "provenance": [],
      "collapsed_sections": [],
      "authorship_tag": "ABX9TyMMQsBdpZend8jTgDDG+29Q",
      "include_colab_link": true
    },
    "kernelspec": {
      "name": "python3",
      "display_name": "Python 3"
    }
  },
  "cells": [
    {
      "cell_type": "markdown",
      "metadata": {
        "id": "view-in-github",
        "colab_type": "text"
      },
      "source": [
        "<a href=\"https://colab.research.google.com/github/1cg2cg3cg/programmers/blob/main/level1/%EC%B5%9C%EB%8C%80%EA%B3%B5%EC%95%BD%EC%88%98%EC%99%80_%EC%B5%9C%EC%86%8C%EA%B3%B5%EB%B0%B0%EC%88%98.ipynb\" target=\"_parent\"><img src=\"https://colab.research.google.com/assets/colab-badge.svg\" alt=\"Open In Colab\"/></a>"
      ]
    },
    {
      "cell_type": "code",
      "metadata": {
        "colab": {
          "base_uri": "https://localhost:8080/"
        },
        "id": "ldkfZbqsohhM",
        "outputId": "7e0351bf-824a-4550-ba61-35d3dabf71f6"
      },
      "source": [
        "def gdc(x, y) :\r\n",
        "    if x < y :\r\n",
        "        x, y = y, x\r\n",
        "\r\n",
        "    while y :\r\n",
        "        x, y = y, x%y\r\n",
        "    \r\n",
        "    return x\r\n",
        "\r\n",
        "def lcm(x, y) :\r\n",
        "    return x * y // gdc(x,y)\r\n",
        "\r\n",
        "def solution(n, m):\r\n",
        "        \r\n",
        "    return [gdc(n,m), lcm(n, m)]\r\n",
        "\r\n",
        "print(solution(3,12), '\\t [3,12]')\r\n",
        "print(solution(2,5), '\\t [1,10]')"
      ],
      "execution_count": 6,
      "outputs": [
        {
          "output_type": "stream",
          "text": [
            "[3, 12] \t [3,12]\n",
            "[1, 10] \t [1,10]\n"
          ],
          "name": "stdout"
        }
      ]
    },
    {
      "cell_type": "code",
      "metadata": {
        "colab": {
          "base_uri": "https://localhost:8080/"
        },
        "id": "qSagVfckqrOk",
        "outputId": "1679bfc6-b6bb-494a-911a-e076c1ca2510"
      },
      "source": [
        "# from Jaesun Park , - , - , - , - 외 18 명\r\n",
        "\r\n",
        "def gcdlcm(a, b):\r\n",
        "    c, d = max(a, b), min(a, b)\r\n",
        "    t = 1           # while 시작을 위한 임의의 값\r\n",
        "    while t > 0:\r\n",
        "        t = c % d   # t : c를 d로 나눈 나머지\r\n",
        "        c, d = d, t # c : 작은 값, d : c를 d로 나눈 나머지\r\n",
        "\r\n",
        "    answer = [c, int(a*b/c)]\r\n",
        "\r\n",
        "    return answer\r\n",
        "\r\n",
        "print(gcdlcm(3,12))"
      ],
      "execution_count": 9,
      "outputs": [
        {
          "output_type": "stream",
          "text": [
            "[3, 12]\n"
          ],
          "name": "stdout"
        }
      ]
    },
    {
      "cell_type": "markdown",
      "metadata": {
        "id": "XS7jdpxjrhHp"
      },
      "source": [
        "# **유클리드 호제법**\r\n",
        "\r\n",
        "최대공약수를 찾을 때, 작은 수의 경우에는 사람이 직접 계산해서 찾을 수 있지만, 수가 무진장 커진다면 컴퓨터를 써야 합니다. 그런데 컴퓨터를 이용해 최대공약수를 찾을 때는, 위와 같이 소인수분해를 하기 보다는 유클리드 호제법이라는 알고리즘(문제를 풀기 위해 정해진 절차)를 사용하는 것이 더 빠릅니다. 유클리드 호제법은 다음 정리로부터 기인합니다.\r\n",
        "\r\n",
        "\r\n",
        "    A를 B로 나눈 몫을 Q라 하고, 나머지를 R이라 하자. 이 때, gcd(A,B)=gcd(B,R)이다.\r\n",
        "\r\n",
        " \r\n",
        "\r\n",
        "예시를 보겠습니다. 60를 24로 나눈 몫은 2이고 나머지는 12입니다. \r\n",
        "즉, 60=24×2+12입니다. \r\n",
        "\r\n",
        "    과연 gcd(60,24)=gcd(24,12)=12 임을 확인할 수 있습니다. \r\n",
        "\r\n",
        "이 정리를 이용한 유클리드 호제법 알고리즘은 다음과 같습니다.\r\n",
        "\r\n",
        "1. A와 B의 최대공약수를 구하기 위해서 A를 B로 나눈 나머지 R1을 구합니다.\r\n",
        "\r\n",
        "2. B를 R1으로 나눈 나머지 R2를 구합니다.R1을 R2로 나눈 나머지 R3를 구합니다. \r\n",
        "3. 이 과정을 계속 반복하여, 어느 한 쪽이 나누어떨어질 때까지 반복합니다. 이 직전 얻은 나머지가 최대공약수입니다.\r\n",
        " \r\n",
        "예를 들어 1254와 582의 최대공약수를 구해보겠습니다.\r\n",
        "\r\n",
        "    1254=582×2+90          582=90×6+42          90=42×2+6      42=6×7 \r\n",
        "\r\n",
        "4단계에서 나누어 떨어졌으며, 이 직전인 3단계의 나머지는 6이었습니다. 따라서 1254와 582의 최대공약수는 6입니다.\r\n",
        "\r\n",
        "\r\n",
        "- 출처 https://dimenchoi.tistory.com/46"
      ]
    }
  ]
}