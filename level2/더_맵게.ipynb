{
  "nbformat": 4,
  "nbformat_minor": 0,
  "metadata": {
    "colab": {
      "name": "더 맵게.ipynb",
      "provenance": [],
      "collapsed_sections": [],
      "authorship_tag": "ABX9TyMUp75bUERjA2FSu70cnK26",
      "include_colab_link": true
    },
    "kernelspec": {
      "name": "python3",
      "display_name": "Python 3"
    }
  },
  "cells": [
    {
      "cell_type": "markdown",
      "metadata": {
        "id": "view-in-github",
        "colab_type": "text"
      },
      "source": [
        "<a href=\"https://colab.research.google.com/github/1cg2cg3cg/programmers/blob/main/level2/%EB%8D%94_%EB%A7%B5%EA%B2%8C.ipynb\" target=\"_parent\"><img src=\"https://colab.research.google.com/assets/colab-badge.svg\" alt=\"Open In Colab\"/></a>"
      ]
    },
    {
      "cell_type": "code",
      "metadata": {
        "id": "J37nv1oJ0DwU"
      },
      "source": [
        "# 21.04.21\n",
        "import heapq\n",
        "\n",
        "def solution(scoville, K):\n",
        "    answer = 0\n",
        "\n",
        "    heapq.heapify(scoville)\n",
        "    \n",
        "    A = heapq.heappop(scoville)\n",
        "    \n",
        "    while True :\n",
        "\n",
        "        if A >= K :\n",
        "            return answer\n",
        "        \n",
        "        else :\n",
        "            \n",
        "            if not scoville :\n",
        "                return -1\n",
        "            \n",
        "            heapq.heappush(scoville, A + heapq.heappop(scoville)*2)\n",
        "            answer += 1\n",
        "            \n",
        "        A = heapq.heappop(scoville) # The lowest"
      ],
      "execution_count": null,
      "outputs": []
    },
    {
      "cell_type": "markdown",
      "metadata": {
        "id": "q5fkJgGgz-Pp"
      },
      "source": [
        "#### 아래는 21.02.28"
      ]
    },
    {
      "cell_type": "code",
      "metadata": {
        "colab": {
          "base_uri": "https://localhost:8080/"
        },
        "id": "toDfc5ERr7J_",
        "outputId": "026a0c80-d8eb-42eb-e029-1a0d1e2f0438"
      },
      "source": [
        "# heapq module을 사용하는 것이 list를 사용해 stack, queue를 사용하는 것 보다 빠르다.\n",
        "import heapq\n",
        "def solution(scoville, K):\n",
        "    \n",
        "    if not scoville :\n",
        "        return -1\n",
        "\n",
        "    answer = 0\n",
        "    heap = []\n",
        "    \n",
        "    for i in scoville : # heapq.heapify(scoville)를 사용해 for를 대체할 수 있다.\n",
        "        heapq.heappush(heap, i)\n",
        "\n",
        "    a = heapq.heappop(heap)\n",
        "    while True :\n",
        "        if a >= K :\n",
        "            break\n",
        "        elif a < K and heap :\n",
        "            heapq.heappush(heap, a+heapq.heappop(heap)*2) # heapq.heappoppush 사용하기\n",
        "            answer += 1\n",
        "        else :\n",
        "            return -1\n",
        "        a = heapq.heappop(heap)\n",
        "\n",
        "    return answer\n",
        "\n",
        "print(solution([1,2,3,9,10,12], 7), 2)\n",
        "print(solution([0,1], 7), -1)\n",
        "print(solution([0], 7), -1)\n",
        "print(solution([14,6,6,7], 8), 2)\n",
        "print(solution([10, 12], 7), 0)"
      ],
      "execution_count": null,
      "outputs": [
        {
          "output_type": "stream",
          "text": [
            "2 2\n",
            "-1 -1\n",
            "-1 -1\n",
            "2 2\n",
            "0 0\n"
          ],
          "name": "stdout"
        }
      ]
    },
    {
      "cell_type": "code",
      "metadata": {
        "colab": {
          "base_uri": "https://localhost:8080/"
        },
        "id": "yhxnm3qJOKrq",
        "outputId": "d6237143-212c-4919-aa56-20133a91effe"
      },
      "source": [
        "import heapq\n",
        "def solution(scoville, K):\n",
        "    \n",
        "    if not scoville :\n",
        "        return -1\n",
        "\n",
        "    answer = 0\n",
        "    heap = []\n",
        "    \n",
        "    for i in scoville :\n",
        "        heapq.heappush(heap, i)\n",
        "\n",
        "    if len(heap) == 1 and heapq.heappop(heap) < K :\n",
        "        return -1\n",
        "            \n",
        "    while len(heap) > 1 :\n",
        "        print(heap)\n",
        "        a, b = heapq.heappop(heap), heapq.heappop(heap)\n",
        "        if a >= K :\n",
        "            break\n",
        "        \n",
        "        heapq.heappush(heap, a+b*2)\n",
        "        answer += 1\n",
        "\n",
        "    return answer\n",
        "\n",
        "print(solution([1,2,3,9,10,12], 7), 2)\n",
        "print(solution([0,1], 7), -1)\n",
        "print(solution([0], 7), -1)\n",
        "print(solution([14,6,6,7], 8), 2)\n",
        "print(solution([10, 12], 7), 0)"
      ],
      "execution_count": null,
      "outputs": [
        {
          "output_type": "stream",
          "text": [
            "[1, 2, 3, 9, 10, 12]\n",
            "[3, 5, 10, 12, 9]\n",
            "[9, 12, 10, 13]\n",
            "2 2\n",
            "[0, 1]\n",
            "1 -1\n",
            "-1 -1\n",
            "[6, 7, 6, 14]\n",
            "[7, 14, 18]\n",
            "[18, 35]\n",
            "2 2\n",
            "[10, 12]\n",
            "0 0\n"
          ],
          "name": "stdout"
        }
      ]
    },
    {
      "cell_type": "code",
      "metadata": {
        "colab": {
          "base_uri": "https://localhost:8080/"
        },
        "id": "yybPHJHbdMEV",
        "outputId": "528ac11e-66ae-464b-a723-82eb054ef7ca"
      },
      "source": [
        "# timeout error\n",
        "def solution(scoville, K):\n",
        "    answer = 0\n",
        "    scoville.sort(reverse=True)\n",
        "\n",
        "    while len(scoville) > 1 and min(scoville) < K:\n",
        "        a, b = scoville.pop(), scoville.pop()\n",
        "        scoville.append(a+2*b)\n",
        "        answer += 1\n",
        "        scoville.sort(reverse=True)\n",
        "\n",
        "    if not scoville or max(scoville) < K:\n",
        "        return -1\n",
        "            \n",
        "    return answer\n",
        "\n",
        "print(solution([1,2,3,9,10,12], 7), 2)\n",
        "print(solution([0,1], 7), -1)\n",
        "print(solution([14,6,6,7], 8), 2)"
      ],
      "execution_count": null,
      "outputs": [
        {
          "output_type": "stream",
          "text": [
            "2 2\n",
            "-1 -1\n",
            "2 2\n"
          ],
          "name": "stdout"
        }
      ]
    },
    {
      "cell_type": "code",
      "metadata": {
        "colab": {
          "base_uri": "https://localhost:8080/"
        },
        "id": "46za-MC2gSQJ",
        "outputId": "5550c804-b4f4-4cf0-d809-dc4d546f9c80"
      },
      "source": [
        "# timeout error\n",
        "def solution(scoville, K):\n",
        "    answer = 0\n",
        "    s = [i for i in scoville if i < K]\n",
        "    scoville = [i for i in scoville if i >= K]\n",
        "\n",
        "    while len(s) > 1 and min(s) < K :\n",
        "        a = s.pop(s.index(min(s)))\n",
        "        b = s.pop(s.index(min(s)))\n",
        "\n",
        "        if a+2*b < K :\n",
        "            s.append(a+2*b)\n",
        "\n",
        "        answer += 1\n",
        "\n",
        "    if not scoville and len(s) == 1:\n",
        "        return -1\n",
        "    elif scoville and len(s) == 1 :\n",
        "        answer += 1\n",
        "\n",
        "    return answer\n",
        "\n",
        "print(solution([1,2,3,9,10,12], 7), 2)\n",
        "print(solution([0,1], 7), -1)\n",
        "print(solution([14,6,6,7], 8), 2)"
      ],
      "execution_count": null,
      "outputs": [
        {
          "output_type": "stream",
          "text": [
            "2 2\n",
            "-1 -1\n",
            "2 2\n"
          ],
          "name": "stdout"
        }
      ]
    },
    {
      "cell_type": "code",
      "metadata": {
        "id": "_u1n93AgtoVP"
      },
      "source": [
        "# from 탈퇴한 사용자 , bugtype\n",
        "# heappoppush 사용\n",
        "import heapq\n",
        "\n",
        "def solution(scoville, K):\n",
        "    heapq.heapify(scoville)\n",
        "    size, cnt = len(scoville) - 1, 0\n",
        "    f = heapq.heappop(scoville)\n",
        "    while size > 0:\n",
        "        s = heapq.heappop(scoville)\n",
        "        f = heapq.heappushpop(scoville, f + s + s)\n",
        "        if f >= K:\n",
        "            return cnt + 1\n",
        "        cnt += 1\n",
        "        size -= 1\n",
        "    return -1"
      ],
      "execution_count": null,
      "outputs": []
    }
  ]
}