{
  "nbformat": 4,
  "nbformat_minor": 0,
  "metadata": {
    "colab": {
      "name": "행렬의 덧셈.ipynb",
      "provenance": [],
      "authorship_tag": "ABX9TyOD7UICzakYLtCjTrHAIgDM",
      "include_colab_link": true
    },
    "kernelspec": {
      "name": "python3",
      "display_name": "Python 3"
    }
  },
  "cells": [
    {
      "cell_type": "markdown",
      "metadata": {
        "id": "view-in-github",
        "colab_type": "text"
      },
      "source": [
        "<a href=\"https://colab.research.google.com/github/1cg2cg3cg/programmers/blob/main/level1/%ED%96%89%EB%A0%AC%EC%9D%98_%EB%8D%A7%EC%85%88.ipynb\" target=\"_parent\"><img src=\"https://colab.research.google.com/assets/colab-badge.svg\" alt=\"Open In Colab\"/></a>"
      ]
    },
    {
      "cell_type": "code",
      "metadata": {
        "colab": {
          "base_uri": "https://localhost:8080/"
        },
        "id": "-5CsiHWYpPNp",
        "outputId": "af206380-159b-4540-e088-d3e1bcf697c1"
      },
      "source": [
        "import numpy as np\r\n",
        "def solution(arr1, arr2):\r\n",
        "    answer = np.array(arr1) + np.array(arr2)\r\n",
        "    return answer.tolist()\r\n",
        "\r\n",
        "print(solution([[1,2],[2,3]], [[3,4],[5,6]]), '\\t [[4,6],[7,9]]')"
      ],
      "execution_count": 4,
      "outputs": [
        {
          "output_type": "stream",
          "text": [
            "[[4, 6], [7, 9]] \t [[4,6],[7,9]]\n"
          ],
          "name": "stdout"
        }
      ]
    },
    {
      "cell_type": "code",
      "metadata": {
        "id": "idrRyx7rqd7K"
      },
      "source": [
        "# numpy 사용하지 않는 풀이 from Minho Han , - , 새로운세계 , 신윤기 , 김재엽 외 30 명\r\n",
        "\r\n",
        "def sumMatrix(A,B):\r\n",
        "    answer = [[c + d for c, d in zip(a, b)] for a, b in zip(A,B)]\r\n",
        "    return answer\r\n",
        "\r\n",
        "print(sumMatrix([[1,2], [2,3]], [[3,4],[5,6]]))"
      ],
      "execution_count": null,
      "outputs": []
    }
  ]
}