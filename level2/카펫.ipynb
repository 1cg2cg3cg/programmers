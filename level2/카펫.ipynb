{
  "nbformat": 4,
  "nbformat_minor": 0,
  "metadata": {
    "colab": {
      "name": "카펫.ipynb",
      "provenance": [],
      "authorship_tag": "ABX9TyOTyosvtfothbh0Fjbeat3P",
      "include_colab_link": true
    },
    "kernelspec": {
      "name": "python3",
      "display_name": "Python 3"
    }
  },
  "cells": [
    {
      "cell_type": "markdown",
      "metadata": {
        "id": "view-in-github",
        "colab_type": "text"
      },
      "source": [
        "<a href=\"https://colab.research.google.com/github/1cg2cg3cg/programmers/blob/main/level2/%EC%B9%B4%ED%8E%AB.ipynb\" target=\"_parent\"><img src=\"https://colab.research.google.com/assets/colab-badge.svg\" alt=\"Open In Colab\"/></a>"
      ]
    },
    {
      "cell_type": "code",
      "metadata": {
        "colab": {
          "base_uri": "https://localhost:8080/"
        },
        "id": "aSO7-d7kwMqX",
        "outputId": "2a1219b5-0081-4628-f180-382139cd783f"
      },
      "source": [
        "def solution(brown, yellow):\r\n",
        "    answer = []\r\n",
        "    divisor = []\r\n",
        "    for i in range(1, yellow+1) :\r\n",
        "        if yellow % i == 0 :\r\n",
        "            divisor.append(i)\r\n",
        "\r\n",
        "    candidates = []\r\n",
        "    for i in divisor :\r\n",
        "        for j in divisor :\r\n",
        "            if i * j == yellow and [j,i] not in candidates:\r\n",
        "                candidates.append([i,j])\r\n",
        "\r\n",
        "    for h, w in candidates :\r\n",
        "        if 2*(h+w) == brown-4 :\r\n",
        "            answer = [h+2, w+2]\r\n",
        "\r\n",
        "    if answer[0] < answer[1] :\r\n",
        "        answer[0], answer[1] = answer[1], answer[0]\r\n",
        "    return answer\r\n",
        "\r\n",
        "print(solution(10, 2), '\\t [4,3]')\r\n",
        "print(solution(8, 1), '\\t [3,3]')\r\n",
        "print(solution(24,24), '\\t [8,6]')"
      ],
      "execution_count": 15,
      "outputs": [
        {
          "output_type": "stream",
          "text": [
            "[4, 3] \t [4,3]\n",
            "[3, 3] \t [3,3]\n",
            "[8, 6] \t [8,6]\n"
          ],
          "name": "stdout"
        }
      ]
    }
  ]
}