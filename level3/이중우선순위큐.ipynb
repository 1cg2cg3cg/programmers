{
  "nbformat": 4,
  "nbformat_minor": 0,
  "metadata": {
    "colab": {
      "name": "이중우선순위큐.ipynb",
      "provenance": [],
      "collapsed_sections": [],
      "authorship_tag": "ABX9TyMhTh13VQYkA3umawXKumyY",
      "include_colab_link": true
    },
    "kernelspec": {
      "name": "python3",
      "display_name": "Python 3"
    },
    "language_info": {
      "name": "python"
    }
  },
  "cells": [
    {
      "cell_type": "markdown",
      "metadata": {
        "id": "view-in-github",
        "colab_type": "text"
      },
      "source": [
        "<a href=\"https://colab.research.google.com/github/1cg2cg3cg/programmers/blob/main/level3/%EC%9D%B4%EC%A4%91%EC%9A%B0%EC%84%A0%EC%88%9C%EC%9C%84%ED%81%90.ipynb\" target=\"_parent\"><img src=\"https://colab.research.google.com/assets/colab-badge.svg\" alt=\"Open In Colab\"/></a>"
      ]
    },
    {
      "cell_type": "code",
      "metadata": {
        "colab": {
          "base_uri": "https://localhost:8080/"
        },
        "id": "c3cvElwVP5pl",
        "outputId": "42533f10-7b5b-4cdf-9c49-22dfc4979ca5"
      },
      "source": [
        "# 풀긴 풀었는데 문제가 잘못된 것 같다.\n",
        "# heap을 사용해서 개선된 풀이 하기\n",
        "def solution(operations):\n",
        "    answer = []\n",
        "    \n",
        "    for op in operations :\n",
        "        c, n = op.split()\n",
        "\n",
        "        if c == 'I' :\n",
        "            answer.append(int(n))\n",
        "        elif answer and n == '1' :\n",
        "            answer.remove(max(answer))\n",
        "        elif answer and n == '-1' :\n",
        "            answer.remove(min(answer))\n",
        "\n",
        "    if answer :\n",
        "        return [max(answer), min(answer)]\n",
        "    else :\n",
        "        return [0, 0]\n",
        "\n",
        "\n",
        "print(solution([\"I 16\",\"D 1\"]), [0,0])\n",
        "print(solution([\"I 7\",\"I 5\",\"I -5\",\"D -1\"]), [7, 5])"
      ],
      "execution_count": 7,
      "outputs": [
        {
          "output_type": "stream",
          "text": [
            "[0, 0] [0, 0]\n",
            "[7, 5] [7, 5]\n"
          ],
          "name": "stdout"
        }
      ]
    }
  ]
}