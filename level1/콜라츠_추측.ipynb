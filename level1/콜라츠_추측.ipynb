{
  "nbformat": 4,
  "nbformat_minor": 0,
  "metadata": {
    "colab": {
      "name": "콜라츠 추측.ipynb",
      "provenance": [],
      "collapsed_sections": [],
      "authorship_tag": "ABX9TyMelVmjl5uLmZhkDZYFD7ls",
      "include_colab_link": true
    },
    "kernelspec": {
      "name": "python3",
      "display_name": "Python 3"
    }
  },
  "cells": [
    {
      "cell_type": "markdown",
      "metadata": {
        "id": "view-in-github",
        "colab_type": "text"
      },
      "source": [
        "<a href=\"https://colab.research.google.com/github/1cg2cg3cg/programmers/blob/main/level1/%EC%BD%9C%EB%9D%BC%EC%B8%A0_%EC%B6%94%EC%B8%A1.ipynb\" target=\"_parent\"><img src=\"https://colab.research.google.com/assets/colab-badge.svg\" alt=\"Open In Colab\"/></a>"
      ]
    },
    {
      "cell_type": "code",
      "metadata": {
        "colab": {
          "base_uri": "https://localhost:8080/"
        },
        "id": "eB5sXAOsijsp",
        "outputId": "0de0dd89-dff2-41d6-96df-943e4732b9ec"
      },
      "source": [
        "def solution(num):\r\n",
        "    answer = 0\r\n",
        "\r\n",
        "    while num != 1 :\r\n",
        "        num = num/2 if num % 2 == 0 else 3*num + 1\r\n",
        "        answer += 1\r\n",
        "        \r\n",
        "        if answer >= 500 :\r\n",
        "            return -1\r\n",
        "\r\n",
        "    return answer\r\n",
        "\r\n",
        "print(solution(6), '\\t 8')\r\n",
        "print(solution(16), '\\t 4')\r\n",
        "print(solution(626331), '\\t -1')"
      ],
      "execution_count": 64,
      "outputs": [
        {
          "output_type": "stream",
          "text": [
            "8 \t 8\n",
            "4 \t 4\n",
            "-1 \t -1\n"
          ],
          "name": "stdout"
        }
      ]
    }
  ]
}