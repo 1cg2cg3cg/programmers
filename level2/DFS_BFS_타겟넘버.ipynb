{
  "nbformat": 4,
  "nbformat_minor": 0,
  "metadata": {
    "colab": {
      "name": "DFS/BFS 타겟넘버.ipynb",
      "provenance": [],
      "collapsed_sections": [],
      "authorship_tag": "ABX9TyPL5zCfZgwPPg0iCErJD1Zi",
      "include_colab_link": true
    },
    "kernelspec": {
      "name": "python3",
      "display_name": "Python 3"
    }
  },
  "cells": [
    {
      "cell_type": "markdown",
      "metadata": {
        "id": "view-in-github",
        "colab_type": "text"
      },
      "source": [
        "<a href=\"https://colab.research.google.com/github/1cg2cg3cg/programmers/blob/main/level2/DFS_BFS_%ED%83%80%EA%B2%9F%EB%84%98%EB%B2%84.ipynb\" target=\"_parent\"><img src=\"https://colab.research.google.com/assets/colab-badge.svg\" alt=\"Open In Colab\"/></a>"
      ]
    },
    {
      "cell_type": "code",
      "metadata": {
        "colab": {
          "base_uri": "https://localhost:8080/"
        },
        "id": "0_LUoMjPPtIc",
        "outputId": "0aebbe3f-7e59-46b5-e496-b2e309946842"
      },
      "source": [
        "# nested function에서 정수형은 수정할 수 없기 때문에, answer를 배열로 선언 후 append와 sum 활용\r\n",
        "# answer를 global로 선언하면 append 없이 바로 정답 수를 셀 수 있다\r\n",
        "# 재귀를 이용해 numbers의 원소들이 +인 경우와 - 인 경우를 모두 탐색\r\n",
        "def solution(numbers, target):\r\n",
        "    answer = []\r\n",
        "\r\n",
        "    def dfs(index, s) :\r\n",
        "\r\n",
        "        if index == len(numbers) and s == target :\r\n",
        "            answer.append(1)\r\n",
        "            return \r\n",
        "        \r\n",
        "        if index == len(numbers) :\r\n",
        "            return \r\n",
        "\r\n",
        "        dfs(index+1, s+numbers[index])\r\n",
        "        dfs(index+1, s-numbers[index])\r\n",
        "    \r\n",
        "    dfs(0, 0)\r\n",
        "\r\n",
        "    return sum(answer)\r\n",
        "\r\n",
        "print(solution([1, 1, 1, 1, 1], 3), 5)\r\n",
        "print(solution([1, 2, 1, 2], 2), 3)\r\n",
        "print(solution([1, 2, 1, 2], 6), 1)"
      ],
      "execution_count": 73,
      "outputs": [
        {
          "output_type": "stream",
          "text": [
            "5 5\n",
            "3 3\n",
            "1 1\n"
          ],
          "name": "stdout"
        }
      ]
    },
    {
      "cell_type": "code",
      "metadata": {
        "colab": {
          "base_uri": "https://localhost:8080/"
        },
        "id": "kCO1i6unN05_",
        "outputId": "908b87aa-f001-4c40-90fc-5d50407fa205"
      },
      "source": [
        "def solution(numbers, target):\r\n",
        "    answer = []\r\n",
        "\r\n",
        "    def dfs(index, s, elements) :\r\n",
        "\r\n",
        "        if index == len(numbers) and s == target :\r\n",
        "            #print(\"END\", numbers[index-1], s, elements)    # recursive loop가 의도대로 동작하는지 확인하기 위해\r\n",
        "            answer.append(1)                                # elements 변수를 추가해 실제로 입력되는 값 확인\r\n",
        "            return \r\n",
        "        \r\n",
        "        if index == len(numbers) :\r\n",
        "            return \r\n",
        "\r\n",
        "        new_elements = elements[:]\r\n",
        "        new_elements.append(numbers[index])\r\n",
        "        dfs(index+1, s+numbers[index], new_elements)\r\n",
        "\r\n",
        "        new_elements = elements[:]\r\n",
        "        new_elements.append(-numbers[index])\r\n",
        "        dfs(index+1, s-numbers[index], new_elements)\r\n",
        "    \r\n",
        "    dfs(0, 0, [])\r\n",
        "\r\n",
        "    return sum(answer)\r\n",
        "\r\n",
        "print(solution([1, 1, 1, 1, 1], 3), 5)\r\n",
        "print(solution([1, 2, 1, 2], 2), 3)\r\n",
        "print(solution([1, 2, 1, 2], 6), 1)"
      ],
      "execution_count": 74,
      "outputs": [
        {
          "output_type": "stream",
          "text": [
            "5 5\n",
            "3 3\n",
            "1 1\n"
          ],
          "name": "stdout"
        }
      ]
    }
  ]
}