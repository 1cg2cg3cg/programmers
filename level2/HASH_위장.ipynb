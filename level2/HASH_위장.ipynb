{
  "nbformat": 4,
  "nbformat_minor": 0,
  "metadata": {
    "colab": {
      "name": "HASH_위장.ipynb",
      "provenance": [],
      "collapsed_sections": [],
      "authorship_tag": "ABX9TyOdpxrGt6EL3i3yImYFI6Va",
      "include_colab_link": true
    },
    "kernelspec": {
      "name": "python3",
      "display_name": "Python 3"
    }
  },
  "cells": [
    {
      "cell_type": "markdown",
      "metadata": {
        "id": "view-in-github",
        "colab_type": "text"
      },
      "source": [
        "<a href=\"https://colab.research.google.com/github/1cg2cg3cg/programmers/blob/main/HASH/HASH_%EC%9C%84%EC%9E%A5.ipynb\" target=\"_parent\"><img src=\"https://colab.research.google.com/assets/colab-badge.svg\" alt=\"Open In Colab\"/></a>"
      ]
    },
    {
      "cell_type": "code",
      "metadata": {
        "id": "vZvJIV2Lr7-v"
      },
      "source": [
        "import collections\r\n",
        "\r\n",
        "def solution(clothes):\r\n",
        "    answer = 1\r\n",
        "    C = collections.Counter([x[1] for x in clothes])\r\n",
        "    \r\n",
        "    for val in C.values():\r\n",
        "        answer *= (val+1)\r\n",
        "    answer -= 1\r\n",
        "    \r\n",
        "    return answer"
      ],
      "execution_count": null,
      "outputs": []
    }
  ]
}
