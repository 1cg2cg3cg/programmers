{
  "nbformat": 4,
  "nbformat_minor": 0,
  "metadata": {
    "colab": {
      "name": "하샤드 수.ipynb",
      "provenance": [],
      "authorship_tag": "ABX9TyPx21d2Mv7LJ39394EdC5LF",
      "include_colab_link": true
    },
    "kernelspec": {
      "name": "python3",
      "display_name": "Python 3"
    }
  },
  "cells": [
    {
      "cell_type": "markdown",
      "metadata": {
        "id": "view-in-github",
        "colab_type": "text"
      },
      "source": [
        "<a href=\"https://colab.research.google.com/github/1cg2cg3cg/programmers/blob/main/level1/%ED%95%98%EC%83%A4%EB%93%9C_%EC%88%98.ipynb\" target=\"_parent\"><img src=\"https://colab.research.google.com/assets/colab-badge.svg\" alt=\"Open In Colab\"/></a>"
      ]
    },
    {
      "cell_type": "code",
      "metadata": {
        "colab": {
          "base_uri": "https://localhost:8080/"
        },
        "id": "gYLpneYImOsz",
        "outputId": "74a1143b-3d10-4df5-ec04-939e3d97b47c"
      },
      "source": [
        "def solution(x):\r\n",
        "    divider = 0\r\n",
        "    for i in range(len(list(str(x)))) :\r\n",
        "        divider += int(list(str(x))[i])\r\n",
        "    return True if x % divider == 0 else False\r\n",
        "\r\n",
        "print(solution(10), 'true')\r\n",
        "print(solution(12), 'true')\r\n",
        "print(solution(11), 'false')\r\n",
        "print(solution(13), 'false')"
      ],
      "execution_count": 16,
      "outputs": [
        {
          "output_type": "stream",
          "text": [
            "True true\n",
            "True true\n",
            "False false\n",
            "False false\n"
          ],
          "name": "stdout"
        }
      ]
    }
  ]
}