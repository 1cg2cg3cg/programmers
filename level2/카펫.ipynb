{
  "nbformat": 4,
  "nbformat_minor": 0,
  "metadata": {
    "colab": {
      "name": "level2/카펫.ipynb",
      "provenance": [],
      "collapsed_sections": [],
      "authorship_tag": "ABX9TyNEUNiAyN5mr7pfAz4PhU6v",
      "include_colab_link": true
    },
    "kernelspec": {
      "name": "python3",
      "display_name": "Python 3"
    }
  },
  "cells": [
    {
      "cell_type": "markdown",
      "metadata": {
        "id": "view-in-github",
        "colab_type": "text"
      },
      "source": [
        "<a href=\"https://colab.research.google.com/github/1cg2cg3cg/programmers/blob/main/level2/%EC%B9%B4%ED%8E%AB.ipynb\" target=\"_parent\"><img src=\"https://colab.research.google.com/assets/colab-badge.svg\" alt=\"Open In Colab\"/></a>"
      ]
    },
    {
      "cell_type": "code",
      "metadata": {
        "id": "TKOla6PSLwSH"
      },
      "source": [
        "# 21.04.23\n",
        "def solution(brown, yellow) :\n",
        "\n",
        "    for i in range(1, yellow+1) :\n",
        "        \n",
        "        y_x = i\n",
        "        y_y = int(yellow / y_x)\n",
        "\n",
        "        if y_x * y_y == yellow and 2*(y_x + y_y) + 4 == brown:\n",
        "\n",
        "            if y_x < y_y :\n",
        "                return [y_y+2, y_x+2]\n",
        "            \n",
        "            return [y_x+2, y_y+2]"
      ],
      "execution_count": null,
      "outputs": []
    },
    {
      "cell_type": "code",
      "metadata": {
        "colab": {
          "base_uri": "https://localhost:8080/"
        },
        "id": "aSO7-d7kwMqX",
        "outputId": "2a1219b5-0081-4628-f180-382139cd783f"
      },
      "source": [
        "# 21.02.15\n",
        "def solution(brown, yellow):\n",
        "    answer = []\n",
        "    divisor = []\n",
        "    for i in range(1, yellow+1) :\n",
        "        if yellow % i == 0 :\n",
        "            divisor.append(i)\n",
        "\n",
        "    candidates = []\n",
        "    for i in divisor :\n",
        "        for j in divisor :\n",
        "            if i * j == yellow and [j,i] not in candidates:\n",
        "                candidates.append([i,j])\n",
        "\n",
        "    for h, w in candidates :\n",
        "        if 2*(h+w) == brown-4 :\n",
        "            answer = [h+2, w+2]\n",
        "\n",
        "    if answer[0] < answer[1] :\n",
        "        answer[0], answer[1] = answer[1], answer[0]\n",
        "    return answer\n",
        "\n",
        "print(solution(10, 2), '\\t [4,3]')\n",
        "print(solution(8, 1), '\\t [3,3]')\n",
        "print(solution(24,24), '\\t [8,6]')"
      ],
      "execution_count": null,
      "outputs": [
        {
          "output_type": "stream",
          "text": [
            "[4, 3] \t [4,3]\n",
            "[3, 3] \t [3,3]\n",
            "[8, 6] \t [8,6]\n"
          ],
          "name": "stdout"
        }
      ]
    }
  ]
}