{
  "nbformat": 4,
  "nbformat_minor": 0,
  "metadata": {
    "colab": {
      "name": "자릿수 더하기.ipynb",
      "provenance": [],
      "authorship_tag": "ABX9TyP0P8/c2le5W2nr/WYI2lqa",
      "include_colab_link": true
    },
    "kernelspec": {
      "name": "python3",
      "display_name": "Python 3"
    }
  },
  "cells": [
    {
      "cell_type": "markdown",
      "metadata": {
        "id": "view-in-github",
        "colab_type": "text"
      },
      "source": [
        "<a href=\"https://colab.research.google.com/github/1cg2cg3cg/programmers/blob/main/level1/%EC%9E%90%EB%A6%BF%EC%88%98_%EB%8D%94%ED%95%98%EA%B8%B0.ipynb\" target=\"_parent\"><img src=\"https://colab.research.google.com/assets/colab-badge.svg\" alt=\"Open In Colab\"/></a>"
      ]
    },
    {
      "cell_type": "code",
      "metadata": {
        "colab": {
          "base_uri": "https://localhost:8080/"
        },
        "id": "MLAvaLV8anov",
        "outputId": "628a9ad7-7017-451b-e056-90d8cbe1e512"
      },
      "source": [
        "def solution(n):\r\n",
        "    answer = 0\r\n",
        "\r\n",
        "    while n > 0 :\r\n",
        "        answer += n % 10\r\n",
        "        n = n // 10\r\n",
        "\r\n",
        "    return answer\r\n",
        "\r\n",
        "print(solution(123), '\\t 6')\r\n",
        "print(solution(987), '\\t 24')"
      ],
      "execution_count": 11,
      "outputs": [
        {
          "output_type": "stream",
          "text": [
            "6 \t 6\n",
            "24 \t 24\n"
          ],
          "name": "stdout"
        }
      ]
    }
  ]
}