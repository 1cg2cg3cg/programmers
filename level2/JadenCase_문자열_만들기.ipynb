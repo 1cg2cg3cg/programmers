{
  "nbformat": 4,
  "nbformat_minor": 0,
  "metadata": {
    "colab": {
      "name": "JadenCase 문자열 만들기.ipynb",
      "provenance": [],
      "collapsed_sections": [],
      "authorship_tag": "ABX9TyOcaw/uOrpVkJv6OOlMzJg/",
      "include_colab_link": true
    },
    "kernelspec": {
      "name": "python3",
      "display_name": "Python 3"
    }
  },
  "cells": [
    {
      "cell_type": "markdown",
      "metadata": {
        "id": "view-in-github",
        "colab_type": "text"
      },
      "source": [
        "<a href=\"https://colab.research.google.com/github/1cg2cg3cg/programmers/blob/main/level2/JadenCase_%EB%AC%B8%EC%9E%90%EC%97%B4_%EB%A7%8C%EB%93%A4%EA%B8%B0.ipynb\" target=\"_parent\"><img src=\"https://colab.research.google.com/assets/colab-badge.svg\" alt=\"Open In Colab\"/></a>"
      ]
    },
    {
      "cell_type": "code",
      "metadata": {
        "colab": {
          "base_uri": "https://localhost:8080/"
        },
        "id": "d612RdU4BJPK",
        "outputId": "bdc5b29a-972c-4e1e-bd60-1ed6eb3d3bfb"
      },
      "source": [
        "def solution(s):\r\n",
        "    s = s.lower()\r\n",
        "    stack = []\r\n",
        "    for i in s :\r\n",
        "        if not stack :\r\n",
        "            stack.append(i.upper())\r\n",
        "            continue\r\n",
        "        \r\n",
        "        if stack[-1] == ' ' :\r\n",
        "            stack.append(i.upper())\r\n",
        "        else :\r\n",
        "            stack.append(i)\r\n",
        "    \r\n",
        "    return ''.join(stack)\r\n",
        "\r\n",
        "print(solution(\"3people unFollowed me\") == \"3people Unfollowed Me\")\r\n",
        "print(solution(\"3people 2unFollowed 1me\") == \"3people 2unfollowed 1me\")\r\n",
        "print(solution(\"for the last week\") == \"For The Last Week\")\r\n",
        "print(solution(\" for the last week\") == \" For The Last Week\")\r\n",
        "print(solution(\" for the last   week  \") ==  \" For The Last   Week  \")\r\n",
        "print(solution('    ') == '    ')\r\n",
        "print(solution(\"for\") == \"For\")\r\n",
        "print(solution(\"2v 3hello m y friend 23HIz\") == \"2v 3hello M Y Friend 23hiz\")"
      ],
      "execution_count": null,
      "outputs": [
        {
          "output_type": "stream",
          "text": [
            "True\n",
            "True\n",
            "True\n",
            "True\n",
            "True\n",
            "True\n",
            "True\n",
            "True\n"
          ],
          "name": "stdout"
        }
      ]
    }
  ]
}