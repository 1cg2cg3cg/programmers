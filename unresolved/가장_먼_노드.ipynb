{
  "nbformat": 4,
  "nbformat_minor": 0,
  "metadata": {
    "colab": {
      "name": "가장 먼 노드.ipynb",
      "provenance": [],
      "authorship_tag": "ABX9TyP/92nArTHmK/HLFE3sxGpq",
      "include_colab_link": true
    },
    "kernelspec": {
      "name": "python3",
      "display_name": "Python 3"
    },
    "language_info": {
      "name": "python"
    }
  },
  "cells": [
    {
      "cell_type": "markdown",
      "metadata": {
        "id": "view-in-github",
        "colab_type": "text"
      },
      "source": [
        "<a href=\"https://colab.research.google.com/github/1cg2cg3cg/programmers/blob/main/unresolved/%EA%B0%80%EC%9E%A5_%EB%A8%BC_%EB%85%B8%EB%93%9C.ipynb\" target=\"_parent\"><img src=\"https://colab.research.google.com/assets/colab-badge.svg\" alt=\"Open In Colab\"/></a>"
      ]
    },
    {
      "cell_type": "code",
      "metadata": {
        "colab": {
          "base_uri": "https://localhost:8080/"
        },
        "id": "IyztxWhDOSLS",
        "outputId": "63b0dc63-acc0-4dfd-f218-c1394d7c980d"
      },
      "source": [
        "import collections\n",
        "import heapq\n",
        "def solution(n, edge):\n",
        "    answer = []\n",
        "\n",
        "    graph = collections.defaultdict(list)\n",
        "    for v, w in edge :\n",
        "        graph[v].append(w)\n",
        "        graph[w].append(v)\n",
        "    \n",
        "    print(graph)\n",
        "\n",
        "    queue = [1]\n",
        "    discovered = [1]\n",
        "    while queue :\n",
        "        v = queue.pop(0)\n",
        "        for w in graph[v] :\n",
        "            print(graph[v])\n",
        "            if w not in discovered :\n",
        "                print(w)\n",
        "                discovered.append(w)\n",
        "\n",
        "    print(discovered)\n",
        "\n",
        "    return answer\n",
        "\n",
        "print(solution(6, [[3, 6], [4, 3], [3, 2], [1, 3], [1, 2], [2, 4], [5, 2]]), 3)"
      ],
      "execution_count": null,
      "outputs": [
        {
          "output_type": "stream",
          "text": [
            "defaultdict(<class 'list'>, {3: [6, 4, 2, 1], 6: [3], 4: [3, 2], 2: [3, 1, 4, 5], 1: [3, 2], 5: [2]})\n",
            "[3, 2]\n",
            "3\n",
            "[3, 2]\n",
            "2\n",
            "[1, 3, 2]\n",
            "[] 3\n"
          ],
          "name": "stdout"
        }
      ]
    }
  ]
}