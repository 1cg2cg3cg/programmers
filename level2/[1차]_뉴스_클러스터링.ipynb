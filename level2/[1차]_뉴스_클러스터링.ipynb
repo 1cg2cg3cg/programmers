{
  "nbformat": 4,
  "nbformat_minor": 0,
  "metadata": {
    "colab": {
      "name": "[1차] 뉴스 클러스터링.ipynb",
      "provenance": [],
      "collapsed_sections": [],
      "authorship_tag": "ABX9TyOHcdmdonzA3mNF85ETUEFY",
      "include_colab_link": true
    },
    "kernelspec": {
      "name": "python3",
      "display_name": "Python 3"
    }
  },
  "cells": [
    {
      "cell_type": "markdown",
      "metadata": {
        "id": "view-in-github",
        "colab_type": "text"
      },
      "source": [
        "<a href=\"https://colab.research.google.com/github/1cg2cg3cg/programmers/blob/main/level2/%5B1%EC%B0%A8%5D_%EB%89%B4%EC%8A%A4_%ED%81%B4%EB%9F%AC%EC%8A%A4%ED%84%B0%EB%A7%81.ipynb\" target=\"_parent\"><img src=\"https://colab.research.google.com/assets/colab-badge.svg\" alt=\"Open In Colab\"/></a>"
      ]
    },
    {
      "cell_type": "code",
      "metadata": {
        "colab": {
          "base_uri": "https://localhost:8080/"
        },
        "id": "AsjufJiMWviO",
        "outputId": "56f9caf0-a608-4fd2-8b22-19540459da88"
      },
      "source": [
        "import collections\r\n",
        "def solution(str1, str2):\r\n",
        "\r\n",
        "    str1 = str1.lower() # 대문자 혹은 소문자로 일괄 변경(상관 없음)\r\n",
        "    str2 = str2.lower()\r\n",
        "\r\n",
        "    l1, l2 = [], [] # str1, str2를 2글자씩 나누어 저장하는 변수\r\n",
        "\r\n",
        "    stack = []\r\n",
        "    for s in str1 :\r\n",
        "        stack.append(s)\r\n",
        "        \r\n",
        "        if len(stack) == 2 :\r\n",
        "            if stack[0].isalpha() and stack[1].isalpha() :  # 모두 알파벳인 경우\r\n",
        "                l1.append(''.join(stack))   # 연결해서 append\r\n",
        "            stack = stack[1:]   # 첫번째 원소 제거\r\n",
        "    \r\n",
        "    stack = []\r\n",
        "    for s in str2 :\r\n",
        "        stack.append(s)\r\n",
        "        \r\n",
        "        if len(stack) == 2 :\r\n",
        "            if stack[0].isalpha() and stack[1].isalpha() :  # 모두 알파벳인 경우\r\n",
        "                l2.append(''.join(stack))   # 연결해서 append\r\n",
        "            stack = stack[1:]   # 첫번째 원소 제거\r\n",
        "\r\n",
        "\r\n",
        "    c1 = collections.Counter(l1)    # 2글자씩 나누어진 원소들의 개수\r\n",
        "    c2 = collections.Counter(l2)\r\n",
        "\r\n",
        "    if not c1 and not c2 :  # J(A,B)의 A와 B가 모두 공집합인 경우\r\n",
        "        return 65536\r\n",
        "    # 교집합, 합집합한 개수를 합해 바로 연산\r\n",
        "    return (sum((c1&c2).values()) / sum((c1|c2).values()) * 65536 )// 1\r\n",
        "\r\n",
        "\r\n",
        "print(solution(\"FRANCE\", \"french\"), 16384)\r\n",
        "print(solution(\"aa1+aa2\", \"AAAA12\"), 43690)\r\n",
        "print(solution(\"handshake\", \"shake hands\"), 65536)\r\n",
        "print(solution(\"E=M*C^2\", \"e=m*c^2\"), 65536)"
      ],
      "execution_count": 74,
      "outputs": [
        {
          "output_type": "stream",
          "text": [
            "16384.0 16384\n",
            "43690.0 43690\n",
            "65536.0 65536\n",
            "65536 65536\n"
          ],
          "name": "stdout"
        }
      ]
    }
  ]
}