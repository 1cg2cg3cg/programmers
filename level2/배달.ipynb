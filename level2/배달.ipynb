{
  "nbformat": 4,
  "nbformat_minor": 0,
  "metadata": {
    "colab": {
      "name": "배달.ipynb",
      "provenance": [],
      "collapsed_sections": [],
      "authorship_tag": "ABX9TyPGOyvgr4jq3e8+OdVh1jw/",
      "include_colab_link": true
    },
    "kernelspec": {
      "name": "python3",
      "display_name": "Python 3"
    }
  },
  "cells": [
    {
      "cell_type": "markdown",
      "metadata": {
        "id": "view-in-github",
        "colab_type": "text"
      },
      "source": [
        "<a href=\"https://colab.research.google.com/github/1cg2cg3cg/programmers/blob/main/level2/%EB%B0%B0%EB%8B%AC.ipynb\" target=\"_parent\"><img src=\"https://colab.research.google.com/assets/colab-badge.svg\" alt=\"Open In Colab\"/></a>"
      ]
    },
    {
      "cell_type": "code",
      "metadata": {
        "colab": {
          "base_uri": "https://localhost:8080/"
        },
        "id": "_42A77diVn3j",
        "outputId": "29f0ca60-8b3d-4c3a-c373-2d70eb5977c4"
      },
      "source": [
        "# 우선순위 큐 + 다익스트라\r\n",
        "# 파이썬 알고리즘 인터뷰 참고\r\n",
        "import collections\r\n",
        "import heapq\r\n",
        "def solution(N, road, K):\r\n",
        "    answer = []\r\n",
        "\r\n",
        "    graph = collections.defaultdict(list)\r\n",
        "    \r\n",
        "    for i, j, k in road :\r\n",
        "        graph[i].append((j, k))\r\n",
        "        graph[j].append((i, k))\r\n",
        "    \r\n",
        "    Q = [(0, 1)]\r\n",
        "    dist = collections.defaultdict(int)\r\n",
        "    \r\n",
        "    while Q :\r\n",
        "        time, node = heapq.heappop(Q)\r\n",
        "        if node not in dist :\r\n",
        "            dist[node] = time\r\n",
        "\r\n",
        "            for v, w in graph[node] :\r\n",
        "                alt = time + w\r\n",
        "                heapq.heappush(Q, (alt, v))\r\n",
        "    \r\n",
        "    return len([i for i in dist.keys() if dist[i] <= K])\r\n",
        "\r\n",
        "print(solution(5, [[1,2,1],[2,3,3],[5,2,2],[1,4,2],[5,3,1],[5,4,2]], 3), 4)\r\n",
        "print(solution(6, [[1,2,1],[1,3,2],[2,3,2],[3,4,3],[3,5,2],[3,5,3],[5,6,1]], 4), 4)"
      ],
      "execution_count": 58,
      "outputs": [
        {
          "output_type": "stream",
          "text": [
            "4 4\n",
            "4 4\n"
          ],
          "name": "stdout"
        }
      ]
    },
    {
      "cell_type": "code",
      "metadata": {
        "colab": {
          "base_uri": "https://localhost:8080/"
        },
        "id": "fLscNZeTJz9L",
        "outputId": "bed3ffbe-2268-43f6-dc6c-7ced895addff"
      },
      "source": [
        "# graph와 dfs를 사용한 풀이 collection  case #32 timeout\r\n",
        "import collections\r\n",
        "def solution(N, road, K):\r\n",
        "    answer = []\r\n",
        "\r\n",
        "    graph = collections.defaultdict(list)\r\n",
        "    for i in road :\r\n",
        "        graph[i[0]].append([i[1], i[2]])\r\n",
        "        #graph[i[1]].append([i[0], i[2]])\r\n",
        "    print(graph)\r\n",
        "    \r\n",
        "    \r\n",
        "    if min(graph[1], key = lambda x : x[1])[1] > K :\r\n",
        "        return 0\r\n",
        "\r\n",
        "    def dfs(cur, discovered, time) :\r\n",
        "        if cur not in discovered :\r\n",
        "            discovered.append(cur)\r\n",
        "\r\n",
        "        if time > K :\r\n",
        "            return\r\n",
        "        \r\n",
        "        for i in graph[cur] :\r\n",
        "            if i[0] not in discovered and time+i[1] <= K :\r\n",
        "        \r\n",
        "                dfs(i[0], discovered+[i[0]], time+i[1])\r\n",
        "        \r\n",
        "        if time <= K :\r\n",
        "            answer.extend(discovered)\r\n",
        "            return\r\n",
        "    \r\n",
        "    dfs(1, [], 0)\r\n",
        "    print(answer)\r\n",
        "    answer = set(answer)\r\n",
        "    \r\n",
        "    return len(answer)\r\n",
        "\r\n",
        "print(solution(5, [[1,2,1],[2,3,3],[5,2,2],[1,4,2],[5,3,1],[5,4,2]], 3), 4)\r\n",
        "print(solution(6, [[1,2,1],[1,3,2],[2,3,2],[3,4,3],[3,5,2],[3,5,3],[5,6,1]], 4), 4)"
      ],
      "execution_count": 39,
      "outputs": [
        {
          "output_type": "stream",
          "text": [
            "defaultdict(<class 'list'>, {1: [[2, 1], [4, 2]], 2: [[3, 3]], 5: [[2, 2], [3, 1], [4, 2]]})\n",
            "[1, 2, 1, 4, 1]\n",
            "3 4\n",
            "defaultdict(<class 'list'>, {1: [[2, 1], [3, 2]], 2: [[3, 2]], 3: [[4, 3], [5, 2], [5, 3]], 5: [[6, 1]]})\n",
            "[1, 2, 3, 1, 2, 1, 3, 5, 1, 3, 1]\n",
            "4 4\n"
          ],
          "name": "stdout"
        }
      ]
    }
  ]
}