{
  "nbformat": 4,
  "nbformat_minor": 0,
  "metadata": {
    "colab": {
      "name": "짝지어 제거하기.ipynb",
      "provenance": [],
      "collapsed_sections": [],
      "authorship_tag": "ABX9TyPT5ldSlDnaZo2z9y2o1wOp",
      "include_colab_link": true
    },
    "kernelspec": {
      "name": "python3",
      "display_name": "Python 3"
    }
  },
  "cells": [
    {
      "cell_type": "markdown",
      "metadata": {
        "id": "view-in-github",
        "colab_type": "text"
      },
      "source": [
        "<a href=\"https://colab.research.google.com/github/1cg2cg3cg/programmers/blob/main/level2/%EC%A7%9D%EC%A7%80%EC%96%B4_%EC%A0%9C%EA%B1%B0%ED%95%98%EA%B8%B0.ipynb\" target=\"_parent\"><img src=\"https://colab.research.google.com/assets/colab-badge.svg\" alt=\"Open In Colab\"/></a>"
      ]
    },
    {
      "cell_type": "code",
      "metadata": {
        "colab": {
          "base_uri": "https://localhost:8080/"
        },
        "id": "MdqyP2yC_950",
        "outputId": "9e2399e3-5261-424a-8b58-ba5c4f82632b"
      },
      "source": [
        "# 문자열 풀이로 효율성을 해결할 수 없어 stack 활용\r\n",
        "def solution(s):\r\n",
        "        \r\n",
        "    if len(s) % 2 : # 문자열이 홀수인 경우 짝지어 제거 불가능\r\n",
        "        return 0\r\n",
        "\r\n",
        "    stack = []\r\n",
        "\r\n",
        "    for i in s :\r\n",
        "        if not stack or stack[-1] != i: # 비어있거나, 연속되지 않은 경우 추가\r\n",
        "            stack.append(i)\r\n",
        "        \r\n",
        "        elif stack[-1] == i :   # 연속된 문자인 경우 저장된 문자 제거(짝지어 제거)\r\n",
        "            stack.pop()\r\n",
        "        \r\n",
        "    return 1 if not stack else 0\r\n",
        "\r\n",
        "print(solution(\"abababababaabababababa\"), 1)\r\n",
        "print(solution(\"baabaa\"), 1)\r\n",
        "print(solution(\"cdcd\"), 0)\r\n",
        "print(solution(\"cdccd\"), 0)\r\n",
        "print(solution(\"baabaabaab\"), 1)\r\n",
        "print(solution(\"baaccbccaabaab\"), 1)\r\n",
        "print(solution(\"baacbcaabaab\"), 0)\r\n",
        "print(solution(\"dbaacbcaabaabd\"), 0)\r\n",
        "print(solution(\"baaccbaabaab\"), 1)\r\n",
        "print(solution(\"dbaaccbccaabaabd\"), 1)\r\n",
        "print(solution(\"dacefabbafecad\"), 1)\r\n",
        "print(solution(\"abccba\"), 1)\r\n",
        "print(solution(\"abcccba\"), 0)\r\n",
        "print(solution(\"abccccbaaa\"), 1)\r\n",
        "print(solution(\"abccaabaa\"), 0)\r\n",
        "print(solution(\"a\"), 0)\r\n",
        "print(solution(\"afadaeaaefaafeaaeadafa\"), 1)"
      ],
      "execution_count": 57,
      "outputs": [
        {
          "output_type": "stream",
          "text": [
            "1 1\n",
            "1 1\n",
            "0 0\n",
            "0 0\n",
            "1 1\n",
            "1 1\n",
            "0 0\n",
            "0 0\n",
            "1 1\n",
            "1 1\n",
            "1 1\n",
            "1 1\n",
            "0 0\n",
            "1 1\n",
            "0 0\n",
            "0 0\n",
            "1 1\n"
          ],
          "name": "stdout"
        }
      ]
    },
    {
      "cell_type": "code",
      "metadata": {
        "colab": {
          "base_uri": "https://localhost:8080/"
        },
        "id": "Z2GM53Zb02qg",
        "outputId": "b8b806f8-985d-47fa-b965-e0d29cf46d57"
      },
      "source": [
        "# timeout\r\n",
        "# 반복되는 문자열로 분해, 재결합 하며 제거하는 방식\r\n",
        "def solution(s):\r\n",
        "        \r\n",
        "    if len(s) % 2 : # 문자열이 홀수인 경우 짝지어 제거 불가능\r\n",
        "        return 0\r\n",
        "\r\n",
        "    c = set(s)\r\n",
        "    c = [char+char for char in c]\r\n",
        "\r\n",
        "    for _ in range(len(s)//2) :\r\n",
        "        for char in c :\r\n",
        "            s = s.split(char)\r\n",
        "            s = ''.join(s)\r\n",
        "            if not s :\r\n",
        "                return 1\r\n",
        "\r\n",
        "    return 0\r\n",
        "\r\n",
        "print(solution(\"abababababaabababababa\"), 1)\r\n",
        "print(solution(\"baabaa\"), 1)\r\n",
        "print(solution(\"cdcd\"), 0)\r\n",
        "print(solution(\"cdccd\"), 0)\r\n",
        "print(solution(\"baabaabaab\"), 1)\r\n",
        "print(solution(\"baaccbccaabaab\"), 1)\r\n",
        "print(solution(\"baacbcaabaab\"), 0)\r\n",
        "print(solution(\"dbaacbcaabaabd\"), 0)\r\n",
        "print(solution(\"baaccbaabaab\"), 1)\r\n",
        "print(solution(\"dbaaccbccaabaabd\"), 1)\r\n",
        "print(solution(\"dacefabbafecad\"), 1)\r\n",
        "print(solution(\"abccba\"), 1)\r\n",
        "print(solution(\"abcccba\"), 0)\r\n",
        "print(solution(\"abccccbaaa\"), 1)\r\n",
        "print(solution(\"abccaabaa\"), 0)\r\n",
        "print(solution(\"a\"), 0)\r\n",
        "print(solution(\"afadaeaaefaafeaaeadafa\"), 1)"
      ],
      "execution_count": 60,
      "outputs": [
        {
          "output_type": "stream",
          "text": [
            "1 1\n",
            "1 1\n",
            "0 0\n",
            "0 0\n",
            "1 1\n",
            "1 1\n",
            "0 0\n",
            "0 0\n",
            "1 1\n",
            "1 1\n",
            "1 1\n",
            "1 1\n",
            "0 0\n",
            "1 1\n",
            "0 0\n",
            "0 0\n",
            "1 1\n"
          ],
          "name": "stdout"
        }
      ]
    }
  ]
}