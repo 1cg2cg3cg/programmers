{
  "nbformat": 4,
  "nbformat_minor": 0,
  "metadata": {
    "colab": {
      "name": "직사각형.ipynb",
      "provenance": [],
      "collapsed_sections": [],
      "authorship_tag": "ABX9TyNPWR7rUbbU+U0bXVJFgcpy",
      "include_colab_link": true
    },
    "kernelspec": {
      "name": "python3",
      "display_name": "Python 3"
    },
    "language_info": {
      "name": "python"
    }
  },
  "cells": [
    {
      "cell_type": "markdown",
      "metadata": {
        "id": "view-in-github",
        "colab_type": "text"
      },
      "source": [
        "<a href=\"https://colab.research.google.com/github/1cg2cg3cg/programmers/blob/main/easy/%EC%A7%81%EC%82%AC%EA%B0%81%ED%98%95.ipynb\" target=\"_parent\"><img src=\"https://colab.research.google.com/assets/colab-badge.svg\" alt=\"Open In Colab\"/></a>"
      ]
    },
    {
      "cell_type": "markdown",
      "metadata": {
        "id": "CLvd2yqPSo_T"
      },
      "source": [
        "직사각형을 만드는 데 필요한 4개의 점 중 3개의 좌표가 주어질 때, 나머지 한 점의 좌표를 구하려고 합니다. 점 3개의 좌표가 들어있는 배열 v가 매개변수로 주어질 때, 직사각형을 만드는 데 필요한 나머지 한 점의 좌표를 return 하도록 solution 함수를 완성해주세요. 단, 직사각형의 각 변은 x축, y축에 평행하며, 반드시 직사각형을 만들 수 있는 경우만 입력으로 주어집니다.\n",
        "\n",
        "### 제한사항\n",
        "\n",
        "v는 세 점의 좌표가 들어있는 2차원 배열입니다.\n",
        "v의 각 원소는 점의 좌표를 나타내며, 좌표는 [x축 좌표, y축 좌표] 순으로 주어집니다.\n",
        "좌표값은 1 이상 10억 이하의 자연수입니다.\n",
        "직사각형을 만드는 데 필요한 나머지 한 점의 좌표를 [x축 좌표, y축 좌표] 순으로 담아 return 해주세요.\n",
        "\n",
        "\n",
        "### 입출력 예\n",
        "\n",
        "\n",
        "|v|result|\n",
        "|---|-----|\n",
        "|[1, 4], [3, 4], [3, 10]]|[1, 10]|\n",
        "|[[1, 1], [2, 2], [1, 2]]|[2, 1]|\n",
        "\n",
        "### 설명\n",
        "\n",
        "입출력 예 #1\n",
        "\n",
        "세 점이 [1, 4], [3, 4], [3, 10] 위치에 있을 때, [1, 10]에 점이 위치하면 직사각형이 됩니다.\n",
        "\n",
        "입출력 예 #2\n",
        "\n",
        "세 점이 [1, 1], [2, 2], [1, 2] 위치에 있을 때, [2, 1]에 점이 위치하면 직사각형이 됩니다."
      ]
    },
    {
      "cell_type": "code",
      "metadata": {
        "id": "j6vrHDYuShQi"
      },
      "source": [
        "import collections\n",
        "\n",
        "def solution(v):\n",
        "    \n",
        "    answer = []\n",
        "    C_x = collections.Counter(x[0] for x in v)\n",
        "    C_y = collections.Counter(x[1] for x in v)\n",
        "    \n",
        "    x = C_x.most_common()[-1][0]\n",
        "    y = C_y.most_common()[-1][0]\n",
        "    \n",
        "    return [x,y]"
      ],
      "execution_count": null,
      "outputs": []
    }
  ]
}