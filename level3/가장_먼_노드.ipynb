{
  "nbformat": 4,
  "nbformat_minor": 0,
  "metadata": {
    "colab": {
      "name": "가장 먼 노드.ipynb",
      "provenance": [],
      "collapsed_sections": [],
      "authorship_tag": "ABX9TyOVooT5JVgwLWLYGONIStiM",
      "include_colab_link": true
    },
    "kernelspec": {
      "name": "python3",
      "display_name": "Python 3"
    },
    "language_info": {
      "name": "python"
    }
  },
  "cells": [
    {
      "cell_type": "markdown",
      "metadata": {
        "id": "view-in-github",
        "colab_type": "text"
      },
      "source": [
        "<a href=\"https://colab.research.google.com/github/1cg2cg3cg/programmers/blob/main/level3/%EA%B0%80%EC%9E%A5_%EB%A8%BC_%EB%85%B8%EB%93%9C.ipynb\" target=\"_parent\"><img src=\"https://colab.research.google.com/assets/colab-badge.svg\" alt=\"Open In Colab\"/></a>"
      ]
    },
    {
      "cell_type": "code",
      "metadata": {
        "id": "BwcQO8rKm8jI"
      },
      "source": [
        "# 21.04.23\n",
        "# the very far node\n",
        "import collections\n",
        "\n",
        "def solution(n, vertex) :\n",
        "\n",
        "    graph = collections.defaultdict(list)\n",
        "\n",
        "    for i, j in vertex :    # draw a graph\n",
        "        graph[i].append(j)    \n",
        "        graph[j].append(i)\n",
        "\n",
        "    cur, discovered = set(), set()\n",
        "    cur.add(1)          # always start at 1\n",
        "    discovered.add(1)   # always start at 1\n",
        "\n",
        "    while len(discovered) < n : # probe all nodes completed\n",
        "        _next = set()\n",
        "\n",
        "        for node in cur :\n",
        "            for g in graph[node] :\n",
        "\n",
        "                if g not in discovered :\n",
        "                    _next.add(g)\n",
        "                    discovered.add(g)\n",
        "\n",
        "        cur = _next\n",
        "\n",
        "    return len(cur)\n",
        "\n",
        "print(solution(6, [[3, 6], [4, 3], [3, 2], [1, 3], [1, 2], [2, 4], [5, 2]]), 3)"
      ],
      "execution_count": null,
      "outputs": []
    },
    {
      "cell_type": "code",
      "metadata": {
        "colab": {
          "base_uri": "https://localhost:8080/"
        },
        "id": "tBC1m1sKXO0O",
        "outputId": "867e92f3-dfb4-4ac3-e3d5-29bc3249fe7e"
      },
      "source": [
        "# 21.04.01\n",
        "# python의 in 연산자가 탐색하려는 변수의 type에 따라 연산 속도가 다르다\n",
        "# https://wiki.python.org/moin/TimeComplexity 에 의하면,\n",
        "# list는 O(n), set은 O(1)로 표기된다.\n",
        "# cur, next까지 set으로 바꾸면 더 빨라질까?\n",
        "import collections\n",
        "def solution(n, edge):\n",
        "    \n",
        "    graph = collections.defaultdict(list)   # 주어진 edge를 graph 형태로 변환\n",
        "    for v, w in edge :\n",
        "        graph[v].append(w)\n",
        "        graph[w].append(v)\n",
        "\n",
        "    answer, cur = set(), [1]\n",
        "    answer.add(1)\n",
        "    \n",
        "    while len(answer) < n : # 모든 노드를 탐색하면 종료\n",
        "        Next = []   # 다음 방문할 변수 초기화(이번 탐색에서 발견할 노드 저장을 위해)\n",
        "        for c in cur :  # 방문해야 하는 노드 목록\n",
        "            for g in graph[c] : # 방문해야 할 노드에서 갈 수 있는 노드 g\n",
        "                if g not in answer :    # 사전에 방문했다면 다시 갈 필요 없음\n",
        "                    Next.append(g)\n",
        "                    answer.add(g)\n",
        "\n",
        "        cur = Next\n",
        "\n",
        "    return len(Next)\n",
        "\n",
        "print(solution(6, [[3, 6], [4, 3], [3, 2], [1, 3], [1, 2], [2, 4], [5, 2]]), 3)"
      ],
      "execution_count": null,
      "outputs": [
        {
          "output_type": "stream",
          "text": [
            "3 3\n"
          ],
          "name": "stdout"
        }
      ]
    },
    {
      "cell_type": "code",
      "metadata": {
        "colab": {
          "base_uri": "https://localhost:8080/"
        },
        "id": "29x7bbSrYIaF",
        "outputId": "afa1c092-e418-4ec4-deb2-c01c8c354873"
      },
      "source": [
        "# cur, next까지 set으로 바꾸면 더 빨라질까? 1ms 정도 빨라진다.\n",
        "import collections\n",
        "def solution(n, edge):\n",
        "    \n",
        "    graph = collections.defaultdict(list)\n",
        "    for v, w in edge :\n",
        "        graph[v].append(w)\n",
        "        graph[w].append(v)\n",
        "\n",
        "    answer, cur = set(), set()\n",
        "    answer.add(1)\n",
        "    cur.add(1)\n",
        "    \n",
        "    while len(answer) < n :\n",
        "        Next = set()\n",
        "        for c in cur :\n",
        "            for g in graph[c] :\n",
        "                if g not in answer :\n",
        "                    Next.add(g)\n",
        "                    answer.add(g)\n",
        "\n",
        "        cur = Next\n",
        "\n",
        "    return len(Next)\n",
        "\n",
        "print(solution(6, [[3, 6], [4, 3], [3, 2], [1, 3], [1, 2], [2, 4], [5, 2]]), 3)"
      ],
      "execution_count": null,
      "outputs": [
        {
          "output_type": "stream",
          "text": [
            "3 3\n"
          ],
          "name": "stdout"
        }
      ]
    },
    {
      "cell_type": "markdown",
      "metadata": {
        "id": "1Hs0Ws4UYTeu"
      },
      "source": [
        "<h4> answer만 set으로 변경 </h4>\n",
        "\n",
        "- 테스트 1 〉\t통과 (0.02ms, 10.2MB)\n",
        "- 테스트 2 〉\t통과 (0.02ms, 10.2MB)\n",
        "- 테스트 3 〉\t통과 (0.04ms, 10.2MB)\n",
        "- 테스트 4 〉\t통과 (0.27ms, 10.3MB)\n",
        "- 테스트 5 〉\t통과 (1.14ms, 10.6MB)\n",
        "- 테스트 6 〉\t통과 (2.14ms, 10.9MB)\n",
        "- 테스트 7 〉\t통과 (18.17ms, 18MB)\n",
        "- 테스트 8 〉\t통과 (30.17ms, 23.2MB)\n",
        "- 테스트 9 〉\t통과 (30.56ms, 23MB)\n",
        "\n",
        "<h4> answer, cur, Next 모두 set으로 변경 </h4>\n",
        "\n",
        "- 테스트 1 〉\t통과 (0.02ms, 10.1MB)\n",
        "- 테스트 2 〉\t통과 (0.02ms, 10.1MB)\n",
        "- 테스트 3 〉\t통과 (0.04ms, 10.2MB)\n",
        "- 테스트 4 〉\t통과 (0.27ms, 10.3MB)\n",
        "- 테스트 5 〉\t통과 (1.02ms, 10.5MB)\n",
        "- 테스트 6 〉\t통과 (2.05ms, 11MB)\n",
        "- 테스트 7 〉\t통과 (20.14ms, 18.8MB)\n",
        "- 테스트 8 〉\t통과 (31.67ms, 23.2MB)\n",
        "- 테스트 9 〉\t통과 (29.34ms, 23.5MB)"
      ]
    },
    {
      "cell_type": "code",
      "metadata": {
        "colab": {
          "base_uri": "https://localhost:8080/"
        },
        "id": "IyztxWhDOSLS",
        "outputId": "e5e45902-f91f-4021-ce2d-daf08a628bf4"
      },
      "source": [
        "# 최초 풀이\n",
        "# text 8, 9 timeout\n",
        "import collections\n",
        "def solution(n, edge):\n",
        "    \n",
        "    graph = collections.defaultdict(list)\n",
        "    for v, w in edge :\n",
        "        graph[v].append(w)\n",
        "        graph[w].append(v)\n",
        "\n",
        "    answer, cur = [1], [1]\n",
        "    \n",
        "    while len(answer) < n :\n",
        "        Next = []\n",
        "        for c in cur :\n",
        "            for g in graph[c] :\n",
        "                if g not in answer :\n",
        "                    Next.append(g)\n",
        "                    answer.append(g)\n",
        "\n",
        "        cur = Next\n",
        "\n",
        "    return len(Next)\n",
        "\n",
        "print(solution(6, [[3, 6], [4, 3], [3, 2], [1, 3], [1, 2], [2, 4], [5, 2]]), 3)"
      ],
      "execution_count": null,
      "outputs": [
        {
          "output_type": "stream",
          "text": [
            "3 3\n"
          ],
          "name": "stdout"
        }
      ]
    }
  ]
}