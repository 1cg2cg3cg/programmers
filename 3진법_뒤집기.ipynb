{
  "nbformat": 4,
  "nbformat_minor": 0,
  "metadata": {
    "colab": {
      "name": "3진법 뒤집기.ipynb",
      "provenance": [],
      "collapsed_sections": [],
      "authorship_tag": "ABX9TyNf7D2869wmpjB/GXKEQh7S",
      "include_colab_link": true
    },
    "kernelspec": {
      "name": "python3",
      "display_name": "Python 3"
    }
  },
  "cells": [
    {
      "cell_type": "markdown",
      "metadata": {
        "id": "view-in-github",
        "colab_type": "text"
      },
      "source": [
        "<a href=\"https://colab.research.google.com/github/1cg2cg3cg/programmers/blob/main/3%EC%A7%84%EB%B2%95_%EB%92%A4%EC%A7%91%EA%B8%B0.ipynb\" target=\"_parent\"><img src=\"https://colab.research.google.com/assets/colab-badge.svg\" alt=\"Open In Colab\"/></a>"
      ]
    },
    {
      "cell_type": "code",
      "metadata": {
        "colab": {
          "base_uri": "https://localhost:8080/"
        },
        "id": "DdqIugdTOJ4J",
        "outputId": "90e9d953-25e7-4ded-8594-132e60e52ffb"
      },
      "source": [
        "def solution(n):\r\n",
        "    answer = 0\r\n",
        "    start_val, index = 0, 0\r\n",
        "    num3, mul3 = [], []\r\n",
        "    \r\n",
        "    while start_val <= n :       # find start_val (max 3^n)\r\n",
        "        index += 1\r\n",
        "        start_val = 3 ** index\r\n",
        "        mul3.append(start_val/3)\r\n",
        "    start_val = 3**(index-1)\r\n",
        "\r\n",
        "    while n > 0 :               # convert to base3\r\n",
        "        idx = n // start_val\r\n",
        "        num3.append(int(idx))\r\n",
        "\r\n",
        "        n -= start_val * idx\r\n",
        "        start_val = start_val/3\r\n",
        "\r\n",
        "    while len(num3) != index :  # zero fill\r\n",
        "        num3.append(0)\r\n",
        "\r\n",
        "    for i in range(len(num3)) : # convert to decimal\r\n",
        "        answer += mul3[i] * num3[i]\r\n",
        "\r\n",
        "    print(num3, mul3)\r\n",
        "\r\n",
        "    return answer\r\n",
        "\r\n",
        "print(solution(45), '\\t 7')\r\n",
        "print(solution(125), '\\t 229')"
      ],
      "execution_count": 70,
      "outputs": [
        {
          "output_type": "stream",
          "text": [
            "[1, 2, 0, 0] [1.0, 3.0, 9.0, 27.0]\n",
            "7.0 \t 7\n",
            "[1, 1, 1, 2, 2] [1.0, 3.0, 9.0, 27.0, 81.0]\n",
            "229.0 \t 229\n"
          ],
          "name": "stdout"
        }
      ]
    }
  ]
}