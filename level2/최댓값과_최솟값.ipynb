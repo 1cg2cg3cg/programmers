{
  "nbformat": 4,
  "nbformat_minor": 0,
  "metadata": {
    "colab": {
      "name": "최댓값과 최솟값.ipynb",
      "provenance": [],
      "collapsed_sections": [],
      "authorship_tag": "ABX9TyPgn1EGA/fEAtgjNyK+zeDW",
      "include_colab_link": true
    },
    "kernelspec": {
      "name": "python3",
      "display_name": "Python 3"
    }
  },
  "cells": [
    {
      "cell_type": "markdown",
      "metadata": {
        "id": "view-in-github",
        "colab_type": "text"
      },
      "source": [
        "<a href=\"https://colab.research.google.com/github/1cg2cg3cg/programmers/blob/main/level2/%EC%B5%9C%EB%8C%93%EA%B0%92%EA%B3%BC_%EC%B5%9C%EC%86%9F%EA%B0%92.ipynb\" target=\"_parent\"><img src=\"https://colab.research.google.com/assets/colab-badge.svg\" alt=\"Open In Colab\"/></a>"
      ]
    },
    {
      "cell_type": "code",
      "metadata": {
        "colab": {
          "base_uri": "https://localhost:8080/"
        },
        "id": "5jIerW4QTz5y",
        "outputId": "27ce1058-4048-4664-b11c-6d0269ab4795"
      },
      "source": [
        "def solution(s):\r\n",
        "    answer = s.split()  # 띄어쓰기로 구분된 숫자를 각각 list로 변환\r\n",
        "    answer = [int(i) for i in answer]   # -의 경우 sort 함수를 사용해도 str type의 경우\r\n",
        "    answer.sort()                       # 수학적으로 정렬되지 않기 때문에 정수로 casting\r\n",
        "                                        # ex) '-1', '-2', '-3' 순으로 정렬됨. 원하는 모양은 -3, -2, -1 순\r\n",
        "    answer = [str(answer[0]), str(answer[-1])]\r\n",
        "    return ' '.join(answer)\r\n",
        "\r\n",
        "print(solution(\"1 4 3 2\"), \"1 4\")\r\n",
        "print(solution(\"-4 -2 -3 -1\"), \"-4 -1\")"
      ],
      "execution_count": 31,
      "outputs": [
        {
          "output_type": "stream",
          "text": [
            "1 4 1 4\n",
            "-4 -1 -4 -1\n"
          ],
          "name": "stdout"
        }
      ]
    }
  ]
}