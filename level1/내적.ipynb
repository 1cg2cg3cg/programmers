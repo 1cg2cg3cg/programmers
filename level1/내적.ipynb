{
  "nbformat": 4,
  "nbformat_minor": 0,
  "metadata": {
    "colab": {
      "name": "내적.ipynb",
      "provenance": [],
      "authorship_tag": "ABX9TyNnozkzSDZMblvAJ6cEPYqG",
      "include_colab_link": true
    },
    "kernelspec": {
      "name": "python3",
      "display_name": "Python 3"
    }
  },
  "cells": [
    {
      "cell_type": "markdown",
      "metadata": {
        "id": "view-in-github",
        "colab_type": "text"
      },
      "source": [
        "<a href=\"https://colab.research.google.com/github/1cg2cg3cg/programmers/blob/main/level1/%EB%82%B4%EC%A0%81.ipynb\" target=\"_parent\"><img src=\"https://colab.research.google.com/assets/colab-badge.svg\" alt=\"Open In Colab\"/></a>"
      ]
    },
    {
      "cell_type": "code",
      "metadata": {
        "colab": {
          "base_uri": "https://localhost:8080/"
        },
        "id": "FSzH0qox6_k7",
        "outputId": "a9bfa1cb-aa44-46fa-a081-a7471070cc8a"
      },
      "source": [
        "def solution(a, b):\r\n",
        "    answer = 0\r\n",
        "    for i in range(len(a)) :\r\n",
        "        answer += a[i]*b[i]\r\n",
        "    return answer\r\n",
        "\r\n",
        "print(solution([1,2,3,4], [-3,-1,0,2]), '\\t 3')\r\n",
        "print(solution([-1,0,1], [1,0,-1]), '\\t -2')"
      ],
      "execution_count": 1,
      "outputs": [
        {
          "output_type": "stream",
          "text": [
            "3 \t 3\n",
            "-2 \t -2\n"
          ],
          "name": "stdout"
        }
      ]
    }
  ]
}