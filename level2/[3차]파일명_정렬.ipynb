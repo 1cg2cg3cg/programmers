{
  "nbformat": 4,
  "nbformat_minor": 0,
  "metadata": {
    "colab": {
      "name": "[3차]파일명 정렬.ipynb",
      "provenance": [],
      "collapsed_sections": [],
      "authorship_tag": "ABX9TyMXXv6ii4QPbRJy07Q0So00",
      "include_colab_link": true
    },
    "kernelspec": {
      "name": "python3",
      "display_name": "Python 3"
    }
  },
  "cells": [
    {
      "cell_type": "markdown",
      "metadata": {
        "id": "view-in-github",
        "colab_type": "text"
      },
      "source": [
        "<a href=\"https://colab.research.google.com/github/1cg2cg3cg/programmers/blob/main/level2/%5B3%EC%B0%A8%5D%ED%8C%8C%EC%9D%BC%EB%AA%85_%EC%A0%95%EB%A0%AC.ipynb\" target=\"_parent\"><img src=\"https://colab.research.google.com/assets/colab-badge.svg\" alt=\"Open In Colab\"/></a>"
      ]
    },
    {
      "cell_type": "code",
      "metadata": {
        "colab": {
          "base_uri": "https://localhost:8080/"
        },
        "id": "3tY8_FOmCXhf",
        "outputId": "8e60d428-14f9-4ec0-b9de-bd3e086dc9c5"
      },
      "source": [
        "def solution(files):\r\n",
        "    answer = []\r\n",
        "    s_files = []\r\n",
        "\r\n",
        "    for idx, f in enumerate(files) :\r\n",
        "        # 연속하는 숫자의 index를 모두 찾고, 연속되는 가장 빠른 숫자열 (number) 찾기\r\n",
        "        num_idx = [i for i, j in enumerate(f) if j.isdigit()]\r\n",
        "        for i in range(1,len(num_idx)) :\r\n",
        "            if num_idx[i] - num_idx[i-1] > 1 :\r\n",
        "                num_idx = num_idx[:i]\r\n",
        "                break\r\n",
        "        # head, number,tail로 나누고 index를 사용해 최종 결과 반환\r\n",
        "        s_files.append((f[:num_idx[0]], int(f[num_idx[0]:num_idx[-1]+1]), f[num_idx[-1]+1:], idx))\r\n",
        "    \r\n",
        "    s_files = sorted(s_files, key = lambda x : x[0].upper())    # 정렬 1 (의미 없음..?)\r\n",
        "    s_files = sorted(s_files, key = lambda x : (x[0].upper(), x[1]))    #정렬 2\r\n",
        "    \r\n",
        "    answer = [files[i[-1]] for i in s_files]    # index를 사용해 결과 반환\r\n",
        "    return answer\r\n",
        "\r\n",
        "print(solution([\"img12.png\", \"img10.png\", \"img02.png\", \"img1.png\", \"IMG01.GIF\", \"img2.JPG\"]), [\"img1.png\", \"IMG01.GIF\", \"img02.png\", \"img2.JPG\", \"img10.png\", \"img12.png\"])\r\n",
        "#print(solution([\"foo010bar020.zip\"]))"
      ],
      "execution_count": 32,
      "outputs": [
        {
          "output_type": "stream",
          "text": [
            "[('img', 12, '.png', 0), ('img', 10, '.png', 1), ('img', 2, '.png', 2), ('img', 1, '.png', 3), ('IMG', 1, '.GIF', 4), ('img', 2, '.JPG', 5)]\n",
            "['img1.png', 'IMG01.GIF', 'img02.png', 'img2.JPG', 'img10.png', 'img12.png'] ['img1.png', 'IMG01.GIF', 'img02.png', 'img2.JPG', 'img10.png', 'img12.png']\n"
          ],
          "name": "stdout"
        }
      ]
    }
  ]
}