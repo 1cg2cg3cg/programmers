{
  "nbformat": 4,
  "nbformat_minor": 0,
  "metadata": {
    "colab": {
      "name": "가장 큰 정사각형 찾기.ipynb",
      "provenance": [],
      "collapsed_sections": [],
      "authorship_tag": "ABX9TyO8nsaNUhqZRg3PJtrnQlzI",
      "include_colab_link": true
    },
    "kernelspec": {
      "name": "python3",
      "display_name": "Python 3"
    }
  },
  "cells": [
    {
      "cell_type": "markdown",
      "metadata": {
        "id": "view-in-github",
        "colab_type": "text"
      },
      "source": [
        "<a href=\"https://colab.research.google.com/github/1cg2cg3cg/programmers/blob/main/unresolved/%EA%B0%80%EC%9E%A5_%ED%81%B0_%EC%A0%95%EC%82%AC%EA%B0%81%ED%98%95_%EC%B0%BE%EA%B8%B0.ipynb\" target=\"_parent\"><img src=\"https://colab.research.google.com/assets/colab-badge.svg\" alt=\"Open In Colab\"/></a>"
      ]
    },
    {
      "cell_type": "code",
      "metadata": {
        "colab": {
          "base_uri": "https://localhost:8080/"
        },
        "id": "ssCr5uli-juX",
        "outputId": "c3fd8c8d-ddaf-48ec-fb52-c5965de0e09e"
      },
      "source": [
        "# timeout error 21.02.25\r\n",
        "# l을 0에서 늘려가는 방식, max 길이에서 줄이는 방식 모두 시간 초과\r\n",
        "def solution(board):\r\n",
        "    answer = 0\r\n",
        "\r\n",
        "    def size(board, x, y, length) :\r\n",
        "        area = 0\r\n",
        "        for i in range(length+1) :\r\n",
        "            area += sum(board[x+i][y:y+length+1])\r\n",
        "        \r\n",
        "        if (length+1)**2 == area :\r\n",
        "            return area\r\n",
        "        \r\n",
        "        return 0\r\n",
        "\r\n",
        "    for i in range(len(board)) :\r\n",
        "        \r\n",
        "        for j in range(len(board[i])) :\r\n",
        "            l = 0\r\n",
        "            if (len(board[i]) - j)**2 <= answer or (len(board) - i)**2 <= answer : # 현재 구한 정사각형보다 클 수 없는 경우 넘기기\r\n",
        "                break\r\n",
        "\r\n",
        "            while i + l < len(board) and j + l < len(board[i]) :\r\n",
        "                area = size(board, i, j, l)\r\n",
        "                if area > answer :\r\n",
        "                    answer = area\r\n",
        "                l += 1\r\n",
        "\r\n",
        "\r\n",
        "    return answer\r\n",
        "\r\n",
        "print(solution([[0,1,1,1],[1,1,1,1],[1,1,1,1],[0,0,1,0]]), 9)\r\n",
        "print(solution([[0,0,1,1],[1,1,1,1]]), 4)\r\n",
        "#print(solution([[0,1,2,3],[4,5,6,7],[8,9,10,11],[12,13,14,15]]), 9)\r\n",
        "#print(solution([[0,1,2,3],[4,5,6,7]]), 9)"
      ],
      "execution_count": 71,
      "outputs": [
        {
          "output_type": "stream",
          "text": [
            "END? 0 0\n",
            "END? 0 1\n",
            "\t end 0 2 9 2 4\n",
            "\t end 1 0 9 4 3\n",
            "\t end 2 0 9 4 2\n",
            "\t end 3 0 9 4 1\n",
            "9 9\n",
            "END? 0 0\n",
            "END? 0 1\n",
            "END? 0 2\n",
            "\t end 0 3 4 1 2\n",
            "\t end 1 0 4 4 1\n",
            "4 4\n"
          ],
          "name": "stdout"
        }
      ]
    }
  ]
}