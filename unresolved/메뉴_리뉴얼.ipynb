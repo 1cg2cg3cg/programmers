{
  "nbformat": 4,
  "nbformat_minor": 0,
  "metadata": {
    "colab": {
      "name": "메뉴 리뉴얼.ipynb",
      "provenance": [],
      "authorship_tag": "ABX9TyMl+48hJN2104kF5MPtLq4Z",
      "include_colab_link": true
    },
    "kernelspec": {
      "name": "python3",
      "display_name": "Python 3"
    }
  },
  "cells": [
    {
      "cell_type": "markdown",
      "metadata": {
        "id": "view-in-github",
        "colab_type": "text"
      },
      "source": [
        "<a href=\"https://colab.research.google.com/github/1cg2cg3cg/programmers/blob/main/unresolved/%EB%A9%94%EB%89%B4_%EB%A6%AC%EB%89%B4%EC%96%BC.ipynb\" target=\"_parent\"><img src=\"https://colab.research.google.com/assets/colab-badge.svg\" alt=\"Open In Colab\"/></a>"
      ]
    },
    {
      "cell_type": "code",
      "metadata": {
        "colab": {
          "base_uri": "https://localhost:8080/"
        },
        "id": "GGidIBpg2VkP",
        "outputId": "81d82095-e05a-4e97-c5b9-37925a067551"
      },
      "source": [
        "def solution(orders, course):\r\n",
        "    answer = []\r\n",
        "    orders = [y for x in orders for y in x]\r\n",
        "    \r\n",
        "    \r\n",
        "\r\n",
        "    print(cnt)\r\n",
        "    candidates = []\r\n",
        "    key = list(cnt.keys())\r\n",
        "    for i in course :\r\n",
        "        for j in key :\r\n",
        "            if cnt[j] >= i and j not in candidates:\r\n",
        "                candidates.append(j)\r\n",
        "        print(i, candidates)\r\n",
        "\r\n",
        "    \r\n",
        "    return answer\r\n",
        "\r\n",
        "print(solution([\"ABCFG\", \"AC\", \"CDE\", \"ACDE\", \"BCFG\", \"ACDEH\"], [2,3,4]), '\\t [\"AC\", \"ACDE\", \"BCFG\", \"CDE\"]')\r\n",
        "print(solution([\"ABCDE\", \"AB\", \"CD\", \"ADE\", \"XYZ\", \"XYZ\", \"ACD\"], [2,3,5]), '\\t [\"ACD\", \"AD\", \"ADE\", \"CD\", \"XYZ\"]')\r\n",
        "print(solution([\"XYZ\", \"XWY\", \"WXA\"], \t[2,3,4]), '\\t [\"WX\", \"XY\"]')"
      ],
      "execution_count": null,
      "outputs": [
        {
          "output_type": "stream",
          "text": [
            "Counter({'C': 6, 'A': 4, 'D': 3, 'E': 3, 'B': 2, 'F': 2, 'G': 2, 'H': 1})\n",
            "2 ['A', 'B', 'C', 'F', 'G', 'D', 'E']\n",
            "3 ['A', 'B', 'C', 'F', 'G', 'D', 'E']\n",
            "4 ['A', 'B', 'C', 'F', 'G', 'D', 'E']\n",
            "[] \t [\"AC\", \"ACDE\", \"BCFG\", \"CDE\"]\n",
            "Counter({'A': 4, 'D': 4, 'C': 3, 'B': 2, 'E': 2, 'X': 2, 'Y': 2, 'Z': 2})\n",
            "2 ['A', 'B', 'C', 'D', 'E', 'X', 'Y', 'Z']\n",
            "3 ['A', 'B', 'C', 'D', 'E', 'X', 'Y', 'Z']\n",
            "5 ['A', 'B', 'C', 'D', 'E', 'X', 'Y', 'Z']\n",
            "[] \t [\"ACD\", \"AD\", \"ADE\", \"CD\", \"XYZ\"]\n",
            "Counter({'X': 3, 'Y': 2, 'W': 2, 'Z': 1, 'A': 1})\n",
            "2 ['X', 'Y', 'W']\n",
            "3 ['X', 'Y', 'W']\n",
            "4 ['X', 'Y', 'W']\n",
            "[] \t [\"WX\", \"XY\"]\n"
          ],
          "name": "stdout"
        }
      ]
    }
  ]
}