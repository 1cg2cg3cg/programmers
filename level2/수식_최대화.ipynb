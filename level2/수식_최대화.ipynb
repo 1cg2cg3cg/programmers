{
  "nbformat": 4,
  "nbformat_minor": 0,
  "metadata": {
    "colab": {
      "name": "수식 최대화.ipynb",
      "provenance": [],
      "collapsed_sections": [],
      "authorship_tag": "ABX9TyOu25YItxLeY+5Nyeza8Xma",
      "include_colab_link": true
    },
    "kernelspec": {
      "name": "python3",
      "display_name": "Python 3"
    }
  },
  "cells": [
    {
      "cell_type": "markdown",
      "metadata": {
        "id": "view-in-github",
        "colab_type": "text"
      },
      "source": [
        "<a href=\"https://colab.research.google.com/github/1cg2cg3cg/programmers/blob/main/level2/%EC%88%98%EC%8B%9D_%EC%B5%9C%EB%8C%80%ED%99%94.ipynb\" target=\"_parent\"><img src=\"https://colab.research.google.com/assets/colab-badge.svg\" alt=\"Open In Colab\"/></a>"
      ]
    },
    {
      "cell_type": "code",
      "metadata": {
        "colab": {
          "base_uri": "https://localhost:8080/"
        },
        "id": "zyPJgVERyPU1",
        "outputId": "7ccd3e12-a1f6-4e43-f80d-f04643064189"
      },
      "source": [
        "# 연산자는 항상 숫자와 숫자 사이에 들어있다.\r\n",
        "# idx0의 연산자는 idx0, idx1 숫자에 적용된다.\r\n",
        "# idx0 op idx1 의 결과를 idx0 숫자에 입력하고, idx1 숫자를 제거하면 연산 결과만 남는다.\r\n",
        "# idx0의 연산자를 제거한다.\r\n",
        "def solution(expression):\r\n",
        "    \r\n",
        "    ops = []       # 연산자를 저장할 공간\r\n",
        "    answer = []\r\n",
        "\r\n",
        "    for i in expression :   # isdigit()을 사용해 연산자와 숫자를 분리한다\r\n",
        "        if not i.isdigit() :    # 연산자를 등장한 경우 ops에 추가하고 ' '로 변경 후 split을 사용해 숫자들을 분리\r\n",
        "            expression = expression.replace(i, ' ')\r\n",
        "            ops.append(i)\r\n",
        "    \r\n",
        "    nums = [int(i) for i in expression.split(' ')]  # ops를 변경한 ' '를 기준으로 숫자 분리\r\n",
        "\r\n",
        "    priors = ['*', '+', '-'], ['*', '-', '+'], ['+', '*', '-'], ['+', '-', '*'], ['-', '*', '+'], ['-', '+', '*'] # 연산자 3종류, 가능한 우선순위 조합 6종류\r\n",
        "    \r\n",
        "    for p in priors :   # 우선순위를 기준으로 연산\r\n",
        "        _nums = nums[:] # 연산으로 인한 기존 숫자들의 변동이 없도록 [:] 사용\r\n",
        "        _ops = ops[:]   # 연산으로 인한 기존 연산자들의 변동이 없도록 [:] 사용\r\n",
        "        \r\n",
        "        while _ops :    # 연산자들이 남아있는 경우 실행\r\n",
        "            for op in p :   # 우선순위 순서대로 op 변수에 받아옴\r\n",
        "\r\n",
        "                while op in _ops :  # op가 _ops 변수에 남아있다면 계속 진행 (우선순위대로 동일 연산자 모두 연산)\r\n",
        "                    if op == '*' :\r\n",
        "                        _nums[_ops.index(op)] = _nums[_ops.index(op)] * _nums[_ops.index(op) + 1]   # 연산 과정\r\n",
        "                        _nums = _nums[:_ops.index(op)+1] + _nums[_ops.index(op)+2 :]    # 연산 결과 및 사용한 숫자 제거\r\n",
        "                        _ops = _ops[:_ops.index(op)] + _ops[_ops.index(op)+1 :] # 사용한 연산자 제거\r\n",
        "                    elif op == '+' :\r\n",
        "                        _nums[_ops.index(op)] = _nums[_ops.index(op)] + _nums[_ops.index(op) + 1]\r\n",
        "                        _nums = _nums[:_ops.index(op)+1] + _nums[_ops.index(op)+2 :]\r\n",
        "                        _ops = _ops[:_ops.index(op)] + _ops[_ops.index(op)+1 :]\r\n",
        "                    else :\r\n",
        "                        _nums[_ops.index(op)] = _nums[_ops.index(op)] - _nums[_ops.index(op) + 1]\r\n",
        "                        _nums = _nums[:_ops.index(op)+1] + _nums[_ops.index(op)+2 :]\r\n",
        "                        _ops = _ops[:_ops.index(op)] + _ops[_ops.index(op)+1 :]\r\n",
        "                    \r\n",
        "        answer.append(abs(_nums[0]))\r\n",
        "    \r\n",
        "    return max(answer)\r\n",
        "\r\n",
        "print(solution(\"100-200*300-500+20\"), 60420)\r\n",
        "print(solution(\"100+20-30\"), 90)\r\n",
        "print(solution(\"50*6-3*2\"), 300)"
      ],
      "execution_count": 28,
      "outputs": [
        {
          "output_type": "stream",
          "text": [
            "60420 60420\n",
            "90 90\n",
            "300 300\n"
          ],
          "name": "stdout"
        }
      ]
    }
  ]
}