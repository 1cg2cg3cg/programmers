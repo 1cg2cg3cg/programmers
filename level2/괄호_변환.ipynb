{
  "nbformat": 4,
  "nbformat_minor": 0,
  "metadata": {
    "colab": {
      "name": "괄호 변환.ipynb",
      "provenance": [],
      "collapsed_sections": [],
      "authorship_tag": "ABX9TyOM+b9TmBP6tTYMfGm1VpH+",
      "include_colab_link": true
    },
    "kernelspec": {
      "name": "python3",
      "display_name": "Python 3"
    }
  },
  "cells": [
    {
      "cell_type": "markdown",
      "metadata": {
        "id": "view-in-github",
        "colab_type": "text"
      },
      "source": [
        "<a href=\"https://colab.research.google.com/github/1cg2cg3cg/programmers/blob/main/level2/%EA%B4%84%ED%98%B8_%EB%B3%80%ED%99%98.ipynb\" target=\"_parent\"><img src=\"https://colab.research.google.com/assets/colab-badge.svg\" alt=\"Open In Colab\"/></a>"
      ]
    },
    {
      "cell_type": "code",
      "metadata": {
        "colab": {
          "base_uri": "https://localhost:8080/"
        },
        "id": "oy04VSZ029tq",
        "outputId": "faa7d3a1-b1e3-4914-979f-193d0fe44cb9"
      },
      "source": [
        "def check(p) :\r\n",
        "    result = ''\r\n",
        "    if not p :\r\n",
        "        return result   # return ''\r\n",
        "    \r\n",
        "    if p == \"()\" :\r\n",
        "        return p\r\n",
        "    left, right, i = 0, 0, 0    # u와 v 나누기에 사용하기 위해 i 를 바깥에 선언\r\n",
        "\r\n",
        "    for i in range(len(p)) :\r\n",
        "        if p[i] == \"(\" :    # (와 )의 개수 세기\r\n",
        "            left += 1\r\n",
        "        else :\r\n",
        "            right += 1\r\n",
        "\r\n",
        "        if left == right :  # 개수 같아지면 u와 v로 나눔\r\n",
        "            u = p[:i+1]\r\n",
        "            break\r\n",
        "\r\n",
        "    v = p[i+1:]     # u와 v 나누기\r\n",
        "\r\n",
        "    left, right = 0, 0\r\n",
        "\r\n",
        "    for i in range(len(u)) :\r\n",
        "        if u[i] == \"(\" :    # (와 )의 개수 세기\r\n",
        "            left += 1\r\n",
        "        else :\r\n",
        "            right += 1\r\n",
        "        \r\n",
        "        if left < right :  # )가 더 많아지면 올바르지 않다.\r\n",
        "            result = '('   # 올바르지 않은 경우 빈 문자에 ( 추가\r\n",
        "            result += check(v)  # v에 대해 재귀 진행\r\n",
        "            result += ')'       # ) 추가\r\n",
        "            u = u[1:-1]         # u의 앞, 뒤 제거 후 ( <-> ) 교체\r\n",
        "            for i in range(len(u)) :\r\n",
        "                if u[i] == '(' :\r\n",
        "                    result += ')'\r\n",
        "                else :\r\n",
        "                    result += '('\r\n",
        "            break\r\n",
        "\r\n",
        "    else :  # 올바른 경우, u 추가하고 v에 대해 재귀 진행\r\n",
        "        result += u + check(v)\r\n",
        "\r\n",
        "    return result\r\n",
        "\r\n",
        "def solution(p):\r\n",
        "    return check(p)\r\n",
        "\r\n",
        "print(solution(\"(()())()\"), '\\t \"(()())()\"')\r\n",
        "print(solution(\")(\"), '\\t \"()\"')\r\n",
        "print(solution(\"()))((()\"), '\\t \"()(())()\"')"
      ],
      "execution_count": 58,
      "outputs": [
        {
          "output_type": "stream",
          "text": [
            "(()())() \t \"(()())()\"\n",
            "() \t \"()\"\n",
            "()(())() \t \"()(())()\"\n"
          ],
          "name": "stdout"
        }
      ]
    },
    {
      "cell_type": "code",
      "metadata": {
        "id": "xqzU0BKWFa9O"
      },
      "source": [
        "# 미친풀이 from 조성훈 , kimbumso , 박원일\r\n",
        "def solution(p):\r\n",
        "    if p=='': return p\r\n",
        "    r=True; c=0\r\n",
        "    for i in range(len(p)):\r\n",
        "        if p[i]=='(': c-=1\r\n",
        "        else: c+=1\r\n",
        "        if c>0: r=False\r\n",
        "        if c==0:\r\n",
        "            if r:\r\n",
        "                return p[:i+1]+solution(p[i+1:])\r\n",
        "            else:\r\n",
        "                return '('+solution(p[i+1:])+')'+''.join(list(map(lambda x:'(' if x==')' else ')',p[1:i]) ))"
      ],
      "execution_count": null,
      "outputs": []
    }
  ]
}