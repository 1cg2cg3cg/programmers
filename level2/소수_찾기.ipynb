{
  "nbformat": 4,
  "nbformat_minor": 0,
  "metadata": {
    "colab": {
      "name": "소수 찾기.ipynb",
      "provenance": [],
      "collapsed_sections": [],
      "authorship_tag": "ABX9TyNMIByerfS2Oxy6IL1O0fTq",
      "include_colab_link": true
    },
    "kernelspec": {
      "name": "python3",
      "display_name": "Python 3"
    }
  },
  "cells": [
    {
      "cell_type": "markdown",
      "metadata": {
        "id": "view-in-github",
        "colab_type": "text"
      },
      "source": [
        "<a href=\"https://colab.research.google.com/github/1cg2cg3cg/programmers/blob/main/level2/%EC%86%8C%EC%88%98_%EC%B0%BE%EA%B8%B0.ipynb\" target=\"_parent\"><img src=\"https://colab.research.google.com/assets/colab-badge.svg\" alt=\"Open In Colab\"/></a>"
      ]
    },
    {
      "cell_type": "code",
      "metadata": {
        "id": "3wsdfuOHaDiV"
      },
      "source": [
        "# 21.04.22\n",
        "import itertools\n",
        "\n",
        "def solution(numbers) :\n",
        "    answer = set()\n",
        "    candidates = []\n",
        "    \n",
        "    for i in range(1, len(numbers)+1) : # every possible case\n",
        "        candidates.extend(list(itertools.permutations(numbers, i)))\n",
        "\n",
        "    for i in range(len(candidates)) :\n",
        "        candidates[i] = ''.join(list(candidates[i]))\n",
        "    \n",
        "    for i in candidates :\n",
        "        \n",
        "        for k in range(2, int(i)) : # prime number or not\n",
        "\n",
        "            if int(i) % k == 0 :\n",
        "                break\n",
        "        else :\n",
        "            answer.add(int(i))\n",
        "    # 0 and 1 are not prime numbers\n",
        "    if 0 in answer : answer.remove(0)\n",
        "    if 1 in answer : answer.remove(1)\n",
        "\n",
        "    return len(answer)"
      ],
      "execution_count": null,
      "outputs": []
    },
    {
      "cell_type": "code",
      "metadata": {
        "colab": {
          "base_uri": "https://localhost:8080/"
        },
        "id": "2e0zBcCn1st8",
        "outputId": "44bd3f0d-205e-4193-e13b-5821129f9b21"
      },
      "source": [
        "# 21.02.14\n",
        "def solution(numbers):\n",
        "    answer = 0\n",
        "    results = []\n",
        "    prev_elements = []\n",
        "\n",
        "    def dfs(elements) :             # elements를 사용해 prev_elements, next_elements를 만들고\n",
        "        for e in elements :         # 재귀를 진행하면서 가능한 모든 조합을 results에 추가\n",
        "            next_elements = elements[:]\n",
        "            next_elements.remove(e)\n",
        "\n",
        "            prev_elements.append(e)\n",
        "            results.append(prev_elements[:])\n",
        "            dfs(next_elements)\n",
        "            prev_elements.pop()\n",
        "\n",
        "    dfs(list(numbers))\n",
        "\n",
        "    candidates = ['']*len(results)  # 조합되지 않은 숫자들을 하나로 합치기 위해 사용\n",
        "                                    # ex) ['1','7'] --> ['17']\n",
        "    for i in range(len(results)) :\n",
        "        for j in results[i] :\n",
        "            candidates[i] += j\n",
        "    \n",
        "    set_candidates = set()          # int를 사용해 0이 가장 앞에 등장하는 경우 제거\n",
        "    for i in candidates :           # set type으로 선언해 중복되는 숫자 제거\n",
        "        set_candidates.add(int(i))\n",
        "    \n",
        "    if 0 in set_candidates :        # 0으로 시작하는 숫자 및 중복 숫자 제거 후\n",
        "        set_candidates.remove(0)    # 소수가 될 수 없는 0과 1이 있는 경우 제거\n",
        "    if 1 in set_candidates :\n",
        "        set_candidates.remove(1)\n",
        "\n",
        "    for i in set_candidates :       # 소수 판별\n",
        "        for j in range(2, int(i)) : # int(i)를 int(i) / 2 혹은 math.sqrt(int(i)) 로 바꾸면 성능 향상\n",
        "            if int(i) % j == 0 :\n",
        "                break\n",
        "        else :\n",
        "            answer += 1\n",
        "    \n",
        "    return answer\n",
        "\n",
        "print(solution(\"17\"), '\\t 3')\n",
        "print(solution(\"011\"), '\\t 2')"
      ],
      "execution_count": null,
      "outputs": [
        {
          "output_type": "stream",
          "text": [
            "3 \t 3\n",
            "2 \t 2\n"
          ],
          "name": "stdout"
        }
      ]
    },
    {
      "cell_type": "markdown",
      "metadata": {
        "id": "H5t2jvGXBObI"
      },
      "source": [
        "어떤 자연수 n이 소수임을 판정하기 위해서 |√n|까지만 진행하면 되는데, 수가 수를 나누기 위해서는 그 몫이 항상 필요하며 나누는 수와 몫 중 어느 하나는 반드시 √n 이하이기 때문이다\n",
        "\n",
        "- Wiki\n",
        "\n",
        "\n",
        "소수가 아닌 숫자는 자신보다 작은 값 중에 정수로 나뉘어 떨어지는 값이 있어야 하는데 그 이상의 값은 무조건 소수점이 나오니까요!\n",
        "\n",
        "사실 그래서 sqrt(n)까지만 봐도 돼요\n",
        "\n",
        "\n"
      ]
    }
  ]
}