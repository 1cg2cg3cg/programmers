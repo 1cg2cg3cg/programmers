{
  "nbformat": 4,
  "nbformat_minor": 0,
  "metadata": {
    "colab": {
      "name": "HASH_위장.ipynb",
      "provenance": [],
      "collapsed_sections": [],
      "authorship_tag": "ABX9TyP6+qsD7jtLPbDIVUIGW4UJ",
      "include_colab_link": true
    },
    "kernelspec": {
      "name": "python3",
      "display_name": "Python 3"
    }
  },
  "cells": [
    {
      "cell_type": "markdown",
      "metadata": {
        "id": "view-in-github",
        "colab_type": "text"
      },
      "source": [
        "<a href=\"https://colab.research.google.com/github/1cg2cg3cg/programmers/blob/main/level2/HASH_%EC%9C%84%EC%9E%A5.ipynb\" target=\"_parent\"><img src=\"https://colab.research.google.com/assets/colab-badge.svg\" alt=\"Open In Colab\"/></a>"
      ]
    },
    {
      "cell_type": "code",
      "metadata": {
        "id": "xnHEkksPjoa7"
      },
      "source": [
        "# 21.04.21\n",
        "import collections\n",
        "\n",
        "def solution(clothes) :\n",
        "    answer = 1\n",
        "    C = collections.defaultdict(list)\n",
        "    \n",
        "    for c, g in clothes :   # arrange each cloth to category\n",
        "        C[g].append(c)\n",
        "\n",
        "    for i in C :\n",
        "        answer *= (len(C[i])+1) # each category has N+1 cases (wear each(N) + nothing(1))\n",
        "\n",
        "    return answer - 1 # naked (wear nothing)"
      ],
      "execution_count": null,
      "outputs": []
    },
    {
      "cell_type": "code",
      "metadata": {
        "id": "vZvJIV2Lr7-v"
      },
      "source": [
        "import collections\n",
        "\n",
        "def solution(clothes):\n",
        "    answer = 1\n",
        "    C = collections.Counter([x[1] for x in clothes])\n",
        "    \n",
        "    for val in C.values():\n",
        "        answer *= (val+1)\n",
        "    answer -= 1\n",
        "    \n",
        "    return answer"
      ],
      "execution_count": null,
      "outputs": []
    }
  ]
}