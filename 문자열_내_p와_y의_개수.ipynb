{
  "nbformat": 4,
  "nbformat_minor": 0,
  "metadata": {
    "colab": {
      "name": "문자열 내 p와 y의 개수.ipynb",
      "provenance": [],
      "collapsed_sections": [],
      "authorship_tag": "ABX9TyOVR5KFV4LYRYoRREEkZYCk",
      "include_colab_link": true
    },
    "kernelspec": {
      "name": "python3",
      "display_name": "Python 3"
    }
  },
  "cells": [
    {
      "cell_type": "markdown",
      "metadata": {
        "id": "view-in-github",
        "colab_type": "text"
      },
      "source": [
        "<a href=\"https://colab.research.google.com/github/1cg2cg3cg/programmers/blob/main/%EB%AC%B8%EC%9E%90%EC%97%B4_%EB%82%B4_p%EC%99%80_y%EC%9D%98_%EA%B0%9C%EC%88%98.ipynb\" target=\"_parent\"><img src=\"https://colab.research.google.com/assets/colab-badge.svg\" alt=\"Open In Colab\"/></a>"
      ]
    },
    {
      "cell_type": "code",
      "metadata": {
        "colab": {
          "base_uri": "https://localhost:8080/"
        },
        "id": "qgyzBKut0dlu",
        "outputId": "711c4b20-c025-44a0-8ac5-292cb45966b4"
      },
      "source": [
        "def solution(s):\r\n",
        "    num_p , num_y = 0, 0\r\n",
        "    s = s.lower()\r\n",
        "    if not s :\r\n",
        "        return False\r\n",
        "\r\n",
        "    for i in range(len(s)) :\r\n",
        "        if s[i] == 'p' :\r\n",
        "            num_p += 1\r\n",
        "        elif s[i] == 'y' :\r\n",
        "            num_y += 1\r\n",
        "\r\n",
        "    if num_p == num_y :\r\n",
        "        return True\r\n",
        "    else :\r\n",
        "        return False\r\n",
        "\r\n",
        "print(solution('pPoooyY'))"
      ],
      "execution_count": 3,
      "outputs": [
        {
          "output_type": "stream",
          "text": [
            "True\n"
          ],
          "name": "stdout"
        }
      ]
    },
    {
      "cell_type": "code",
      "metadata": {
        "id": "_iDSiR2m16kr"
      },
      "source": [
        "# Best solution from  - , 임형섭 , Minje Jeon , temp , - 외 81 명\r\n",
        "# Pythonic way\r\n",
        "def numPY(s):\r\n",
        "    return s.lower().count('p') == s.lower().count('y') #.count() : 정의된 문자열(String)에서 해당문자가 몇번 존재하는지 카운트\r\n",
        "\r\n",
        "print( numPY(\"pPoooyY\") )\r\n",
        "print( numPY(\"Pyy\") )"
      ],
      "execution_count": null,
      "outputs": []
    }
  ]
}