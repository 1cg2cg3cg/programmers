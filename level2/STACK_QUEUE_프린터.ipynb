{
  "nbformat": 4,
  "nbformat_minor": 0,
  "metadata": {
    "colab": {
      "name": "STACK_QUEUE - 프린터.ipynb",
      "provenance": [],
      "collapsed_sections": [],
      "authorship_tag": "ABX9TyOTALPdw5W1GNjN+ibsDMbt",
      "include_colab_link": true
    },
    "kernelspec": {
      "name": "python3",
      "display_name": "Python 3"
    }
  },
  "cells": [
    {
      "cell_type": "markdown",
      "metadata": {
        "id": "view-in-github",
        "colab_type": "text"
      },
      "source": [
        "<a href=\"https://colab.research.google.com/github/1cg2cg3cg/programmers/blob/main/level2/STACK_QUEUE_%ED%94%84%EB%A6%B0%ED%84%B0.ipynb\" target=\"_parent\"><img src=\"https://colab.research.google.com/assets/colab-badge.svg\" alt=\"Open In Colab\"/></a>"
      ]
    },
    {
      "cell_type": "code",
      "metadata": {
        "id": "n1NfuxNeuEzs"
      },
      "source": [
        "# 21.04.21\n",
        "import collections\n",
        "\n",
        "def solution(priorities, location) :\n",
        "    \n",
        "    answer = 0\n",
        "    stack = collections.deque() # If there is(are) more important document(s), we should send currend document to the back. Then, I want to use appendleft().\n",
        "\n",
        "    for i, p in enumerate(priorities) :   # to use pop()\n",
        "        stack.appendleft([i,p]) # index, prioiry\n",
        "\n",
        "    while stack :\n",
        "        \n",
        "        if len(stack) == 1 :    # If this document is the last one.\n",
        "            return answer + 1\n",
        "            \n",
        "        temp = stack.pop()\n",
        "        if temp[1] < max(stack, key = lambda x : x[1])[1] : # There is(are) more important document(s).\n",
        "            stack.appendleft(temp)\n",
        "        \n",
        "        else :  # Print current document.\n",
        "            answer += 1\n",
        "\n",
        "            if temp[0] == location :    # The current document is the one I've looking for\n",
        "                return answer\n",
        "    \n",
        "    return answer"
      ],
      "execution_count": null,
      "outputs": []
    },
    {
      "cell_type": "code",
      "metadata": {
        "colab": {
          "base_uri": "https://localhost:8080/"
        },
        "id": "7DqSdu6JODfi",
        "outputId": "140874f5-f530-4659-b3a9-9cea33ccc255"
      },
      "source": [
        "# 21.02.06\n",
        "import collections\n",
        "\n",
        "def solution(priorities, location):\n",
        "    answer = 0\n",
        "    data = []\n",
        "\n",
        "    for i, j in enumerate(priorities) : #중요도와 중요도 배열 index를 만들어서 저장\n",
        "        data.append([i, j])             #priorities = [2,1,3,2]인 경우, data는 [[0,2],[1,1],[2,3],[3,2]]\n",
        "\n",
        "    target = data[location]             #target은 찾으려고 하는 것 예시에서는 [2,3]을 찾아야 함\n",
        "    print_list = collections.deque(data)  #좌우 모두 뽑아낼 수 있는 stack = deque\n",
        "\n",
        "    i = 0\n",
        "\n",
        "    while True :\n",
        "        \n",
        "        if max(print_list, key = lambda x : x[1])[1] == print_list[0][1] and print_list[0] != target :  #print_list의 최대 값이 print_list의 0번자리의 중요도이면서\n",
        "            print_list.popleft()                                                                        #print_list의 0번 자리가 target이 아닌 경우\n",
        "            answer += 1                                                                                 #즉 target보다 우선순위가 높은 인쇄물이 있는 경우 pop하고 출력+1\n",
        "        elif max(print_list, key = lambda x : x[1])[1] == print_list[0][1] and print_list[0] == target :#target이 print_list중 가장 큰 값이면서, 0번 자리에 있는 경우\n",
        "            answer += 1\n",
        "            break\n",
        "        else :\n",
        "            print_list.rotate(-1)   #위 두 경우에 해당하지 않으면, 0번을 가장 마지막으로 보냄\n",
        "\n",
        "    return answer\n",
        "\n",
        "print(solution([2, 1, 3, 2], 2), '1')\n",
        "print(solution([1, 1, 9, 1, 1, 1], 0), '5')"
      ],
      "execution_count": null,
      "outputs": [
        {
          "output_type": "stream",
          "text": [
            "deque([[0, 2], [1, 1], [2, 3], [3, 2]]) 0 0\n",
            "1 1\n",
            "deque([[0, 1], [1, 1], [2, 9], [3, 1], [4, 1], [5, 1]]) 0 0\n",
            "5 5\n"
          ],
          "name": "stdout"
        }
      ]
    }
  ]
}