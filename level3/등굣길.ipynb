{
  "nbformat": 4,
  "nbformat_minor": 0,
  "metadata": {
    "colab": {
      "name": "등굣길.ipynb",
      "provenance": [],
      "collapsed_sections": [],
      "authorship_tag": "ABX9TyOkxegPL1/MFiwJow5NYgIH",
      "include_colab_link": true
    },
    "kernelspec": {
      "name": "python3",
      "display_name": "Python 3"
    },
    "language_info": {
      "name": "python"
    }
  },
  "cells": [
    {
      "cell_type": "markdown",
      "metadata": {
        "id": "view-in-github",
        "colab_type": "text"
      },
      "source": [
        "<a href=\"https://colab.research.google.com/github/1cg2cg3cg/programmers/blob/main/level3/%EB%93%B1%EA%B5%A3%EA%B8%B8.ipynb\" target=\"_parent\"><img src=\"https://colab.research.google.com/assets/colab-badge.svg\" alt=\"Open In Colab\"/></a>"
      ]
    },
    {
      "cell_type": "code",
      "metadata": {
        "colab": {
          "base_uri": "https://localhost:8080/"
        },
        "id": "jKozkX_aErLd",
        "outputId": "7617cb0e-fce6-4f92-eefd-7cffecff187f"
      },
      "source": [
        "# try 3 solved!\n",
        "# 출발점이 모두 가로막혀 출발하지 못하는 경우 보완\n",
        "# code에 포함하기보다 예외 처리하는 것이 더 깔끔할 듯\n",
        "def solution(m, n, puddles):\n",
        "    answer = [[0 for _ in range(m+1)] for _ in range(n+1)]\n",
        "\n",
        "    map = [[1 for _ in range(m+1)] for _ in range(n+1)] # 문제 index를 맞추기 위함\n",
        "    for i in range(m+1) :\n",
        "        map[0][i] = 0    \n",
        "    for i in range(n+1) :\n",
        "        map[i][0] = 0\n",
        "    for i,j in puddles :    # 웅덩이 찍기\n",
        "        map[j][i] = 0\n",
        "    \n",
        "    for i in range(1, n+1) : # row\n",
        "        for j in range(1, m+1) : # col\n",
        "            if i == 1 and j == 1 :\n",
        "                answer[i][j] = 1\n",
        "                continue\n",
        "            \n",
        "            \n",
        "            if i == 1 and j > 1 and map[i][j] == 1:\n",
        "                if answer[i][j-1] == 1 :\n",
        "                    answer[i][j] = 1\n",
        "                else :\n",
        "                    answer[i][j] = 0\n",
        "\n",
        "                continue\n",
        "            \n",
        "            if i > 1 and j == 0 and map[i][j] == 1:\n",
        "                if answer[i-1][j] == 1 :\n",
        "                    answer[i][j] = 1\n",
        "                else :\n",
        "                    answer[i][j] = 0\n",
        "                continue\n",
        "            \n",
        "\n",
        "            if map[i][j] == 1 :\n",
        "                if map[i-1][j] == 1 :\n",
        "                    answer[i][j] += answer[i-1][j]\n",
        "                if map[i][j-1] == 1 :\n",
        "                    answer[i][j] += answer[i][j-1]\n",
        "            else :\n",
        "                answer[i][j] = 0\n",
        "                map[i][j] = 0\n",
        "\n",
        "    return answer#[-1][-1] % 1000000007\n",
        "\n",
        "print(solution(4, 3, [[2,2], [4,2]]), 4)\n",
        "print(solution(5, 4, [[2,2], [2,3], [3,2], [3,4]]), 3)\n",
        "print(solution(5, 4, [[1,2],[2,1]]), 3)"
      ],
      "execution_count": 28,
      "outputs": [
        {
          "output_type": "stream",
          "text": [
            "[[0, 0, 0, 0, 0], [0, 1, 1, 1, 1], [0, 1, 0, 1, 0], [0, 1, 1, 1, 1]]\n",
            "[[0, 0, 0, 0, 0], [0, 1, 1, 1, 1], [0, 1, 0, 1, 0], [0, 1, 1, 2, 2]] 4\n",
            "[[0, 0, 0, 0, 0, 0], [0, 1, 1, 1, 1, 1], [0, 1, 0, 0, 1, 1], [0, 1, 0, 1, 1, 1], [0, 1, 1, 0, 1, 1]]\n",
            "[[0, 0, 0, 0, 0, 0], [0, 1, 1, 1, 1, 1], [0, 1, 0, 0, 1, 2], [0, 1, 0, 0, 1, 3], [0, 1, 1, 0, 1, 4]] 3\n",
            "[[0, 0, 0, 0, 0, 0], [0, 1, 0, 1, 1, 1], [0, 0, 1, 1, 1, 1], [0, 1, 1, 1, 1, 1], [0, 1, 1, 1, 1, 1]]\n",
            "[[0, 0, 0, 0, 0, 0], [0, 1, 0, 0, 0, 0], [0, 0, 0, 0, 0, 0], [0, 0, 0, 0, 0, 0], [0, 0, 0, 0, 0, 0]] 3\n"
          ],
          "name": "stdout"
        }
      ]
    },
    {
      "cell_type": "code",
      "metadata": {
        "colab": {
          "base_uri": "https://localhost:8080/"
        },
        "id": "uB71vba1Wwp7",
        "outputId": "bfcc4e2f-5a32-47ae-89fc-6f8bb99f6f41"
      },
      "source": [
        "# try 1\n",
        "# 문제를 잘못 이해........\n",
        "# 다시 풀기......\n",
        "import sys\n",
        "def solution(m, n, puddles):\n",
        "    answer = [[0 for _ in range(m)] for _ in range(n)]\n",
        "    map = [[1 for _ in range(m)] for _ in range(n)]\n",
        "\n",
        "    for i,j in puddles :\n",
        "        map[i][j] = 0\n",
        "    \n",
        "    for i in range(n) : # row\n",
        "        for j in range(m) : # col\n",
        "            if i == 0 and j == 0 :\n",
        "                continue\n",
        "            \n",
        "            if i == 0 and j > 0 :\n",
        "                if map[i][j-1] == 1 :\n",
        "                    answer[i][j] = answer[i][j-1] + 1\n",
        "                else :\n",
        "                    answer[i][j] = sys.maxsize\n",
        "\n",
        "                continue\n",
        "            \n",
        "            if i > 0 and j == 0 :\n",
        "                if map[i-1][j] == 1 :\n",
        "                    answer[i][j] = answer[i-1][j] + 1\n",
        "                else :\n",
        "                    answer[i][j] = sys.maxsize\n",
        "                continue\n",
        "            \n",
        "            if map[i][j] == 1 :\n",
        "                if map[i-1][j] != 1 and map[i][j-1] != 1 :\n",
        "                    answer[i][j] = sys.maxsize\n",
        "                else :\n",
        "                    answer[i][j] = min(answer[i][j-1], answer[i-1][j]) + 1\n",
        "            else :\n",
        "                answer[i][j] = sys.maxsize\n",
        "\n",
        "    return answer##[-1][-1] % 1000000007\n",
        "\n",
        "print(solution(4, 3, [[1,1]]), 4)\n",
        "print(solution(5, 4, [[1,1], [1,2], [2,1], [2,3]]), 7)"
      ],
      "execution_count": null,
      "outputs": [
        {
          "output_type": "stream",
          "text": [
            "[[0, 1, 2, 3], [1, 9223372036854775807, 3, 4], [2, 3, 4, 5]] 4\n",
            "[[0, 1, 2, 3, 4], [1, 9223372036854775807, 9223372036854775807, 4, 5], [2, 9223372036854775807, 9223372036854775807, 9223372036854775807, 6], [3, 4, 5, 6, 7]] 7\n"
          ],
          "name": "stdout"
        }
      ]
    },
    {
      "cell_type": "code",
      "metadata": {
        "id": "6J2cXHfuLxsg"
      },
      "source": [
        "# try 2\n",
        "# 90. test 9 and eff. test 1 failed\n",
        "def solution(m, n, puddles):\n",
        "    answer = [[0 for _ in range(m+1)] for _ in range(n+1)]\n",
        "    \n",
        "    map = [[1 for _ in range(m+1)] for _ in range(n+1)]\n",
        "    for i in range(m+1) :\n",
        "        map[0][i] = 0\n",
        "    for i in range(n+1) :\n",
        "        map[i][0] = 0\n",
        "\n",
        "    for i,j in puddles :\n",
        "        map[j][i] = 0\n",
        "\n",
        "    for i in range(1, n+1) : # row\n",
        "        for j in range(1, m+1) : # col\n",
        "            if i == 1 and j == 1 :\n",
        "                answer[i][j] = 1\n",
        "                continue\n",
        "            \n",
        "            \n",
        "            if i == 1 and j > 1 :\n",
        "                if map[i][j-1] == 1 :\n",
        "                    answer[i][j] = 1\n",
        "                else :\n",
        "                    answer[i][j] = 0\n",
        "                    \n",
        "                continue\n",
        "            \n",
        "            \n",
        "            if i > 1 and j == 0 :\n",
        "                if map[i-1][j] == 1 :\n",
        "                    answer[i][j] = 1\n",
        "                else :\n",
        "                    answer[i][j] = 0\n",
        "                    \n",
        "                continue\n",
        "\n",
        "                \n",
        "            if map[i][j] == 1 :\n",
        "                if map[i-1][j] == 1 :\n",
        "                    answer[i][j] += answer[i-1][j]\n",
        "                if map[i][j-1] == 1 :\n",
        "                    answer[i][j] += answer[i][j-1]\n",
        "            else :\n",
        "                answer[i][j] = 0\n",
        "                map[i][j] = 0\n",
        "\n",
        "    return answer[-1][-1] % 1000000007"
      ],
      "execution_count": null,
      "outputs": []
    },
    {
      "cell_type": "code",
      "metadata": {
        "colab": {
          "base_uri": "https://localhost:8080/"
        },
        "id": "Sl9LCGE1Mjnd",
        "outputId": "8119aac3-2c07-4ffa-b77c-ee6022ad451f"
      },
      "source": [
        "# try 4\n",
        "# 출발 불가인 경우 예외처리\n",
        "# code포함 시 test 9 : 통과 (0.13ms, 10.3MB),  eff test 1 : 통과 (4.76ms, 10.4MB)\n",
        "# 예외처리 시 test 9 : 통과 (0.10ms, 10.3MB),  eff test 1 : 통과 (4.98ms, 10.4MB)\n",
        "# 큰 차이는 없는 것 같다.\n",
        "def solution(m, n, puddles):\n",
        "    answer = [[0 for _ in range(m+1)] for _ in range(n+1)]\n",
        "\n",
        "    map = [[1 for _ in range(m+1)] for _ in range(n+1)] # 문제 index를 맞추기 위함\n",
        "    for i in range(m+1) :\n",
        "        map[0][i] = 0    \n",
        "    for i in range(n+1) :\n",
        "        map[i][0] = 0\n",
        "    for i,j in puddles :    # 웅덩이 찍기\n",
        "        map[j][i] = 0\n",
        "    \n",
        "\n",
        "    for i in range(1, n+1) : # row\n",
        "        for j in range(1, m+1) : # col\n",
        "            if i == 1 and j == 1 :\n",
        "                answer[i][j] = 1\n",
        "                continue\n",
        "            \n",
        "            \n",
        "            if i == 1 and j > 1 and map[i][j] == 1:\n",
        "                if answer[i][j-1] == 1 :\n",
        "                    answer[i][j] = 1\n",
        "                else :\n",
        "                    answer[i][j] = 0\n",
        "\n",
        "                continue\n",
        "            \n",
        "            if i > 1 and j == 0 and map[i][j] == 1:\n",
        "                if answer[i-1][j] == 1 :\n",
        "                    answer[i][j] = 1\n",
        "                else :\n",
        "                    answer[i][j] = 0\n",
        "                continue\n",
        "            \n",
        "\n",
        "            if map[i][j] == 1 :\n",
        "                if map[i-1][j] == 1 :\n",
        "                    answer[i][j] += answer[i-1][j]\n",
        "                if map[i][j-1] == 1 :\n",
        "                    answer[i][j] += answer[i][j-1]\n",
        "            else :\n",
        "                answer[i][j] = 0\n",
        "                map[i][j] = 0\n",
        "\n",
        "    return answer[-1][-1] % 1000000007\n",
        "\n",
        "print(solution(4, 3, [[2,2], [4,2]]), 4)\n",
        "print(solution(5, 4, [[2,2], [2,3], [3,2], [3,4]]), 3)\n",
        "print(solution(5, 4, [[1,2],[2,1]]), 0)"
      ],
      "execution_count": 32,
      "outputs": [
        {
          "output_type": "stream",
          "text": [
            "2 4\n",
            "4 3\n",
            "0 0\n"
          ],
          "name": "stdout"
        }
      ]
    },
    {
      "cell_type": "code",
      "metadata": {
        "id": "-jBN3hCJNgcO"
      },
      "source": [
        "# 멋진풀이 from 정성환 , 이동훈 , 이경서 , 김세환 , 임정섭 외 17 명\n",
        "\n",
        "def solution(m,n,puddles):\n",
        "    grid = [[0]*(m+1) for i in range(n+1)] #왼쪽, 위로 한줄씩 만들어서 IndexError 방지\n",
        "    if puddles != [[]]:                    #물이 잠긴 지역이 0일 수 있음\n",
        "        for a, b in puddles:\n",
        "            grid[b][a] = -1                #미리 -1로 체크\n",
        "    grid[1][1] = 1\n",
        "    for j in range(1,n+1):\n",
        "        for k in range(1,m+1):\n",
        "            if j == k == 1:                #(1,1)은 1로 만들어두고, 0이 되지 않도록\n",
        "                continue\n",
        "            if grid[j][k] == -1:           #웅덩이는 0으로 만들어 다음 덧셈 때 영향끼치지 않게\n",
        "                grid[j][k] = 0\n",
        "                continue\n",
        "            grid[j][k] = (grid[j][k-1] + grid[j-1][k])%1000000007   #[a,b] = [a-1,b] + [a,b-1] 공식\n",
        "\n",
        "    return grid[n][m]"
      ],
      "execution_count": null,
      "outputs": []
    }
  ]
}