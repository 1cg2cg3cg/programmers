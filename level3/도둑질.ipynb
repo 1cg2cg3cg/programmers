{
  "nbformat": 4,
  "nbformat_minor": 0,
  "metadata": {
    "colab": {
      "name": "도둑질.ipynb",
      "provenance": [],
      "collapsed_sections": [],
      "authorship_tag": "ABX9TyNttXtXYkNlICS5ZwF1+fRT",
      "include_colab_link": true
    },
    "kernelspec": {
      "name": "python3",
      "display_name": "Python 3"
    },
    "language_info": {
      "name": "python"
    }
  },
  "cells": [
    {
      "cell_type": "markdown",
      "metadata": {
        "id": "view-in-github",
        "colab_type": "text"
      },
      "source": [
        "<a href=\"https://colab.research.google.com/github/1cg2cg3cg/programmers/blob/main/level3/%EB%8F%84%EB%91%91%EC%A7%88.ipynb\" target=\"_parent\"><img src=\"https://colab.research.google.com/assets/colab-badge.svg\" alt=\"Open In Colab\"/></a>"
      ]
    },
    {
      "cell_type": "code",
      "metadata": {
        "colab": {
          "base_uri": "https://localhost:8080/"
        },
        "id": "fo0fMJajOm5w",
        "outputId": "0fa3bcdc-8ee2-423c-d0d2-3c4b1b4c2550"
      },
      "source": [
        "# try2\n",
        "# 원형 모양이므로, 0번을 뽑으면 마지막 것은 자동으로 뽑지 못함. case 1\n",
        "# 0번을 건너뛰고 1번을 뽑으면 마지막까지 뽑을 수 있음. case 2\n",
        "def solution(money):\n",
        "    answer0 = [0] * len(money)  # case 1\n",
        "    answer0[0], answer0[1] = money[0], max(money[0], money[1])\n",
        "    \n",
        "    for i in range(2, len(money)-1) :     # 0번 뽑기\n",
        "        answer0[i] = max(answer0[i-1], answer0[i-2] + money[i])\n",
        "\n",
        "    answer1 = [0] * len(money)  # case 2\n",
        "    answer1[0], answer1[1] = 0, money[1]    # 0번을 안뽑았으므로, 1번을 1로 선택\n",
        "\n",
        "    for i in range(2, len(money)) :     # 0번 안뽑기\n",
        "        answer1[i] = max(answer1[i-1], answer1[i-2] + money[i])\n",
        "\n",
        "    return max(*answer0, *answer1)\n",
        "\n",
        "print(solution([1,2,3,1]), 4)\n",
        "print(solution([1,1,4,1,4]), 8)\n",
        "print(solution([1000,0,0,1000,0,0,1000,0,0,1000]), 3000)\n",
        "print(solution([1000,1,0,1,2,1000,0]), 2001)\n",
        "print(solution([1000,0,0,0,0,1000,0,0,0,0,0,1000]), 2000)\n",
        "print(solution([1,2,3,4,5,6,7,8,9,10]), 30)\n",
        "print(solution([0,0,0,0,100,0,0,100,0,0,1,1]), 201)\n",
        "print(solution([11,0,2,5,100,100,85,1]), 198)\n",
        "print(solution([1,2,3]), 3)\n",
        "print(solution([91,90,5,7,5,7]), 104)\n",
        "print(solution([90,0,0,95,1,1]), 185)"
      ],
      "execution_count": 21,
      "outputs": [
        {
          "output_type": "stream",
          "text": [
            "4 4\n",
            "8 8\n",
            "3000 3000\n",
            "2001 2001\n",
            "2000 2000\n",
            "30 30\n",
            "201 201\n",
            "198 198\n",
            "3 3\n",
            "104 104\n",
            "185 185\n"
          ],
          "name": "stdout"
        }
      ]
    },
    {
      "cell_type": "code",
      "metadata": {
        "id": "NKI2UUGeQmy4"
      },
      "source": [
        "# 40점...\n",
        "# 원형을 생각하지 않은 풀이\n",
        "def solution(money):\n",
        "    answer = [0] * len(money)\n",
        "    answer[0], answer[1] = money[0], max(money[0], money[1])\n",
        "\n",
        "    for i in range(2, len(money)) :\n",
        "        answer[i] = max(answer[i-1], answer[i-2] + money[i])\n",
        "    \n",
        "    return max(answer)"
      ],
      "execution_count": null,
      "outputs": []
    }
  ]
}