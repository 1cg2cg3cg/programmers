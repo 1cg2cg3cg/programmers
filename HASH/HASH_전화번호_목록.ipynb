{
  "nbformat": 4,
  "nbformat_minor": 0,
  "metadata": {
    "colab": {
      "name": "HASH_전화번호 목록.ipynb",
      "provenance": [],
      "collapsed_sections": [],
      "authorship_tag": "ABX9TyPPjpTiEeDZ2Qi0Bgp+pZM/",
      "include_colab_link": true
    },
    "kernelspec": {
      "name": "python3",
      "display_name": "Python 3"
    }
  },
  "cells": [
    {
      "cell_type": "markdown",
      "metadata": {
        "id": "view-in-github",
        "colab_type": "text"
      },
      "source": [
        "<a href=\"https://colab.research.google.com/github/1cg2cg3cg/programmers/blob/main/HASH/HASH_%EC%A0%84%ED%99%94%EB%B2%88%ED%98%B8_%EB%AA%A9%EB%A1%9D.ipynb\" target=\"_parent\"><img src=\"https://colab.research.google.com/assets/colab-badge.svg\" alt=\"Open In Colab\"/></a>"
      ]
    },
    {
      "cell_type": "code",
      "metadata": {
        "id": "HJ6sZj5Jry5B"
      },
      "source": [
        "def solution(phone_book):\r\n",
        "    answer = True\r\n",
        "    \r\n",
        "    for i in range(len(phone_book)-1) :\r\n",
        "        tmp = phone_book.copy()\r\n",
        "        tmp.remove(phone_book[i])\r\n",
        "        for j in range(len(tmp)) :\r\n",
        "            answer = tmp[j].startswith(phone_book[i])\r\n",
        "            answer = not answer\r\n",
        "            if answer == False :\r\n",
        "                break\r\n",
        "        if answer == False :\r\n",
        "            break\r\n",
        "    return answer"
      ],
      "execution_count": null,
      "outputs": []
    }
  ]
}