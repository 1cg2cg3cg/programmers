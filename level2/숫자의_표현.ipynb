{
  "nbformat": 4,
  "nbformat_minor": 0,
  "metadata": {
    "colab": {
      "name": "숫자의 표현.ipynb",
      "provenance": [],
      "collapsed_sections": [],
      "authorship_tag": "ABX9TyOy1wGBc98glCzf1qtbeJCA",
      "include_colab_link": true
    },
    "kernelspec": {
      "name": "python3",
      "display_name": "Python 3"
    }
  },
  "cells": [
    {
      "cell_type": "markdown",
      "metadata": {
        "id": "view-in-github",
        "colab_type": "text"
      },
      "source": [
        "<a href=\"https://colab.research.google.com/github/1cg2cg3cg/programmers/blob/main/level2/%EC%88%AB%EC%9E%90%EC%9D%98_%ED%91%9C%ED%98%84.ipynb\" target=\"_parent\"><img src=\"https://colab.research.google.com/assets/colab-badge.svg\" alt=\"Open In Colab\"/></a>"
      ]
    },
    {
      "cell_type": "code",
      "metadata": {
        "id": "fy3W9nnGztuE",
        "colab": {
          "base_uri": "https://localhost:8080/"
        },
        "outputId": "92dabbc2-dfa2-44ad-9f44-4db2632b5d3c"
      },
      "source": [
        "def solution(n) :\r\n",
        "    answer = 0\r\n",
        "    # n//2보다 큰 연속한 두 자연수를 더하면 n을 초과하기 때문에 범위 제한\r\n",
        "    for i in range(1, n//2 + n % 2) : # 홀수인 경우를 포함하기 위해 n//2 + n%2로 설정\r\n",
        "        val = 0\r\n",
        "        for j in range(i, n//2 + n % 2+1) : # n//2 + n%2를 더하는 경우까지 확인\r\n",
        "            val += j                     # ex) 15//2 = 7, 15//2 + 15%2 = 8\r\n",
        "            if val > n :                 # ex) 16//2 = 6, 16//2 + 16%2 = 8\r\n",
        "                break\r\n",
        "            elif val == n :\r\n",
        "                answer += 1\r\n",
        "        \r\n",
        "    return answer+1\r\n",
        "\r\n",
        "print(solution(15), 4)"
      ],
      "execution_count": 3,
      "outputs": [
        {
          "output_type": "stream",
          "text": [
            "4 4\n"
          ],
          "name": "stdout"
        }
      ]
    }
  ]
}