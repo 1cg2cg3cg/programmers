{
  "nbformat": 4,
  "nbformat_minor": 0,
  "metadata": {
    "colab": {
      "name": "직사각형 별찍기.ipynb",
      "provenance": [],
      "collapsed_sections": [],
      "authorship_tag": "ABX9TyPbpmHeA9y5qWSIOUEL48Bi",
      "include_colab_link": true
    },
    "kernelspec": {
      "name": "python3",
      "display_name": "Python 3"
    }
  },
  "cells": [
    {
      "cell_type": "markdown",
      "metadata": {
        "id": "view-in-github",
        "colab_type": "text"
      },
      "source": [
        "<a href=\"https://colab.research.google.com/github/1cg2cg3cg/programmers/blob/main/level1/%EC%A7%81%EC%82%AC%EA%B0%81%ED%98%95_%EB%B3%84%EC%B0%8D%EA%B8%B0.ipynb\" target=\"_parent\"><img src=\"https://colab.research.google.com/assets/colab-badge.svg\" alt=\"Open In Colab\"/></a>"
      ]
    },
    {
      "cell_type": "code",
      "metadata": {
        "colab": {
          "base_uri": "https://localhost:8080/"
        },
        "id": "J7ob9-cTrWDH",
        "outputId": "bc30f957-48e0-4059-d4c6-9d813cf0daa2"
      },
      "source": [
        "a, b = map(int, input().strip().split(' '))\r\n",
        "\r\n",
        "for _ in range(b) :\r\n",
        "    print('*'*a)"
      ],
      "execution_count": 2,
      "outputs": [
        {
          "output_type": "stream",
          "text": [
            "5 3\n",
            "*****\n",
            "*****\n",
            "*****\n"
          ],
          "name": "stdout"
        }
      ]
    },
    {
      "cell_type": "code",
      "metadata": {
        "id": "eJaSOu_2rx2l"
      },
      "source": [
        "# from Demi , 탈퇴한 사용자 , 서승환 , 길재우 , - 외 49 명\r\n",
        "# 간단하게 해결했지만, 마지막 줄 이후에 공백 한 줄 발생(\\n) 오류 가능성\r\n",
        "a, b = map(int, input().strip().split(' '))\r\n",
        "answer = ('*'*a +'\\n')*b\r\n",
        "print(answer)"
      ],
      "execution_count": null,
      "outputs": []
    }
  ]
}