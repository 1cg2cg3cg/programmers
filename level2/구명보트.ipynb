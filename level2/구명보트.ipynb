{
  "nbformat": 4,
  "nbformat_minor": 0,
  "metadata": {
    "colab": {
      "name": "구명보트.ipynb",
      "provenance": [],
      "collapsed_sections": [],
      "authorship_tag": "ABX9TyO93o1nIr5MVPqERsMye5eK",
      "include_colab_link": true
    },
    "kernelspec": {
      "name": "python3",
      "display_name": "Python 3"
    }
  },
  "cells": [
    {
      "cell_type": "markdown",
      "metadata": {
        "id": "view-in-github",
        "colab_type": "text"
      },
      "source": [
        "<a href=\"https://colab.research.google.com/github/1cg2cg3cg/programmers/blob/main/level2/%EA%B5%AC%EB%AA%85%EB%B3%B4%ED%8A%B8.ipynb\" target=\"_parent\"><img src=\"https://colab.research.google.com/assets/colab-badge.svg\" alt=\"Open In Colab\"/></a>"
      ]
    },
    {
      "cell_type": "code",
      "metadata": {
        "colab": {
          "base_uri": "https://localhost:8080/"
        },
        "id": "eQTEjEu7woWE",
        "outputId": "fd133001-8f19-4dd6-ca5b-68263f0a73c5"
      },
      "source": [
        "# O(n)이 될 수 있는 remove 연산을 대체하기 위해 deque의 popleft를 사용\r\n",
        "import collections\r\n",
        "def solution(people, limit) :\r\n",
        "    answer = 0\r\n",
        "    people = sorted(people, reverse=True)\r\n",
        "    people = collections.deque(people)\r\n",
        "\r\n",
        "    while people :\r\n",
        "        capacity = limit\r\n",
        "\r\n",
        "        if people[0] <= limit//2 : # 남아있는 가장 무거운 사람이 보트 무게의 절반 이하라면, 사람수//2 + 사람수%2 만큼의 보트만 필요\r\n",
        "            answer += len(people) // 2 + len(people) % 2\r\n",
        "            break\r\n",
        "\r\n",
        "        capacity -= people[0]   # 남아있는 가장 무거운 사람 태우기\r\n",
        "        people.popleft()\r\n",
        "\r\n",
        "        if people and capacity - people[-1] >= 0 :  # 남아있는 가장 가벼운 사람 태우기\r\n",
        "            people.pop()\r\n",
        "        \r\n",
        "        answer += 1\r\n",
        "\r\n",
        "    return answer\r\n",
        "\r\n",
        "print(solution([70,50,80,50], 100), 3)\r\n",
        "print(solution([70,80,50], 100), 3)\r\n",
        "print(solution([70,80,100], 100), 3)\r\n",
        "print(solution([40,50,60,90], 100), 3)\r\n",
        "print(solution([50,50,50], 200), 2)\r\n",
        "print(solution([10,20,30,40,50,60,70,80,90], 100), 5)\r\n",
        "print(solution([10,20,30,40,50,60,70,80,90]*3, 100), 14)\r\n",
        "print(solution([160,150,140,60,50,40], 200), 3)"
      ],
      "execution_count": 62,
      "outputs": [
        {
          "output_type": "stream",
          "text": [
            "3 3\n",
            "3 3\n",
            "3 3\n",
            "3 3\n",
            "2 2\n",
            "5 5\n",
            "14 14\n",
            "3 3\n"
          ],
          "name": "stdout"
        }
      ]
    },
    {
      "cell_type": "code",
      "metadata": {
        "colab": {
          "base_uri": "https://localhost:8080/"
        },
        "id": "uIF1J9jXvbQj",
        "outputId": "15d94c33-1c22-4819-fcf7-fffe5aa9aef6"
      },
      "source": [
        "# 정렬 후 가장 무거운 사람과 가장 가벼운 사람을 짝지어 보트에 태워보냄\r\n",
        "# timeout\r\n",
        "def solution(people, limit) :\r\n",
        "    answer = 0\r\n",
        "    people = sorted(people, reverse=True)\r\n",
        "\r\n",
        "    while people :\r\n",
        "        capacity = limit\r\n",
        "\r\n",
        "        if people[0] <= limit//2 :  # 남아있는 가장 무거운 사람이 보트 무게의 절반 이하라면, 사람수//2 + 사람수%2 만큼의 보트만 필요\r\n",
        "            answer += len(people) // 2 + len(people) % 2\r\n",
        "            break\r\n",
        "\r\n",
        "        capacity -= people[0]   # 남아있는 가장 무거운 사람 태우기\r\n",
        "        people.remove(people[0])    # remove → popleft\r\n",
        "\r\n",
        "        if people and capacity - people[-1] >= 0 :  # 남아있는 가장 가벼운 사람 태우기\r\n",
        "            people.remove(people[-1])   # remove → pop\r\n",
        "        \r\n",
        "        answer += 1\r\n",
        "\r\n",
        "    return answer\r\n",
        "\r\n",
        "print(solution([70,50,80,50], 100), 3)\r\n",
        "print(solution([70,80,50], 100), 3)\r\n",
        "print(solution([70,80,100], 100), 3)\r\n",
        "print(solution([40,50,60,90], 100), 3)\r\n",
        "print(solution([50,50,50], 200), 2)\r\n",
        "print(solution([10,20,30,40,50,60,70,80,90], 100), 5)\r\n",
        "print(solution([10,20,30,40,50,60,70,80,90]*3, 100), 14)\r\n",
        "print(solution([160,150,140,60,50,40], 200), 3)"
      ],
      "execution_count": 61,
      "outputs": [
        {
          "output_type": "stream",
          "text": [
            "3 3\n",
            "3 3\n",
            "3 3\n",
            "3 3\n",
            "2 2\n",
            "5 5\n",
            "14 14\n",
            "3 3\n"
          ],
          "name": "stdout"
        }
      ]
    }
  ]
}